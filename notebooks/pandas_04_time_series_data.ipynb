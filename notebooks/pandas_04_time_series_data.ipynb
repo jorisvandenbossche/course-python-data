{
 "cells": [
  {
   "cell_type": "markdown",
   "id": "955085d7",
   "metadata": {
    "tags": []
   },
   "source": [
    "<p><font size=\"6\"><b>04 - Pandas: Working with time series data</b></font></p>\n",
    "\n",
    "> *© 2025, Joris Van den Bossche and Stijn Van Hoey  (<mailto:jorisvandenbossche@gmail.com>, <mailto:stijnvanhoey@gmail.com>). Licensed under [CC BY 4.0 Creative Commons](http://creativecommons.org/licenses/by/4.0/)*\n",
    "\n",
    "---"
   ]
  },
  {
   "cell_type": "code",
   "execution_count": 1,
   "id": "b0acf1a9",
   "metadata": {
    "tags": []
   },
   "outputs": [],
   "source": [
    "import pandas as pd\n",
    "import numpy as np\n",
    "import matplotlib.pyplot as plt\n",
    "\n",
    "plt.style.use('ggplot')"
   ]
  },
  {
   "cell_type": "markdown",
   "id": "8ce33166",
   "metadata": {
    "tags": []
   },
   "source": [
    "# Dates and times in pandas"
   ]
  },
  {
   "cell_type": "markdown",
   "id": "b3a627c0-e037-4fa9-8b0d-305e766d70ed",
   "metadata": {},
   "source": [
    "Pandas has its own date and time objects, which are compatible with the [standard `datetime` objects](https://docs.python.org/3/library/datetime.html), but provide some more functionality to work with.  \n",
    "\n",
    "Consider the following datetime information, represented as strings:"
   ]
  },
  {
   "cell_type": "code",
   "execution_count": 2,
   "id": "9d29929b-81c8-4127-94fb-0611f6e905dc",
   "metadata": {
    "tags": []
   },
   "outputs": [],
   "source": [
    "s = pd.Series(['2016-12-09 10:00:00', '2016-12-09 11:00:00', '2016-12-09 12:00:00'])"
   ]
  },
  {
   "cell_type": "code",
   "execution_count": 3,
   "id": "8ef75ed6-3c90-4930-a72d-adbbbc5edb5f",
   "metadata": {
    "tags": []
   },
   "outputs": [
    {
     "data": {
      "text/plain": [
       "0    2016-12-09 10:00:00\n",
       "1    2016-12-09 11:00:00\n",
       "2    2016-12-09 12:00:00\n",
       "dtype: object"
      ]
     },
     "execution_count": 3,
     "metadata": {},
     "output_type": "execute_result"
    }
   ],
   "source": [
    "s"
   ]
  },
  {
   "cell_type": "markdown",
   "id": "05f4960d-f827-4172-8754-74c29c813b11",
   "metadata": {},
   "source": [
    "The `to_datetime` function can be used to convert string formatted dates into Pandas __Timestamp__ objects:"
   ]
  },
  {
   "cell_type": "code",
   "execution_count": 4,
   "id": "b0232176-f731-4353-b532-26acac820a4b",
   "metadata": {
    "tags": []
   },
   "outputs": [
    {
     "data": {
      "text/plain": [
       "0   2016-12-09 10:00:00\n",
       "1   2016-12-09 11:00:00\n",
       "2   2016-12-09 12:00:00\n",
       "dtype: datetime64[ns]"
      ]
     },
     "execution_count": 4,
     "metadata": {},
     "output_type": "execute_result"
    }
   ],
   "source": [
    "ts = pd.to_datetime(s)\n",
    "ts"
   ]
  },
  {
   "cell_type": "markdown",
   "id": "d8ce1098-4f81-41e8-a99c-f4283045e4d6",
   "metadata": {},
   "source": [
    "Notice the data type of this series has changed: the `datetime64[ns]` dtype. This indicates that we have a series of actual timestamp values."
   ]
  },
  {
   "cell_type": "markdown",
   "id": "af45b99c-68c8-44ed-8f11-5ba8fa151ac3",
   "metadata": {},
   "source": [
    "Like with standard Python [`datetime.datetime` objects](https://docs.python.org/3/library/datetime.html#datetime.datetime), there are several useful attributes available on the pandas `Timestamp`. And those are also available on a Series with datetime data using the **`.dt`** accessor. For example, we can get the month, hour, day of the week,... (experiment with tab completion!) for each of the timestamps:"
   ]
  },
  {
   "cell_type": "code",
   "execution_count": 5,
   "id": "d5bc767b-7c8f-4b2d-9b37-c7a48205500f",
   "metadata": {
    "tags": []
   },
   "outputs": [
    {
     "data": {
      "text/plain": [
       "0    12\n",
       "1    12\n",
       "2    12\n",
       "dtype: int32"
      ]
     },
     "execution_count": 5,
     "metadata": {},
     "output_type": "execute_result"
    }
   ],
   "source": [
    "ts.dt.month"
   ]
  },
  {
   "cell_type": "code",
   "execution_count": 6,
   "id": "207db64f-ed66-4cdb-88ce-20cde3c352a7",
   "metadata": {
    "tags": []
   },
   "outputs": [
    {
     "data": {
      "text/plain": [
       "0    10\n",
       "1    11\n",
       "2    12\n",
       "dtype: int32"
      ]
     },
     "execution_count": 6,
     "metadata": {},
     "output_type": "execute_result"
    }
   ],
   "source": [
    "ts.dt.hour"
   ]
  },
  {
   "cell_type": "code",
   "execution_count": 7,
   "id": "e3d1db7e-0465-4dbd-b121-a78e2b773034",
   "metadata": {
    "tags": []
   },
   "outputs": [
    {
     "data": {
      "text/plain": [
       "0    4\n",
       "1    4\n",
       "2    4\n",
       "dtype: int32"
      ]
     },
     "execution_count": 7,
     "metadata": {},
     "output_type": "execute_result"
    }
   ],
   "source": [
    "ts.dt.dayofweek"
   ]
  },
  {
   "cell_type": "markdown",
   "id": "9f71351f-1aa5-4d56-a1bd-c31aa6c647ac",
   "metadata": {},
   "source": [
    "Each of the individual elements in the Series is a pandas `Timestamp` object:"
   ]
  },
  {
   "cell_type": "code",
   "execution_count": 8,
   "id": "9bc200f1-a66f-4a5a-a6f2-69596bfd9f20",
   "metadata": {
    "tags": []
   },
   "outputs": [
    {
     "data": {
      "text/plain": [
       "Timestamp('2016-12-09 10:00:00')"
      ]
     },
     "execution_count": 8,
     "metadata": {},
     "output_type": "execute_result"
    }
   ],
   "source": [
    "ts[0]"
   ]
  },
  {
   "cell_type": "markdown",
   "id": "cf25127f-1250-4695-a976-df99344d5f32",
   "metadata": {
    "tags": []
   },
   "source": [
    "The `Timestamp` object can also be constructed from a string and provides access to the Timestamp attributes:"
   ]
  },
  {
   "cell_type": "code",
   "execution_count": 9,
   "id": "5443c4c1-a8a7-4d3c-a1d5-c49012576cf9",
   "metadata": {
    "tags": []
   },
   "outputs": [],
   "source": [
    "ts_singe = pd.Timestamp('2016-12-21 23:02')"
   ]
  },
  {
   "cell_type": "code",
   "execution_count": 10,
   "id": "5d09cf94-4088-43cf-a60f-2c1b3eda8a25",
   "metadata": {
    "tags": []
   },
   "outputs": [
    {
     "data": {
      "text/plain": [
       "(12, 23, 2)"
      ]
     },
     "execution_count": 10,
     "metadata": {},
     "output_type": "execute_result"
    }
   ],
   "source": [
    "ts_singe.month, ts_singe.hour, ts_singe.dayofweek"
   ]
  },
  {
   "cell_type": "markdown",
   "id": "bce7e220-e0a0-4a82-8787-f39e54638339",
   "metadata": {},
   "source": [
    "There is also a `Timedelta` type, which can e.g. be used to add intervals of time:"
   ]
  },
  {
   "cell_type": "code",
   "execution_count": 11,
   "id": "91e79d75-d8ec-41a5-9017-fa77c1d62521",
   "metadata": {
    "tags": []
   },
   "outputs": [
    {
     "data": {
      "text/plain": [
       "0   2016-12-14 10:00:00\n",
       "1   2016-12-14 11:00:00\n",
       "2   2016-12-14 12:00:00\n",
       "dtype: datetime64[ns]"
      ]
     },
     "execution_count": 11,
     "metadata": {},
     "output_type": "execute_result"
    }
   ],
   "source": [
    "ts + pd.Timedelta('5 days')"
   ]
  },
  {
   "cell_type": "markdown",
   "id": "81b32ea9-07d6-4b01-bdbe-870514f364d6",
   "metadata": {},
   "source": [
    "To quickly construct some regular time series data, the [``pd.date_range``](http://pandas.pydata.org/pandas-docs/stable/generated/pandas.date_range.html) function comes in handy:"
   ]
  },
  {
   "cell_type": "code",
   "execution_count": 12,
   "id": "48764319-ee42-4cd6-b780-173d005a5d97",
   "metadata": {
    "tags": []
   },
   "outputs": [
    {
     "data": {
      "text/plain": [
       "0   2016-01-01 00:00:00\n",
       "1   2016-01-01 03:00:00\n",
       "2   2016-01-01 06:00:00\n",
       "3   2016-01-01 09:00:00\n",
       "4   2016-01-01 12:00:00\n",
       "5   2016-01-01 15:00:00\n",
       "6   2016-01-01 18:00:00\n",
       "7   2016-01-01 21:00:00\n",
       "8   2016-01-02 00:00:00\n",
       "9   2016-01-02 03:00:00\n",
       "dtype: datetime64[ns]"
      ]
     },
     "execution_count": 12,
     "metadata": {},
     "output_type": "execute_result"
    }
   ],
   "source": [
    "pd.Series(pd.date_range(start=\"2016-01-01\", periods=10, freq='3h'))"
   ]
  },
  {
   "cell_type": "markdown",
   "id": "b2c29c0c",
   "metadata": {
    "tags": []
   },
   "source": [
    "## Parsing datetime strings"
   ]
  },
  {
   "cell_type": "markdown",
   "id": "c351c421",
   "metadata": {},
   "source": [
    "![](http://imgs.xkcd.com/comics/iso_8601.png)"
   ]
  },
  {
   "cell_type": "markdown",
   "id": "67f7a6e1",
   "metadata": {},
   "source": [
    "Unfortunately, when working with real world data, you encounter many different `datetime` formats. Most of the time when you have to deal with them, they come in text format, e.g. from a `CSV` file. To work with those data in Pandas, we first have to *parse* the strings to actual `Timestamp` objects."
   ]
  },
  {
   "cell_type": "markdown",
   "id": "de509402",
   "metadata": {},
   "source": [
    "<div class=\"alert alert-info\">\n",
    "<b>REMEMBER</b>: <br><br>\n",
    "\n",
    "To convert different kind of string formatted dates to Timestamp objects: use the `pandas.to_datetime` function \n",
    "\n",
    "</div>"
   ]
  },
  {
   "cell_type": "code",
   "execution_count": 13,
   "id": "a473dc6a",
   "metadata": {
    "tags": []
   },
   "outputs": [
    {
     "data": {
      "text/plain": [
       "Timestamp('2016-12-09 00:00:00')"
      ]
     },
     "execution_count": 13,
     "metadata": {},
     "output_type": "execute_result"
    }
   ],
   "source": [
    "pd.to_datetime(\"2016-12-09\")"
   ]
  },
  {
   "cell_type": "code",
   "execution_count": 14,
   "id": "e060083a",
   "metadata": {
    "tags": []
   },
   "outputs": [
    {
     "data": {
      "text/plain": [
       "Timestamp('2016-09-12 00:00:00')"
      ]
     },
     "execution_count": 14,
     "metadata": {},
     "output_type": "execute_result"
    }
   ],
   "source": [
    "pd.to_datetime(\"09/12/2016\")"
   ]
  },
  {
   "cell_type": "code",
   "execution_count": 15,
   "id": "26521674",
   "metadata": {
    "tags": []
   },
   "outputs": [
    {
     "data": {
      "text/plain": [
       "Timestamp('2016-12-09 00:00:00')"
      ]
     },
     "execution_count": 15,
     "metadata": {},
     "output_type": "execute_result"
    }
   ],
   "source": [
    "pd.to_datetime(\"09/12/2016\", format=\"%d/%m/%Y\")"
   ]
  },
  {
   "cell_type": "markdown",
   "id": "40e81eb2",
   "metadata": {},
   "source": [
    "A detailed overview of how to specify the `format` string, see the table in the python documentation: https://docs.python.org/3/library/datetime.html#strftime-and-strptime-behavior"
   ]
  },
  {
   "cell_type": "markdown",
   "id": "2ad83144",
   "metadata": {
    "tags": []
   },
   "source": [
    "# Time series data: `Timestamp` in the index"
   ]
  },
  {
   "cell_type": "markdown",
   "id": "a98807e0",
   "metadata": {
    "tags": []
   },
   "source": [
    "## River discharge example data"
   ]
  },
  {
   "cell_type": "markdown",
   "id": "18e7295e",
   "metadata": {},
   "source": [
    "For the following demonstration of the time series functionality, we use a sample of discharge data of the Maarkebeek (Flanders) with 3 hour averaged values, derived from the [Waterinfo website](https://www.waterinfo.be/)."
   ]
  },
  {
   "cell_type": "code",
   "execution_count": 16,
   "id": "d5d0a33c",
   "metadata": {
    "tags": []
   },
   "outputs": [],
   "source": [
    "data = pd.read_csv(\"data/vmm_flowdata.csv\")"
   ]
  },
  {
   "cell_type": "code",
   "execution_count": 17,
   "id": "ebc832d8",
   "metadata": {
    "tags": []
   },
   "outputs": [
    {
     "data": {
      "text/html": [
       "<div>\n",
       "<style scoped>\n",
       "    .dataframe tbody tr th:only-of-type {\n",
       "        vertical-align: middle;\n",
       "    }\n",
       "\n",
       "    .dataframe tbody tr th {\n",
       "        vertical-align: top;\n",
       "    }\n",
       "\n",
       "    .dataframe thead th {\n",
       "        text-align: right;\n",
       "    }\n",
       "</style>\n",
       "<table border=\"1\" class=\"dataframe\">\n",
       "  <thead>\n",
       "    <tr style=\"text-align: right;\">\n",
       "      <th></th>\n",
       "      <th>Time</th>\n",
       "      <th>L06_347</th>\n",
       "      <th>LS06_347</th>\n",
       "      <th>LS06_348</th>\n",
       "    </tr>\n",
       "  </thead>\n",
       "  <tbody>\n",
       "    <tr>\n",
       "      <th>0</th>\n",
       "      <td>2009-01-01 00:00:00</td>\n",
       "      <td>0.137417</td>\n",
       "      <td>0.097500</td>\n",
       "      <td>0.016833</td>\n",
       "    </tr>\n",
       "    <tr>\n",
       "      <th>1</th>\n",
       "      <td>2009-01-01 03:00:00</td>\n",
       "      <td>0.131250</td>\n",
       "      <td>0.088833</td>\n",
       "      <td>0.016417</td>\n",
       "    </tr>\n",
       "    <tr>\n",
       "      <th>2</th>\n",
       "      <td>2009-01-01 06:00:00</td>\n",
       "      <td>0.113500</td>\n",
       "      <td>0.091250</td>\n",
       "      <td>0.016750</td>\n",
       "    </tr>\n",
       "    <tr>\n",
       "      <th>3</th>\n",
       "      <td>2009-01-01 09:00:00</td>\n",
       "      <td>0.135750</td>\n",
       "      <td>0.091500</td>\n",
       "      <td>0.016250</td>\n",
       "    </tr>\n",
       "    <tr>\n",
       "      <th>4</th>\n",
       "      <td>2009-01-01 12:00:00</td>\n",
       "      <td>0.140917</td>\n",
       "      <td>0.096167</td>\n",
       "      <td>0.017000</td>\n",
       "    </tr>\n",
       "  </tbody>\n",
       "</table>\n",
       "</div>"
      ],
      "text/plain": [
       "                  Time   L06_347  LS06_347  LS06_348\n",
       "0  2009-01-01 00:00:00  0.137417  0.097500  0.016833\n",
       "1  2009-01-01 03:00:00  0.131250  0.088833  0.016417\n",
       "2  2009-01-01 06:00:00  0.113500  0.091250  0.016750\n",
       "3  2009-01-01 09:00:00  0.135750  0.091500  0.016250\n",
       "4  2009-01-01 12:00:00  0.140917  0.096167  0.017000"
      ]
     },
     "execution_count": 17,
     "metadata": {},
     "output_type": "execute_result"
    }
   ],
   "source": [
    "data.head()"
   ]
  },
  {
   "cell_type": "markdown",
   "id": "c60057bb",
   "metadata": {},
   "source": [
    "We already know how to parse a date column with Pandas:"
   ]
  },
  {
   "cell_type": "code",
   "execution_count": 18,
   "id": "1828d5e9",
   "metadata": {
    "tags": []
   },
   "outputs": [],
   "source": [
    "data['Time'] = pd.to_datetime(data['Time'])"
   ]
  },
  {
   "cell_type": "markdown",
   "id": "65f3c178",
   "metadata": {},
   "source": [
    "With `set_index('datetime')`, we set the column with datetime values as the index, which can be done by both `Series` and `DataFrame`."
   ]
  },
  {
   "cell_type": "code",
   "execution_count": 19,
   "id": "c48b7766",
   "metadata": {
    "tags": []
   },
   "outputs": [],
   "source": [
    "data = data.set_index(\"Time\")"
   ]
  },
  {
   "cell_type": "code",
   "execution_count": 20,
   "id": "da42adae",
   "metadata": {
    "tags": []
   },
   "outputs": [
    {
     "data": {
      "text/html": [
       "<div>\n",
       "<style scoped>\n",
       "    .dataframe tbody tr th:only-of-type {\n",
       "        vertical-align: middle;\n",
       "    }\n",
       "\n",
       "    .dataframe tbody tr th {\n",
       "        vertical-align: top;\n",
       "    }\n",
       "\n",
       "    .dataframe thead th {\n",
       "        text-align: right;\n",
       "    }\n",
       "</style>\n",
       "<table border=\"1\" class=\"dataframe\">\n",
       "  <thead>\n",
       "    <tr style=\"text-align: right;\">\n",
       "      <th></th>\n",
       "      <th>L06_347</th>\n",
       "      <th>LS06_347</th>\n",
       "      <th>LS06_348</th>\n",
       "    </tr>\n",
       "    <tr>\n",
       "      <th>Time</th>\n",
       "      <th></th>\n",
       "      <th></th>\n",
       "      <th></th>\n",
       "    </tr>\n",
       "  </thead>\n",
       "  <tbody>\n",
       "    <tr>\n",
       "      <th>2009-01-01 00:00:00</th>\n",
       "      <td>0.137417</td>\n",
       "      <td>0.097500</td>\n",
       "      <td>0.016833</td>\n",
       "    </tr>\n",
       "    <tr>\n",
       "      <th>2009-01-01 03:00:00</th>\n",
       "      <td>0.131250</td>\n",
       "      <td>0.088833</td>\n",
       "      <td>0.016417</td>\n",
       "    </tr>\n",
       "    <tr>\n",
       "      <th>2009-01-01 06:00:00</th>\n",
       "      <td>0.113500</td>\n",
       "      <td>0.091250</td>\n",
       "      <td>0.016750</td>\n",
       "    </tr>\n",
       "    <tr>\n",
       "      <th>2009-01-01 09:00:00</th>\n",
       "      <td>0.135750</td>\n",
       "      <td>0.091500</td>\n",
       "      <td>0.016250</td>\n",
       "    </tr>\n",
       "    <tr>\n",
       "      <th>2009-01-01 12:00:00</th>\n",
       "      <td>0.140917</td>\n",
       "      <td>0.096167</td>\n",
       "      <td>0.017000</td>\n",
       "    </tr>\n",
       "    <tr>\n",
       "      <th>...</th>\n",
       "      <td>...</td>\n",
       "      <td>...</td>\n",
       "      <td>...</td>\n",
       "    </tr>\n",
       "    <tr>\n",
       "      <th>2013-01-01 12:00:00</th>\n",
       "      <td>1.710000</td>\n",
       "      <td>1.710000</td>\n",
       "      <td>0.129583</td>\n",
       "    </tr>\n",
       "    <tr>\n",
       "      <th>2013-01-01 15:00:00</th>\n",
       "      <td>1.420000</td>\n",
       "      <td>1.420000</td>\n",
       "      <td>0.096333</td>\n",
       "    </tr>\n",
       "    <tr>\n",
       "      <th>2013-01-01 18:00:00</th>\n",
       "      <td>1.178583</td>\n",
       "      <td>1.178583</td>\n",
       "      <td>0.083083</td>\n",
       "    </tr>\n",
       "    <tr>\n",
       "      <th>2013-01-01 21:00:00</th>\n",
       "      <td>0.898250</td>\n",
       "      <td>0.898250</td>\n",
       "      <td>0.077167</td>\n",
       "    </tr>\n",
       "    <tr>\n",
       "      <th>2013-01-02 00:00:00</th>\n",
       "      <td>0.860000</td>\n",
       "      <td>0.860000</td>\n",
       "      <td>0.075000</td>\n",
       "    </tr>\n",
       "  </tbody>\n",
       "</table>\n",
       "<p>11697 rows × 3 columns</p>\n",
       "</div>"
      ],
      "text/plain": [
       "                      L06_347  LS06_347  LS06_348\n",
       "Time                                             \n",
       "2009-01-01 00:00:00  0.137417  0.097500  0.016833\n",
       "2009-01-01 03:00:00  0.131250  0.088833  0.016417\n",
       "2009-01-01 06:00:00  0.113500  0.091250  0.016750\n",
       "2009-01-01 09:00:00  0.135750  0.091500  0.016250\n",
       "2009-01-01 12:00:00  0.140917  0.096167  0.017000\n",
       "...                       ...       ...       ...\n",
       "2013-01-01 12:00:00  1.710000  1.710000  0.129583\n",
       "2013-01-01 15:00:00  1.420000  1.420000  0.096333\n",
       "2013-01-01 18:00:00  1.178583  1.178583  0.083083\n",
       "2013-01-01 21:00:00  0.898250  0.898250  0.077167\n",
       "2013-01-02 00:00:00  0.860000  0.860000  0.075000\n",
       "\n",
       "[11697 rows x 3 columns]"
      ]
     },
     "execution_count": 20,
     "metadata": {},
     "output_type": "execute_result"
    }
   ],
   "source": [
    "data"
   ]
  },
  {
   "cell_type": "markdown",
   "id": "658600da",
   "metadata": {},
   "source": [
    "The steps above are provided as built-in functionality of `read_csv`:"
   ]
  },
  {
   "cell_type": "code",
   "execution_count": 21,
   "id": "abc7d903",
   "metadata": {
    "tags": []
   },
   "outputs": [],
   "source": [
    "data = pd.read_csv(\"data/vmm_flowdata.csv\", index_col=0, parse_dates=True)"
   ]
  },
  {
   "cell_type": "markdown",
   "id": "431c99fb",
   "metadata": {},
   "source": [
    "<div class=\"alert alert-info\">\n",
    "<b>REMEMBER</b>: <br><br>\n",
    "\n",
    "`pd.read_csv` provides a lot of built-in functionality to support this kind of transactions when reading in a file! Check the help of the read_csv function...\n",
    "\n",
    "</div>"
   ]
  },
  {
   "cell_type": "markdown",
   "id": "7d844940",
   "metadata": {
    "tags": []
   },
   "source": [
    "## The DatetimeIndex"
   ]
  },
  {
   "cell_type": "markdown",
   "id": "2b5d69e1",
   "metadata": {},
   "source": [
    "When we ensure the DataFrame has a `DatetimeIndex`, time-series related functionality becomes available:"
   ]
  },
  {
   "cell_type": "code",
   "execution_count": 22,
   "id": "58bb0e42",
   "metadata": {
    "tags": []
   },
   "outputs": [
    {
     "data": {
      "text/plain": [
       "DatetimeIndex(['2009-01-01 00:00:00', '2009-01-01 03:00:00',\n",
       "               '2009-01-01 06:00:00', '2009-01-01 09:00:00',\n",
       "               '2009-01-01 12:00:00', '2009-01-01 15:00:00',\n",
       "               '2009-01-01 18:00:00', '2009-01-01 21:00:00',\n",
       "               '2009-01-02 00:00:00', '2009-01-02 03:00:00',\n",
       "               ...\n",
       "               '2012-12-31 21:00:00', '2013-01-01 00:00:00',\n",
       "               '2013-01-01 03:00:00', '2013-01-01 06:00:00',\n",
       "               '2013-01-01 09:00:00', '2013-01-01 12:00:00',\n",
       "               '2013-01-01 15:00:00', '2013-01-01 18:00:00',\n",
       "               '2013-01-01 21:00:00', '2013-01-02 00:00:00'],\n",
       "              dtype='datetime64[ns]', name='Time', length=11697, freq=None)"
      ]
     },
     "execution_count": 22,
     "metadata": {},
     "output_type": "execute_result"
    }
   ],
   "source": [
    "data.index"
   ]
  },
  {
   "cell_type": "markdown",
   "id": "7a10a645",
   "metadata": {},
   "source": [
    "Similar to a Series with datetime data, there are some attributes of the timestamp values available:"
   ]
  },
  {
   "cell_type": "code",
   "execution_count": 23,
   "id": "c0aad4d9",
   "metadata": {
    "tags": []
   },
   "outputs": [
    {
     "data": {
      "text/plain": [
       "Index([ 1,  1,  1,  1,  1,  1,  1,  1,  2,  2,\n",
       "       ...\n",
       "       31,  1,  1,  1,  1,  1,  1,  1,  1,  2],\n",
       "      dtype='int32', name='Time', length=11697)"
      ]
     },
     "execution_count": 23,
     "metadata": {},
     "output_type": "execute_result"
    }
   ],
   "source": [
    "data.index.day"
   ]
  },
  {
   "cell_type": "code",
   "execution_count": 24,
   "id": "dc2a17b9",
   "metadata": {
    "tags": []
   },
   "outputs": [
    {
     "data": {
      "text/plain": [
       "Index([  1,   1,   1,   1,   1,   1,   1,   1,   2,   2,\n",
       "       ...\n",
       "       366,   1,   1,   1,   1,   1,   1,   1,   1,   2],\n",
       "      dtype='int32', name='Time', length=11697)"
      ]
     },
     "execution_count": 24,
     "metadata": {},
     "output_type": "execute_result"
    }
   ],
   "source": [
    "data.index.dayofyear"
   ]
  },
  {
   "cell_type": "code",
   "execution_count": 25,
   "id": "73a28eda",
   "metadata": {
    "tags": []
   },
   "outputs": [
    {
     "data": {
      "text/plain": [
       "Index([2009, 2009, 2009, 2009, 2009, 2009, 2009, 2009, 2009, 2009,\n",
       "       ...\n",
       "       2012, 2013, 2013, 2013, 2013, 2013, 2013, 2013, 2013, 2013],\n",
       "      dtype='int32', name='Time', length=11697)"
      ]
     },
     "execution_count": 25,
     "metadata": {},
     "output_type": "execute_result"
    }
   ],
   "source": [
    "data.index.year"
   ]
  },
  {
   "cell_type": "markdown",
   "id": "56bbe1a2",
   "metadata": {},
   "source": [
    "The `plot` method will also adapt its labels (when you zoom in, you can see the different levels of detail of the datetime labels):"
   ]
  },
  {
   "cell_type": "code",
   "execution_count": 26,
   "id": "4b83c216",
   "metadata": {
    "tags": []
   },
   "outputs": [],
   "source": [
    "%matplotlib widget"
   ]
  },
  {
   "cell_type": "code",
   "execution_count": 27,
   "id": "2521063f",
   "metadata": {
    "tags": []
   },
   "outputs": [
    {
     "data": {
      "text/plain": [
       "<Axes: xlabel='Time'>"
      ]
     },
     "execution_count": 27,
     "metadata": {},
     "output_type": "execute_result"
    },
    {
     "data": {
      "application/vnd.jupyter.widget-view+json": {
       "model_id": "87962b6557b94db99a55cd7ff4d59f15",
       "version_major": 2,
       "version_minor": 0
      },
      "image/png": "[encoded data removed]",
      "text/html": [
       "\n",
       "            <div style=\"display: inline-block;\">\n",
       "                <div class=\"jupyter-widgets widget-label\" style=\"text-align: center;\">\n",
       "                    Figure\n",
       "                </div>\n",
       "                <img src='data:image/png;base64,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' width=640.0/>\n",
       "            </div>\n",
       "        "
      ],
      "text/plain": [
       "Canvas(toolbar=Toolbar(toolitems=[('Home', 'Reset original view', 'home', 'home'), ('Back', 'Back to previous …"
      ]
     },
     "metadata": {},
     "output_type": "display_data"
    }
   ],
   "source": [
    "data.plot()"
   ]
  },
  {
   "cell_type": "code",
   "execution_count": 28,
   "id": "7db0499c",
   "metadata": {
    "tags": []
   },
   "outputs": [],
   "source": [
    "# switching back to static inline plots (the default)\n",
    "%matplotlib inline"
   ]
  },
  {
   "cell_type": "markdown",
   "id": "7dc7c57c",
   "metadata": {},
   "source": [
    "We have too much data to sensibly plot on one figure. Let's see how we can easily select part of the data or aggregate the data to other time resolutions in the next sections."
   ]
  },
  {
   "cell_type": "markdown",
   "id": "ec38c40a",
   "metadata": {
    "tags": []
   },
   "source": [
    "## Selecting data from a time series"
   ]
  },
  {
   "cell_type": "markdown",
   "id": "83dc267d",
   "metadata": {},
   "source": [
    "We can use label based indexing on a timeseries as expected:"
   ]
  },
  {
   "cell_type": "code",
   "execution_count": 29,
   "id": "23afc1f9",
   "metadata": {
    "tags": []
   },
   "outputs": [
    {
     "data": {
      "text/html": [
       "<div>\n",
       "<style scoped>\n",
       "    .dataframe tbody tr th:only-of-type {\n",
       "        vertical-align: middle;\n",
       "    }\n",
       "\n",
       "    .dataframe tbody tr th {\n",
       "        vertical-align: top;\n",
       "    }\n",
       "\n",
       "    .dataframe thead th {\n",
       "        text-align: right;\n",
       "    }\n",
       "</style>\n",
       "<table border=\"1\" class=\"dataframe\">\n",
       "  <thead>\n",
       "    <tr style=\"text-align: right;\">\n",
       "      <th></th>\n",
       "      <th>L06_347</th>\n",
       "      <th>LS06_347</th>\n",
       "      <th>LS06_348</th>\n",
       "    </tr>\n",
       "    <tr>\n",
       "      <th>Time</th>\n",
       "      <th></th>\n",
       "      <th></th>\n",
       "      <th></th>\n",
       "    </tr>\n",
       "  </thead>\n",
       "  <tbody>\n",
       "    <tr>\n",
       "      <th>2012-01-01 09:00:00</th>\n",
       "      <td>0.330750</td>\n",
       "      <td>0.293583</td>\n",
       "      <td>0.029750</td>\n",
       "    </tr>\n",
       "    <tr>\n",
       "      <th>2012-01-01 12:00:00</th>\n",
       "      <td>0.295000</td>\n",
       "      <td>0.285167</td>\n",
       "      <td>0.031750</td>\n",
       "    </tr>\n",
       "    <tr>\n",
       "      <th>2012-01-01 15:00:00</th>\n",
       "      <td>0.301417</td>\n",
       "      <td>0.287750</td>\n",
       "      <td>0.031417</td>\n",
       "    </tr>\n",
       "    <tr>\n",
       "      <th>2012-01-01 18:00:00</th>\n",
       "      <td>0.322083</td>\n",
       "      <td>0.304167</td>\n",
       "      <td>0.038083</td>\n",
       "    </tr>\n",
       "  </tbody>\n",
       "</table>\n",
       "</div>"
      ],
      "text/plain": [
       "                      L06_347  LS06_347  LS06_348\n",
       "Time                                             \n",
       "2012-01-01 09:00:00  0.330750  0.293583  0.029750\n",
       "2012-01-01 12:00:00  0.295000  0.285167  0.031750\n",
       "2012-01-01 15:00:00  0.301417  0.287750  0.031417\n",
       "2012-01-01 18:00:00  0.322083  0.304167  0.038083"
      ]
     },
     "execution_count": 29,
     "metadata": {},
     "output_type": "execute_result"
    }
   ],
   "source": [
    "data[pd.Timestamp(\"2012-01-01 09:00\"):pd.Timestamp(\"2012-01-01 19:00\")]"
   ]
  },
  {
   "cell_type": "markdown",
   "id": "ef667c8c",
   "metadata": {},
   "source": [
    "But, for convenience, indexing a time series also works with strings:"
   ]
  },
  {
   "cell_type": "code",
   "execution_count": 30,
   "id": "85291f39",
   "metadata": {
    "tags": []
   },
   "outputs": [
    {
     "data": {
      "text/html": [
       "<div>\n",
       "<style scoped>\n",
       "    .dataframe tbody tr th:only-of-type {\n",
       "        vertical-align: middle;\n",
       "    }\n",
       "\n",
       "    .dataframe tbody tr th {\n",
       "        vertical-align: top;\n",
       "    }\n",
       "\n",
       "    .dataframe thead th {\n",
       "        text-align: right;\n",
       "    }\n",
       "</style>\n",
       "<table border=\"1\" class=\"dataframe\">\n",
       "  <thead>\n",
       "    <tr style=\"text-align: right;\">\n",
       "      <th></th>\n",
       "      <th>L06_347</th>\n",
       "      <th>LS06_347</th>\n",
       "      <th>LS06_348</th>\n",
       "    </tr>\n",
       "    <tr>\n",
       "      <th>Time</th>\n",
       "      <th></th>\n",
       "      <th></th>\n",
       "      <th></th>\n",
       "    </tr>\n",
       "  </thead>\n",
       "  <tbody>\n",
       "    <tr>\n",
       "      <th>2012-01-01 09:00:00</th>\n",
       "      <td>0.330750</td>\n",
       "      <td>0.293583</td>\n",
       "      <td>0.029750</td>\n",
       "    </tr>\n",
       "    <tr>\n",
       "      <th>2012-01-01 12:00:00</th>\n",
       "      <td>0.295000</td>\n",
       "      <td>0.285167</td>\n",
       "      <td>0.031750</td>\n",
       "    </tr>\n",
       "    <tr>\n",
       "      <th>2012-01-01 15:00:00</th>\n",
       "      <td>0.301417</td>\n",
       "      <td>0.287750</td>\n",
       "      <td>0.031417</td>\n",
       "    </tr>\n",
       "    <tr>\n",
       "      <th>2012-01-01 18:00:00</th>\n",
       "      <td>0.322083</td>\n",
       "      <td>0.304167</td>\n",
       "      <td>0.038083</td>\n",
       "    </tr>\n",
       "  </tbody>\n",
       "</table>\n",
       "</div>"
      ],
      "text/plain": [
       "                      L06_347  LS06_347  LS06_348\n",
       "Time                                             \n",
       "2012-01-01 09:00:00  0.330750  0.293583  0.029750\n",
       "2012-01-01 12:00:00  0.295000  0.285167  0.031750\n",
       "2012-01-01 15:00:00  0.301417  0.287750  0.031417\n",
       "2012-01-01 18:00:00  0.322083  0.304167  0.038083"
      ]
     },
     "execution_count": 30,
     "metadata": {},
     "output_type": "execute_result"
    }
   ],
   "source": [
    "data[\"2012-01-01 09:00\":\"2012-01-01 19:00\"]"
   ]
  },
  {
   "cell_type": "markdown",
   "id": "85d12faf",
   "metadata": {},
   "source": [
    "A nice feature is **\"partial string\" indexing**, where we can do implicit slicing by providing a partial datetime string.\n",
    "\n",
    "E.g. all data of 2013:"
   ]
  },
  {
   "cell_type": "code",
   "execution_count": 31,
   "id": "b74fd93c",
   "metadata": {},
   "outputs": [
    {
     "data": {
      "text/html": [
       "<div>\n",
       "<style scoped>\n",
       "    .dataframe tbody tr th:only-of-type {\n",
       "        vertical-align: middle;\n",
       "    }\n",
       "\n",
       "    .dataframe tbody tr th {\n",
       "        vertical-align: top;\n",
       "    }\n",
       "\n",
       "    .dataframe thead th {\n",
       "        text-align: right;\n",
       "    }\n",
       "</style>\n",
       "<table border=\"1\" class=\"dataframe\">\n",
       "  <thead>\n",
       "    <tr style=\"text-align: right;\">\n",
       "      <th></th>\n",
       "      <th>L06_347</th>\n",
       "      <th>LS06_347</th>\n",
       "      <th>LS06_348</th>\n",
       "    </tr>\n",
       "    <tr>\n",
       "      <th>Time</th>\n",
       "      <th></th>\n",
       "      <th></th>\n",
       "      <th></th>\n",
       "    </tr>\n",
       "  </thead>\n",
       "  <tbody>\n",
       "    <tr>\n",
       "      <th>2013-01-01 00:00:00</th>\n",
       "      <td>1.688333</td>\n",
       "      <td>1.688333</td>\n",
       "      <td>0.207333</td>\n",
       "    </tr>\n",
       "    <tr>\n",
       "      <th>2013-01-01 03:00:00</th>\n",
       "      <td>2.693333</td>\n",
       "      <td>2.693333</td>\n",
       "      <td>0.201500</td>\n",
       "    </tr>\n",
       "    <tr>\n",
       "      <th>2013-01-01 06:00:00</th>\n",
       "      <td>2.220833</td>\n",
       "      <td>2.220833</td>\n",
       "      <td>0.166917</td>\n",
       "    </tr>\n",
       "    <tr>\n",
       "      <th>2013-01-01 09:00:00</th>\n",
       "      <td>2.055000</td>\n",
       "      <td>2.055000</td>\n",
       "      <td>0.175667</td>\n",
       "    </tr>\n",
       "    <tr>\n",
       "      <th>2013-01-01 12:00:00</th>\n",
       "      <td>1.710000</td>\n",
       "      <td>1.710000</td>\n",
       "      <td>0.129583</td>\n",
       "    </tr>\n",
       "    <tr>\n",
       "      <th>2013-01-01 15:00:00</th>\n",
       "      <td>1.420000</td>\n",
       "      <td>1.420000</td>\n",
       "      <td>0.096333</td>\n",
       "    </tr>\n",
       "    <tr>\n",
       "      <th>2013-01-01 18:00:00</th>\n",
       "      <td>1.178583</td>\n",
       "      <td>1.178583</td>\n",
       "      <td>0.083083</td>\n",
       "    </tr>\n",
       "    <tr>\n",
       "      <th>2013-01-01 21:00:00</th>\n",
       "      <td>0.898250</td>\n",
       "      <td>0.898250</td>\n",
       "      <td>0.077167</td>\n",
       "    </tr>\n",
       "    <tr>\n",
       "      <th>2013-01-02 00:00:00</th>\n",
       "      <td>0.860000</td>\n",
       "      <td>0.860000</td>\n",
       "      <td>0.075000</td>\n",
       "    </tr>\n",
       "  </tbody>\n",
       "</table>\n",
       "</div>"
      ],
      "text/plain": [
       "                      L06_347  LS06_347  LS06_348\n",
       "Time                                             \n",
       "2013-01-01 00:00:00  1.688333  1.688333  0.207333\n",
       "2013-01-01 03:00:00  2.693333  2.693333  0.201500\n",
       "2013-01-01 06:00:00  2.220833  2.220833  0.166917\n",
       "2013-01-01 09:00:00  2.055000  2.055000  0.175667\n",
       "2013-01-01 12:00:00  1.710000  1.710000  0.129583\n",
       "2013-01-01 15:00:00  1.420000  1.420000  0.096333\n",
       "2013-01-01 18:00:00  1.178583  1.178583  0.083083\n",
       "2013-01-01 21:00:00  0.898250  0.898250  0.077167\n",
       "2013-01-02 00:00:00  0.860000  0.860000  0.075000"
      ]
     },
     "execution_count": 31,
     "metadata": {},
     "output_type": "execute_result"
    }
   ],
   "source": [
    "data['2013':]"
   ]
  },
  {
   "cell_type": "markdown",
   "id": "cea519d6",
   "metadata": {},
   "source": [
    "Or all data of January up to March 2012:"
   ]
  },
  {
   "cell_type": "code",
   "execution_count": 32,
   "id": "a223cc36",
   "metadata": {},
   "outputs": [
    {
     "data": {
      "text/html": [
       "<div>\n",
       "<style scoped>\n",
       "    .dataframe tbody tr th:only-of-type {\n",
       "        vertical-align: middle;\n",
       "    }\n",
       "\n",
       "    .dataframe tbody tr th {\n",
       "        vertical-align: top;\n",
       "    }\n",
       "\n",
       "    .dataframe thead th {\n",
       "        text-align: right;\n",
       "    }\n",
       "</style>\n",
       "<table border=\"1\" class=\"dataframe\">\n",
       "  <thead>\n",
       "    <tr style=\"text-align: right;\">\n",
       "      <th></th>\n",
       "      <th>L06_347</th>\n",
       "      <th>LS06_347</th>\n",
       "      <th>LS06_348</th>\n",
       "    </tr>\n",
       "    <tr>\n",
       "      <th>Time</th>\n",
       "      <th></th>\n",
       "      <th></th>\n",
       "      <th></th>\n",
       "    </tr>\n",
       "  </thead>\n",
       "  <tbody>\n",
       "    <tr>\n",
       "      <th>2012-01-01 00:00:00</th>\n",
       "      <td>0.307167</td>\n",
       "      <td>0.273917</td>\n",
       "      <td>0.028000</td>\n",
       "    </tr>\n",
       "    <tr>\n",
       "      <th>2012-01-01 03:00:00</th>\n",
       "      <td>0.302917</td>\n",
       "      <td>0.270833</td>\n",
       "      <td>0.030583</td>\n",
       "    </tr>\n",
       "    <tr>\n",
       "      <th>2012-01-01 06:00:00</th>\n",
       "      <td>0.331500</td>\n",
       "      <td>0.284750</td>\n",
       "      <td>0.030917</td>\n",
       "    </tr>\n",
       "    <tr>\n",
       "      <th>2012-01-01 09:00:00</th>\n",
       "      <td>0.330750</td>\n",
       "      <td>0.293583</td>\n",
       "      <td>0.029750</td>\n",
       "    </tr>\n",
       "    <tr>\n",
       "      <th>2012-01-01 12:00:00</th>\n",
       "      <td>0.295000</td>\n",
       "      <td>0.285167</td>\n",
       "      <td>0.031750</td>\n",
       "    </tr>\n",
       "    <tr>\n",
       "      <th>...</th>\n",
       "      <td>...</td>\n",
       "      <td>...</td>\n",
       "      <td>...</td>\n",
       "    </tr>\n",
       "    <tr>\n",
       "      <th>2012-03-31 09:00:00</th>\n",
       "      <td>0.104917</td>\n",
       "      <td>0.125000</td>\n",
       "      <td>0.012417</td>\n",
       "    </tr>\n",
       "    <tr>\n",
       "      <th>2012-03-31 12:00:00</th>\n",
       "      <td>0.098333</td>\n",
       "      <td>0.124417</td>\n",
       "      <td>0.011833</td>\n",
       "    </tr>\n",
       "    <tr>\n",
       "      <th>2012-03-31 15:00:00</th>\n",
       "      <td>0.091917</td>\n",
       "      <td>0.123917</td>\n",
       "      <td>0.011500</td>\n",
       "    </tr>\n",
       "    <tr>\n",
       "      <th>2012-03-31 18:00:00</th>\n",
       "      <td>0.085750</td>\n",
       "      <td>0.121417</td>\n",
       "      <td>0.011000</td>\n",
       "    </tr>\n",
       "    <tr>\n",
       "      <th>2012-03-31 21:00:00</th>\n",
       "      <td>0.068417</td>\n",
       "      <td>0.119750</td>\n",
       "      <td>0.010417</td>\n",
       "    </tr>\n",
       "  </tbody>\n",
       "</table>\n",
       "<p>728 rows × 3 columns</p>\n",
       "</div>"
      ],
      "text/plain": [
       "                      L06_347  LS06_347  LS06_348\n",
       "Time                                             \n",
       "2012-01-01 00:00:00  0.307167  0.273917  0.028000\n",
       "2012-01-01 03:00:00  0.302917  0.270833  0.030583\n",
       "2012-01-01 06:00:00  0.331500  0.284750  0.030917\n",
       "2012-01-01 09:00:00  0.330750  0.293583  0.029750\n",
       "2012-01-01 12:00:00  0.295000  0.285167  0.031750\n",
       "...                       ...       ...       ...\n",
       "2012-03-31 09:00:00  0.104917  0.125000  0.012417\n",
       "2012-03-31 12:00:00  0.098333  0.124417  0.011833\n",
       "2012-03-31 15:00:00  0.091917  0.123917  0.011500\n",
       "2012-03-31 18:00:00  0.085750  0.121417  0.011000\n",
       "2012-03-31 21:00:00  0.068417  0.119750  0.010417\n",
       "\n",
       "[728 rows x 3 columns]"
      ]
     },
     "execution_count": 32,
     "metadata": {},
     "output_type": "execute_result"
    }
   ],
   "source": [
    "data['2012-01':'2012-03']"
   ]
  },
  {
   "cell_type": "markdown",
   "id": "a95be1d6-8ea4-4889-ac3f-d3fe720e8882",
   "metadata": {},
   "source": [
    "# Exercises\n",
    "\n",
    "Let's practice this yourself using the same dataset:"
   ]
  },
  {
   "cell_type": "code",
   "execution_count": 33,
   "id": "f2de366c-105a-40d7-bb93-bfb53e8f5c26",
   "metadata": {},
   "outputs": [],
   "source": [
    "data = pd.read_csv(\"data/vmm_flowdata.csv\", index_col=0, parse_dates=True)"
   ]
  },
  {
   "cell_type": "markdown",
   "id": "70d4f396",
   "metadata": {},
   "source": [
    "<div class=\"alert alert-success\">\n",
    "\n",
    "**EXERCISE:**\n",
    "\n",
    "Select all data starting from 2012\n",
    "\n",
    "</div>"
   ]
  },
  {
   "cell_type": "code",
   "execution_count": 34,
   "id": "1701f43d",
   "metadata": {
    "tags": [
     "nbtutor-solution"
    ]
   },
   "outputs": [
    {
     "data": {
      "text/html": [
       "<div>\n",
       "<style scoped>\n",
       "    .dataframe tbody tr th:only-of-type {\n",
       "        vertical-align: middle;\n",
       "    }\n",
       "\n",
       "    .dataframe tbody tr th {\n",
       "        vertical-align: top;\n",
       "    }\n",
       "\n",
       "    .dataframe thead th {\n",
       "        text-align: right;\n",
       "    }\n",
       "</style>\n",
       "<table border=\"1\" class=\"dataframe\">\n",
       "  <thead>\n",
       "    <tr style=\"text-align: right;\">\n",
       "      <th></th>\n",
       "      <th>L06_347</th>\n",
       "      <th>LS06_347</th>\n",
       "      <th>LS06_348</th>\n",
       "    </tr>\n",
       "    <tr>\n",
       "      <th>Time</th>\n",
       "      <th></th>\n",
       "      <th></th>\n",
       "      <th></th>\n",
       "    </tr>\n",
       "  </thead>\n",
       "  <tbody>\n",
       "    <tr>\n",
       "      <th>2012-01-01 00:00:00</th>\n",
       "      <td>0.307167</td>\n",
       "      <td>0.273917</td>\n",
       "      <td>0.028000</td>\n",
       "    </tr>\n",
       "    <tr>\n",
       "      <th>2012-01-01 03:00:00</th>\n",
       "      <td>0.302917</td>\n",
       "      <td>0.270833</td>\n",
       "      <td>0.030583</td>\n",
       "    </tr>\n",
       "    <tr>\n",
       "      <th>2012-01-01 06:00:00</th>\n",
       "      <td>0.331500</td>\n",
       "      <td>0.284750</td>\n",
       "      <td>0.030917</td>\n",
       "    </tr>\n",
       "    <tr>\n",
       "      <th>2012-01-01 09:00:00</th>\n",
       "      <td>0.330750</td>\n",
       "      <td>0.293583</td>\n",
       "      <td>0.029750</td>\n",
       "    </tr>\n",
       "    <tr>\n",
       "      <th>2012-01-01 12:00:00</th>\n",
       "      <td>0.295000</td>\n",
       "      <td>0.285167</td>\n",
       "      <td>0.031750</td>\n",
       "    </tr>\n",
       "    <tr>\n",
       "      <th>...</th>\n",
       "      <td>...</td>\n",
       "      <td>...</td>\n",
       "      <td>...</td>\n",
       "    </tr>\n",
       "    <tr>\n",
       "      <th>2013-01-01 12:00:00</th>\n",
       "      <td>1.710000</td>\n",
       "      <td>1.710000</td>\n",
       "      <td>0.129583</td>\n",
       "    </tr>\n",
       "    <tr>\n",
       "      <th>2013-01-01 15:00:00</th>\n",
       "      <td>1.420000</td>\n",
       "      <td>1.420000</td>\n",
       "      <td>0.096333</td>\n",
       "    </tr>\n",
       "    <tr>\n",
       "      <th>2013-01-01 18:00:00</th>\n",
       "      <td>1.178583</td>\n",
       "      <td>1.178583</td>\n",
       "      <td>0.083083</td>\n",
       "    </tr>\n",
       "    <tr>\n",
       "      <th>2013-01-01 21:00:00</th>\n",
       "      <td>0.898250</td>\n",
       "      <td>0.898250</td>\n",
       "      <td>0.077167</td>\n",
       "    </tr>\n",
       "    <tr>\n",
       "      <th>2013-01-02 00:00:00</th>\n",
       "      <td>0.860000</td>\n",
       "      <td>0.860000</td>\n",
       "      <td>0.075000</td>\n",
       "    </tr>\n",
       "  </tbody>\n",
       "</table>\n",
       "<p>2937 rows × 3 columns</p>\n",
       "</div>"
      ],
      "text/plain": [
       "                      L06_347  LS06_347  LS06_348\n",
       "Time                                             \n",
       "2012-01-01 00:00:00  0.307167  0.273917  0.028000\n",
       "2012-01-01 03:00:00  0.302917  0.270833  0.030583\n",
       "2012-01-01 06:00:00  0.331500  0.284750  0.030917\n",
       "2012-01-01 09:00:00  0.330750  0.293583  0.029750\n",
       "2012-01-01 12:00:00  0.295000  0.285167  0.031750\n",
       "...                       ...       ...       ...\n",
       "2013-01-01 12:00:00  1.710000  1.710000  0.129583\n",
       "2013-01-01 15:00:00  1.420000  1.420000  0.096333\n",
       "2013-01-01 18:00:00  1.178583  1.178583  0.083083\n",
       "2013-01-01 21:00:00  0.898250  0.898250  0.077167\n",
       "2013-01-02 00:00:00  0.860000  0.860000  0.075000\n",
       "\n",
       "[2937 rows x 3 columns]"
      ]
     },
     "execution_count": 34,
     "metadata": {},
     "output_type": "execute_result"
    }
   ],
   "source": [
    "data['2012':]"
   ]
  },
  {
   "cell_type": "markdown",
   "id": "72f01346",
   "metadata": {},
   "source": [
    "<div class=\"alert alert-success\">\n",
    "\n",
    "**EXERCISE**:\n",
    "\n",
    "Select all data in January for all different years\n",
    "\n",
    "<details><summary>Hints</summary>\n",
    "\n",
    "* Remember you can get information about the month of each timestamp using the `month` attribute of the DatetimeIndex.\n",
    "\n",
    "</details>\n",
    "\n",
    "</div>"
   ]
  },
  {
   "cell_type": "code",
   "execution_count": 35,
   "id": "3d61b665",
   "metadata": {
    "tags": [
     "nbtutor-solution"
    ]
   },
   "outputs": [
    {
     "data": {
      "text/html": [
       "<div>\n",
       "<style scoped>\n",
       "    .dataframe tbody tr th:only-of-type {\n",
       "        vertical-align: middle;\n",
       "    }\n",
       "\n",
       "    .dataframe tbody tr th {\n",
       "        vertical-align: top;\n",
       "    }\n",
       "\n",
       "    .dataframe thead th {\n",
       "        text-align: right;\n",
       "    }\n",
       "</style>\n",
       "<table border=\"1\" class=\"dataframe\">\n",
       "  <thead>\n",
       "    <tr style=\"text-align: right;\">\n",
       "      <th></th>\n",
       "      <th>L06_347</th>\n",
       "      <th>LS06_347</th>\n",
       "      <th>LS06_348</th>\n",
       "    </tr>\n",
       "    <tr>\n",
       "      <th>Time</th>\n",
       "      <th></th>\n",
       "      <th></th>\n",
       "      <th></th>\n",
       "    </tr>\n",
       "  </thead>\n",
       "  <tbody>\n",
       "    <tr>\n",
       "      <th>2009-01-01 00:00:00</th>\n",
       "      <td>0.137417</td>\n",
       "      <td>0.097500</td>\n",
       "      <td>0.016833</td>\n",
       "    </tr>\n",
       "    <tr>\n",
       "      <th>2009-01-01 03:00:00</th>\n",
       "      <td>0.131250</td>\n",
       "      <td>0.088833</td>\n",
       "      <td>0.016417</td>\n",
       "    </tr>\n",
       "    <tr>\n",
       "      <th>2009-01-01 06:00:00</th>\n",
       "      <td>0.113500</td>\n",
       "      <td>0.091250</td>\n",
       "      <td>0.016750</td>\n",
       "    </tr>\n",
       "    <tr>\n",
       "      <th>2009-01-01 09:00:00</th>\n",
       "      <td>0.135750</td>\n",
       "      <td>0.091500</td>\n",
       "      <td>0.016250</td>\n",
       "    </tr>\n",
       "    <tr>\n",
       "      <th>2009-01-01 12:00:00</th>\n",
       "      <td>0.140917</td>\n",
       "      <td>0.096167</td>\n",
       "      <td>0.017000</td>\n",
       "    </tr>\n",
       "    <tr>\n",
       "      <th>...</th>\n",
       "      <td>...</td>\n",
       "      <td>...</td>\n",
       "      <td>...</td>\n",
       "    </tr>\n",
       "    <tr>\n",
       "      <th>2013-01-01 12:00:00</th>\n",
       "      <td>1.710000</td>\n",
       "      <td>1.710000</td>\n",
       "      <td>0.129583</td>\n",
       "    </tr>\n",
       "    <tr>\n",
       "      <th>2013-01-01 15:00:00</th>\n",
       "      <td>1.420000</td>\n",
       "      <td>1.420000</td>\n",
       "      <td>0.096333</td>\n",
       "    </tr>\n",
       "    <tr>\n",
       "      <th>2013-01-01 18:00:00</th>\n",
       "      <td>1.178583</td>\n",
       "      <td>1.178583</td>\n",
       "      <td>0.083083</td>\n",
       "    </tr>\n",
       "    <tr>\n",
       "      <th>2013-01-01 21:00:00</th>\n",
       "      <td>0.898250</td>\n",
       "      <td>0.898250</td>\n",
       "      <td>0.077167</td>\n",
       "    </tr>\n",
       "    <tr>\n",
       "      <th>2013-01-02 00:00:00</th>\n",
       "      <td>0.860000</td>\n",
       "      <td>0.860000</td>\n",
       "      <td>0.075000</td>\n",
       "    </tr>\n",
       "  </tbody>\n",
       "</table>\n",
       "<p>1001 rows × 3 columns</p>\n",
       "</div>"
      ],
      "text/plain": [
       "                      L06_347  LS06_347  LS06_348\n",
       "Time                                             \n",
       "2009-01-01 00:00:00  0.137417  0.097500  0.016833\n",
       "2009-01-01 03:00:00  0.131250  0.088833  0.016417\n",
       "2009-01-01 06:00:00  0.113500  0.091250  0.016750\n",
       "2009-01-01 09:00:00  0.135750  0.091500  0.016250\n",
       "2009-01-01 12:00:00  0.140917  0.096167  0.017000\n",
       "...                       ...       ...       ...\n",
       "2013-01-01 12:00:00  1.710000  1.710000  0.129583\n",
       "2013-01-01 15:00:00  1.420000  1.420000  0.096333\n",
       "2013-01-01 18:00:00  1.178583  1.178583  0.083083\n",
       "2013-01-01 21:00:00  0.898250  0.898250  0.077167\n",
       "2013-01-02 00:00:00  0.860000  0.860000  0.075000\n",
       "\n",
       "[1001 rows x 3 columns]"
      ]
     },
     "execution_count": 35,
     "metadata": {},
     "output_type": "execute_result"
    }
   ],
   "source": [
    "data[data.index.month == 1]"
   ]
  },
  {
   "cell_type": "markdown",
   "id": "b069a677",
   "metadata": {},
   "source": [
    "<div class=\"alert alert-success\">\n",
    "\n",
    "**EXERCISE**:\n",
    "\n",
    "Select all data in April, May and June for all different years\n",
    "\n",
    "<details><summary>Hints</summary>\n",
    "\n",
    "* If you want to check for equality with multiple possible values (equal to x OR equal to y OR ...), the `isin()` method can be easier to use.\n",
    "\n",
    "</details>\n",
    "\n",
    "</div>"
   ]
  },
  {
   "cell_type": "code",
   "execution_count": 36,
   "id": "8e2cf035",
   "metadata": {
    "tags": [
     "nbtutor-solution"
    ]
   },
   "outputs": [
    {
     "data": {
      "text/html": [
       "<div>\n",
       "<style scoped>\n",
       "    .dataframe tbody tr th:only-of-type {\n",
       "        vertical-align: middle;\n",
       "    }\n",
       "\n",
       "    .dataframe tbody tr th {\n",
       "        vertical-align: top;\n",
       "    }\n",
       "\n",
       "    .dataframe thead th {\n",
       "        text-align: right;\n",
       "    }\n",
       "</style>\n",
       "<table border=\"1\" class=\"dataframe\">\n",
       "  <thead>\n",
       "    <tr style=\"text-align: right;\">\n",
       "      <th></th>\n",
       "      <th>L06_347</th>\n",
       "      <th>LS06_347</th>\n",
       "      <th>LS06_348</th>\n",
       "    </tr>\n",
       "    <tr>\n",
       "      <th>Time</th>\n",
       "      <th></th>\n",
       "      <th></th>\n",
       "      <th></th>\n",
       "    </tr>\n",
       "  </thead>\n",
       "  <tbody>\n",
       "    <tr>\n",
       "      <th>2009-04-01 00:00:00</th>\n",
       "      <td>0.270417</td>\n",
       "      <td>0.233500</td>\n",
       "      <td>0.031250</td>\n",
       "    </tr>\n",
       "    <tr>\n",
       "      <th>2009-04-01 03:00:00</th>\n",
       "      <td>0.249917</td>\n",
       "      <td>0.247083</td>\n",
       "      <td>0.030750</td>\n",
       "    </tr>\n",
       "    <tr>\n",
       "      <th>2009-04-01 06:00:00</th>\n",
       "      <td>0.278167</td>\n",
       "      <td>0.260083</td>\n",
       "      <td>0.032583</td>\n",
       "    </tr>\n",
       "    <tr>\n",
       "      <th>2009-04-01 09:00:00</th>\n",
       "      <td>0.324833</td>\n",
       "      <td>0.301583</td>\n",
       "      <td>0.034250</td>\n",
       "    </tr>\n",
       "    <tr>\n",
       "      <th>2009-04-01 12:00:00</th>\n",
       "      <td>0.287917</td>\n",
       "      <td>0.254917</td>\n",
       "      <td>0.033833</td>\n",
       "    </tr>\n",
       "    <tr>\n",
       "      <th>...</th>\n",
       "      <td>...</td>\n",
       "      <td>...</td>\n",
       "      <td>...</td>\n",
       "    </tr>\n",
       "    <tr>\n",
       "      <th>2012-06-30 09:00:00</th>\n",
       "      <td>0.288000</td>\n",
       "      <td>0.060583</td>\n",
       "      <td>0.007333</td>\n",
       "    </tr>\n",
       "    <tr>\n",
       "      <th>2012-06-30 12:00:00</th>\n",
       "      <td>0.288000</td>\n",
       "      <td>0.061417</td>\n",
       "      <td>0.006333</td>\n",
       "    </tr>\n",
       "    <tr>\n",
       "      <th>2012-06-30 15:00:00</th>\n",
       "      <td>0.287583</td>\n",
       "      <td>0.063083</td>\n",
       "      <td>0.004833</td>\n",
       "    </tr>\n",
       "    <tr>\n",
       "      <th>2012-06-30 18:00:00</th>\n",
       "      <td>0.287000</td>\n",
       "      <td>0.080917</td>\n",
       "      <td>0.028167</td>\n",
       "    </tr>\n",
       "    <tr>\n",
       "      <th>2012-06-30 21:00:00</th>\n",
       "      <td>0.287000</td>\n",
       "      <td>0.087000</td>\n",
       "      <td>0.010000</td>\n",
       "    </tr>\n",
       "  </tbody>\n",
       "</table>\n",
       "<p>2912 rows × 3 columns</p>\n",
       "</div>"
      ],
      "text/plain": [
       "                      L06_347  LS06_347  LS06_348\n",
       "Time                                             \n",
       "2009-04-01 00:00:00  0.270417  0.233500  0.031250\n",
       "2009-04-01 03:00:00  0.249917  0.247083  0.030750\n",
       "2009-04-01 06:00:00  0.278167  0.260083  0.032583\n",
       "2009-04-01 09:00:00  0.324833  0.301583  0.034250\n",
       "2009-04-01 12:00:00  0.287917  0.254917  0.033833\n",
       "...                       ...       ...       ...\n",
       "2012-06-30 09:00:00  0.288000  0.060583  0.007333\n",
       "2012-06-30 12:00:00  0.288000  0.061417  0.006333\n",
       "2012-06-30 15:00:00  0.287583  0.063083  0.004833\n",
       "2012-06-30 18:00:00  0.287000  0.080917  0.028167\n",
       "2012-06-30 21:00:00  0.287000  0.087000  0.010000\n",
       "\n",
       "[2912 rows x 3 columns]"
      ]
     },
     "execution_count": 36,
     "metadata": {},
     "output_type": "execute_result"
    }
   ],
   "source": [
    "data[data.index.month.isin([4, 5, 6])]"
   ]
  },
  {
   "cell_type": "markdown",
   "id": "04d772d9",
   "metadata": {},
   "source": [
    "<div class=\"alert alert-success\">\n",
    "\n",
    "**EXERCISE**\n",
    "\n",
    "Select all 'daytime' data (between 8h and 20h) for all days\n",
    "    \n",
    "</div>"
   ]
  },
  {
   "cell_type": "code",
   "execution_count": 37,
   "id": "760a4912",
   "metadata": {
    "tags": [
     "nbtutor-solution"
    ]
   },
   "outputs": [
    {
     "data": {
      "text/html": [
       "<div>\n",
       "<style scoped>\n",
       "    .dataframe tbody tr th:only-of-type {\n",
       "        vertical-align: middle;\n",
       "    }\n",
       "\n",
       "    .dataframe tbody tr th {\n",
       "        vertical-align: top;\n",
       "    }\n",
       "\n",
       "    .dataframe thead th {\n",
       "        text-align: right;\n",
       "    }\n",
       "</style>\n",
       "<table border=\"1\" class=\"dataframe\">\n",
       "  <thead>\n",
       "    <tr style=\"text-align: right;\">\n",
       "      <th></th>\n",
       "      <th>L06_347</th>\n",
       "      <th>LS06_347</th>\n",
       "      <th>LS06_348</th>\n",
       "    </tr>\n",
       "    <tr>\n",
       "      <th>Time</th>\n",
       "      <th></th>\n",
       "      <th></th>\n",
       "      <th></th>\n",
       "    </tr>\n",
       "  </thead>\n",
       "  <tbody>\n",
       "    <tr>\n",
       "      <th>2009-01-01 09:00:00</th>\n",
       "      <td>0.135750</td>\n",
       "      <td>0.091500</td>\n",
       "      <td>0.016250</td>\n",
       "    </tr>\n",
       "    <tr>\n",
       "      <th>2009-01-01 12:00:00</th>\n",
       "      <td>0.140917</td>\n",
       "      <td>0.096167</td>\n",
       "      <td>0.017000</td>\n",
       "    </tr>\n",
       "    <tr>\n",
       "      <th>2009-01-01 15:00:00</th>\n",
       "      <td>0.099167</td>\n",
       "      <td>0.091667</td>\n",
       "      <td>0.017583</td>\n",
       "    </tr>\n",
       "    <tr>\n",
       "      <th>2009-01-01 18:00:00</th>\n",
       "      <td>0.132667</td>\n",
       "      <td>0.090167</td>\n",
       "      <td>0.016250</td>\n",
       "    </tr>\n",
       "    <tr>\n",
       "      <th>2009-01-02 09:00:00</th>\n",
       "      <td>0.141917</td>\n",
       "      <td>0.097083</td>\n",
       "      <td>0.016417</td>\n",
       "    </tr>\n",
       "    <tr>\n",
       "      <th>...</th>\n",
       "      <td>...</td>\n",
       "      <td>...</td>\n",
       "      <td>...</td>\n",
       "    </tr>\n",
       "    <tr>\n",
       "      <th>2012-12-31 18:00:00</th>\n",
       "      <td>0.617333</td>\n",
       "      <td>0.617333</td>\n",
       "      <td>0.060583</td>\n",
       "    </tr>\n",
       "    <tr>\n",
       "      <th>2013-01-01 09:00:00</th>\n",
       "      <td>2.055000</td>\n",
       "      <td>2.055000</td>\n",
       "      <td>0.175667</td>\n",
       "    </tr>\n",
       "    <tr>\n",
       "      <th>2013-01-01 12:00:00</th>\n",
       "      <td>1.710000</td>\n",
       "      <td>1.710000</td>\n",
       "      <td>0.129583</td>\n",
       "    </tr>\n",
       "    <tr>\n",
       "      <th>2013-01-01 15:00:00</th>\n",
       "      <td>1.420000</td>\n",
       "      <td>1.420000</td>\n",
       "      <td>0.096333</td>\n",
       "    </tr>\n",
       "    <tr>\n",
       "      <th>2013-01-01 18:00:00</th>\n",
       "      <td>1.178583</td>\n",
       "      <td>1.178583</td>\n",
       "      <td>0.083083</td>\n",
       "    </tr>\n",
       "  </tbody>\n",
       "</table>\n",
       "<p>5848 rows × 3 columns</p>\n",
       "</div>"
      ],
      "text/plain": [
       "                      L06_347  LS06_347  LS06_348\n",
       "Time                                             \n",
       "2009-01-01 09:00:00  0.135750  0.091500  0.016250\n",
       "2009-01-01 12:00:00  0.140917  0.096167  0.017000\n",
       "2009-01-01 15:00:00  0.099167  0.091667  0.017583\n",
       "2009-01-01 18:00:00  0.132667  0.090167  0.016250\n",
       "2009-01-02 09:00:00  0.141917  0.097083  0.016417\n",
       "...                       ...       ...       ...\n",
       "2012-12-31 18:00:00  0.617333  0.617333  0.060583\n",
       "2013-01-01 09:00:00  2.055000  2.055000  0.175667\n",
       "2013-01-01 12:00:00  1.710000  1.710000  0.129583\n",
       "2013-01-01 15:00:00  1.420000  1.420000  0.096333\n",
       "2013-01-01 18:00:00  1.178583  1.178583  0.083083\n",
       "\n",
       "[5848 rows x 3 columns]"
      ]
     },
     "execution_count": 37,
     "metadata": {},
     "output_type": "execute_result"
    }
   ],
   "source": [
    "data[(data.index.hour > 8) & (data.index.hour < 20)]"
   ]
  },
  {
   "cell_type": "markdown",
   "id": "a89b10ba",
   "metadata": {},
   "source": [
    "# The power of pandas: `resample`"
   ]
  },
  {
   "cell_type": "markdown",
   "id": "3a91eb59",
   "metadata": {},
   "source": [
    "A very powerfull method is **`resample`: converting the frequency of the time series** (e.g. from hourly to daily data).\n",
    "\n",
    "The time series has a frequency of 1 hour. I want to change this to daily:"
   ]
  },
  {
   "cell_type": "code",
   "execution_count": 38,
   "id": "2cd2d406",
   "metadata": {},
   "outputs": [
    {
     "data": {
      "text/html": [
       "<div>\n",
       "<style scoped>\n",
       "    .dataframe tbody tr th:only-of-type {\n",
       "        vertical-align: middle;\n",
       "    }\n",
       "\n",
       "    .dataframe tbody tr th {\n",
       "        vertical-align: top;\n",
       "    }\n",
       "\n",
       "    .dataframe thead th {\n",
       "        text-align: right;\n",
       "    }\n",
       "</style>\n",
       "<table border=\"1\" class=\"dataframe\">\n",
       "  <thead>\n",
       "    <tr style=\"text-align: right;\">\n",
       "      <th></th>\n",
       "      <th>L06_347</th>\n",
       "      <th>LS06_347</th>\n",
       "      <th>LS06_348</th>\n",
       "    </tr>\n",
       "    <tr>\n",
       "      <th>Time</th>\n",
       "      <th></th>\n",
       "      <th></th>\n",
       "      <th></th>\n",
       "    </tr>\n",
       "  </thead>\n",
       "  <tbody>\n",
       "    <tr>\n",
       "      <th>2009-01-01</th>\n",
       "      <td>0.125010</td>\n",
       "      <td>0.092281</td>\n",
       "      <td>0.016635</td>\n",
       "    </tr>\n",
       "    <tr>\n",
       "      <th>2009-01-02</th>\n",
       "      <td>0.124146</td>\n",
       "      <td>0.095781</td>\n",
       "      <td>0.016406</td>\n",
       "    </tr>\n",
       "    <tr>\n",
       "      <th>2009-01-03</th>\n",
       "      <td>0.113562</td>\n",
       "      <td>0.085542</td>\n",
       "      <td>0.016094</td>\n",
       "    </tr>\n",
       "    <tr>\n",
       "      <th>2009-01-04</th>\n",
       "      <td>0.140198</td>\n",
       "      <td>0.102708</td>\n",
       "      <td>0.017323</td>\n",
       "    </tr>\n",
       "    <tr>\n",
       "      <th>2009-01-05</th>\n",
       "      <td>0.128812</td>\n",
       "      <td>0.104490</td>\n",
       "      <td>0.018167</td>\n",
       "    </tr>\n",
       "  </tbody>\n",
       "</table>\n",
       "</div>"
      ],
      "text/plain": [
       "             L06_347  LS06_347  LS06_348\n",
       "Time                                    \n",
       "2009-01-01  0.125010  0.092281  0.016635\n",
       "2009-01-02  0.124146  0.095781  0.016406\n",
       "2009-01-03  0.113562  0.085542  0.016094\n",
       "2009-01-04  0.140198  0.102708  0.017323\n",
       "2009-01-05  0.128812  0.104490  0.018167"
      ]
     },
     "execution_count": 38,
     "metadata": {},
     "output_type": "execute_result"
    }
   ],
   "source": [
    "data.resample('D').mean().head()"
   ]
  },
  {
   "cell_type": "markdown",
   "id": "c9cc6625",
   "metadata": {},
   "source": [
    "Other mathematical methods can also be specified:"
   ]
  },
  {
   "cell_type": "code",
   "execution_count": 39,
   "id": "f01c960e",
   "metadata": {},
   "outputs": [
    {
     "data": {
      "text/html": [
       "<div>\n",
       "<style scoped>\n",
       "    .dataframe tbody tr th:only-of-type {\n",
       "        vertical-align: middle;\n",
       "    }\n",
       "\n",
       "    .dataframe tbody tr th {\n",
       "        vertical-align: top;\n",
       "    }\n",
       "\n",
       "    .dataframe thead th {\n",
       "        text-align: right;\n",
       "    }\n",
       "</style>\n",
       "<table border=\"1\" class=\"dataframe\">\n",
       "  <thead>\n",
       "    <tr style=\"text-align: right;\">\n",
       "      <th></th>\n",
       "      <th>L06_347</th>\n",
       "      <th>LS06_347</th>\n",
       "      <th>LS06_348</th>\n",
       "    </tr>\n",
       "    <tr>\n",
       "      <th>Time</th>\n",
       "      <th></th>\n",
       "      <th></th>\n",
       "      <th></th>\n",
       "    </tr>\n",
       "  </thead>\n",
       "  <tbody>\n",
       "    <tr>\n",
       "      <th>2009-01-01</th>\n",
       "      <td>0.140917</td>\n",
       "      <td>0.097500</td>\n",
       "      <td>0.017583</td>\n",
       "    </tr>\n",
       "    <tr>\n",
       "      <th>2009-01-02</th>\n",
       "      <td>0.147833</td>\n",
       "      <td>0.101917</td>\n",
       "      <td>0.016833</td>\n",
       "    </tr>\n",
       "    <tr>\n",
       "      <th>2009-01-03</th>\n",
       "      <td>0.135833</td>\n",
       "      <td>0.092500</td>\n",
       "      <td>0.016833</td>\n",
       "    </tr>\n",
       "    <tr>\n",
       "      <th>2009-01-04</th>\n",
       "      <td>0.160417</td>\n",
       "      <td>0.113750</td>\n",
       "      <td>0.018417</td>\n",
       "    </tr>\n",
       "    <tr>\n",
       "      <th>2009-01-05</th>\n",
       "      <td>0.161500</td>\n",
       "      <td>0.115167</td>\n",
       "      <td>0.021583</td>\n",
       "    </tr>\n",
       "  </tbody>\n",
       "</table>\n",
       "</div>"
      ],
      "text/plain": [
       "             L06_347  LS06_347  LS06_348\n",
       "Time                                    \n",
       "2009-01-01  0.140917  0.097500  0.017583\n",
       "2009-01-02  0.147833  0.101917  0.016833\n",
       "2009-01-03  0.135833  0.092500  0.016833\n",
       "2009-01-04  0.160417  0.113750  0.018417\n",
       "2009-01-05  0.161500  0.115167  0.021583"
      ]
     },
     "execution_count": 39,
     "metadata": {},
     "output_type": "execute_result"
    }
   ],
   "source": [
    "data.resample('D').max().head()"
   ]
  },
  {
   "cell_type": "markdown",
   "id": "ac81a045",
   "metadata": {},
   "source": [
    "<div class=\"alert alert-info\">\n",
    "<b>REMEMBER</b>: <br><br>\n",
    "\n",
    "The string to specify the new time frequency: http://pandas.pydata.org/pandas-docs/stable/user_guide/timeseries.html#offset-aliases <br>\n",
    "\n",
    "These strings can also be combined with numbers, eg `'10D'`...\n",
    "\n",
    "</div>"
   ]
  },
  {
   "cell_type": "code",
   "execution_count": 40,
   "id": "c69242c7",
   "metadata": {},
   "outputs": [
    {
     "data": {
      "text/plain": [
       "<Axes: xlabel='Time'>"
      ]
     },
     "execution_count": 40,
     "metadata": {},
     "output_type": "execute_result"
    },
    {
     "data": {
      "image/png": "[encoded data removed]",
      "text/plain": [
       "<Figure size 640x480 with 1 Axes>"
      ]
     },
     "metadata": {},
     "output_type": "display_data"
    },
    {
     "data": {
      "image/png": "[encoded data removed]",
      "text/plain": [
       "<Figure size 640x480 with 1 Axes>"
      ]
     },
     "metadata": {},
     "output_type": "display_data"
    }
   ],
   "source": [
    "data.resample('ME').mean().plot() # 10D, MS"
   ]
  },
  {
   "cell_type": "markdown",
   "id": "ffdcd329",
   "metadata": {},
   "source": [
    "<div class=\"alert alert-success\">\n",
    "\n",
    "**EXERCISE**\n",
    "\n",
    "Plot the monthly standard deviation of the columns. Use the last day of each month to represent the month.\n",
    "\n",
    "<details><summary>Hints</summary>\n",
    "\n",
    "* Pandas has both a [`ME` and `MS` month (offset)](https://pandas.pydata.org/pandas-docs/stable/user_guide/timeseries.html#dateoffset-objects) to represent the month by the 'calendar month end' (`ME`) or 'calendar month start' (`MS`) respectively.\n",
    "\n",
    "</details>\n",
    "    \n",
    "</div>"
   ]
  },
  {
   "cell_type": "code",
   "execution_count": 41,
   "id": "037f5b47",
   "metadata": {
    "tags": [
     "nbtutor-solution"
    ]
   },
   "outputs": [
    {
     "data": {
      "text/plain": [
       "<Axes: xlabel='Time'>"
      ]
     },
     "execution_count": 41,
     "metadata": {},
     "output_type": "execute_result"
    },
    {
     "data": {
      "image/png": "[encoded data removed]",
      "text/plain": [
       "<Figure size 640x480 with 1 Axes>"
      ]
     },
     "metadata": {},
     "output_type": "display_data"
    }
   ],
   "source": [
    "data.resample('ME').std().plot() # 'A'"
   ]
  },
  {
   "cell_type": "markdown",
   "id": "bfa2c82c",
   "metadata": {},
   "source": [
    "<div class=\"alert alert-success\">\n",
    "\n",
    "**EXERCISE**\n",
    "\n",
    "Plot the monthly mean and median values for the years 2011-2012 for 'L06_347'. Use the last day of each month to represent the month.\n",
    "\n",
    "<details><summary>Hints</summary>\n",
    "\n",
    "* Did you know <a href=\"https://pandas.pydata.org/pandas-docs/stable/reference/api/pandas.DataFrame.agg.html\"><code>agg</code></a> to derive multiple statistics at the same time?\n",
    "\n",
    "</details>\n",
    "\n",
    "</div>"
   ]
  },
  {
   "cell_type": "code",
   "execution_count": 42,
   "id": "edf270bf",
   "metadata": {
    "tags": [
     "nbtutor-solution"
    ]
   },
   "outputs": [
    {
     "data": {
      "text/plain": [
       "<Axes: xlabel='Time'>"
      ]
     },
     "execution_count": 42,
     "metadata": {},
     "output_type": "execute_result"
    },
    {
     "data": {
      "image/png": "[encoded data removed]",
      "text/plain": [
       "<Figure size 640x480 with 1 Axes>"
      ]
     },
     "metadata": {},
     "output_type": "display_data"
    }
   ],
   "source": [
    "subset = data['2011':'2012']['L06_347']\n",
    "subset.resample('ME').agg(['mean', 'median']).plot()"
   ]
  },
  {
   "cell_type": "markdown",
   "id": "9728d8dc",
   "metadata": {},
   "source": [
    "<div class=\"alert alert-success\">\n",
    "\n",
    "**EXERCISE**\n",
    "\n",
    "Plot the monthly mininum and maximum daily average value of the 'LS06_348' column. Use the first day of each month to represent the month."
   ]
  },
  {
   "cell_type": "code",
   "execution_count": 43,
   "id": "c0557860",
   "metadata": {
    "tags": [
     "nbtutor-solution"
    ]
   },
   "outputs": [],
   "source": [
    "daily = data['LS06_348'].resample('D').mean() # daily averages calculated"
   ]
  },
  {
   "cell_type": "code",
   "execution_count": 44,
   "id": "20126280",
   "metadata": {
    "tags": [
     "nbtutor-solution"
    ]
   },
   "outputs": [
    {
     "data": {
      "text/plain": [
       "<Axes: xlabel='Time'>"
      ]
     },
     "execution_count": 44,
     "metadata": {},
     "output_type": "execute_result"
    },
    {
     "data": {
      "image/png": "[encoded data removed]",
      "text/plain": [
       "<Figure size 640x480 with 1 Axes>"
      ]
     },
     "metadata": {},
     "output_type": "display_data"
    }
   ],
   "source": [
    "daily.resample('MS').agg(['min', 'max']).plot() # monthly minimum and maximum values of these daily averages"
   ]
  },
  {
   "cell_type": "markdown",
   "id": "131791a8",
   "metadata": {},
   "source": [
    "<div class=\"alert alert-success\">\n",
    "    \n",
    "**EXERCISE**\n",
    "    \n",
    "Make a bar plot of the mean of the stations in year of 2013\n",
    "\n",
    "<details><summary>Hints</summary>\n",
    "\n",
    "* If you can directly slice and aggregate the data, you do not have to use resample.\n",
    "\n",
    "</details>\n",
    "\n",
    "</div>"
   ]
  },
  {
   "cell_type": "code",
   "execution_count": 45,
   "id": "e0a18e44",
   "metadata": {
    "tags": [
     "nbtutor-solution"
    ]
   },
   "outputs": [
    {
     "data": {
      "text/plain": [
       "<Axes: >"
      ]
     },
     "execution_count": 45,
     "metadata": {},
     "output_type": "execute_result"
    },
    {
     "data": {
      "image/png": "[encoded data removed]",
      "text/plain": [
       "<Figure size 640x480 with 1 Axes>"
      ]
     },
     "metadata": {},
     "output_type": "display_data"
    }
   ],
   "source": [
    "data['2013':'2013'].mean().plot(kind='barh')"
   ]
  },
  {
   "cell_type": "code",
   "execution_count": null,
   "id": "d6b2206c-f667-4de9-9abd-9f0280a983ab",
   "metadata": {},
   "outputs": [],
   "source": []
  }
 ],
 "metadata": {
  "jupytext": {
   "formats": "ipynb,md:myst"
  },
  "kernelspec": {
   "display_name": "Python 3 (ipykernel)",
   "language": "python",
   "name": "python3"
  },
  "language_info": {
   "codemirror_mode": {
    "name": "ipython",
    "version": 3
   },
   "file_extension": ".py",
   "mimetype": "text/x-python",
   "name": "python",
   "nbconvert_exporter": "python",
   "pygments_lexer": "ipython3",
   "version": "3.12.8"
  },
  "widgets": {
   "application/vnd.jupyter.widget-state+json": {
    "state": {
     "bb9585b095264ad3a00cc7388d30b86b": {
      "model_module": "@jupyter-widgets/base",
      "model_module_version": "1.2.0",
      "model_name": "LayoutModel",
      "state": {}
     },
     "d9bdb65c08184bbe8f10e619f7de1905": {
      "model_module": "jupyter-matplotlib",
      "model_module_version": "^0.10.5",
      "model_name": "ToolbarModel",
      "state": {
       "collapsed": true,
       "layout": "IPY_MODEL_bb9585b095264ad3a00cc7388d30b86b",
       "orientation": "vertical",
       "toolitems": [
        [
         "Home",
         "Reset original view",
         "home",
         "home"
        ],
        [
         "Back",
         "Back to previous view",
         "arrow-left",
         "back"
        ],
        [
         "Forward",
         "Forward to next view",
         "arrow-right",
         "forward"
        ],
        [
         "Pan",
         "Left button pans, Right button zooms\nx/y fixes axis, CTRL fixes aspect",
         "arrows",
         "pan"
        ],
        [
         "Zoom",
         "Zoom to rectangle\nx/y fixes axis",
         "square-o",
         "zoom"
        ],
        [
         "Download",
         "Download plot",
         "floppy-o",
         "save_figure"
        ]
       ]
      }
     },
     "db1275c7e2c3491f8a74c49ab6b41e69": {
      "model_module": "@jupyter-widgets/base",
      "model_module_version": "1.2.0",
      "model_name": "LayoutModel",
      "state": {}
     }
    },
    "version_major": 2,
    "version_minor": 0
   }
  }
 },
 "nbformat": 4,
 "nbformat_minor": 5
}
