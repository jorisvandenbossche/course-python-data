{
 "cells": [
  {
   "cell_type": "markdown",
   "id": "955085d7",
   "metadata": {
    "tags": []
   },
   "source": [
    "<p><font size=\"6\"><b>04 - Pandas: Working with time series data</b></font></p>\n",
    "\n",
    "> *© 2024, Joris Van den Bossche and Stijn Van Hoey  (<mailto:jorisvandenbossche@gmail.com>, <mailto:stijnvanhoey@gmail.com>). Licensed under [CC BY 4.0 Creative Commons](http://creativecommons.org/licenses/by/4.0/)*\n",
    "\n",
    "---"
   ]
  },
  {
   "cell_type": "code",
   "execution_count": 1,
   "id": "b0acf1a9",
   "metadata": {
    "tags": []
   },
   "outputs": [],
   "source": [
    "import pandas as pd\n",
    "import numpy as np\n",
    "import matplotlib.pyplot as plt\n",
    "\n",
    "plt.style.use('ggplot')"
   ]
  },
  {
   "cell_type": "markdown",
   "id": "8ce33166",
   "metadata": {
    "tags": []
   },
   "source": [
    "# Dates and times in pandas"
   ]
  },
  {
   "cell_type": "markdown",
   "id": "b3a627c0-e037-4fa9-8b0d-305e766d70ed",
   "metadata": {},
   "source": [
    "Pandas has its own date and time objects, which are compatible with the [standard `datetime` objects](https://docs.python.org/3/library/datetime.html), but provide some more functionality to work with.  \n",
    "\n",
    "Consider the following datetime information, represented as strings:"
   ]
  },
  {
   "cell_type": "code",
   "execution_count": 4,
   "id": "9d29929b-81c8-4127-94fb-0611f6e905dc",
   "metadata": {
    "tags": []
   },
   "outputs": [],
   "source": [
    "s = pd.Series(['2016-12-09 10:00:00', '2016-12-09 11:00:00', '2016-12-09 12:00:00'])"
   ]
  },
  {
   "cell_type": "code",
   "execution_count": 5,
   "id": "8ef75ed6-3c90-4930-a72d-adbbbc5edb5f",
   "metadata": {
    "tags": []
   },
   "outputs": [
    {
     "data": {
      "text/plain": [
       "0    2016-12-09 10:00:00\n",
       "1    2016-12-09 11:00:00\n",
       "2    2016-12-09 12:00:00\n",
       "dtype: object"
      ]
     },
     "execution_count": 5,
     "metadata": {},
     "output_type": "execute_result"
    }
   ],
   "source": [
    "s"
   ]
  },
  {
   "cell_type": "markdown",
   "id": "05f4960d-f827-4172-8754-74c29c813b11",
   "metadata": {},
   "source": [
    "The `to_datetime` function can be used to convert string formatted dates into Pandas __Timestamp__ objects:"
   ]
  },
  {
   "cell_type": "code",
   "execution_count": 6,
   "id": "b0232176-f731-4353-b532-26acac820a4b",
   "metadata": {
    "tags": []
   },
   "outputs": [
    {
     "data": {
      "text/plain": [
       "0   2016-12-09 10:00:00\n",
       "1   2016-12-09 11:00:00\n",
       "2   2016-12-09 12:00:00\n",
       "dtype: datetime64[ns]"
      ]
     },
     "execution_count": 6,
     "metadata": {},
     "output_type": "execute_result"
    }
   ],
   "source": [
    "ts = pd.to_datetime(s)\n",
    "ts"
   ]
  },
  {
   "cell_type": "markdown",
   "id": "d8ce1098-4f81-41e8-a99c-f4283045e4d6",
   "metadata": {},
   "source": [
    "Notice the data type of this series has changed: the `datetime64[ns]` dtype. This indicates that we have a series of actual timestamp values."
   ]
  },
  {
   "cell_type": "markdown",
   "id": "af45b99c-68c8-44ed-8f11-5ba8fa151ac3",
   "metadata": {},
   "source": [
    "Like with standard Python [`datetime.datetime` objects](https://docs.python.org/3/library/datetime.html#datetime.datetime), there are several useful attributes available on the pandas `Timestamp`. And those are also available on a Series with datetime data using the **`.dt`** accessor. For example, we can get the month, hour, day of the week,... (experiment with tab completion!) for each of the timestamps:"
   ]
  },
  {
   "cell_type": "code",
   "execution_count": 7,
   "id": "d5bc767b-7c8f-4b2d-9b37-c7a48205500f",
   "metadata": {
    "tags": []
   },
   "outputs": [
    {
     "data": {
      "text/plain": [
       "0    12\n",
       "1    12\n",
       "2    12\n",
       "dtype: int32"
      ]
     },
     "execution_count": 7,
     "metadata": {},
     "output_type": "execute_result"
    }
   ],
   "source": [
    "ts.dt.month"
   ]
  },
  {
   "cell_type": "code",
   "execution_count": 8,
   "id": "207db64f-ed66-4cdb-88ce-20cde3c352a7",
   "metadata": {
    "tags": []
   },
   "outputs": [
    {
     "data": {
      "text/plain": [
       "0    10\n",
       "1    11\n",
       "2    12\n",
       "dtype: int32"
      ]
     },
     "execution_count": 8,
     "metadata": {},
     "output_type": "execute_result"
    }
   ],
   "source": [
    "ts.dt.hour"
   ]
  },
  {
   "cell_type": "code",
   "execution_count": 9,
   "id": "e3d1db7e-0465-4dbd-b121-a78e2b773034",
   "metadata": {
    "tags": []
   },
   "outputs": [
    {
     "data": {
      "text/plain": [
       "0    4\n",
       "1    4\n",
       "2    4\n",
       "dtype: int32"
      ]
     },
     "execution_count": 9,
     "metadata": {},
     "output_type": "execute_result"
    }
   ],
   "source": [
    "ts.dt.dayofweek"
   ]
  },
  {
   "cell_type": "markdown",
   "id": "9f71351f-1aa5-4d56-a1bd-c31aa6c647ac",
   "metadata": {},
   "source": [
    "Each of the individual elements in the Series is a pandas `Timestamp` object:"
   ]
  },
  {
   "cell_type": "code",
   "execution_count": 10,
   "id": "9bc200f1-a66f-4a5a-a6f2-69596bfd9f20",
   "metadata": {
    "tags": []
   },
   "outputs": [
    {
     "data": {
      "text/plain": [
       "Timestamp('2016-12-09 10:00:00')"
      ]
     },
     "execution_count": 10,
     "metadata": {},
     "output_type": "execute_result"
    }
   ],
   "source": [
    "ts[0]"
   ]
  },
  {
   "cell_type": "markdown",
   "id": "cf25127f-1250-4695-a976-df99344d5f32",
   "metadata": {
    "tags": []
   },
   "source": [
    "The `Timestamp` object can also be constructed from a string and provides access to the Timestamp attributes:"
   ]
  },
  {
   "cell_type": "code",
   "execution_count": 11,
   "id": "5443c4c1-a8a7-4d3c-a1d5-c49012576cf9",
   "metadata": {
    "tags": []
   },
   "outputs": [],
   "source": [
    "ts_singe = pd.Timestamp('2016-12-21 23:02')"
   ]
  },
  {
   "cell_type": "code",
   "execution_count": 12,
   "id": "5d09cf94-4088-43cf-a60f-2c1b3eda8a25",
   "metadata": {
    "tags": []
   },
   "outputs": [
    {
     "data": {
      "text/plain": [
       "(12, 23, 2)"
      ]
     },
     "execution_count": 12,
     "metadata": {},
     "output_type": "execute_result"
    }
   ],
   "source": [
    "ts_singe.month, ts_singe.hour, ts_singe.dayofweek"
   ]
  },
  {
   "cell_type": "markdown",
   "id": "bce7e220-e0a0-4a82-8787-f39e54638339",
   "metadata": {},
   "source": [
    "There is also a `Timedelta` type, which can e.g. be used to add intervals of time:"
   ]
  },
  {
   "cell_type": "code",
   "execution_count": 13,
   "id": "91e79d75-d8ec-41a5-9017-fa77c1d62521",
   "metadata": {
    "tags": []
   },
   "outputs": [
    {
     "data": {
      "text/plain": [
       "0   2016-12-14 10:00:00\n",
       "1   2016-12-14 11:00:00\n",
       "2   2016-12-14 12:00:00\n",
       "dtype: datetime64[ns]"
      ]
     },
     "execution_count": 13,
     "metadata": {},
     "output_type": "execute_result"
    }
   ],
   "source": [
    "ts + pd.Timedelta('5 days')"
   ]
  },
  {
   "cell_type": "markdown",
   "id": "81b32ea9-07d6-4b01-bdbe-870514f364d6",
   "metadata": {},
   "source": [
    "To quickly construct some regular time series data, the [``pd.date_range``](http://pandas.pydata.org/pandas-docs/stable/generated/pandas.date_range.html) function comes in handy:"
   ]
  },
  {
   "cell_type": "code",
   "execution_count": 17,
   "id": "48764319-ee42-4cd6-b780-173d005a5d97",
   "metadata": {
    "tags": []
   },
   "outputs": [
    {
     "data": {
      "text/plain": [
       "0   2016-01-01 00:00:00\n",
       "1   2016-01-01 03:00:00\n",
       "2   2016-01-01 06:00:00\n",
       "3   2016-01-01 09:00:00\n",
       "4   2016-01-01 12:00:00\n",
       "5   2016-01-01 15:00:00\n",
       "6   2016-01-01 18:00:00\n",
       "7   2016-01-01 21:00:00\n",
       "8   2016-01-02 00:00:00\n",
       "9   2016-01-02 03:00:00\n",
       "dtype: datetime64[ns]"
      ]
     },
     "execution_count": 17,
     "metadata": {},
     "output_type": "execute_result"
    }
   ],
   "source": [
    "pd.Series(pd.date_range(start=\"2016-01-01\", periods=10, freq='3h'))"
   ]
  },
  {
   "cell_type": "markdown",
   "id": "b2c29c0c",
   "metadata": {
    "tags": []
   },
   "source": [
    "## Parsing datetime strings"
   ]
  },
  {
   "cell_type": "markdown",
   "id": "c351c421",
   "metadata": {},
   "source": [
    "![](http://imgs.xkcd.com/comics/iso_8601.png)"
   ]
  },
  {
   "cell_type": "markdown",
   "id": "67f7a6e1",
   "metadata": {},
   "source": [
    "Unfortunately, when working with real world data, you encounter many different `datetime` formats. Most of the time when you have to deal with them, they come in text format, e.g. from a `CSV` file. To work with those data in Pandas, we first have to *parse* the strings to actual `Timestamp` objects."
   ]
  },
  {
   "cell_type": "markdown",
   "id": "de509402",
   "metadata": {},
   "source": [
    "<div class=\"alert alert-info\">\n",
    "<b>REMEMBER</b>: <br><br>\n",
    "\n",
    "To convert different kind of string formatted dates to Timestamp objects: use the `pandas.to_datetime` function \n",
    "\n",
    "</div>"
   ]
  },
  {
   "cell_type": "code",
   "execution_count": 18,
   "id": "a473dc6a",
   "metadata": {
    "tags": []
   },
   "outputs": [
    {
     "data": {
      "text/plain": [
       "Timestamp('2016-12-09 00:00:00')"
      ]
     },
     "execution_count": 18,
     "metadata": {},
     "output_type": "execute_result"
    }
   ],
   "source": [
    "pd.to_datetime(\"2016-12-09\")"
   ]
  },
  {
   "cell_type": "code",
   "execution_count": 19,
   "id": "e060083a",
   "metadata": {
    "tags": []
   },
   "outputs": [
    {
     "data": {
      "text/plain": [
       "Timestamp('2016-09-12 00:00:00')"
      ]
     },
     "execution_count": 19,
     "metadata": {},
     "output_type": "execute_result"
    }
   ],
   "source": [
    "pd.to_datetime(\"09/12/2016\")"
   ]
  },
  {
   "cell_type": "code",
   "execution_count": 20,
   "id": "26521674",
   "metadata": {
    "tags": []
   },
   "outputs": [
    {
     "data": {
      "text/plain": [
       "Timestamp('2016-12-09 00:00:00')"
      ]
     },
     "execution_count": 20,
     "metadata": {},
     "output_type": "execute_result"
    }
   ],
   "source": [
    "pd.to_datetime(\"09/12/2016\", format=\"%d/%m/%Y\")"
   ]
  },
  {
   "cell_type": "markdown",
   "id": "40e81eb2",
   "metadata": {},
   "source": [
    "A detailed overview of how to specify the `format` string, see the table in the python documentation: https://docs.python.org/3/library/datetime.html#strftime-and-strptime-behavior"
   ]
  },
  {
   "cell_type": "markdown",
   "id": "2ad83144",
   "metadata": {
    "tags": []
   },
   "source": [
    "# Time series data: `Timestamp` in the index"
   ]
  },
  {
   "cell_type": "markdown",
   "id": "a98807e0",
   "metadata": {
    "tags": []
   },
   "source": [
    "## River discharge example data"
   ]
  },
  {
   "cell_type": "markdown",
   "id": "18e7295e",
   "metadata": {},
   "source": [
    "For the following demonstration of the time series functionality, we use a sample of discharge data of the Maarkebeek (Flanders) with 3 hour averaged values, derived from the [Waterinfo website](https://www.waterinfo.be/)."
   ]
  },
  {
   "cell_type": "code",
   "execution_count": 21,
   "id": "d5d0a33c",
   "metadata": {
    "tags": []
   },
   "outputs": [],
   "source": [
    "data = pd.read_csv(\"data/vmm_flowdata.csv\")"
   ]
  },
  {
   "cell_type": "code",
   "execution_count": 22,
   "id": "ebc832d8",
   "metadata": {
    "tags": []
   },
   "outputs": [
    {
     "data": {
      "text/html": [
       "<div>\n",
       "<style scoped>\n",
       "    .dataframe tbody tr th:only-of-type {\n",
       "        vertical-align: middle;\n",
       "    }\n",
       "\n",
       "    .dataframe tbody tr th {\n",
       "        vertical-align: top;\n",
       "    }\n",
       "\n",
       "    .dataframe thead th {\n",
       "        text-align: right;\n",
       "    }\n",
       "</style>\n",
       "<table border=\"1\" class=\"dataframe\">\n",
       "  <thead>\n",
       "    <tr style=\"text-align: right;\">\n",
       "      <th></th>\n",
       "      <th>Time</th>\n",
       "      <th>L06_347</th>\n",
       "      <th>LS06_347</th>\n",
       "      <th>LS06_348</th>\n",
       "    </tr>\n",
       "  </thead>\n",
       "  <tbody>\n",
       "    <tr>\n",
       "      <th>0</th>\n",
       "      <td>2009-01-01 00:00:00</td>\n",
       "      <td>0.137417</td>\n",
       "      <td>0.097500</td>\n",
       "      <td>0.016833</td>\n",
       "    </tr>\n",
       "    <tr>\n",
       "      <th>1</th>\n",
       "      <td>2009-01-01 03:00:00</td>\n",
       "      <td>0.131250</td>\n",
       "      <td>0.088833</td>\n",
       "      <td>0.016417</td>\n",
       "    </tr>\n",
       "    <tr>\n",
       "      <th>2</th>\n",
       "      <td>2009-01-01 06:00:00</td>\n",
       "      <td>0.113500</td>\n",
       "      <td>0.091250</td>\n",
       "      <td>0.016750</td>\n",
       "    </tr>\n",
       "    <tr>\n",
       "      <th>3</th>\n",
       "      <td>2009-01-01 09:00:00</td>\n",
       "      <td>0.135750</td>\n",
       "      <td>0.091500</td>\n",
       "      <td>0.016250</td>\n",
       "    </tr>\n",
       "    <tr>\n",
       "      <th>4</th>\n",
       "      <td>2009-01-01 12:00:00</td>\n",
       "      <td>0.140917</td>\n",
       "      <td>0.096167</td>\n",
       "      <td>0.017000</td>\n",
       "    </tr>\n",
       "  </tbody>\n",
       "</table>\n",
       "</div>"
      ],
      "text/plain": [
       "                  Time   L06_347  LS06_347  LS06_348\n",
       "0  2009-01-01 00:00:00  0.137417  0.097500  0.016833\n",
       "1  2009-01-01 03:00:00  0.131250  0.088833  0.016417\n",
       "2  2009-01-01 06:00:00  0.113500  0.091250  0.016750\n",
       "3  2009-01-01 09:00:00  0.135750  0.091500  0.016250\n",
       "4  2009-01-01 12:00:00  0.140917  0.096167  0.017000"
      ]
     },
     "execution_count": 22,
     "metadata": {},
     "output_type": "execute_result"
    }
   ],
   "source": [
    "data.head()"
   ]
  },
  {
   "cell_type": "markdown",
   "id": "c60057bb",
   "metadata": {},
   "source": [
    "We already know how to parse a date column with Pandas:"
   ]
  },
  {
   "cell_type": "code",
   "execution_count": 23,
   "id": "1828d5e9",
   "metadata": {
    "tags": []
   },
   "outputs": [],
   "source": [
    "data['Time'] = pd.to_datetime(data['Time'])"
   ]
  },
  {
   "cell_type": "markdown",
   "id": "65f3c178",
   "metadata": {},
   "source": [
    "With `set_index('datetime')`, we set the column with datetime values as the index, which can be done by both `Series` and `DataFrame`."
   ]
  },
  {
   "cell_type": "code",
   "execution_count": 24,
   "id": "c48b7766",
   "metadata": {
    "tags": []
   },
   "outputs": [],
   "source": [
    "data = data.set_index(\"Time\")"
   ]
  },
  {
   "cell_type": "code",
   "execution_count": 25,
   "id": "da42adae",
   "metadata": {
    "tags": []
   },
   "outputs": [
    {
     "data": {
      "text/html": [
       "<div>\n",
       "<style scoped>\n",
       "    .dataframe tbody tr th:only-of-type {\n",
       "        vertical-align: middle;\n",
       "    }\n",
       "\n",
       "    .dataframe tbody tr th {\n",
       "        vertical-align: top;\n",
       "    }\n",
       "\n",
       "    .dataframe thead th {\n",
       "        text-align: right;\n",
       "    }\n",
       "</style>\n",
       "<table border=\"1\" class=\"dataframe\">\n",
       "  <thead>\n",
       "    <tr style=\"text-align: right;\">\n",
       "      <th></th>\n",
       "      <th>L06_347</th>\n",
       "      <th>LS06_347</th>\n",
       "      <th>LS06_348</th>\n",
       "    </tr>\n",
       "    <tr>\n",
       "      <th>Time</th>\n",
       "      <th></th>\n",
       "      <th></th>\n",
       "      <th></th>\n",
       "    </tr>\n",
       "  </thead>\n",
       "  <tbody>\n",
       "    <tr>\n",
       "      <th>2009-01-01 00:00:00</th>\n",
       "      <td>0.137417</td>\n",
       "      <td>0.097500</td>\n",
       "      <td>0.016833</td>\n",
       "    </tr>\n",
       "    <tr>\n",
       "      <th>2009-01-01 03:00:00</th>\n",
       "      <td>0.131250</td>\n",
       "      <td>0.088833</td>\n",
       "      <td>0.016417</td>\n",
       "    </tr>\n",
       "    <tr>\n",
       "      <th>2009-01-01 06:00:00</th>\n",
       "      <td>0.113500</td>\n",
       "      <td>0.091250</td>\n",
       "      <td>0.016750</td>\n",
       "    </tr>\n",
       "    <tr>\n",
       "      <th>2009-01-01 09:00:00</th>\n",
       "      <td>0.135750</td>\n",
       "      <td>0.091500</td>\n",
       "      <td>0.016250</td>\n",
       "    </tr>\n",
       "    <tr>\n",
       "      <th>2009-01-01 12:00:00</th>\n",
       "      <td>0.140917</td>\n",
       "      <td>0.096167</td>\n",
       "      <td>0.017000</td>\n",
       "    </tr>\n",
       "    <tr>\n",
       "      <th>...</th>\n",
       "      <td>...</td>\n",
       "      <td>...</td>\n",
       "      <td>...</td>\n",
       "    </tr>\n",
       "    <tr>\n",
       "      <th>2013-01-01 12:00:00</th>\n",
       "      <td>1.710000</td>\n",
       "      <td>1.710000</td>\n",
       "      <td>0.129583</td>\n",
       "    </tr>\n",
       "    <tr>\n",
       "      <th>2013-01-01 15:00:00</th>\n",
       "      <td>1.420000</td>\n",
       "      <td>1.420000</td>\n",
       "      <td>0.096333</td>\n",
       "    </tr>\n",
       "    <tr>\n",
       "      <th>2013-01-01 18:00:00</th>\n",
       "      <td>1.178583</td>\n",
       "      <td>1.178583</td>\n",
       "      <td>0.083083</td>\n",
       "    </tr>\n",
       "    <tr>\n",
       "      <th>2013-01-01 21:00:00</th>\n",
       "      <td>0.898250</td>\n",
       "      <td>0.898250</td>\n",
       "      <td>0.077167</td>\n",
       "    </tr>\n",
       "    <tr>\n",
       "      <th>2013-01-02 00:00:00</th>\n",
       "      <td>0.860000</td>\n",
       "      <td>0.860000</td>\n",
       "      <td>0.075000</td>\n",
       "    </tr>\n",
       "  </tbody>\n",
       "</table>\n",
       "<p>11697 rows × 3 columns</p>\n",
       "</div>"
      ],
      "text/plain": [
       "                      L06_347  LS06_347  LS06_348\n",
       "Time                                             \n",
       "2009-01-01 00:00:00  0.137417  0.097500  0.016833\n",
       "2009-01-01 03:00:00  0.131250  0.088833  0.016417\n",
       "2009-01-01 06:00:00  0.113500  0.091250  0.016750\n",
       "2009-01-01 09:00:00  0.135750  0.091500  0.016250\n",
       "2009-01-01 12:00:00  0.140917  0.096167  0.017000\n",
       "...                       ...       ...       ...\n",
       "2013-01-01 12:00:00  1.710000  1.710000  0.129583\n",
       "2013-01-01 15:00:00  1.420000  1.420000  0.096333\n",
       "2013-01-01 18:00:00  1.178583  1.178583  0.083083\n",
       "2013-01-01 21:00:00  0.898250  0.898250  0.077167\n",
       "2013-01-02 00:00:00  0.860000  0.860000  0.075000\n",
       "\n",
       "[11697 rows x 3 columns]"
      ]
     },
     "execution_count": 25,
     "metadata": {},
     "output_type": "execute_result"
    }
   ],
   "source": [
    "data"
   ]
  },
  {
   "cell_type": "markdown",
   "id": "658600da",
   "metadata": {},
   "source": [
    "The steps above are provided as built-in functionality of `read_csv`:"
   ]
  },
  {
   "cell_type": "code",
   "execution_count": 26,
   "id": "abc7d903",
   "metadata": {
    "tags": []
   },
   "outputs": [],
   "source": [
    "data = pd.read_csv(\"data/vmm_flowdata.csv\", index_col=0, parse_dates=True)"
   ]
  },
  {
   "cell_type": "markdown",
   "id": "431c99fb",
   "metadata": {},
   "source": [
    "<div class=\"alert alert-info\">\n",
    "<b>REMEMBER</b>: <br><br>\n",
    "\n",
    "`pd.read_csv` provides a lot of built-in functionality to support this kind of transactions when reading in a file! Check the help of the read_csv function...\n",
    "\n",
    "</div>"
   ]
  },
  {
   "cell_type": "markdown",
   "id": "7d844940",
   "metadata": {
    "tags": []
   },
   "source": [
    "## The DatetimeIndex"
   ]
  },
  {
   "cell_type": "markdown",
   "id": "2b5d69e1",
   "metadata": {},
   "source": [
    "When we ensure the DataFrame has a `DatetimeIndex`, time-series related functionality becomes available:"
   ]
  },
  {
   "cell_type": "code",
   "execution_count": 27,
   "id": "58bb0e42",
   "metadata": {
    "tags": []
   },
   "outputs": [
    {
     "data": {
      "text/plain": [
       "DatetimeIndex(['2009-01-01 00:00:00', '2009-01-01 03:00:00',\n",
       "               '2009-01-01 06:00:00', '2009-01-01 09:00:00',\n",
       "               '2009-01-01 12:00:00', '2009-01-01 15:00:00',\n",
       "               '2009-01-01 18:00:00', '2009-01-01 21:00:00',\n",
       "               '2009-01-02 00:00:00', '2009-01-02 03:00:00',\n",
       "               ...\n",
       "               '2012-12-31 21:00:00', '2013-01-01 00:00:00',\n",
       "               '2013-01-01 03:00:00', '2013-01-01 06:00:00',\n",
       "               '2013-01-01 09:00:00', '2013-01-01 12:00:00',\n",
       "               '2013-01-01 15:00:00', '2013-01-01 18:00:00',\n",
       "               '2013-01-01 21:00:00', '2013-01-02 00:00:00'],\n",
       "              dtype='datetime64[ns]', name='Time', length=11697, freq=None)"
      ]
     },
     "execution_count": 27,
     "metadata": {},
     "output_type": "execute_result"
    }
   ],
   "source": [
    "data.index"
   ]
  },
  {
   "cell_type": "markdown",
   "id": "7a10a645",
   "metadata": {},
   "source": [
    "Similar to a Series with datetime data, there are some attributes of the timestamp values available:"
   ]
  },
  {
   "cell_type": "code",
   "execution_count": 28,
   "id": "c0aad4d9",
   "metadata": {
    "tags": []
   },
   "outputs": [
    {
     "data": {
      "text/plain": [
       "Index([ 1,  1,  1,  1,  1,  1,  1,  1,  2,  2,\n",
       "       ...\n",
       "       31,  1,  1,  1,  1,  1,  1,  1,  1,  2],\n",
       "      dtype='int32', name='Time', length=11697)"
      ]
     },
     "execution_count": 28,
     "metadata": {},
     "output_type": "execute_result"
    }
   ],
   "source": [
    "data.index.day"
   ]
  },
  {
   "cell_type": "code",
   "execution_count": 29,
   "id": "dc2a17b9",
   "metadata": {
    "tags": []
   },
   "outputs": [
    {
     "data": {
      "text/plain": [
       "Index([  1,   1,   1,   1,   1,   1,   1,   1,   2,   2,\n",
       "       ...\n",
       "       366,   1,   1,   1,   1,   1,   1,   1,   1,   2],\n",
       "      dtype='int32', name='Time', length=11697)"
      ]
     },
     "execution_count": 29,
     "metadata": {},
     "output_type": "execute_result"
    }
   ],
   "source": [
    "data.index.dayofyear"
   ]
  },
  {
   "cell_type": "code",
   "execution_count": 30,
   "id": "73a28eda",
   "metadata": {
    "tags": []
   },
   "outputs": [
    {
     "data": {
      "text/plain": [
       "Index([2009, 2009, 2009, 2009, 2009, 2009, 2009, 2009, 2009, 2009,\n",
       "       ...\n",
       "       2012, 2013, 2013, 2013, 2013, 2013, 2013, 2013, 2013, 2013],\n",
       "      dtype='int32', name='Time', length=11697)"
      ]
     },
     "execution_count": 30,
     "metadata": {},
     "output_type": "execute_result"
    }
   ],
   "source": [
    "data.index.year"
   ]
  },
  {
   "cell_type": "markdown",
   "id": "56bbe1a2",
   "metadata": {},
   "source": [
    "The `plot` method will also adapt its labels (when you zoom in, you can see the different levels of detail of the datetime labels):"
   ]
  },
  {
   "cell_type": "code",
   "execution_count": 31,
   "id": "4b83c216",
   "metadata": {
    "tags": []
   },
   "outputs": [],
   "source": [
    "%matplotlib widget"
   ]
  },
  {
   "cell_type": "code",
   "execution_count": 32,
   "id": "2521063f",
   "metadata": {
    "tags": []
   },
   "outputs": [
    {
     "data": {
      "text/plain": [
       "<Axes: xlabel='Time'>"
      ]
     },
     "execution_count": 32,
     "metadata": {},
     "output_type": "execute_result"
    },
    {
     "data": {
      "application/vnd.jupyter.widget-view+json": {
       "model_id": "cb08fdbae6024ef794858eb61b8ef3d4",
       "version_major": 2,
       "version_minor": 0
      },
      "image/png": "[encoded data removed]",
      "text/html": [
       "\n",
       "            <div style=\"display: inline-block;\">\n",
       "                <div class=\"jupyter-widgets widget-label\" style=\"text-align: center;\">\n",
       "                    Figure\n",
       "                </div>\n",
       "                <img src='data:image/png;base64,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' width=640.0/>\n",
       "            </div>\n",
       "        "
      ],
      "text/plain": [
       "Canvas(toolbar=Toolbar(toolitems=[('Home', 'Reset original view', 'home', 'home'), ('Back', 'Back to previous …"
      ]
     },
     "metadata": {},
     "output_type": "display_data"
    }
   ],
   "source": [
    "data.plot()"
   ]
  },
  {
   "cell_type": "code",
   "execution_count": 33,
   "id": "7db0499c",
   "metadata": {
    "tags": []
   },
   "outputs": [],
   "source": [
    "# switching back to static inline plots (the default)\n",
    "%matplotlib inline"
   ]
  },
  {
   "cell_type": "markdown",
   "id": "7dc7c57c",
   "metadata": {},
   "source": [
    "We have too much data to sensibly plot on one figure. Let's see how we can easily select part of the data or aggregate the data to other time resolutions in the next sections."
   ]
  },
  {
   "cell_type": "markdown",
   "id": "ec38c40a",
   "metadata": {
    "tags": []
   },
   "source": [
    "## Selecting data from a time series"
   ]
  },
  {
   "cell_type": "markdown",
   "id": "83dc267d",
   "metadata": {},
   "source": [
    "We can use label based indexing on a timeseries as expected:"
   ]
  },
  {
   "cell_type": "code",
   "execution_count": 34,
   "id": "23afc1f9",
   "metadata": {
    "tags": []
   },
   "outputs": [
    {
     "data": {
      "text/html": [
       "<div>\n",
       "<style scoped>\n",
       "    .dataframe tbody tr th:only-of-type {\n",
       "        vertical-align: middle;\n",
       "    }\n",
       "\n",
       "    .dataframe tbody tr th {\n",
       "        vertical-align: top;\n",
       "    }\n",
       "\n",
       "    .dataframe thead th {\n",
       "        text-align: right;\n",
       "    }\n",
       "</style>\n",
       "<table border=\"1\" class=\"dataframe\">\n",
       "  <thead>\n",
       "    <tr style=\"text-align: right;\">\n",
       "      <th></th>\n",
       "      <th>L06_347</th>\n",
       "      <th>LS06_347</th>\n",
       "      <th>LS06_348</th>\n",
       "    </tr>\n",
       "    <tr>\n",
       "      <th>Time</th>\n",
       "      <th></th>\n",
       "      <th></th>\n",
       "      <th></th>\n",
       "    </tr>\n",
       "  </thead>\n",
       "  <tbody>\n",
       "    <tr>\n",
       "      <th>2012-01-01 09:00:00</th>\n",
       "      <td>0.330750</td>\n",
       "      <td>0.293583</td>\n",
       "      <td>0.029750</td>\n",
       "    </tr>\n",
       "    <tr>\n",
       "      <th>2012-01-01 12:00:00</th>\n",
       "      <td>0.295000</td>\n",
       "      <td>0.285167</td>\n",
       "      <td>0.031750</td>\n",
       "    </tr>\n",
       "    <tr>\n",
       "      <th>2012-01-01 15:00:00</th>\n",
       "      <td>0.301417</td>\n",
       "      <td>0.287750</td>\n",
       "      <td>0.031417</td>\n",
       "    </tr>\n",
       "    <tr>\n",
       "      <th>2012-01-01 18:00:00</th>\n",
       "      <td>0.322083</td>\n",
       "      <td>0.304167</td>\n",
       "      <td>0.038083</td>\n",
       "    </tr>\n",
       "  </tbody>\n",
       "</table>\n",
       "</div>"
      ],
      "text/plain": [
       "                      L06_347  LS06_347  LS06_348\n",
       "Time                                             \n",
       "2012-01-01 09:00:00  0.330750  0.293583  0.029750\n",
       "2012-01-01 12:00:00  0.295000  0.285167  0.031750\n",
       "2012-01-01 15:00:00  0.301417  0.287750  0.031417\n",
       "2012-01-01 18:00:00  0.322083  0.304167  0.038083"
      ]
     },
     "execution_count": 34,
     "metadata": {},
     "output_type": "execute_result"
    }
   ],
   "source": [
    "data[pd.Timestamp(\"2012-01-01 09:00\"):pd.Timestamp(\"2012-01-01 19:00\")]"
   ]
  },
  {
   "cell_type": "markdown",
   "id": "ef667c8c",
   "metadata": {},
   "source": [
    "But, for convenience, indexing a time series also works with strings:"
   ]
  },
  {
   "cell_type": "code",
   "execution_count": 35,
   "id": "85291f39",
   "metadata": {
    "tags": []
   },
   "outputs": [
    {
     "data": {
      "text/html": [
       "<div>\n",
       "<style scoped>\n",
       "    .dataframe tbody tr th:only-of-type {\n",
       "        vertical-align: middle;\n",
       "    }\n",
       "\n",
       "    .dataframe tbody tr th {\n",
       "        vertical-align: top;\n",
       "    }\n",
       "\n",
       "    .dataframe thead th {\n",
       "        text-align: right;\n",
       "    }\n",
       "</style>\n",
       "<table border=\"1\" class=\"dataframe\">\n",
       "  <thead>\n",
       "    <tr style=\"text-align: right;\">\n",
       "      <th></th>\n",
       "      <th>L06_347</th>\n",
       "      <th>LS06_347</th>\n",
       "      <th>LS06_348</th>\n",
       "    </tr>\n",
       "    <tr>\n",
       "      <th>Time</th>\n",
       "      <th></th>\n",
       "      <th></th>\n",
       "      <th></th>\n",
       "    </tr>\n",
       "  </thead>\n",
       "  <tbody>\n",
       "    <tr>\n",
       "      <th>2012-01-01 09:00:00</th>\n",
       "      <td>0.330750</td>\n",
       "      <td>0.293583</td>\n",
       "      <td>0.029750</td>\n",
       "    </tr>\n",
       "    <tr>\n",
       "      <th>2012-01-01 12:00:00</th>\n",
       "      <td>0.295000</td>\n",
       "      <td>0.285167</td>\n",
       "      <td>0.031750</td>\n",
       "    </tr>\n",
       "    <tr>\n",
       "      <th>2012-01-01 15:00:00</th>\n",
       "      <td>0.301417</td>\n",
       "      <td>0.287750</td>\n",
       "      <td>0.031417</td>\n",
       "    </tr>\n",
       "    <tr>\n",
       "      <th>2012-01-01 18:00:00</th>\n",
       "      <td>0.322083</td>\n",
       "      <td>0.304167</td>\n",
       "      <td>0.038083</td>\n",
       "    </tr>\n",
       "  </tbody>\n",
       "</table>\n",
       "</div>"
      ],
      "text/plain": [
       "                      L06_347  LS06_347  LS06_348\n",
       "Time                                             \n",
       "2012-01-01 09:00:00  0.330750  0.293583  0.029750\n",
       "2012-01-01 12:00:00  0.295000  0.285167  0.031750\n",
       "2012-01-01 15:00:00  0.301417  0.287750  0.031417\n",
       "2012-01-01 18:00:00  0.322083  0.304167  0.038083"
      ]
     },
     "execution_count": 35,
     "metadata": {},
     "output_type": "execute_result"
    }
   ],
   "source": [
    "data[\"2012-01-01 09:00\":\"2012-01-01 19:00\"]"
   ]
  },
  {
   "cell_type": "markdown",
   "id": "85d12faf",
   "metadata": {},
   "source": [
    "A nice feature is **\"partial string\" indexing**, where we can do implicit slicing by providing a partial datetime string.\n",
    "\n",
    "E.g. all data of 2013:"
   ]
  },
  {
   "cell_type": "code",
   "execution_count": 36,
   "id": "b74fd93c",
   "metadata": {},
   "outputs": [
    {
     "data": {
      "text/html": [
       "<div>\n",
       "<style scoped>\n",
       "    .dataframe tbody tr th:only-of-type {\n",
       "        vertical-align: middle;\n",
       "    }\n",
       "\n",
       "    .dataframe tbody tr th {\n",
       "        vertical-align: top;\n",
       "    }\n",
       "\n",
       "    .dataframe thead th {\n",
       "        text-align: right;\n",
       "    }\n",
       "</style>\n",
       "<table border=\"1\" class=\"dataframe\">\n",
       "  <thead>\n",
       "    <tr style=\"text-align: right;\">\n",
       "      <th></th>\n",
       "      <th>L06_347</th>\n",
       "      <th>LS06_347</th>\n",
       "      <th>LS06_348</th>\n",
       "    </tr>\n",
       "    <tr>\n",
       "      <th>Time</th>\n",
       "      <th></th>\n",
       "      <th></th>\n",
       "      <th></th>\n",
       "    </tr>\n",
       "  </thead>\n",
       "  <tbody>\n",
       "    <tr>\n",
       "      <th>2013-01-01 00:00:00</th>\n",
       "      <td>1.688333</td>\n",
       "      <td>1.688333</td>\n",
       "      <td>0.207333</td>\n",
       "    </tr>\n",
       "    <tr>\n",
       "      <th>2013-01-01 03:00:00</th>\n",
       "      <td>2.693333</td>\n",
       "      <td>2.693333</td>\n",
       "      <td>0.201500</td>\n",
       "    </tr>\n",
       "    <tr>\n",
       "      <th>2013-01-01 06:00:00</th>\n",
       "      <td>2.220833</td>\n",
       "      <td>2.220833</td>\n",
       "      <td>0.166917</td>\n",
       "    </tr>\n",
       "    <tr>\n",
       "      <th>2013-01-01 09:00:00</th>\n",
       "      <td>2.055000</td>\n",
       "      <td>2.055000</td>\n",
       "      <td>0.175667</td>\n",
       "    </tr>\n",
       "    <tr>\n",
       "      <th>2013-01-01 12:00:00</th>\n",
       "      <td>1.710000</td>\n",
       "      <td>1.710000</td>\n",
       "      <td>0.129583</td>\n",
       "    </tr>\n",
       "    <tr>\n",
       "      <th>2013-01-01 15:00:00</th>\n",
       "      <td>1.420000</td>\n",
       "      <td>1.420000</td>\n",
       "      <td>0.096333</td>\n",
       "    </tr>\n",
       "    <tr>\n",
       "      <th>2013-01-01 18:00:00</th>\n",
       "      <td>1.178583</td>\n",
       "      <td>1.178583</td>\n",
       "      <td>0.083083</td>\n",
       "    </tr>\n",
       "    <tr>\n",
       "      <th>2013-01-01 21:00:00</th>\n",
       "      <td>0.898250</td>\n",
       "      <td>0.898250</td>\n",
       "      <td>0.077167</td>\n",
       "    </tr>\n",
       "    <tr>\n",
       "      <th>2013-01-02 00:00:00</th>\n",
       "      <td>0.860000</td>\n",
       "      <td>0.860000</td>\n",
       "      <td>0.075000</td>\n",
       "    </tr>\n",
       "  </tbody>\n",
       "</table>\n",
       "</div>"
      ],
      "text/plain": [
       "                      L06_347  LS06_347  LS06_348\n",
       "Time                                             \n",
       "2013-01-01 00:00:00  1.688333  1.688333  0.207333\n",
       "2013-01-01 03:00:00  2.693333  2.693333  0.201500\n",
       "2013-01-01 06:00:00  2.220833  2.220833  0.166917\n",
       "2013-01-01 09:00:00  2.055000  2.055000  0.175667\n",
       "2013-01-01 12:00:00  1.710000  1.710000  0.129583\n",
       "2013-01-01 15:00:00  1.420000  1.420000  0.096333\n",
       "2013-01-01 18:00:00  1.178583  1.178583  0.083083\n",
       "2013-01-01 21:00:00  0.898250  0.898250  0.077167\n",
       "2013-01-02 00:00:00  0.860000  0.860000  0.075000"
      ]
     },
     "execution_count": 36,
     "metadata": {},
     "output_type": "execute_result"
    }
   ],
   "source": [
    "data['2013':]"
   ]
  },
  {
   "cell_type": "markdown",
   "id": "cea519d6",
   "metadata": {},
   "source": [
    "Or all data of January up to March 2012:"
   ]
  },
  {
   "cell_type": "code",
   "execution_count": 37,
   "id": "a223cc36",
   "metadata": {},
   "outputs": [
    {
     "data": {
      "text/html": [
       "<div>\n",
       "<style scoped>\n",
       "    .dataframe tbody tr th:only-of-type {\n",
       "        vertical-align: middle;\n",
       "    }\n",
       "\n",
       "    .dataframe tbody tr th {\n",
       "        vertical-align: top;\n",
       "    }\n",
       "\n",
       "    .dataframe thead th {\n",
       "        text-align: right;\n",
       "    }\n",
       "</style>\n",
       "<table border=\"1\" class=\"dataframe\">\n",
       "  <thead>\n",
       "    <tr style=\"text-align: right;\">\n",
       "      <th></th>\n",
       "      <th>L06_347</th>\n",
       "      <th>LS06_347</th>\n",
       "      <th>LS06_348</th>\n",
       "    </tr>\n",
       "    <tr>\n",
       "      <th>Time</th>\n",
       "      <th></th>\n",
       "      <th></th>\n",
       "      <th></th>\n",
       "    </tr>\n",
       "  </thead>\n",
       "  <tbody>\n",
       "    <tr>\n",
       "      <th>2012-01-01 00:00:00</th>\n",
       "      <td>0.307167</td>\n",
       "      <td>0.273917</td>\n",
       "      <td>0.028000</td>\n",
       "    </tr>\n",
       "    <tr>\n",
       "      <th>2012-01-01 03:00:00</th>\n",
       "      <td>0.302917</td>\n",
       "      <td>0.270833</td>\n",
       "      <td>0.030583</td>\n",
       "    </tr>\n",
       "    <tr>\n",
       "      <th>2012-01-01 06:00:00</th>\n",
       "      <td>0.331500</td>\n",
       "      <td>0.284750</td>\n",
       "      <td>0.030917</td>\n",
       "    </tr>\n",
       "    <tr>\n",
       "      <th>2012-01-01 09:00:00</th>\n",
       "      <td>0.330750</td>\n",
       "      <td>0.293583</td>\n",
       "      <td>0.029750</td>\n",
       "    </tr>\n",
       "    <tr>\n",
       "      <th>2012-01-01 12:00:00</th>\n",
       "      <td>0.295000</td>\n",
       "      <td>0.285167</td>\n",
       "      <td>0.031750</td>\n",
       "    </tr>\n",
       "    <tr>\n",
       "      <th>...</th>\n",
       "      <td>...</td>\n",
       "      <td>...</td>\n",
       "      <td>...</td>\n",
       "    </tr>\n",
       "    <tr>\n",
       "      <th>2012-03-31 09:00:00</th>\n",
       "      <td>0.104917</td>\n",
       "      <td>0.125000</td>\n",
       "      <td>0.012417</td>\n",
       "    </tr>\n",
       "    <tr>\n",
       "      <th>2012-03-31 12:00:00</th>\n",
       "      <td>0.098333</td>\n",
       "      <td>0.124417</td>\n",
       "      <td>0.011833</td>\n",
       "    </tr>\n",
       "    <tr>\n",
       "      <th>2012-03-31 15:00:00</th>\n",
       "      <td>0.091917</td>\n",
       "      <td>0.123917</td>\n",
       "      <td>0.011500</td>\n",
       "    </tr>\n",
       "    <tr>\n",
       "      <th>2012-03-31 18:00:00</th>\n",
       "      <td>0.085750</td>\n",
       "      <td>0.121417</td>\n",
       "      <td>0.011000</td>\n",
       "    </tr>\n",
       "    <tr>\n",
       "      <th>2012-03-31 21:00:00</th>\n",
       "      <td>0.068417</td>\n",
       "      <td>0.119750</td>\n",
       "      <td>0.010417</td>\n",
       "    </tr>\n",
       "  </tbody>\n",
       "</table>\n",
       "<p>728 rows × 3 columns</p>\n",
       "</div>"
      ],
      "text/plain": [
       "                      L06_347  LS06_347  LS06_348\n",
       "Time                                             \n",
       "2012-01-01 00:00:00  0.307167  0.273917  0.028000\n",
       "2012-01-01 03:00:00  0.302917  0.270833  0.030583\n",
       "2012-01-01 06:00:00  0.331500  0.284750  0.030917\n",
       "2012-01-01 09:00:00  0.330750  0.293583  0.029750\n",
       "2012-01-01 12:00:00  0.295000  0.285167  0.031750\n",
       "...                       ...       ...       ...\n",
       "2012-03-31 09:00:00  0.104917  0.125000  0.012417\n",
       "2012-03-31 12:00:00  0.098333  0.124417  0.011833\n",
       "2012-03-31 15:00:00  0.091917  0.123917  0.011500\n",
       "2012-03-31 18:00:00  0.085750  0.121417  0.011000\n",
       "2012-03-31 21:00:00  0.068417  0.119750  0.010417\n",
       "\n",
       "[728 rows x 3 columns]"
      ]
     },
     "execution_count": 37,
     "metadata": {},
     "output_type": "execute_result"
    }
   ],
   "source": [
    "data['2012-01':'2012-03']"
   ]
  },
  {
   "cell_type": "markdown",
   "id": "a95be1d6-8ea4-4889-ac3f-d3fe720e8882",
   "metadata": {},
   "source": [
    "# Exercises\n",
    "\n",
    "Let's practice this yourself using the same dataset:"
   ]
  },
  {
   "cell_type": "code",
   "execution_count": 38,
   "id": "f2de366c-105a-40d7-bb93-bfb53e8f5c26",
   "metadata": {},
   "outputs": [],
   "source": [
    "data = pd.read_csv(\"data/vmm_flowdata.csv\", index_col=0, parse_dates=True)"
   ]
  },
  {
   "cell_type": "markdown",
   "id": "70d4f396",
   "metadata": {},
   "source": [
    "<div class=\"alert alert-success\">\n",
    "\n",
    "**EXERCISE:**\n",
    "\n",
    "Select all data starting from 2012\n",
    "\n",
    "</div>"
   ]
  },
  {
   "cell_type": "code",
   "execution_count": 39,
   "id": "1701f43d",
   "metadata": {
    "tags": [
     "nbtutor-solution"
    ]
   },
   "outputs": [
    {
     "data": {
      "text/html": [
       "<div>\n",
       "<style scoped>\n",
       "    .dataframe tbody tr th:only-of-type {\n",
       "        vertical-align: middle;\n",
       "    }\n",
       "\n",
       "    .dataframe tbody tr th {\n",
       "        vertical-align: top;\n",
       "    }\n",
       "\n",
       "    .dataframe thead th {\n",
       "        text-align: right;\n",
       "    }\n",
       "</style>\n",
       "<table border=\"1\" class=\"dataframe\">\n",
       "  <thead>\n",
       "    <tr style=\"text-align: right;\">\n",
       "      <th></th>\n",
       "      <th>L06_347</th>\n",
       "      <th>LS06_347</th>\n",
       "      <th>LS06_348</th>\n",
       "    </tr>\n",
       "    <tr>\n",
       "      <th>Time</th>\n",
       "      <th></th>\n",
       "      <th></th>\n",
       "      <th></th>\n",
       "    </tr>\n",
       "  </thead>\n",
       "  <tbody>\n",
       "    <tr>\n",
       "      <th>2012-01-01 00:00:00</th>\n",
       "      <td>0.307167</td>\n",
       "      <td>0.273917</td>\n",
       "      <td>0.028000</td>\n",
       "    </tr>\n",
       "    <tr>\n",
       "      <th>2012-01-01 03:00:00</th>\n",
       "      <td>0.302917</td>\n",
       "      <td>0.270833</td>\n",
       "      <td>0.030583</td>\n",
       "    </tr>\n",
       "    <tr>\n",
       "      <th>2012-01-01 06:00:00</th>\n",
       "      <td>0.331500</td>\n",
       "      <td>0.284750</td>\n",
       "      <td>0.030917</td>\n",
       "    </tr>\n",
       "    <tr>\n",
       "      <th>2012-01-01 09:00:00</th>\n",
       "      <td>0.330750</td>\n",
       "      <td>0.293583</td>\n",
       "      <td>0.029750</td>\n",
       "    </tr>\n",
       "    <tr>\n",
       "      <th>2012-01-01 12:00:00</th>\n",
       "      <td>0.295000</td>\n",
       "      <td>0.285167</td>\n",
       "      <td>0.031750</td>\n",
       "    </tr>\n",
       "    <tr>\n",
       "      <th>...</th>\n",
       "      <td>...</td>\n",
       "      <td>...</td>\n",
       "      <td>...</td>\n",
       "    </tr>\n",
       "    <tr>\n",
       "      <th>2013-01-01 12:00:00</th>\n",
       "      <td>1.710000</td>\n",
       "      <td>1.710000</td>\n",
       "      <td>0.129583</td>\n",
       "    </tr>\n",
       "    <tr>\n",
       "      <th>2013-01-01 15:00:00</th>\n",
       "      <td>1.420000</td>\n",
       "      <td>1.420000</td>\n",
       "      <td>0.096333</td>\n",
       "    </tr>\n",
       "    <tr>\n",
       "      <th>2013-01-01 18:00:00</th>\n",
       "      <td>1.178583</td>\n",
       "      <td>1.178583</td>\n",
       "      <td>0.083083</td>\n",
       "    </tr>\n",
       "    <tr>\n",
       "      <th>2013-01-01 21:00:00</th>\n",
       "      <td>0.898250</td>\n",
       "      <td>0.898250</td>\n",
       "      <td>0.077167</td>\n",
       "    </tr>\n",
       "    <tr>\n",
       "      <th>2013-01-02 00:00:00</th>\n",
       "      <td>0.860000</td>\n",
       "      <td>0.860000</td>\n",
       "      <td>0.075000</td>\n",
       "    </tr>\n",
       "  </tbody>\n",
       "</table>\n",
       "<p>2937 rows × 3 columns</p>\n",
       "</div>"
      ],
      "text/plain": [
       "                      L06_347  LS06_347  LS06_348\n",
       "Time                                             \n",
       "2012-01-01 00:00:00  0.307167  0.273917  0.028000\n",
       "2012-01-01 03:00:00  0.302917  0.270833  0.030583\n",
       "2012-01-01 06:00:00  0.331500  0.284750  0.030917\n",
       "2012-01-01 09:00:00  0.330750  0.293583  0.029750\n",
       "2012-01-01 12:00:00  0.295000  0.285167  0.031750\n",
       "...                       ...       ...       ...\n",
       "2013-01-01 12:00:00  1.710000  1.710000  0.129583\n",
       "2013-01-01 15:00:00  1.420000  1.420000  0.096333\n",
       "2013-01-01 18:00:00  1.178583  1.178583  0.083083\n",
       "2013-01-01 21:00:00  0.898250  0.898250  0.077167\n",
       "2013-01-02 00:00:00  0.860000  0.860000  0.075000\n",
       "\n",
       "[2937 rows x 3 columns]"
      ]
     },
     "execution_count": 39,
     "metadata": {},
     "output_type": "execute_result"
    }
   ],
   "source": [
    "data['2012':]"
   ]
  },
  {
   "cell_type": "markdown",
   "id": "72f01346",
   "metadata": {},
   "source": [
    "<div class=\"alert alert-success\">\n",
    "\n",
    "**EXERCISE**:\n",
    "\n",
    "Select all data in January for all different years\n",
    "\n",
    "<details><summary>Hints</summary>\n",
    "\n",
    "* Remember you can get information about the month of each timestamp using the `month` attribute of the DatetimeIndex.\n",
    "\n",
    "</details>\n",
    "\n",
    "</div>"
   ]
  },
  {
   "cell_type": "code",
   "execution_count": 40,
   "id": "3d61b665",
   "metadata": {
    "tags": [
     "nbtutor-solution"
    ]
   },
   "outputs": [
    {
     "data": {
      "text/html": [
       "<div>\n",
       "<style scoped>\n",
       "    .dataframe tbody tr th:only-of-type {\n",
       "        vertical-align: middle;\n",
       "    }\n",
       "\n",
       "    .dataframe tbody tr th {\n",
       "        vertical-align: top;\n",
       "    }\n",
       "\n",
       "    .dataframe thead th {\n",
       "        text-align: right;\n",
       "    }\n",
       "</style>\n",
       "<table border=\"1\" class=\"dataframe\">\n",
       "  <thead>\n",
       "    <tr style=\"text-align: right;\">\n",
       "      <th></th>\n",
       "      <th>L06_347</th>\n",
       "      <th>LS06_347</th>\n",
       "      <th>LS06_348</th>\n",
       "    </tr>\n",
       "    <tr>\n",
       "      <th>Time</th>\n",
       "      <th></th>\n",
       "      <th></th>\n",
       "      <th></th>\n",
       "    </tr>\n",
       "  </thead>\n",
       "  <tbody>\n",
       "    <tr>\n",
       "      <th>2009-01-01 00:00:00</th>\n",
       "      <td>0.137417</td>\n",
       "      <td>0.097500</td>\n",
       "      <td>0.016833</td>\n",
       "    </tr>\n",
       "    <tr>\n",
       "      <th>2009-01-01 03:00:00</th>\n",
       "      <td>0.131250</td>\n",
       "      <td>0.088833</td>\n",
       "      <td>0.016417</td>\n",
       "    </tr>\n",
       "    <tr>\n",
       "      <th>2009-01-01 06:00:00</th>\n",
       "      <td>0.113500</td>\n",
       "      <td>0.091250</td>\n",
       "      <td>0.016750</td>\n",
       "    </tr>\n",
       "    <tr>\n",
       "      <th>2009-01-01 09:00:00</th>\n",
       "      <td>0.135750</td>\n",
       "      <td>0.091500</td>\n",
       "      <td>0.016250</td>\n",
       "    </tr>\n",
       "    <tr>\n",
       "      <th>2009-01-01 12:00:00</th>\n",
       "      <td>0.140917</td>\n",
       "      <td>0.096167</td>\n",
       "      <td>0.017000</td>\n",
       "    </tr>\n",
       "    <tr>\n",
       "      <th>...</th>\n",
       "      <td>...</td>\n",
       "      <td>...</td>\n",
       "      <td>...</td>\n",
       "    </tr>\n",
       "    <tr>\n",
       "      <th>2013-01-01 12:00:00</th>\n",
       "      <td>1.710000</td>\n",
       "      <td>1.710000</td>\n",
       "      <td>0.129583</td>\n",
       "    </tr>\n",
       "    <tr>\n",
       "      <th>2013-01-01 15:00:00</th>\n",
       "      <td>1.420000</td>\n",
       "      <td>1.420000</td>\n",
       "      <td>0.096333</td>\n",
       "    </tr>\n",
       "    <tr>\n",
       "      <th>2013-01-01 18:00:00</th>\n",
       "      <td>1.178583</td>\n",
       "      <td>1.178583</td>\n",
       "      <td>0.083083</td>\n",
       "    </tr>\n",
       "    <tr>\n",
       "      <th>2013-01-01 21:00:00</th>\n",
       "      <td>0.898250</td>\n",
       "      <td>0.898250</td>\n",
       "      <td>0.077167</td>\n",
       "    </tr>\n",
       "    <tr>\n",
       "      <th>2013-01-02 00:00:00</th>\n",
       "      <td>0.860000</td>\n",
       "      <td>0.860000</td>\n",
       "      <td>0.075000</td>\n",
       "    </tr>\n",
       "  </tbody>\n",
       "</table>\n",
       "<p>1001 rows × 3 columns</p>\n",
       "</div>"
      ],
      "text/plain": [
       "                      L06_347  LS06_347  LS06_348\n",
       "Time                                             \n",
       "2009-01-01 00:00:00  0.137417  0.097500  0.016833\n",
       "2009-01-01 03:00:00  0.131250  0.088833  0.016417\n",
       "2009-01-01 06:00:00  0.113500  0.091250  0.016750\n",
       "2009-01-01 09:00:00  0.135750  0.091500  0.016250\n",
       "2009-01-01 12:00:00  0.140917  0.096167  0.017000\n",
       "...                       ...       ...       ...\n",
       "2013-01-01 12:00:00  1.710000  1.710000  0.129583\n",
       "2013-01-01 15:00:00  1.420000  1.420000  0.096333\n",
       "2013-01-01 18:00:00  1.178583  1.178583  0.083083\n",
       "2013-01-01 21:00:00  0.898250  0.898250  0.077167\n",
       "2013-01-02 00:00:00  0.860000  0.860000  0.075000\n",
       "\n",
       "[1001 rows x 3 columns]"
      ]
     },
     "execution_count": 40,
     "metadata": {},
     "output_type": "execute_result"
    }
   ],
   "source": [
    "data[data.index.month == 1]"
   ]
  },
  {
   "cell_type": "markdown",
   "id": "b069a677",
   "metadata": {},
   "source": [
    "<div class=\"alert alert-success\">\n",
    "\n",
    "**EXERCISE**:\n",
    "\n",
    "Select all data in April, May and June for all different years\n",
    "\n",
    "<details><summary>Hints</summary>\n",
    "\n",
    "* If you want to check for equality with multiple possible values (equal to x OR equal to y OR ...), the `isin()` method can be easier to use.\n",
    "\n",
    "</details>\n",
    "\n",
    "</div>"
   ]
  },
  {
   "cell_type": "code",
   "execution_count": 41,
   "id": "8e2cf035",
   "metadata": {
    "tags": [
     "nbtutor-solution"
    ]
   },
   "outputs": [
    {
     "data": {
      "text/html": [
       "<div>\n",
       "<style scoped>\n",
       "    .dataframe tbody tr th:only-of-type {\n",
       "        vertical-align: middle;\n",
       "    }\n",
       "\n",
       "    .dataframe tbody tr th {\n",
       "        vertical-align: top;\n",
       "    }\n",
       "\n",
       "    .dataframe thead th {\n",
       "        text-align: right;\n",
       "    }\n",
       "</style>\n",
       "<table border=\"1\" class=\"dataframe\">\n",
       "  <thead>\n",
       "    <tr style=\"text-align: right;\">\n",
       "      <th></th>\n",
       "      <th>L06_347</th>\n",
       "      <th>LS06_347</th>\n",
       "      <th>LS06_348</th>\n",
       "    </tr>\n",
       "    <tr>\n",
       "      <th>Time</th>\n",
       "      <th></th>\n",
       "      <th></th>\n",
       "      <th></th>\n",
       "    </tr>\n",
       "  </thead>\n",
       "  <tbody>\n",
       "    <tr>\n",
       "      <th>2009-04-01 00:00:00</th>\n",
       "      <td>0.270417</td>\n",
       "      <td>0.233500</td>\n",
       "      <td>0.031250</td>\n",
       "    </tr>\n",
       "    <tr>\n",
       "      <th>2009-04-01 03:00:00</th>\n",
       "      <td>0.249917</td>\n",
       "      <td>0.247083</td>\n",
       "      <td>0.030750</td>\n",
       "    </tr>\n",
       "    <tr>\n",
       "      <th>2009-04-01 06:00:00</th>\n",
       "      <td>0.278167</td>\n",
       "      <td>0.260083</td>\n",
       "      <td>0.032583</td>\n",
       "    </tr>\n",
       "    <tr>\n",
       "      <th>2009-04-01 09:00:00</th>\n",
       "      <td>0.324833</td>\n",
       "      <td>0.301583</td>\n",
       "      <td>0.034250</td>\n",
       "    </tr>\n",
       "    <tr>\n",
       "      <th>2009-04-01 12:00:00</th>\n",
       "      <td>0.287917</td>\n",
       "      <td>0.254917</td>\n",
       "      <td>0.033833</td>\n",
       "    </tr>\n",
       "    <tr>\n",
       "      <th>...</th>\n",
       "      <td>...</td>\n",
       "      <td>...</td>\n",
       "      <td>...</td>\n",
       "    </tr>\n",
       "    <tr>\n",
       "      <th>2012-06-30 09:00:00</th>\n",
       "      <td>0.288000</td>\n",
       "      <td>0.060583</td>\n",
       "      <td>0.007333</td>\n",
       "    </tr>\n",
       "    <tr>\n",
       "      <th>2012-06-30 12:00:00</th>\n",
       "      <td>0.288000</td>\n",
       "      <td>0.061417</td>\n",
       "      <td>0.006333</td>\n",
       "    </tr>\n",
       "    <tr>\n",
       "      <th>2012-06-30 15:00:00</th>\n",
       "      <td>0.287583</td>\n",
       "      <td>0.063083</td>\n",
       "      <td>0.004833</td>\n",
       "    </tr>\n",
       "    <tr>\n",
       "      <th>2012-06-30 18:00:00</th>\n",
       "      <td>0.287000</td>\n",
       "      <td>0.080917</td>\n",
       "      <td>0.028167</td>\n",
       "    </tr>\n",
       "    <tr>\n",
       "      <th>2012-06-30 21:00:00</th>\n",
       "      <td>0.287000</td>\n",
       "      <td>0.087000</td>\n",
       "      <td>0.010000</td>\n",
       "    </tr>\n",
       "  </tbody>\n",
       "</table>\n",
       "<p>2912 rows × 3 columns</p>\n",
       "</div>"
      ],
      "text/plain": [
       "                      L06_347  LS06_347  LS06_348\n",
       "Time                                             \n",
       "2009-04-01 00:00:00  0.270417  0.233500  0.031250\n",
       "2009-04-01 03:00:00  0.249917  0.247083  0.030750\n",
       "2009-04-01 06:00:00  0.278167  0.260083  0.032583\n",
       "2009-04-01 09:00:00  0.324833  0.301583  0.034250\n",
       "2009-04-01 12:00:00  0.287917  0.254917  0.033833\n",
       "...                       ...       ...       ...\n",
       "2012-06-30 09:00:00  0.288000  0.060583  0.007333\n",
       "2012-06-30 12:00:00  0.288000  0.061417  0.006333\n",
       "2012-06-30 15:00:00  0.287583  0.063083  0.004833\n",
       "2012-06-30 18:00:00  0.287000  0.080917  0.028167\n",
       "2012-06-30 21:00:00  0.287000  0.087000  0.010000\n",
       "\n",
       "[2912 rows x 3 columns]"
      ]
     },
     "execution_count": 41,
     "metadata": {},
     "output_type": "execute_result"
    }
   ],
   "source": [
    "data[data.index.month.isin([4, 5, 6])]"
   ]
  },
  {
   "cell_type": "markdown",
   "id": "04d772d9",
   "metadata": {},
   "source": [
    "<div class=\"alert alert-success\">\n",
    "\n",
    "**EXERCISE**\n",
    "\n",
    "Select all 'daytime' data (between 8h and 20h) for all days\n",
    "    \n",
    "</div>"
   ]
  },
  {
   "cell_type": "code",
   "execution_count": 42,
   "id": "760a4912",
   "metadata": {
    "tags": [
     "nbtutor-solution"
    ]
   },
   "outputs": [
    {
     "data": {
      "text/html": [
       "<div>\n",
       "<style scoped>\n",
       "    .dataframe tbody tr th:only-of-type {\n",
       "        vertical-align: middle;\n",
       "    }\n",
       "\n",
       "    .dataframe tbody tr th {\n",
       "        vertical-align: top;\n",
       "    }\n",
       "\n",
       "    .dataframe thead th {\n",
       "        text-align: right;\n",
       "    }\n",
       "</style>\n",
       "<table border=\"1\" class=\"dataframe\">\n",
       "  <thead>\n",
       "    <tr style=\"text-align: right;\">\n",
       "      <th></th>\n",
       "      <th>L06_347</th>\n",
       "      <th>LS06_347</th>\n",
       "      <th>LS06_348</th>\n",
       "    </tr>\n",
       "    <tr>\n",
       "      <th>Time</th>\n",
       "      <th></th>\n",
       "      <th></th>\n",
       "      <th></th>\n",
       "    </tr>\n",
       "  </thead>\n",
       "  <tbody>\n",
       "    <tr>\n",
       "      <th>2009-01-01 09:00:00</th>\n",
       "      <td>0.135750</td>\n",
       "      <td>0.091500</td>\n",
       "      <td>0.016250</td>\n",
       "    </tr>\n",
       "    <tr>\n",
       "      <th>2009-01-01 12:00:00</th>\n",
       "      <td>0.140917</td>\n",
       "      <td>0.096167</td>\n",
       "      <td>0.017000</td>\n",
       "    </tr>\n",
       "    <tr>\n",
       "      <th>2009-01-01 15:00:00</th>\n",
       "      <td>0.099167</td>\n",
       "      <td>0.091667</td>\n",
       "      <td>0.017583</td>\n",
       "    </tr>\n",
       "    <tr>\n",
       "      <th>2009-01-01 18:00:00</th>\n",
       "      <td>0.132667</td>\n",
       "      <td>0.090167</td>\n",
       "      <td>0.016250</td>\n",
       "    </tr>\n",
       "    <tr>\n",
       "      <th>2009-01-02 09:00:00</th>\n",
       "      <td>0.141917</td>\n",
       "      <td>0.097083</td>\n",
       "      <td>0.016417</td>\n",
       "    </tr>\n",
       "    <tr>\n",
       "      <th>...</th>\n",
       "      <td>...</td>\n",
       "      <td>...</td>\n",
       "      <td>...</td>\n",
       "    </tr>\n",
       "    <tr>\n",
       "      <th>2012-12-31 18:00:00</th>\n",
       "      <td>0.617333</td>\n",
       "      <td>0.617333</td>\n",
       "      <td>0.060583</td>\n",
       "    </tr>\n",
       "    <tr>\n",
       "      <th>2013-01-01 09:00:00</th>\n",
       "      <td>2.055000</td>\n",
       "      <td>2.055000</td>\n",
       "      <td>0.175667</td>\n",
       "    </tr>\n",
       "    <tr>\n",
       "      <th>2013-01-01 12:00:00</th>\n",
       "      <td>1.710000</td>\n",
       "      <td>1.710000</td>\n",
       "      <td>0.129583</td>\n",
       "    </tr>\n",
       "    <tr>\n",
       "      <th>2013-01-01 15:00:00</th>\n",
       "      <td>1.420000</td>\n",
       "      <td>1.420000</td>\n",
       "      <td>0.096333</td>\n",
       "    </tr>\n",
       "    <tr>\n",
       "      <th>2013-01-01 18:00:00</th>\n",
       "      <td>1.178583</td>\n",
       "      <td>1.178583</td>\n",
       "      <td>0.083083</td>\n",
       "    </tr>\n",
       "  </tbody>\n",
       "</table>\n",
       "<p>5848 rows × 3 columns</p>\n",
       "</div>"
      ],
      "text/plain": [
       "                      L06_347  LS06_347  LS06_348\n",
       "Time                                             \n",
       "2009-01-01 09:00:00  0.135750  0.091500  0.016250\n",
       "2009-01-01 12:00:00  0.140917  0.096167  0.017000\n",
       "2009-01-01 15:00:00  0.099167  0.091667  0.017583\n",
       "2009-01-01 18:00:00  0.132667  0.090167  0.016250\n",
       "2009-01-02 09:00:00  0.141917  0.097083  0.016417\n",
       "...                       ...       ...       ...\n",
       "2012-12-31 18:00:00  0.617333  0.617333  0.060583\n",
       "2013-01-01 09:00:00  2.055000  2.055000  0.175667\n",
       "2013-01-01 12:00:00  1.710000  1.710000  0.129583\n",
       "2013-01-01 15:00:00  1.420000  1.420000  0.096333\n",
       "2013-01-01 18:00:00  1.178583  1.178583  0.083083\n",
       "\n",
       "[5848 rows x 3 columns]"
      ]
     },
     "execution_count": 42,
     "metadata": {},
     "output_type": "execute_result"
    }
   ],
   "source": [
    "data[(data.index.hour > 8) & (data.index.hour < 20)]"
   ]
  },
  {
   "cell_type": "markdown",
   "id": "a89b10ba",
   "metadata": {},
   "source": [
    "# The power of pandas: `resample`"
   ]
  },
  {
   "cell_type": "markdown",
   "id": "3a91eb59",
   "metadata": {},
   "source": [
    "A very powerfull method is **`resample`: converting the frequency of the time series** (e.g. from hourly to daily data).\n",
    "\n",
    "The time series has a frequency of 1 hour. I want to change this to daily:"
   ]
  },
  {
   "cell_type": "code",
   "execution_count": 43,
   "id": "2cd2d406",
   "metadata": {},
   "outputs": [
    {
     "data": {
      "text/html": [
       "<div>\n",
       "<style scoped>\n",
       "    .dataframe tbody tr th:only-of-type {\n",
       "        vertical-align: middle;\n",
       "    }\n",
       "\n",
       "    .dataframe tbody tr th {\n",
       "        vertical-align: top;\n",
       "    }\n",
       "\n",
       "    .dataframe thead th {\n",
       "        text-align: right;\n",
       "    }\n",
       "</style>\n",
       "<table border=\"1\" class=\"dataframe\">\n",
       "  <thead>\n",
       "    <tr style=\"text-align: right;\">\n",
       "      <th></th>\n",
       "      <th>L06_347</th>\n",
       "      <th>LS06_347</th>\n",
       "      <th>LS06_348</th>\n",
       "    </tr>\n",
       "    <tr>\n",
       "      <th>Time</th>\n",
       "      <th></th>\n",
       "      <th></th>\n",
       "      <th></th>\n",
       "    </tr>\n",
       "  </thead>\n",
       "  <tbody>\n",
       "    <tr>\n",
       "      <th>2009-01-01</th>\n",
       "      <td>0.125010</td>\n",
       "      <td>0.092281</td>\n",
       "      <td>0.016635</td>\n",
       "    </tr>\n",
       "    <tr>\n",
       "      <th>2009-01-02</th>\n",
       "      <td>0.124146</td>\n",
       "      <td>0.095781</td>\n",
       "      <td>0.016406</td>\n",
       "    </tr>\n",
       "    <tr>\n",
       "      <th>2009-01-03</th>\n",
       "      <td>0.113562</td>\n",
       "      <td>0.085542</td>\n",
       "      <td>0.016094</td>\n",
       "    </tr>\n",
       "    <tr>\n",
       "      <th>2009-01-04</th>\n",
       "      <td>0.140198</td>\n",
       "      <td>0.102708</td>\n",
       "      <td>0.017323</td>\n",
       "    </tr>\n",
       "    <tr>\n",
       "      <th>2009-01-05</th>\n",
       "      <td>0.128812</td>\n",
       "      <td>0.104490</td>\n",
       "      <td>0.018167</td>\n",
       "    </tr>\n",
       "  </tbody>\n",
       "</table>\n",
       "</div>"
      ],
      "text/plain": [
       "             L06_347  LS06_347  LS06_348\n",
       "Time                                    \n",
       "2009-01-01  0.125010  0.092281  0.016635\n",
       "2009-01-02  0.124146  0.095781  0.016406\n",
       "2009-01-03  0.113562  0.085542  0.016094\n",
       "2009-01-04  0.140198  0.102708  0.017323\n",
       "2009-01-05  0.128812  0.104490  0.018167"
      ]
     },
     "execution_count": 43,
     "metadata": {},
     "output_type": "execute_result"
    }
   ],
   "source": [
    "data.resample('D').mean().head()"
   ]
  },
  {
   "cell_type": "markdown",
   "id": "c9cc6625",
   "metadata": {},
   "source": [
    "Other mathematical methods can also be specified:"
   ]
  },
  {
   "cell_type": "code",
   "execution_count": 44,
   "id": "f01c960e",
   "metadata": {},
   "outputs": [
    {
     "data": {
      "text/html": [
       "<div>\n",
       "<style scoped>\n",
       "    .dataframe tbody tr th:only-of-type {\n",
       "        vertical-align: middle;\n",
       "    }\n",
       "\n",
       "    .dataframe tbody tr th {\n",
       "        vertical-align: top;\n",
       "    }\n",
       "\n",
       "    .dataframe thead th {\n",
       "        text-align: right;\n",
       "    }\n",
       "</style>\n",
       "<table border=\"1\" class=\"dataframe\">\n",
       "  <thead>\n",
       "    <tr style=\"text-align: right;\">\n",
       "      <th></th>\n",
       "      <th>L06_347</th>\n",
       "      <th>LS06_347</th>\n",
       "      <th>LS06_348</th>\n",
       "    </tr>\n",
       "    <tr>\n",
       "      <th>Time</th>\n",
       "      <th></th>\n",
       "      <th></th>\n",
       "      <th></th>\n",
       "    </tr>\n",
       "  </thead>\n",
       "  <tbody>\n",
       "    <tr>\n",
       "      <th>2009-01-01</th>\n",
       "      <td>0.140917</td>\n",
       "      <td>0.097500</td>\n",
       "      <td>0.017583</td>\n",
       "    </tr>\n",
       "    <tr>\n",
       "      <th>2009-01-02</th>\n",
       "      <td>0.147833</td>\n",
       "      <td>0.101917</td>\n",
       "      <td>0.016833</td>\n",
       "    </tr>\n",
       "    <tr>\n",
       "      <th>2009-01-03</th>\n",
       "      <td>0.135833</td>\n",
       "      <td>0.092500</td>\n",
       "      <td>0.016833</td>\n",
       "    </tr>\n",
       "    <tr>\n",
       "      <th>2009-01-04</th>\n",
       "      <td>0.160417</td>\n",
       "      <td>0.113750</td>\n",
       "      <td>0.018417</td>\n",
       "    </tr>\n",
       "    <tr>\n",
       "      <th>2009-01-05</th>\n",
       "      <td>0.161500</td>\n",
       "      <td>0.115167</td>\n",
       "      <td>0.021583</td>\n",
       "    </tr>\n",
       "  </tbody>\n",
       "</table>\n",
       "</div>"
      ],
      "text/plain": [
       "             L06_347  LS06_347  LS06_348\n",
       "Time                                    \n",
       "2009-01-01  0.140917  0.097500  0.017583\n",
       "2009-01-02  0.147833  0.101917  0.016833\n",
       "2009-01-03  0.135833  0.092500  0.016833\n",
       "2009-01-04  0.160417  0.113750  0.018417\n",
       "2009-01-05  0.161500  0.115167  0.021583"
      ]
     },
     "execution_count": 44,
     "metadata": {},
     "output_type": "execute_result"
    }
   ],
   "source": [
    "data.resample('D').max().head()"
   ]
  },
  {
   "cell_type": "markdown",
   "id": "ac81a045",
   "metadata": {},
   "source": [
    "<div class=\"alert alert-info\">\n",
    "<b>REMEMBER</b>: <br><br>\n",
    "\n",
    "The string to specify the new time frequency: http://pandas.pydata.org/pandas-docs/stable/user_guide/timeseries.html#offset-aliases <br>\n",
    "\n",
    "These strings can also be combined with numbers, eg `'10D'`...\n",
    "\n",
    "</div>"
   ]
  },
  {
   "cell_type": "code",
   "execution_count": 49,
   "id": "c69242c7",
   "metadata": {},
   "outputs": [
    {
     "data": {
      "text/plain": [
       "<Axes: xlabel='Time'>"
      ]
     },
     "execution_count": 49,
     "metadata": {},
     "output_type": "execute_result"
    },
    {
     "data": {
      "image/png": "[encoded data removed]",
      "text/plain": [
       "<Figure size 640x480 with 1 Axes>"
      ]
     },
     "metadata": {},
     "output_type": "display_data"
    }
   ],
   "source": [
    "data.resample('ME').mean().plot() # 10D, MS"
   ]
  },
  {
   "cell_type": "markdown",
   "id": "ffdcd329",
   "metadata": {},
   "source": [
    "<div class=\"alert alert-success\">\n",
    "\n",
    "**EXERCISE**\n",
    "\n",
    "Plot the monthly standard deviation of the columns. Use the last day of each month to represent the month.\n",
    "\n",
    "<details><summary>Hints</summary>\n",
    "\n",
    "* Pandas has both a [`ME` and `MS` month (offset)](https://pandas.pydata.org/pandas-docs/stable/user_guide/timeseries.html#dateoffset-objects) to represent the month by the 'calendar month end' (`ME`) or 'calendar month start' (`MS`) respectively.\n",
    "\n",
    "</details>\n",
    "    \n",
    "</div>"
   ]
  },
  {
   "cell_type": "code",
   "execution_count": 53,
   "id": "037f5b47",
   "metadata": {
    "tags": [
     "nbtutor-solution"
    ]
   },
   "outputs": [
    {
     "data": {
      "text/plain": [
       "<Axes: xlabel='Time'>"
      ]
     },
     "execution_count": 53,
     "metadata": {},
     "output_type": "execute_result"
    },
    {
     "data": {
      "image/png": "[encoded data removed]",
      "text/plain": [
       "<Figure size 640x480 with 1 Axes>"
      ]
     },
     "metadata": {},
     "output_type": "display_data"
    }
   ],
   "source": [
    "data.resample('ME').std().plot() # 'A'"
   ]
  },
  {
   "cell_type": "markdown",
   "id": "bfa2c82c",
   "metadata": {},
   "source": [
    "<div class=\"alert alert-success\">\n",
    "\n",
    "**EXERCISE**\n",
    "\n",
    "Plot the monthly mean and median values for the years 2011-2012 for 'L06_347'. Use the last day of each month to represent the month.\n",
    "\n",
    "<details><summary>Hints</summary>\n",
    "\n",
    "* Did you know <a href=\"https://pandas.pydata.org/pandas-docs/stable/reference/api/pandas.DataFrame.agg.html\"><code>agg</code></a> to derive multiple statistics at the same time?\n",
    "\n",
    "</details>\n",
    "\n",
    "</div>"
   ]
  },
  {
   "cell_type": "code",
   "execution_count": 54,
   "id": "edf270bf",
   "metadata": {
    "tags": [
     "nbtutor-solution"
    ]
   },
   "outputs": [
    {
     "data": {
      "text/plain": [
       "<Axes: xlabel='Time'>"
      ]
     },
     "execution_count": 54,
     "metadata": {},
     "output_type": "execute_result"
    },
    {
     "data": {
      "image/png": "[encoded data removed]",
      "text/plain": [
       "<Figure size 640x480 with 1 Axes>"
      ]
     },
     "metadata": {},
     "output_type": "display_data"
    }
   ],
   "source": [
    "subset = data['2011':'2012']['L06_347']\n",
    "subset.resample('ME').agg(['mean', 'median']).plot()"
   ]
  },
  {
   "cell_type": "markdown",
   "id": "9728d8dc",
   "metadata": {},
   "source": [
    "<div class=\"alert alert-success\">\n",
    "\n",
    "**EXERCISE**\n",
    "\n",
    "Plot the monthly mininum and maximum daily average value of the 'LS06_348' column. Use the first day of each month to represent the month."
   ]
  },
  {
   "cell_type": "code",
   "execution_count": 56,
   "id": "c0557860",
   "metadata": {
    "tags": [
     "nbtutor-solution"
    ]
   },
   "outputs": [],
   "source": [
    "daily = data['LS06_348'].resample('D').mean() # daily averages calculated"
   ]
  },
  {
   "cell_type": "code",
   "execution_count": 57,
   "id": "20126280",
   "metadata": {
    "tags": [
     "nbtutor-solution"
    ]
   },
   "outputs": [
    {
     "data": {
      "text/plain": [
       "<Axes: xlabel='Time'>"
      ]
     },
     "execution_count": 57,
     "metadata": {},
     "output_type": "execute_result"
    },
    {
     "data": {
      "image/png": "[encoded data removed]",
      "text/plain": [
       "<Figure size 640x480 with 1 Axes>"
      ]
     },
     "metadata": {},
     "output_type": "display_data"
    }
   ],
   "source": [
    "daily.resample('MS').agg(['min', 'max']).plot() # monthly minimum and maximum values of these daily averages"
   ]
  },
  {
   "cell_type": "markdown",
   "id": "131791a8",
   "metadata": {},
   "source": [
    "<div class=\"alert alert-success\">\n",
    "    \n",
    "**EXERCISE**\n",
    "    \n",
    "Make a bar plot of the mean of the stations in year of 2013\n",
    "\n",
    "<details><summary>Hints</summary>\n",
    "\n",
    "* If you can directly slice and aggregate the data, you do not have to use resample.\n",
    "\n",
    "</details>\n",
    "\n",
    "</div>"
   ]
  },
  {
   "cell_type": "code",
   "execution_count": 58,
   "id": "e0a18e44",
   "metadata": {
    "tags": [
     "nbtutor-solution"
    ]
   },
   "outputs": [
    {
     "data": {
      "text/plain": [
       "<Axes: >"
      ]
     },
     "execution_count": 58,
     "metadata": {},
     "output_type": "execute_result"
    },
    {
     "data": {
      "image/png": "[encoded data removed]",
      "text/plain": [
       "<Figure size 640x480 with 1 Axes>"
      ]
     },
     "metadata": {},
     "output_type": "display_data"
    }
   ],
   "source": [
    "data['2013':'2013'].mean().plot(kind='barh')"
   ]
  },
  {
   "cell_type": "code",
   "execution_count": null,
   "id": "d6b2206c-f667-4de9-9abd-9f0280a983ab",
   "metadata": {},
   "outputs": [],
   "source": []
  }
 ],
 "metadata": {
  "jupytext": {
   "formats": "ipynb,md:myst"
  },
  "kernelspec": {
   "display_name": "Python 3 (ipykernel)",
   "language": "python",
   "name": "python3"
  },
  "language_info": {
   "codemirror_mode": {
    "name": "ipython",
    "version": 3
   },
   "file_extension": ".py",
   "mimetype": "text/x-python",
   "name": "python",
   "nbconvert_exporter": "python",
   "pygments_lexer": "ipython3",
   "version": "3.11.10"
  },
  "widgets": {
   "application/vnd.jupyter.widget-state+json": {
    "state": {
     "bb9585b095264ad3a00cc7388d30b86b": {
      "model_module": "@jupyter-widgets/base",
      "model_module_version": "1.2.0",
      "model_name": "LayoutModel",
      "state": {}
     },
     "d9bdb65c08184bbe8f10e619f7de1905": {
      "model_module": "jupyter-matplotlib",
      "model_module_version": "^0.10.5",
      "model_name": "ToolbarModel",
      "state": {
       "collapsed": true,
       "layout": "IPY_MODEL_bb9585b095264ad3a00cc7388d30b86b",
       "orientation": "vertical",
       "toolitems": [
        [
         "Home",
         "Reset original view",
         "home",
         "home"
        ],
        [
         "Back",
         "Back to previous view",
         "arrow-left",
         "back"
        ],
        [
         "Forward",
         "Forward to next view",
         "arrow-right",
         "forward"
        ],
        [
         "Pan",
         "Left button pans, Right button zooms\nx/y fixes axis, CTRL fixes aspect",
         "arrows",
         "pan"
        ],
        [
         "Zoom",
         "Zoom to rectangle\nx/y fixes axis",
         "square-o",
         "zoom"
        ],
        [
         "Download",
         "Download plot",
         "floppy-o",
         "save_figure"
        ]
       ]
      }
     },
     "db1275c7e2c3491f8a74c49ab6b41e69": {
      "model_module": "@jupyter-widgets/base",
      "model_module_version": "1.2.0",
      "model_name": "LayoutModel",
      "state": {}
     }
    },
    "version_major": 2,
    "version_minor": 0
   }
  }
 },
 "nbformat": 4,
 "nbformat_minor": 5
}
