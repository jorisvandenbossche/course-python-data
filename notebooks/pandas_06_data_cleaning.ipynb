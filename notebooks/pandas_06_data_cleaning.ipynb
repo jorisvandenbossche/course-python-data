{
 "cells": [
  {
   "cell_type": "markdown",
   "id": "a4812285-6a36-429e-835d-5c5584c9e9e2",
   "metadata": {},
   "source": [
    "<p><font size=\"6\"><b>06 - Pandas: Methods for data cleaning</b></font></p>\n",
    "\n",
    "> *© 2025, Joris Van den Bossche and Stijn Van Hoey  (<mailto:jorisvandenbossche@gmail.com>, <mailto:stijnvanhoey@gmail.com>). Licensed under [CC BY 4.0 Creative Commons](http://creativecommons.org/licenses/by/4.0/)*\n",
    "\n",
    "---"
   ]
  },
  {
   "cell_type": "code",
   "execution_count": 1,
   "id": "90802025-748e-4f6e-b26f-0c76c786e49c",
   "metadata": {
    "tags": []
   },
   "outputs": [],
   "source": [
    "import pandas as pd\n",
    "\n",
    "import numpy as np\n",
    "import matplotlib.pyplot as plt"
   ]
  },
  {
   "cell_type": "markdown",
   "id": "02d8cdab-3d12-42ae-a997-cfcd99f418a2",
   "metadata": {},
   "source": [
    "A number of Pandas functions are useful when cleaning up raw data and converting it to a data set ready for analysis and visualisation. In this notebook a selection of methods are introduced:\n",
    "\n",
    "- `drop`\n",
    "- `rename`\n",
    "- `replace`\n",
    "- `explode`\n",
    "- `drop_duplicates`/`duplicates`\n",
    "- `astype`\n",
    "- `unique`\n",
    "- `.str.`-methods\n",
    "\n",
    "__Note:__ Working with _missing values_ is tackled in a dedicated notebook [pandas_07_missing_values](./pandas_07_missing_values.ipynb)."
   ]
  },
  {
   "cell_type": "markdown",
   "id": "4e97721c-253f-4f25-bd32-7b9c1e97806c",
   "metadata": {},
   "source": [
    "We showcase using a _dirty_ example data:"
   ]
  },
  {
   "cell_type": "code",
   "execution_count": 2,
   "id": "74f85056-b3f1-4c79-9ebd-ee9a0309f0c8",
   "metadata": {
    "tags": []
   },
   "outputs": [
    {
     "data": {
      "text/html": [
       "<div>\n",
       "<style scoped>\n",
       "    .dataframe tbody tr th:only-of-type {\n",
       "        vertical-align: middle;\n",
       "    }\n",
       "\n",
       "    .dataframe tbody tr th {\n",
       "        vertical-align: top;\n",
       "    }\n",
       "\n",
       "    .dataframe thead th {\n",
       "        text-align: right;\n",
       "    }\n",
       "</style>\n",
       "<table border=\"1\" class=\"dataframe\">\n",
       "  <thead>\n",
       "    <tr style=\"text-align: right;\">\n",
       "      <th></th>\n",
       "      <th>county name</th>\n",
       "      <th>population</th>\n",
       "      <th>area</th>\n",
       "      <th>capital</th>\n",
       "    </tr>\n",
       "  </thead>\n",
       "  <tbody>\n",
       "    <tr>\n",
       "      <th>0</th>\n",
       "      <td>Belgium</td>\n",
       "      <td>11.3</td>\n",
       "      <td>30510</td>\n",
       "      <td>Brussels</td>\n",
       "    </tr>\n",
       "    <tr>\n",
       "      <th>1</th>\n",
       "      <td>Flance</td>\n",
       "      <td>64.3</td>\n",
       "      <td>671308</td>\n",
       "      <td>Paris</td>\n",
       "    </tr>\n",
       "    <tr>\n",
       "      <th>2</th>\n",
       "      <td>Germany</td>\n",
       "      <td>81.3</td>\n",
       "      <td>357050</td>\n",
       "      <td>Barlin</td>\n",
       "    </tr>\n",
       "    <tr>\n",
       "      <th>3</th>\n",
       "      <td>Netherlands</td>\n",
       "      <td>16.9</td>\n",
       "      <td>41526</td>\n",
       "      <td>Amsterdam</td>\n",
       "    </tr>\n",
       "    <tr>\n",
       "      <th>4</th>\n",
       "      <td>[United Kingdom, Germany]</td>\n",
       "      <td>64.9</td>\n",
       "      <td>[244820, nan]</td>\n",
       "      <td>London</td>\n",
       "    </tr>\n",
       "  </tbody>\n",
       "</table>\n",
       "</div>"
      ],
      "text/plain": [
       "                 county name  population           area          capital\n",
       "0                    Belgium        11.3          30510         Brussels\n",
       "1                     Flance        64.3         671308   Paris         \n",
       "2                    Germany        81.3         357050           Barlin\n",
       "3                Netherlands        16.9          41526        Amsterdam\n",
       "4  [United Kingdom, Germany]        64.9  [244820, nan]           London"
      ]
     },
     "execution_count": 2,
     "metadata": {},
     "output_type": "execute_result"
    }
   ],
   "source": [
    "countries = pd.DataFrame({'county name': ['Belgium', 'Flance', 'Germany', 'Netherlands', ['United Kingdom', 'Germany']],\n",
    "                          'population': [11.3, 64.3, 81.3, 16.9, 64.9],\n",
    "                          'area': [30510, 671308, 357050, 41526, [244820, np.nan]],\n",
    "                          'capital': ['Brussels', ' Paris         ', 'Barlin', 'Amsterdam', 'London']})\n",
    "countries"
   ]
  },
  {
   "cell_type": "markdown",
   "id": "a6cdf333-68d3-4465-9882-4823e277a52e",
   "metadata": {},
   "source": [
    "## `drop`"
   ]
  },
  {
   "cell_type": "markdown",
   "id": "171c3ac6-818d-462e-948f-d46bc9ec10d6",
   "metadata": {},
   "source": [
    "Drop columns (or rows) by name (this can also be achieved by selecting the columns you want to keep, but if you only want to drop a few columns, `drop()` is easier). Specify a list of column names to drop:"
   ]
  },
  {
   "cell_type": "code",
   "execution_count": 3,
   "id": "9f453823-28f0-4a50-bcc0-e52d731f0461",
   "metadata": {
    "tags": []
   },
   "outputs": [
    {
     "data": {
      "text/html": [
       "<div>\n",
       "<style scoped>\n",
       "    .dataframe tbody tr th:only-of-type {\n",
       "        vertical-align: middle;\n",
       "    }\n",
       "\n",
       "    .dataframe tbody tr th {\n",
       "        vertical-align: top;\n",
       "    }\n",
       "\n",
       "    .dataframe thead th {\n",
       "        text-align: right;\n",
       "    }\n",
       "</style>\n",
       "<table border=\"1\" class=\"dataframe\">\n",
       "  <thead>\n",
       "    <tr style=\"text-align: right;\">\n",
       "      <th></th>\n",
       "      <th>county name</th>\n",
       "      <th>population</th>\n",
       "    </tr>\n",
       "  </thead>\n",
       "  <tbody>\n",
       "    <tr>\n",
       "      <th>0</th>\n",
       "      <td>Belgium</td>\n",
       "      <td>11.3</td>\n",
       "    </tr>\n",
       "    <tr>\n",
       "      <th>1</th>\n",
       "      <td>Flance</td>\n",
       "      <td>64.3</td>\n",
       "    </tr>\n",
       "    <tr>\n",
       "      <th>2</th>\n",
       "      <td>Germany</td>\n",
       "      <td>81.3</td>\n",
       "    </tr>\n",
       "    <tr>\n",
       "      <th>3</th>\n",
       "      <td>Netherlands</td>\n",
       "      <td>16.9</td>\n",
       "    </tr>\n",
       "    <tr>\n",
       "      <th>4</th>\n",
       "      <td>[United Kingdom, Germany]</td>\n",
       "      <td>64.9</td>\n",
       "    </tr>\n",
       "  </tbody>\n",
       "</table>\n",
       "</div>"
      ],
      "text/plain": [
       "                 county name  population\n",
       "0                    Belgium        11.3\n",
       "1                     Flance        64.3\n",
       "2                    Germany        81.3\n",
       "3                Netherlands        16.9\n",
       "4  [United Kingdom, Germany]        64.9"
      ]
     },
     "execution_count": 3,
     "metadata": {},
     "output_type": "execute_result"
    }
   ],
   "source": [
    "countries.drop(columns=[\"area\", \"capital\"])"
   ]
  },
  {
   "cell_type": "markdown",
   "id": "73b36bfe-8bc0-44c6-b428-437948119ddd",
   "metadata": {},
   "source": [
    "## `rename`"
   ]
  },
  {
   "cell_type": "markdown",
   "id": "fe9c002a-46c7-4071-8c42-209c22def4bf",
   "metadata": {},
   "source": [
    "Use a `dict` with the dictionary keys the old column/index name and the dictionary values the new column/index name:"
   ]
  },
  {
   "cell_type": "code",
   "execution_count": 4,
   "id": "5fa011ea-567f-400a-a200-e6ab060f63fc",
   "metadata": {
    "tags": []
   },
   "outputs": [],
   "source": [
    "countries = countries.rename(columns={\"county name\": \"country\"})"
   ]
  },
  {
   "cell_type": "markdown",
   "id": "c13529ed-882a-445f-ac15-cac7a205883c",
   "metadata": {},
   "source": [
    "## `replace`"
   ]
  },
  {
   "cell_type": "markdown",
   "id": "91ec7c37-f40a-4d2a-bc90-e374f82e8148",
   "metadata": {},
   "source": [
    "Replace values in a column. Different inputs can be used. The most basic one is providing a value `to_replace` and a new `value`:"
   ]
  },
  {
   "cell_type": "code",
   "execution_count": 5,
   "id": "d2534e99-574e-411b-9dad-1e2bce088d43",
   "metadata": {
    "tags": []
   },
   "outputs": [
    {
     "data": {
      "text/plain": [
       "0           Brussels\n",
       "1     Paris         \n",
       "2             Berlin\n",
       "3          Amsterdam\n",
       "4             London\n",
       "Name: capital, dtype: object"
      ]
     },
     "execution_count": 5,
     "metadata": {},
     "output_type": "execute_result"
    }
   ],
   "source": [
    "countries[\"capital\"].replace(\"Barlin\", \"Berlin\")"
   ]
  },
  {
   "cell_type": "markdown",
   "id": "1099b12d-d5ba-4d81-b6c7-8d7851c60cd4",
   "metadata": {},
   "source": [
    "Similar to `rename`, one can use a `dict` with the dictionary keys the old data and the dictionary values the new data:"
   ]
  },
  {
   "cell_type": "code",
   "execution_count": 6,
   "id": "f82b5b7f-50b6-4ef8-a7ce-41c45aae61df",
   "metadata": {
    "tags": []
   },
   "outputs": [
    {
     "data": {
      "text/html": [
       "<div>\n",
       "<style scoped>\n",
       "    .dataframe tbody tr th:only-of-type {\n",
       "        vertical-align: middle;\n",
       "    }\n",
       "\n",
       "    .dataframe tbody tr th {\n",
       "        vertical-align: top;\n",
       "    }\n",
       "\n",
       "    .dataframe thead th {\n",
       "        text-align: right;\n",
       "    }\n",
       "</style>\n",
       "<table border=\"1\" class=\"dataframe\">\n",
       "  <thead>\n",
       "    <tr style=\"text-align: right;\">\n",
       "      <th></th>\n",
       "      <th>country</th>\n",
       "      <th>population</th>\n",
       "      <th>area</th>\n",
       "      <th>capital</th>\n",
       "    </tr>\n",
       "  </thead>\n",
       "  <tbody>\n",
       "    <tr>\n",
       "      <th>0</th>\n",
       "      <td>Belgium</td>\n",
       "      <td>11.3</td>\n",
       "      <td>30510</td>\n",
       "      <td>Brussels</td>\n",
       "    </tr>\n",
       "    <tr>\n",
       "      <th>1</th>\n",
       "      <td>France</td>\n",
       "      <td>64.3</td>\n",
       "      <td>671308</td>\n",
       "      <td>Paris</td>\n",
       "    </tr>\n",
       "    <tr>\n",
       "      <th>2</th>\n",
       "      <td>Germany</td>\n",
       "      <td>81.3</td>\n",
       "      <td>357050</td>\n",
       "      <td>Berlin</td>\n",
       "    </tr>\n",
       "    <tr>\n",
       "      <th>3</th>\n",
       "      <td>Netherlands</td>\n",
       "      <td>16.9</td>\n",
       "      <td>41526</td>\n",
       "      <td>Amsterdam</td>\n",
       "    </tr>\n",
       "    <tr>\n",
       "      <th>4</th>\n",
       "      <td>[United Kingdom, Germany]</td>\n",
       "      <td>64.9</td>\n",
       "      <td>[244820, nan]</td>\n",
       "      <td>London</td>\n",
       "    </tr>\n",
       "  </tbody>\n",
       "</table>\n",
       "</div>"
      ],
      "text/plain": [
       "                     country  population           area          capital\n",
       "0                    Belgium        11.3          30510         Brussels\n",
       "1                     France        64.3         671308   Paris         \n",
       "2                    Germany        81.3         357050           Berlin\n",
       "3                Netherlands        16.9          41526        Amsterdam\n",
       "4  [United Kingdom, Germany]        64.9  [244820, nan]           London"
      ]
     },
     "execution_count": 6,
     "metadata": {},
     "output_type": "execute_result"
    }
   ],
   "source": [
    "countries = countries.replace({\"Barlin\": \"Berlin\", \"Flance\": \"France\"})\n",
    "countries"
   ]
  },
  {
   "cell_type": "markdown",
   "id": "5555d90c-a704-41e9-a293-00e3618a5edf",
   "metadata": {},
   "source": [
    "## `explode`"
   ]
  },
  {
   "cell_type": "markdown",
   "id": "b59ae2c1-4ab4-4d66-80c6-d5b9ddba5204",
   "metadata": {},
   "source": [
    "[`explode`](https://pandas.pydata.org/docs/reference/api/pandas.DataFrame.explode.html) multiple values in a cell to individual records (rows). Not regularly required, but very powerful when in case:"
   ]
  },
  {
   "cell_type": "code",
   "execution_count": 7,
   "id": "ced4c48f-443b-421f-9c67-e3695213774a",
   "metadata": {
    "tags": []
   },
   "outputs": [
    {
     "data": {
      "text/html": [
       "<div>\n",
       "<style scoped>\n",
       "    .dataframe tbody tr th:only-of-type {\n",
       "        vertical-align: middle;\n",
       "    }\n",
       "\n",
       "    .dataframe tbody tr th {\n",
       "        vertical-align: top;\n",
       "    }\n",
       "\n",
       "    .dataframe thead th {\n",
       "        text-align: right;\n",
       "    }\n",
       "</style>\n",
       "<table border=\"1\" class=\"dataframe\">\n",
       "  <thead>\n",
       "    <tr style=\"text-align: right;\">\n",
       "      <th></th>\n",
       "      <th>country</th>\n",
       "      <th>population</th>\n",
       "      <th>area</th>\n",
       "      <th>capital</th>\n",
       "    </tr>\n",
       "  </thead>\n",
       "  <tbody>\n",
       "    <tr>\n",
       "      <th>0</th>\n",
       "      <td>Belgium</td>\n",
       "      <td>11.3</td>\n",
       "      <td>30510</td>\n",
       "      <td>Brussels</td>\n",
       "    </tr>\n",
       "    <tr>\n",
       "      <th>1</th>\n",
       "      <td>France</td>\n",
       "      <td>64.3</td>\n",
       "      <td>671308</td>\n",
       "      <td>Paris</td>\n",
       "    </tr>\n",
       "    <tr>\n",
       "      <th>2</th>\n",
       "      <td>Germany</td>\n",
       "      <td>81.3</td>\n",
       "      <td>357050</td>\n",
       "      <td>Berlin</td>\n",
       "    </tr>\n",
       "    <tr>\n",
       "      <th>3</th>\n",
       "      <td>Netherlands</td>\n",
       "      <td>16.9</td>\n",
       "      <td>41526</td>\n",
       "      <td>Amsterdam</td>\n",
       "    </tr>\n",
       "    <tr>\n",
       "      <th>4</th>\n",
       "      <td>United Kingdom</td>\n",
       "      <td>64.9</td>\n",
       "      <td>244820</td>\n",
       "      <td>London</td>\n",
       "    </tr>\n",
       "    <tr>\n",
       "      <th>4</th>\n",
       "      <td>Germany</td>\n",
       "      <td>64.9</td>\n",
       "      <td>NaN</td>\n",
       "      <td>London</td>\n",
       "    </tr>\n",
       "  </tbody>\n",
       "</table>\n",
       "</div>"
      ],
      "text/plain": [
       "          country  population    area          capital\n",
       "0         Belgium        11.3   30510         Brussels\n",
       "1          France        64.3  671308   Paris         \n",
       "2         Germany        81.3  357050           Berlin\n",
       "3     Netherlands        16.9   41526        Amsterdam\n",
       "4  United Kingdom        64.9  244820           London\n",
       "4         Germany        64.9     NaN           London"
      ]
     },
     "execution_count": 7,
     "metadata": {},
     "output_type": "execute_result"
    }
   ],
   "source": [
    "countries_exploded = countries.explode([\"country\", \"area\"])\n",
    "countries_exploded"
   ]
  },
  {
   "cell_type": "markdown",
   "id": "95e6ebaa-de35-4ad8-a489-c3e82d758ec1",
   "metadata": {},
   "source": [
    "## `drop_duplicates`"
   ]
  },
  {
   "cell_type": "markdown",
   "id": "265e968e-b9f4-47bf-8498-20252be66850",
   "metadata": {},
   "source": [
    "Checking duplicate values in a data set with [`duplicated`](https://pandas.pydata.org/docs/reference/api/pandas.DataFrame.duplicated.html) or remove duplicate values with [`drop_duplicates`](https://pandas.pydata.org/docs/reference/api/pandas.DataFrame.drop_duplicates.html):"
   ]
  },
  {
   "cell_type": "code",
   "execution_count": 8,
   "id": "c16e5068-77c9-480d-a38d-68809a070335",
   "metadata": {
    "tags": []
   },
   "outputs": [
    {
     "data": {
      "text/plain": [
       "0    False\n",
       "1    False\n",
       "2    False\n",
       "3    False\n",
       "4    False\n",
       "4     True\n",
       "dtype: bool"
      ]
     },
     "execution_count": 8,
     "metadata": {},
     "output_type": "execute_result"
    }
   ],
   "source": [
    "countries_exploded.duplicated(subset=[\"country\"])"
   ]
  },
  {
   "cell_type": "code",
   "execution_count": 9,
   "id": "c44e00e3-ce22-49a9-bba0-1638e119f336",
   "metadata": {
    "tags": []
   },
   "outputs": [
    {
     "data": {
      "text/html": [
       "<div>\n",
       "<style scoped>\n",
       "    .dataframe tbody tr th:only-of-type {\n",
       "        vertical-align: middle;\n",
       "    }\n",
       "\n",
       "    .dataframe tbody tr th {\n",
       "        vertical-align: top;\n",
       "    }\n",
       "\n",
       "    .dataframe thead th {\n",
       "        text-align: right;\n",
       "    }\n",
       "</style>\n",
       "<table border=\"1\" class=\"dataframe\">\n",
       "  <thead>\n",
       "    <tr style=\"text-align: right;\">\n",
       "      <th></th>\n",
       "      <th>country</th>\n",
       "      <th>population</th>\n",
       "      <th>area</th>\n",
       "      <th>capital</th>\n",
       "    </tr>\n",
       "  </thead>\n",
       "  <tbody>\n",
       "    <tr>\n",
       "      <th>0</th>\n",
       "      <td>Belgium</td>\n",
       "      <td>11.3</td>\n",
       "      <td>30510</td>\n",
       "      <td>Brussels</td>\n",
       "    </tr>\n",
       "    <tr>\n",
       "      <th>1</th>\n",
       "      <td>France</td>\n",
       "      <td>64.3</td>\n",
       "      <td>671308</td>\n",
       "      <td>Paris</td>\n",
       "    </tr>\n",
       "    <tr>\n",
       "      <th>2</th>\n",
       "      <td>Germany</td>\n",
       "      <td>81.3</td>\n",
       "      <td>357050</td>\n",
       "      <td>Berlin</td>\n",
       "    </tr>\n",
       "    <tr>\n",
       "      <th>3</th>\n",
       "      <td>Netherlands</td>\n",
       "      <td>16.9</td>\n",
       "      <td>41526</td>\n",
       "      <td>Amsterdam</td>\n",
       "    </tr>\n",
       "    <tr>\n",
       "      <th>4</th>\n",
       "      <td>United Kingdom</td>\n",
       "      <td>64.9</td>\n",
       "      <td>244820</td>\n",
       "      <td>London</td>\n",
       "    </tr>\n",
       "  </tbody>\n",
       "</table>\n",
       "</div>"
      ],
      "text/plain": [
       "          country  population    area          capital\n",
       "0         Belgium        11.3   30510         Brussels\n",
       "1          France        64.3  671308   Paris         \n",
       "2         Germany        81.3  357050           Berlin\n",
       "3     Netherlands        16.9   41526        Amsterdam\n",
       "4  United Kingdom        64.9  244820           London"
      ]
     },
     "execution_count": 9,
     "metadata": {},
     "output_type": "execute_result"
    }
   ],
   "source": [
    "countries_exploded = countries_exploded.drop_duplicates(subset=[\"country\"], keep=\"first\").copy()  # More on this copy later\n",
    "countries_exploded"
   ]
  },
  {
   "cell_type": "markdown",
   "id": "51a6c735-177b-4781-98d0-ab0a8da3b4b4",
   "metadata": {},
   "source": [
    "## `astype`"
   ]
  },
  {
   "cell_type": "markdown",
   "id": "3fd380de-35c0-4067-8d58-e38d0ad2a6b5",
   "metadata": {},
   "source": [
    "Pandas read functions might not always use the most appropriate data type for each of the columns. Converting them to a different data type can also improve the memory usage of the DataFrame (e.g. `int16` versus `float64`). The [`astype` ](https://pandas.pydata.org/docs/reference/api/pandas.DataFrame.astype.html) method supports data type conversion to both [Numpy data types](https://numpy.org/doc/stable/user/basics.types.html) as well as [Pandas specific data types](https://pandas.pydata.org/docs/user_guide/basics.html#dtypes)."
   ]
  },
  {
   "cell_type": "code",
   "execution_count": 10,
   "id": "b7cbd21b-5534-4546-8992-d291c6ab2e74",
   "metadata": {
    "tags": []
   },
   "outputs": [
    {
     "data": {
      "text/plain": [
       "country        object\n",
       "population    float64\n",
       "area           object\n",
       "capital        object\n",
       "dtype: object"
      ]
     },
     "execution_count": 10,
     "metadata": {},
     "output_type": "execute_result"
    }
   ],
   "source": [
    "countries_exploded.dtypes"
   ]
  },
  {
   "cell_type": "code",
   "execution_count": 11,
   "id": "e5ea90e1-c7e8-4478-b6bb-b8185baa1a64",
   "metadata": {
    "tags": []
   },
   "outputs": [],
   "source": [
    "countries_exploded[\"area\"] = countries_exploded[\"area\"].astype(int)"
   ]
  },
  {
   "cell_type": "code",
   "execution_count": 12,
   "id": "3e815f85-9ba3-4518-af7b-84f63652e653",
   "metadata": {
    "tags": []
   },
   "outputs": [
    {
     "data": {
      "text/plain": [
       "country        object\n",
       "population    float64\n",
       "area            int64\n",
       "capital        object\n",
       "dtype: object"
      ]
     },
     "execution_count": 12,
     "metadata": {},
     "output_type": "execute_result"
    }
   ],
   "source": [
    "countries_exploded.dtypes"
   ]
  },
  {
   "cell_type": "markdown",
   "id": "69700729-4c69-4915-b553-bdfb1057023b",
   "metadata": {},
   "source": [
    "## `unique`"
   ]
  },
  {
   "cell_type": "markdown",
   "id": "13bb810a-ebbd-4a59-a156-1f5d44d283c8",
   "metadata": {},
   "source": [
    "Working with larger data sets, knowing which values are in a column:"
   ]
  },
  {
   "cell_type": "code",
   "execution_count": 13,
   "id": "eca4ed82-6be2-4a35-9ad3-2c500cdd8e5f",
   "metadata": {
    "tags": []
   },
   "outputs": [
    {
     "data": {
      "text/plain": [
       "array(['Brussels', ' Paris         ', 'Berlin', 'Amsterdam', 'London'],\n",
       "      dtype=object)"
      ]
     },
     "execution_count": 13,
     "metadata": {},
     "output_type": "execute_result"
    }
   ],
   "source": [
    "countries_exploded[\"capital\"].unique()"
   ]
  },
  {
   "cell_type": "markdown",
   "id": "94871b4a-63ec-4639-9569-29f617dde75f",
   "metadata": {},
   "source": [
    "## `.str.`-methods"
   ]
  },
  {
   "cell_type": "markdown",
   "id": "4c958af1-5289-454a-ad30-0e64946e6029",
   "metadata": {},
   "source": [
    "Noticed the redundant spaces in the capital column? \n",
    "\n",
    "Whereas `replace` could work for this specific case (it also accepts _regular expressions_):\n",
    "\n",
    "```python\n",
    "countries_exploded[\"capital\"].replace(r\"^\\s+|\\s+\", \"\", regex=True)\n",
    "```\n",
    "\n",
    "Pandas provides a set of convenient __string__ methods to handle these (element-wise) cleaning of strings, each of them accessible with the `.str.` accessor (e.g. `str.split`, `str.startswith`, `removeprefix`):"
   ]
  },
  {
   "cell_type": "code",
   "execution_count": 14,
   "id": "275fce29-55a2-4992-8c2b-01fd709762ae",
   "metadata": {
    "tags": []
   },
   "outputs": [
    {
     "data": {
      "text/plain": [
       "array(['Brussels', 'Paris', 'Berlin', 'Amsterdam', 'London'], dtype=object)"
      ]
     },
     "execution_count": 14,
     "metadata": {},
     "output_type": "execute_result"
    }
   ],
   "source": [
    "countries_exploded[\"capital\"] = countries_exploded[\"capital\"].str.strip()\n",
    "countries_exploded[\"capital\"].unique()"
   ]
  },
  {
   "cell_type": "markdown",
   "id": "116ffaf6-f2c7-4569-8092-874280f27e28",
   "metadata": {},
   "source": [
    "<div class=\"alert alert-info\">\n",
    "    \n",
    "__INFO__\n",
    "\n",
    "For an overview of the available `.str.`-methods, see https://pandas.pydata.org/docs/user_guide/text.html#method-summary\n",
    "\n",
    "</div>"
   ]
  },
  {
   "cell_type": "markdown",
   "id": "4163319d-2d5b-4e17-babc-04c134e66bac",
   "metadata": {},
   "source": [
    "## Exercises: application on a real dataset"
   ]
  },
  {
   "cell_type": "markdown",
   "id": "b0ae559d-88f2-48c5-b6d3-fa579bdc9d48",
   "metadata": {},
   "source": [
    "For these exercises, we will use data of road casualties in Belgium in 2020 [made available by statbel](https://statbel.fgov.be/en/open-data/road-casualties-2020). The [metadata](https://statbel.fgov.be/sites/default/files/files/opendata/Verkeersslachtoffers/TF_ACCIDENTS_VICTIMS_META.xlsx) is available as well as a reference. The data contains the number of victims due to road causalities:\n",
    "\n",
    "- `MS_VCT`: Number of victims\n",
    "- `MS_VIC_OK`: Number of uninjured\n",
    "- `MS_SLY_INJ`: Number of slightly injured\n",
    "- `MS_SERLY_INJ`: Number of severely injured\n",
    "- `MS_MORY_INJ`: Number of mortally injured\n",
    "- `MS_DEAD`: Number of dead\n",
    "- `MS_DEAD_30_DAYS`: Number of dead after 30 days\n",
    "\n",
    "Together with metadata about date and time, the victim and road type, light conditions, location,...\n",
    "\n",
    "Pandas can load the data directly from the `zip`-file :"
   ]
  },
  {
   "cell_type": "code",
   "execution_count": 15,
   "id": "8a55bbde-0a4f-4c7c-90a4-42324e69a647",
   "metadata": {
    "tags": []
   },
   "outputs": [
    {
     "data": {
      "text/html": [
       "<div>\n",
       "<style scoped>\n",
       "    .dataframe tbody tr th:only-of-type {\n",
       "        vertical-align: middle;\n",
       "    }\n",
       "\n",
       "    .dataframe tbody tr th {\n",
       "        vertical-align: top;\n",
       "    }\n",
       "\n",
       "    .dataframe thead th {\n",
       "        text-align: right;\n",
       "    }\n",
       "</style>\n",
       "<table border=\"1\" class=\"dataframe\">\n",
       "  <thead>\n",
       "    <tr style=\"text-align: right;\">\n",
       "      <th></th>\n",
       "      <th>DT_DAY</th>\n",
       "      <th>DT_HOUR</th>\n",
       "      <th>CD_DAY_OF_WEEK</th>\n",
       "      <th>TX_DAY_OF_WEEK_DESCR_FR</th>\n",
       "      <th>TX_DAY_OF_WEEK_DESCR_NL</th>\n",
       "      <th>MS_VICT</th>\n",
       "      <th>MS_VIC_OK</th>\n",
       "      <th>MS_SLY_INJ</th>\n",
       "      <th>MS_SERLY_INJ</th>\n",
       "      <th>MS_DEAD_30_DAYS</th>\n",
       "      <th>...</th>\n",
       "      <th>TX_ADM_DSTR_DESCR_NL</th>\n",
       "      <th>CD_PROV_REFNIS</th>\n",
       "      <th>TX_PROV_DESCR_FR</th>\n",
       "      <th>TX_PROV_DESCR_NL</th>\n",
       "      <th>CD_RGN_REFNIS</th>\n",
       "      <th>TX_RGN_DESCR_FR</th>\n",
       "      <th>TX_RGN_DESCR_NL</th>\n",
       "      <th>CD_SEX</th>\n",
       "      <th>TX_SEX_DESCR_FR</th>\n",
       "      <th>TX_SEX_DESCR_NL</th>\n",
       "    </tr>\n",
       "  </thead>\n",
       "  <tbody>\n",
       "    <tr>\n",
       "      <th>0</th>\n",
       "      <td>2020-09-24</td>\n",
       "      <td>15</td>\n",
       "      <td>4</td>\n",
       "      <td>Jeudi</td>\n",
       "      <td>donderdag</td>\n",
       "      <td>1</td>\n",
       "      <td>0</td>\n",
       "      <td>1</td>\n",
       "      <td>0</td>\n",
       "      <td>0</td>\n",
       "      <td>...</td>\n",
       "      <td>Arrondissement Antwerpen</td>\n",
       "      <td>10000</td>\n",
       "      <td>Province d’Anvers</td>\n",
       "      <td>Provincie Antwerpen</td>\n",
       "      <td>2000</td>\n",
       "      <td>Région flamande</td>\n",
       "      <td>Vlaams Gewest</td>\n",
       "      <td>2</td>\n",
       "      <td>Féminin</td>\n",
       "      <td>Vrouwelijk</td>\n",
       "    </tr>\n",
       "    <tr>\n",
       "      <th>1</th>\n",
       "      <td>2020-10-25</td>\n",
       "      <td>14</td>\n",
       "      <td>7</td>\n",
       "      <td>Dimanche</td>\n",
       "      <td>zondag</td>\n",
       "      <td>1</td>\n",
       "      <td>0</td>\n",
       "      <td>1</td>\n",
       "      <td>0</td>\n",
       "      <td>0</td>\n",
       "      <td>...</td>\n",
       "      <td>Arrondissement Antwerpen</td>\n",
       "      <td>10000</td>\n",
       "      <td>Province d’Anvers</td>\n",
       "      <td>Provincie Antwerpen</td>\n",
       "      <td>2000</td>\n",
       "      <td>Région flamande</td>\n",
       "      <td>Vlaams Gewest</td>\n",
       "      <td>1</td>\n",
       "      <td>Masculin</td>\n",
       "      <td>Mannelijk</td>\n",
       "    </tr>\n",
       "    <tr>\n",
       "      <th>2</th>\n",
       "      <td>2020-09-24</td>\n",
       "      <td>15</td>\n",
       "      <td>4</td>\n",
       "      <td>Jeudi</td>\n",
       "      <td>donderdag</td>\n",
       "      <td>1</td>\n",
       "      <td>0</td>\n",
       "      <td>1</td>\n",
       "      <td>0</td>\n",
       "      <td>0</td>\n",
       "      <td>...</td>\n",
       "      <td>Arrondissement Antwerpen</td>\n",
       "      <td>10000</td>\n",
       "      <td>Province d’Anvers</td>\n",
       "      <td>Provincie Antwerpen</td>\n",
       "      <td>2000</td>\n",
       "      <td>Région flamande</td>\n",
       "      <td>Vlaams Gewest</td>\n",
       "      <td>1</td>\n",
       "      <td>Masculin</td>\n",
       "      <td>Mannelijk</td>\n",
       "    </tr>\n",
       "    <tr>\n",
       "      <th>3</th>\n",
       "      <td>2020-12-01</td>\n",
       "      <td>15</td>\n",
       "      <td>2</td>\n",
       "      <td>Mardi</td>\n",
       "      <td>dinsdag</td>\n",
       "      <td>1</td>\n",
       "      <td>1</td>\n",
       "      <td>0</td>\n",
       "      <td>0</td>\n",
       "      <td>0</td>\n",
       "      <td>...</td>\n",
       "      <td>Arrondissement Antwerpen</td>\n",
       "      <td>10000</td>\n",
       "      <td>Province d’Anvers</td>\n",
       "      <td>Provincie Antwerpen</td>\n",
       "      <td>2000</td>\n",
       "      <td>Région flamande</td>\n",
       "      <td>Vlaams Gewest</td>\n",
       "      <td>1</td>\n",
       "      <td>Masculin</td>\n",
       "      <td>Mannelijk</td>\n",
       "    </tr>\n",
       "    <tr>\n",
       "      <th>4</th>\n",
       "      <td>2020-12-16</td>\n",
       "      <td>17</td>\n",
       "      <td>3</td>\n",
       "      <td>Mercredi</td>\n",
       "      <td>woensdag</td>\n",
       "      <td>1</td>\n",
       "      <td>0</td>\n",
       "      <td>1</td>\n",
       "      <td>0</td>\n",
       "      <td>0</td>\n",
       "      <td>...</td>\n",
       "      <td>Arrondissement Antwerpen</td>\n",
       "      <td>10000</td>\n",
       "      <td>Province d’Anvers</td>\n",
       "      <td>Provincie Antwerpen</td>\n",
       "      <td>2000</td>\n",
       "      <td>Région flamande</td>\n",
       "      <td>Vlaams Gewest</td>\n",
       "      <td>1</td>\n",
       "      <td>Masculin</td>\n",
       "      <td>Mannelijk</td>\n",
       "    </tr>\n",
       "  </tbody>\n",
       "</table>\n",
       "<p>5 rows × 43 columns</p>\n",
       "</div>"
      ],
      "text/plain": [
       "       DT_DAY  DT_HOUR  CD_DAY_OF_WEEK TX_DAY_OF_WEEK_DESCR_FR  \\\n",
       "0  2020-09-24       15               4                   Jeudi   \n",
       "1  2020-10-25       14               7                Dimanche   \n",
       "2  2020-09-24       15               4                   Jeudi   \n",
       "3  2020-12-01       15               2                   Mardi   \n",
       "4  2020-12-16       17               3                Mercredi   \n",
       "\n",
       "  TX_DAY_OF_WEEK_DESCR_NL  MS_VICT  MS_VIC_OK  MS_SLY_INJ  MS_SERLY_INJ  \\\n",
       "0               donderdag        1          0           1             0   \n",
       "1                  zondag        1          0           1             0   \n",
       "2               donderdag        1          0           1             0   \n",
       "3                 dinsdag        1          1           0             0   \n",
       "4                woensdag        1          0           1             0   \n",
       "\n",
       "   MS_DEAD_30_DAYS  ...      TX_ADM_DSTR_DESCR_NL CD_PROV_REFNIS  \\\n",
       "0                0  ...  Arrondissement Antwerpen          10000   \n",
       "1                0  ...  Arrondissement Antwerpen          10000   \n",
       "2                0  ...  Arrondissement Antwerpen          10000   \n",
       "3                0  ...  Arrondissement Antwerpen          10000   \n",
       "4                0  ...  Arrondissement Antwerpen          10000   \n",
       "\n",
       "    TX_PROV_DESCR_FR     TX_PROV_DESCR_NL CD_RGN_REFNIS  TX_RGN_DESCR_FR  \\\n",
       "0  Province d’Anvers  Provincie Antwerpen          2000  Région flamande   \n",
       "1  Province d’Anvers  Provincie Antwerpen          2000  Région flamande   \n",
       "2  Province d’Anvers  Provincie Antwerpen          2000  Région flamande   \n",
       "3  Province d’Anvers  Provincie Antwerpen          2000  Région flamande   \n",
       "4  Province d’Anvers  Provincie Antwerpen          2000  Région flamande   \n",
       "\n",
       "   TX_RGN_DESCR_NL CD_SEX TX_SEX_DESCR_FR  TX_SEX_DESCR_NL  \n",
       "0    Vlaams Gewest      2         Féminin       Vrouwelijk  \n",
       "1    Vlaams Gewest      1        Masculin        Mannelijk  \n",
       "2    Vlaams Gewest      1        Masculin        Mannelijk  \n",
       "3    Vlaams Gewest      1        Masculin        Mannelijk  \n",
       "4    Vlaams Gewest      1        Masculin        Mannelijk  \n",
       "\n",
       "[5 rows x 43 columns]"
      ]
     },
     "execution_count": 15,
     "metadata": {},
     "output_type": "execute_result"
    }
   ],
   "source": [
    "casualties_raw = pd.read_csv(\"./data/TF_ACCIDENTS_VICTIMS_2020.zip\", \n",
    "                         compression='zip', \n",
    "                         sep=\"|\", \n",
    "                         low_memory=False)\n",
    "casualties_raw.head()"
   ]
  },
  {
   "cell_type": "markdown",
   "id": "8f348c30-a8a4-4905-b230-0df46b5d3533",
   "metadata": {},
   "source": [
    "<div class=\"alert alert-info\">\n",
    "    \n",
    "__INTERMEZZO - display options__\n",
    "\n",
    "Pandas provides a number of configurable settings to display data, for example `display.max_rows`, `display.precision` and `display.max_columns`. When exploring a new data set, adjusting the `display.max_columns` setting is of particular interest to be able to scroll the full data set.\n",
    "    \n",
    "See https://pandas.pydata.org/docs/user_guide/options.html#options-and-settings for the documentation and an [overview of the available settings](https://pandas.pydata.org/docs/user_guide/options.html#available-options)\n",
    "\n",
    "</div>"
   ]
  },
  {
   "cell_type": "code",
   "execution_count": 16,
   "id": "341e9cb4-9507-4e0c-a5e6-b5e7524bcd70",
   "metadata": {
    "tags": []
   },
   "outputs": [],
   "source": [
    "pd.options.display.max_columns = 45"
   ]
  },
  {
   "cell_type": "code",
   "execution_count": 17,
   "id": "649719e5-2c8f-460f-8bd3-57920ac779c2",
   "metadata": {
    "tags": []
   },
   "outputs": [
    {
     "data": {
      "text/html": [
       "<div>\n",
       "<style scoped>\n",
       "    .dataframe tbody tr th:only-of-type {\n",
       "        vertical-align: middle;\n",
       "    }\n",
       "\n",
       "    .dataframe tbody tr th {\n",
       "        vertical-align: top;\n",
       "    }\n",
       "\n",
       "    .dataframe thead th {\n",
       "        text-align: right;\n",
       "    }\n",
       "</style>\n",
       "<table border=\"1\" class=\"dataframe\">\n",
       "  <thead>\n",
       "    <tr style=\"text-align: right;\">\n",
       "      <th></th>\n",
       "      <th>DT_DAY</th>\n",
       "      <th>DT_HOUR</th>\n",
       "      <th>CD_DAY_OF_WEEK</th>\n",
       "      <th>TX_DAY_OF_WEEK_DESCR_FR</th>\n",
       "      <th>TX_DAY_OF_WEEK_DESCR_NL</th>\n",
       "      <th>MS_VICT</th>\n",
       "      <th>MS_VIC_OK</th>\n",
       "      <th>MS_SLY_INJ</th>\n",
       "      <th>MS_SERLY_INJ</th>\n",
       "      <th>MS_DEAD_30_DAYS</th>\n",
       "      <th>CD_BUILD_UP_AREA</th>\n",
       "      <th>TX_BUILD_UP_AREA_DESCR_NL</th>\n",
       "      <th>TX_BUILD_UP_AREA_DESCR_FR</th>\n",
       "      <th>CD_VICT_TYPE</th>\n",
       "      <th>TX_VICT_TYPE_DESCR_FR</th>\n",
       "      <th>TX_VICT_TYPE_DESCR_NL</th>\n",
       "      <th>CD_ROAD_USER_TYPE</th>\n",
       "      <th>TX_ROAD_USR_TYPE_DESCR_FR</th>\n",
       "      <th>TX_ROAD_USR_TYPE_DESCR_NL</th>\n",
       "      <th>CD_ROAD_TYPE</th>\n",
       "      <th>TX_ROAD_TYPE_DESCR_FR</th>\n",
       "      <th>TX_ROAD_TYPE_DESCR_NL</th>\n",
       "      <th>CD_LIGHT_COND</th>\n",
       "      <th>TX_LIGHT_COND_DESCR_FR</th>\n",
       "      <th>TX_LIGHT_COND_DESCR_NL</th>\n",
       "      <th>CD_AGE_CLS</th>\n",
       "      <th>TX_AGE_CLS_DESCR_FR</th>\n",
       "      <th>TX_AGE_CLS_DESCR_NL</th>\n",
       "      <th>CD_MUNTY_REFNIS</th>\n",
       "      <th>TX_MUNTY_DESCR_FR</th>\n",
       "      <th>TX_MUNTY_DESCR_NL</th>\n",
       "      <th>CD_DSTR_REFNIS</th>\n",
       "      <th>TX_ADM_DSTR_DESCR_FR</th>\n",
       "      <th>TX_ADM_DSTR_DESCR_NL</th>\n",
       "      <th>CD_PROV_REFNIS</th>\n",
       "      <th>TX_PROV_DESCR_FR</th>\n",
       "      <th>TX_PROV_DESCR_NL</th>\n",
       "      <th>CD_RGN_REFNIS</th>\n",
       "      <th>TX_RGN_DESCR_FR</th>\n",
       "      <th>TX_RGN_DESCR_NL</th>\n",
       "      <th>CD_SEX</th>\n",
       "      <th>TX_SEX_DESCR_FR</th>\n",
       "      <th>TX_SEX_DESCR_NL</th>\n",
       "    </tr>\n",
       "  </thead>\n",
       "  <tbody>\n",
       "    <tr>\n",
       "      <th>0</th>\n",
       "      <td>2020-09-24</td>\n",
       "      <td>15</td>\n",
       "      <td>4</td>\n",
       "      <td>Jeudi</td>\n",
       "      <td>donderdag</td>\n",
       "      <td>1</td>\n",
       "      <td>0</td>\n",
       "      <td>1</td>\n",
       "      <td>0</td>\n",
       "      <td>0</td>\n",
       "      <td>1</td>\n",
       "      <td>Binnen bebouwde kom</td>\n",
       "      <td>En agglomération</td>\n",
       "      <td>1</td>\n",
       "      <td>Conducteur</td>\n",
       "      <td>Bestuurder</td>\n",
       "      <td>1</td>\n",
       "      <td>Voiture voyageurs</td>\n",
       "      <td>Personenauto</td>\n",
       "      <td>3</td>\n",
       "      <td>Route communale</td>\n",
       "      <td>Gemeenteweg</td>\n",
       "      <td>1</td>\n",
       "      <td>Plein jour</td>\n",
       "      <td>Bij klaarlichte dag</td>\n",
       "      <td>8</td>\n",
       "      <td>de 35 à 39 ans</td>\n",
       "      <td>35 tot 39 jaar</td>\n",
       "      <td>11001</td>\n",
       "      <td>Aartselaar</td>\n",
       "      <td>Aartselaar</td>\n",
       "      <td>11000</td>\n",
       "      <td>Arrondissement d’Anvers</td>\n",
       "      <td>Arrondissement Antwerpen</td>\n",
       "      <td>10000</td>\n",
       "      <td>Province d’Anvers</td>\n",
       "      <td>Provincie Antwerpen</td>\n",
       "      <td>2000</td>\n",
       "      <td>Région flamande</td>\n",
       "      <td>Vlaams Gewest</td>\n",
       "      <td>2</td>\n",
       "      <td>Féminin</td>\n",
       "      <td>Vrouwelijk</td>\n",
       "    </tr>\n",
       "    <tr>\n",
       "      <th>1</th>\n",
       "      <td>2020-10-25</td>\n",
       "      <td>14</td>\n",
       "      <td>7</td>\n",
       "      <td>Dimanche</td>\n",
       "      <td>zondag</td>\n",
       "      <td>1</td>\n",
       "      <td>0</td>\n",
       "      <td>1</td>\n",
       "      <td>0</td>\n",
       "      <td>0</td>\n",
       "      <td>1</td>\n",
       "      <td>Binnen bebouwde kom</td>\n",
       "      <td>En agglomération</td>\n",
       "      <td>1</td>\n",
       "      <td>Conducteur</td>\n",
       "      <td>Bestuurder</td>\n",
       "      <td>1</td>\n",
       "      <td>Voiture voyageurs</td>\n",
       "      <td>Personenauto</td>\n",
       "      <td>3</td>\n",
       "      <td>Route communale</td>\n",
       "      <td>Gemeenteweg</td>\n",
       "      <td>1</td>\n",
       "      <td>Plein jour</td>\n",
       "      <td>Bij klaarlichte dag</td>\n",
       "      <td>11</td>\n",
       "      <td>de 50 à 54 ans</td>\n",
       "      <td>50 tot 54 jaar</td>\n",
       "      <td>11001</td>\n",
       "      <td>Aartselaar</td>\n",
       "      <td>Aartselaar</td>\n",
       "      <td>11000</td>\n",
       "      <td>Arrondissement d’Anvers</td>\n",
       "      <td>Arrondissement Antwerpen</td>\n",
       "      <td>10000</td>\n",
       "      <td>Province d’Anvers</td>\n",
       "      <td>Provincie Antwerpen</td>\n",
       "      <td>2000</td>\n",
       "      <td>Région flamande</td>\n",
       "      <td>Vlaams Gewest</td>\n",
       "      <td>1</td>\n",
       "      <td>Masculin</td>\n",
       "      <td>Mannelijk</td>\n",
       "    </tr>\n",
       "    <tr>\n",
       "      <th>2</th>\n",
       "      <td>2020-09-24</td>\n",
       "      <td>15</td>\n",
       "      <td>4</td>\n",
       "      <td>Jeudi</td>\n",
       "      <td>donderdag</td>\n",
       "      <td>1</td>\n",
       "      <td>0</td>\n",
       "      <td>1</td>\n",
       "      <td>0</td>\n",
       "      <td>0</td>\n",
       "      <td>1</td>\n",
       "      <td>Binnen bebouwde kom</td>\n",
       "      <td>En agglomération</td>\n",
       "      <td>1</td>\n",
       "      <td>Conducteur</td>\n",
       "      <td>Bestuurder</td>\n",
       "      <td>1</td>\n",
       "      <td>Voiture voyageurs</td>\n",
       "      <td>Personenauto</td>\n",
       "      <td>3</td>\n",
       "      <td>Route communale</td>\n",
       "      <td>Gemeenteweg</td>\n",
       "      <td>1</td>\n",
       "      <td>Plein jour</td>\n",
       "      <td>Bij klaarlichte dag</td>\n",
       "      <td>10</td>\n",
       "      <td>de 45 à 49 ans</td>\n",
       "      <td>45 tot 49 jaar</td>\n",
       "      <td>11001</td>\n",
       "      <td>Aartselaar</td>\n",
       "      <td>Aartselaar</td>\n",
       "      <td>11000</td>\n",
       "      <td>Arrondissement d’Anvers</td>\n",
       "      <td>Arrondissement Antwerpen</td>\n",
       "      <td>10000</td>\n",
       "      <td>Province d’Anvers</td>\n",
       "      <td>Provincie Antwerpen</td>\n",
       "      <td>2000</td>\n",
       "      <td>Région flamande</td>\n",
       "      <td>Vlaams Gewest</td>\n",
       "      <td>1</td>\n",
       "      <td>Masculin</td>\n",
       "      <td>Mannelijk</td>\n",
       "    </tr>\n",
       "    <tr>\n",
       "      <th>3</th>\n",
       "      <td>2020-12-01</td>\n",
       "      <td>15</td>\n",
       "      <td>2</td>\n",
       "      <td>Mardi</td>\n",
       "      <td>dinsdag</td>\n",
       "      <td>1</td>\n",
       "      <td>1</td>\n",
       "      <td>0</td>\n",
       "      <td>0</td>\n",
       "      <td>0</td>\n",
       "      <td>1</td>\n",
       "      <td>Binnen bebouwde kom</td>\n",
       "      <td>En agglomération</td>\n",
       "      <td>1</td>\n",
       "      <td>Conducteur</td>\n",
       "      <td>Bestuurder</td>\n",
       "      <td>1</td>\n",
       "      <td>Voiture voyageurs</td>\n",
       "      <td>Personenauto</td>\n",
       "      <td>3</td>\n",
       "      <td>Route communale</td>\n",
       "      <td>Gemeenteweg</td>\n",
       "      <td>1</td>\n",
       "      <td>Plein jour</td>\n",
       "      <td>Bij klaarlichte dag</td>\n",
       "      <td>10</td>\n",
       "      <td>de 45 à 49 ans</td>\n",
       "      <td>45 tot 49 jaar</td>\n",
       "      <td>11001</td>\n",
       "      <td>Aartselaar</td>\n",
       "      <td>Aartselaar</td>\n",
       "      <td>11000</td>\n",
       "      <td>Arrondissement d’Anvers</td>\n",
       "      <td>Arrondissement Antwerpen</td>\n",
       "      <td>10000</td>\n",
       "      <td>Province d’Anvers</td>\n",
       "      <td>Provincie Antwerpen</td>\n",
       "      <td>2000</td>\n",
       "      <td>Région flamande</td>\n",
       "      <td>Vlaams Gewest</td>\n",
       "      <td>1</td>\n",
       "      <td>Masculin</td>\n",
       "      <td>Mannelijk</td>\n",
       "    </tr>\n",
       "    <tr>\n",
       "      <th>4</th>\n",
       "      <td>2020-12-16</td>\n",
       "      <td>17</td>\n",
       "      <td>3</td>\n",
       "      <td>Mercredi</td>\n",
       "      <td>woensdag</td>\n",
       "      <td>1</td>\n",
       "      <td>0</td>\n",
       "      <td>1</td>\n",
       "      <td>0</td>\n",
       "      <td>0</td>\n",
       "      <td>2</td>\n",
       "      <td>Buiten bebouwde kom</td>\n",
       "      <td>Hors agglomération</td>\n",
       "      <td>7</td>\n",
       "      <td>Cyclomotoriste</td>\n",
       "      <td>Bromfietser</td>\n",
       "      <td>15</td>\n",
       "      <td>Cyclomoteur A (2 roues)</td>\n",
       "      <td>Bromfiets A (tweewielige)</td>\n",
       "      <td>2</td>\n",
       "      <td>Route régionale</td>\n",
       "      <td>Gewestweg</td>\n",
       "      <td>3</td>\n",
       "      <td>Nuit, éclairage public allumé</td>\n",
       "      <td>Nacht, ontstoken openbare verlichting</td>\n",
       "      <td>5</td>\n",
       "      <td>de 20 à 24 ans</td>\n",
       "      <td>20 tot 24 jaar</td>\n",
       "      <td>11001</td>\n",
       "      <td>Aartselaar</td>\n",
       "      <td>Aartselaar</td>\n",
       "      <td>11000</td>\n",
       "      <td>Arrondissement d’Anvers</td>\n",
       "      <td>Arrondissement Antwerpen</td>\n",
       "      <td>10000</td>\n",
       "      <td>Province d’Anvers</td>\n",
       "      <td>Provincie Antwerpen</td>\n",
       "      <td>2000</td>\n",
       "      <td>Région flamande</td>\n",
       "      <td>Vlaams Gewest</td>\n",
       "      <td>1</td>\n",
       "      <td>Masculin</td>\n",
       "      <td>Mannelijk</td>\n",
       "    </tr>\n",
       "  </tbody>\n",
       "</table>\n",
       "</div>"
      ],
      "text/plain": [
       "       DT_DAY  DT_HOUR  CD_DAY_OF_WEEK TX_DAY_OF_WEEK_DESCR_FR  \\\n",
       "0  2020-09-24       15               4                   Jeudi   \n",
       "1  2020-10-25       14               7                Dimanche   \n",
       "2  2020-09-24       15               4                   Jeudi   \n",
       "3  2020-12-01       15               2                   Mardi   \n",
       "4  2020-12-16       17               3                Mercredi   \n",
       "\n",
       "  TX_DAY_OF_WEEK_DESCR_NL  MS_VICT  MS_VIC_OK  MS_SLY_INJ  MS_SERLY_INJ  \\\n",
       "0               donderdag        1          0           1             0   \n",
       "1                  zondag        1          0           1             0   \n",
       "2               donderdag        1          0           1             0   \n",
       "3                 dinsdag        1          1           0             0   \n",
       "4                woensdag        1          0           1             0   \n",
       "\n",
       "   MS_DEAD_30_DAYS  CD_BUILD_UP_AREA TX_BUILD_UP_AREA_DESCR_NL  \\\n",
       "0                0                 1       Binnen bebouwde kom   \n",
       "1                0                 1       Binnen bebouwde kom   \n",
       "2                0                 1       Binnen bebouwde kom   \n",
       "3                0                 1       Binnen bebouwde kom   \n",
       "4                0                 2       Buiten bebouwde kom   \n",
       "\n",
       "  TX_BUILD_UP_AREA_DESCR_FR  CD_VICT_TYPE TX_VICT_TYPE_DESCR_FR  \\\n",
       "0          En agglomération             1            Conducteur   \n",
       "1          En agglomération             1            Conducteur   \n",
       "2          En agglomération             1            Conducteur   \n",
       "3          En agglomération             1            Conducteur   \n",
       "4        Hors agglomération             7        Cyclomotoriste   \n",
       "\n",
       "  TX_VICT_TYPE_DESCR_NL  CD_ROAD_USER_TYPE TX_ROAD_USR_TYPE_DESCR_FR  \\\n",
       "0            Bestuurder                  1         Voiture voyageurs   \n",
       "1            Bestuurder                  1         Voiture voyageurs   \n",
       "2            Bestuurder                  1         Voiture voyageurs   \n",
       "3            Bestuurder                  1         Voiture voyageurs   \n",
       "4           Bromfietser                 15   Cyclomoteur A (2 roues)   \n",
       "\n",
       "   TX_ROAD_USR_TYPE_DESCR_NL  CD_ROAD_TYPE TX_ROAD_TYPE_DESCR_FR  \\\n",
       "0               Personenauto             3       Route communale   \n",
       "1               Personenauto             3       Route communale   \n",
       "2               Personenauto             3       Route communale   \n",
       "3               Personenauto             3       Route communale   \n",
       "4  Bromfiets A (tweewielige)             2       Route régionale   \n",
       "\n",
       "  TX_ROAD_TYPE_DESCR_NL  CD_LIGHT_COND         TX_LIGHT_COND_DESCR_FR  \\\n",
       "0           Gemeenteweg              1                     Plein jour   \n",
       "1           Gemeenteweg              1                     Plein jour   \n",
       "2           Gemeenteweg              1                     Plein jour   \n",
       "3           Gemeenteweg              1                     Plein jour   \n",
       "4             Gewestweg              3  Nuit, éclairage public allumé   \n",
       "\n",
       "                  TX_LIGHT_COND_DESCR_NL CD_AGE_CLS TX_AGE_CLS_DESCR_FR  \\\n",
       "0                    Bij klaarlichte dag          8      de 35 à 39 ans   \n",
       "1                    Bij klaarlichte dag         11      de 50 à 54 ans   \n",
       "2                    Bij klaarlichte dag         10      de 45 à 49 ans   \n",
       "3                    Bij klaarlichte dag         10      de 45 à 49 ans   \n",
       "4  Nacht, ontstoken openbare verlichting          5      de 20 à 24 ans   \n",
       "\n",
       "  TX_AGE_CLS_DESCR_NL  CD_MUNTY_REFNIS TX_MUNTY_DESCR_FR TX_MUNTY_DESCR_NL  \\\n",
       "0      35 tot 39 jaar            11001        Aartselaar        Aartselaar   \n",
       "1      50 tot 54 jaar            11001        Aartselaar        Aartselaar   \n",
       "2      45 tot 49 jaar            11001        Aartselaar        Aartselaar   \n",
       "3      45 tot 49 jaar            11001        Aartselaar        Aartselaar   \n",
       "4      20 tot 24 jaar            11001        Aartselaar        Aartselaar   \n",
       "\n",
       "   CD_DSTR_REFNIS     TX_ADM_DSTR_DESCR_FR      TX_ADM_DSTR_DESCR_NL  \\\n",
       "0           11000  Arrondissement d’Anvers  Arrondissement Antwerpen   \n",
       "1           11000  Arrondissement d’Anvers  Arrondissement Antwerpen   \n",
       "2           11000  Arrondissement d’Anvers  Arrondissement Antwerpen   \n",
       "3           11000  Arrondissement d’Anvers  Arrondissement Antwerpen   \n",
       "4           11000  Arrondissement d’Anvers  Arrondissement Antwerpen   \n",
       "\n",
       "  CD_PROV_REFNIS   TX_PROV_DESCR_FR     TX_PROV_DESCR_NL  CD_RGN_REFNIS  \\\n",
       "0          10000  Province d’Anvers  Provincie Antwerpen           2000   \n",
       "1          10000  Province d’Anvers  Provincie Antwerpen           2000   \n",
       "2          10000  Province d’Anvers  Provincie Antwerpen           2000   \n",
       "3          10000  Province d’Anvers  Provincie Antwerpen           2000   \n",
       "4          10000  Province d’Anvers  Provincie Antwerpen           2000   \n",
       "\n",
       "   TX_RGN_DESCR_FR TX_RGN_DESCR_NL  CD_SEX TX_SEX_DESCR_FR TX_SEX_DESCR_NL  \n",
       "0  Région flamande   Vlaams Gewest       2         Féminin      Vrouwelijk  \n",
       "1  Région flamande   Vlaams Gewest       1        Masculin       Mannelijk  \n",
       "2  Région flamande   Vlaams Gewest       1        Masculin       Mannelijk  \n",
       "3  Région flamande   Vlaams Gewest       1        Masculin       Mannelijk  \n",
       "4  Région flamande   Vlaams Gewest       1        Masculin       Mannelijk  "
      ]
     },
     "execution_count": 17,
     "metadata": {},
     "output_type": "execute_result"
    }
   ],
   "source": [
    "casualties_raw.head()"
   ]
  },
  {
   "cell_type": "markdown",
   "id": "4186cdd7-a1d2-45d7-b8dc-dfe90d7fc1e2",
   "metadata": {},
   "source": [
    "Whereas the data is already well organised and structured, some adjustments are required to support further analysis:\n",
    "\n",
    "- Combine the day and hour into a single datetime-aware data type.\n",
    "- Clean up the column names.\n",
    "- Metadata is always provided both in Dutch and French.\n",
    "- ...\n",
    "\n",
    "Let's apply the cleaning methods to clean up the data in the next set of exercises."
   ]
  },
  {
   "cell_type": "markdown",
   "id": "db3a7681-3aab-4782-bb92-6053f4d7fc6a",
   "metadata": {},
   "source": [
    "<div class=\"alert alert-success\">\n",
    "\n",
    "**EXERCISE**\n",
    "\n",
    "Check the unique values of the `TX_SEX_DESCR_NL` column.\n",
    "\n",
    "Based on the the values, create a mapping dictionary to replace the values with the english version (`\"Mannelijk\" -> \"male\", \"Vrouwelijk\" -> \"female\"`). Use `None` for the unknown values (`Onbekend` in Dutch). Apply the mapping to overwrite the values in the `TX_SEX_DESCR_NL` column with the new value.\n",
    "\n",
    "<details><summary>Hints</summary>\n",
    "    \n",
    "- Create the mapping by hand and define a Python dictionary.\n",
    "- Use the `replace()` method to update the values of the `TX_SEX_DESCR_NL` column. You can call this method on the column (Series object).\n",
    "\n",
    "</details>\n",
    "\n",
    "</div>"
   ]
  },
  {
   "cell_type": "code",
   "execution_count": 18,
   "id": "fa05c085-0c06-411b-b392-8a0d690de235",
   "metadata": {
    "tags": []
   },
   "outputs": [
    {
     "data": {
      "text/plain": [
       "0        Vrouwelijk\n",
       "1         Mannelijk\n",
       "2         Mannelijk\n",
       "3         Mannelijk\n",
       "4         Mannelijk\n",
       "            ...    \n",
       "66125     Mannelijk\n",
       "66126    Vrouwelijk\n",
       "66127     Mannelijk\n",
       "66128     Mannelijk\n",
       "66129    Vrouwelijk\n",
       "Name: TX_SEX_DESCR_NL, Length: 66130, dtype: object"
      ]
     },
     "execution_count": 18,
     "metadata": {},
     "output_type": "execute_result"
    }
   ],
   "source": [
    "casualties_raw[\"TX_SEX_DESCR_NL\"]"
   ]
  },
  {
   "cell_type": "code",
   "execution_count": 19,
   "id": "a3e5934f-9a1c-402b-9a2e-dc984ce3eb12",
   "metadata": {
    "tags": [
     "nbtutor-solution"
    ]
   },
   "outputs": [
    {
     "data": {
      "text/plain": [
       "array(['Vrouwelijk', 'Mannelijk', 'Onbekend'], dtype=object)"
      ]
     },
     "execution_count": 19,
     "metadata": {},
     "output_type": "execute_result"
    }
   ],
   "source": [
    "casualties_raw[\"TX_SEX_DESCR_NL\"].unique()"
   ]
  },
  {
   "cell_type": "code",
   "execution_count": 20,
   "id": "e72ec39e-6a74-4cf9-9daa-b0f0d495d3d5",
   "metadata": {
    "tags": [
     "nbtutor-solution"
    ]
   },
   "outputs": [
    {
     "data": {
      "text/plain": [
       "array(['female', 'male', None], dtype=object)"
      ]
     },
     "execution_count": 20,
     "metadata": {},
     "output_type": "execute_result"
    }
   ],
   "source": [
    "gender_mapping = {\"Vrouwelijk\": \"female\", \"Mannelijk\": \"male\", \"Onbekend\": None}\n",
    "casualties_raw[\"TX_SEX_DESCR_NL\"] = casualties_raw[\"TX_SEX_DESCR_NL\"].replace(gender_mapping)\n",
    "casualties_raw[\"TX_SEX_DESCR_NL\"].unique()"
   ]
  },
  {
   "cell_type": "code",
   "execution_count": 21,
   "id": "06b91dbf-a860-41c2-ac17-4f80948e65cb",
   "metadata": {
    "tags": []
   },
   "outputs": [
    {
     "data": {
      "text/plain": [
       "0        female\n",
       "1          male\n",
       "2          male\n",
       "3          male\n",
       "4          male\n",
       "          ...  \n",
       "66125      male\n",
       "66126    female\n",
       "66127      male\n",
       "66128      male\n",
       "66129    female\n",
       "Name: TX_SEX_DESCR_NL, Length: 66130, dtype: object"
      ]
     },
     "execution_count": 21,
     "metadata": {},
     "output_type": "execute_result"
    }
   ],
   "source": [
    "casualties_raw[\"TX_SEX_DESCR_NL\"]"
   ]
  },
  {
   "cell_type": "markdown",
   "id": "9fbd73d8-dbf1-494a-abaa-23b95b4e6bcd",
   "metadata": {},
   "source": [
    "<div class=\"alert alert-success\">\n",
    "\n",
    "**EXERCISE**\n",
    "\n",
    "Check the unique values of the `DT_HOUR` column. Which of the data values is used as _not a number_ (not known)? Verify the amount of records that for which `DT_HOUR` is not known.\n",
    "    \n",
    "A check with the data provider confirmed that the record(s) with value 99 did actually happen at 9 AM and are a typo instead of _not a number_ replacement value. Replace the 99 values with the real hour of the day in the `DT_HOUR` column.\n",
    "\n",
    "<details><summary>Hints</summary>\n",
    "    \n",
    "- The number `99` is not a valid hour of the day and used as _not a number_ data point.\n",
    "- Only one data record has an unknown hour of the day.\n",
    "- Remember the `replace()` method that we used in the previous exercise. We can again provide a mapping, or in this case of only replacing a single value, you can also provide the original value and new value as two positional arguments.\n",
    "\n",
    "</details>\n",
    "\n",
    "</div>"
   ]
  },
  {
   "cell_type": "code",
   "execution_count": 22,
   "id": "ad7457a2-6213-434c-9348-d5cb14827dab",
   "metadata": {
    "tags": [
     "nbtutor-solution"
    ]
   },
   "outputs": [
    {
     "data": {
      "text/plain": [
       "array([15, 14, 17, 18, 12, 13, 16, 22,  6, 11,  8,  7,  9, 19, 10,  5,  1,\n",
       "       23, 20,  4, 21,  2,  0,  3, 99])"
      ]
     },
     "execution_count": 22,
     "metadata": {},
     "output_type": "execute_result"
    }
   ],
   "source": [
    "casualties_raw[\"DT_HOUR\"].unique()"
   ]
  },
  {
   "cell_type": "code",
   "execution_count": 23,
   "id": "182ae250-d575-42d7-83b1-da92ea89e5d3",
   "metadata": {
    "tags": [
     "nbtutor-solution"
    ]
   },
   "outputs": [
    {
     "data": {
      "text/plain": [
       "np.int64(1)"
      ]
     },
     "execution_count": 23,
     "metadata": {},
     "output_type": "execute_result"
    }
   ],
   "source": [
    "(casualties_raw[\"DT_HOUR\"] == 99).sum()"
   ]
  },
  {
   "cell_type": "code",
   "execution_count": 24,
   "id": "8b6803b5-21c6-47d4-89c4-f7cea4825458",
   "metadata": {
    "tags": [
     "nbtutor-solution"
    ]
   },
   "outputs": [],
   "source": [
    "casualties_raw[\"DT_HOUR\"] = casualties_raw[\"DT_HOUR\"].replace(99, 9)"
   ]
  },
  {
   "cell_type": "markdown",
   "id": "18981bfc-b811-4ea3-8bba-4207c120cc6b",
   "metadata": {
    "tags": []
   },
   "source": [
    "<div class=\"alert alert-info\">\n",
    "    \n",
    "__INTERMEZZO__ - List comprehensions\n",
    "\n",
    "A [list comprehension](https://docs.python.org/3/glossary.html#term-list-comprehension) is a compact way to process all or part of the elements, comparable to a for-loop, in a sequence and return a list.\n",
    "    \n",
    "For example, the code in the following example:\n",
    "    \n",
    "```python\n",
    "example = [2, 3, 4]\n",
    "updated_example = []\n",
    "for element in example:\n",
    "    updated_example.append(element*2)\n",
    "```    \n",
    "\n",
    "will produce the same result `updated_example=[4, 6, 8]` as:\n",
    "\n",
    "```python\n",
    "updated_example = [element*2 for element in example]\n",
    "```\n",
    "    \n",
    "The latter is a __list comprehension__, which is a more compact way of writing the for-loop to return the updated list.\n",
    "    \n",
    "The loop can also contain an if-statement, e.g.\n",
    "    \n",
    "```python\n",
    "example = [2, 3, 4]\n",
    "updated_example = []\n",
    "for element in example:\n",
    "    if element != 3:\n",
    "        updated_example.append(element*2)\n",
    "```\n",
    "\n",
    "and\n",
    "\n",
    "```python\n",
    "updated_example = [element*2 for element in example if element != 3]\n",
    "```\n",
    "    \n",
    "will both result in `[4, 8]`.   \n",
    "</div>"
   ]
  },
  {
   "cell_type": "markdown",
   "id": "5a53992d-7a51-4526-8d29-184a058d79a7",
   "metadata": {
    "tags": []
   },
   "source": [
    "<div class=\"alert alert-success\">\n",
    "\n",
    "**EXERCISE**\n",
    "\n",
    "Remove all the `_FR` metadata columns  from the `casualties_raw` data set and assign the result to a new variable `casualties_nl`. Use the `column_names_with_fr` variable derived in the next cell to remove the columns.\n",
    "\n",
    "<details><summary>Hints</summary>\n",
    "    \n",
    "- Remove columns with the `drop()` method. The method works with one or more column names.\n",
    "- Make sure to explicitly set the `columns=` parameter.\n",
    "\n",
    "__NOTE__ The `column_names_with_fr` variable is created using the `df.columns` attribute of the DataFrame:\n",
    "- Instead of enlisting the column names manually, a [list comprehension](https://docs.python.org/3/tutorial/datastructures.html#list-comprehensions) - a _feature of standard Python_ - is used to select the columns names ending on `_FR`. Loop over the column names in `casualties_raw.columns`.\n",
    "- Within the list comprehension, the [`endswith()`](https://docs.python.org/3/library/stdtypes.html#str.endswith) standard string method is used to check if a column name ends on `_FR`. \n",
    "- ! Pandas also provides the `.str.endswith()` method, but this is for the data values inside a DataFrame. In this exercise we want to adjust the column names itself.    \n",
    "    \n",
    "</details>\n",
    "\n",
    "</div>"
   ]
  },
  {
   "cell_type": "code",
   "execution_count": 25,
   "id": "a0ab5728-1ca1-4629-a521-d82a1c649ed5",
   "metadata": {
    "tags": []
   },
   "outputs": [
    {
     "data": {
      "text/plain": [
       "['TX_DAY_OF_WEEK_DESCR_FR',\n",
       " 'TX_BUILD_UP_AREA_DESCR_FR',\n",
       " 'TX_VICT_TYPE_DESCR_FR',\n",
       " 'TX_ROAD_USR_TYPE_DESCR_FR',\n",
       " 'TX_ROAD_TYPE_DESCR_FR',\n",
       " 'TX_LIGHT_COND_DESCR_FR',\n",
       " 'TX_AGE_CLS_DESCR_FR',\n",
       " 'TX_MUNTY_DESCR_FR',\n",
       " 'TX_ADM_DSTR_DESCR_FR',\n",
       " 'TX_PROV_DESCR_FR',\n",
       " 'TX_RGN_DESCR_FR',\n",
       " 'TX_SEX_DESCR_FR']"
      ]
     },
     "execution_count": 25,
     "metadata": {},
     "output_type": "execute_result"
    }
   ],
   "source": [
    "column_names_with_fr = [col for col in casualties_raw.columns if col.endswith(\"_FR\")]\n",
    "column_names_with_fr"
   ]
  },
  {
   "cell_type": "code",
   "execution_count": 26,
   "id": "a331f51d-ede8-4ced-96a0-daff7d9244c5",
   "metadata": {
    "tags": [
     "nbtutor-solution"
    ]
   },
   "outputs": [
    {
     "data": {
      "text/html": [
       "<div>\n",
       "<style scoped>\n",
       "    .dataframe tbody tr th:only-of-type {\n",
       "        vertical-align: middle;\n",
       "    }\n",
       "\n",
       "    .dataframe tbody tr th {\n",
       "        vertical-align: top;\n",
       "    }\n",
       "\n",
       "    .dataframe thead th {\n",
       "        text-align: right;\n",
       "    }\n",
       "</style>\n",
       "<table border=\"1\" class=\"dataframe\">\n",
       "  <thead>\n",
       "    <tr style=\"text-align: right;\">\n",
       "      <th></th>\n",
       "      <th>DT_DAY</th>\n",
       "      <th>DT_HOUR</th>\n",
       "      <th>CD_DAY_OF_WEEK</th>\n",
       "      <th>TX_DAY_OF_WEEK_DESCR_NL</th>\n",
       "      <th>MS_VICT</th>\n",
       "      <th>MS_VIC_OK</th>\n",
       "      <th>MS_SLY_INJ</th>\n",
       "      <th>MS_SERLY_INJ</th>\n",
       "      <th>MS_DEAD_30_DAYS</th>\n",
       "      <th>CD_BUILD_UP_AREA</th>\n",
       "      <th>TX_BUILD_UP_AREA_DESCR_NL</th>\n",
       "      <th>CD_VICT_TYPE</th>\n",
       "      <th>TX_VICT_TYPE_DESCR_NL</th>\n",
       "      <th>CD_ROAD_USER_TYPE</th>\n",
       "      <th>TX_ROAD_USR_TYPE_DESCR_NL</th>\n",
       "      <th>CD_ROAD_TYPE</th>\n",
       "      <th>TX_ROAD_TYPE_DESCR_NL</th>\n",
       "      <th>CD_LIGHT_COND</th>\n",
       "      <th>TX_LIGHT_COND_DESCR_NL</th>\n",
       "      <th>CD_AGE_CLS</th>\n",
       "      <th>TX_AGE_CLS_DESCR_NL</th>\n",
       "      <th>CD_MUNTY_REFNIS</th>\n",
       "      <th>TX_MUNTY_DESCR_NL</th>\n",
       "      <th>CD_DSTR_REFNIS</th>\n",
       "      <th>TX_ADM_DSTR_DESCR_NL</th>\n",
       "      <th>CD_PROV_REFNIS</th>\n",
       "      <th>TX_PROV_DESCR_NL</th>\n",
       "      <th>CD_RGN_REFNIS</th>\n",
       "      <th>TX_RGN_DESCR_NL</th>\n",
       "      <th>CD_SEX</th>\n",
       "      <th>TX_SEX_DESCR_NL</th>\n",
       "    </tr>\n",
       "  </thead>\n",
       "  <tbody>\n",
       "    <tr>\n",
       "      <th>0</th>\n",
       "      <td>2020-09-24</td>\n",
       "      <td>15</td>\n",
       "      <td>4</td>\n",
       "      <td>donderdag</td>\n",
       "      <td>1</td>\n",
       "      <td>0</td>\n",
       "      <td>1</td>\n",
       "      <td>0</td>\n",
       "      <td>0</td>\n",
       "      <td>1</td>\n",
       "      <td>Binnen bebouwde kom</td>\n",
       "      <td>1</td>\n",
       "      <td>Bestuurder</td>\n",
       "      <td>1</td>\n",
       "      <td>Personenauto</td>\n",
       "      <td>3</td>\n",
       "      <td>Gemeenteweg</td>\n",
       "      <td>1</td>\n",
       "      <td>Bij klaarlichte dag</td>\n",
       "      <td>8</td>\n",
       "      <td>35 tot 39 jaar</td>\n",
       "      <td>11001</td>\n",
       "      <td>Aartselaar</td>\n",
       "      <td>11000</td>\n",
       "      <td>Arrondissement Antwerpen</td>\n",
       "      <td>10000</td>\n",
       "      <td>Provincie Antwerpen</td>\n",
       "      <td>2000</td>\n",
       "      <td>Vlaams Gewest</td>\n",
       "      <td>2</td>\n",
       "      <td>female</td>\n",
       "    </tr>\n",
       "    <tr>\n",
       "      <th>1</th>\n",
       "      <td>2020-10-25</td>\n",
       "      <td>14</td>\n",
       "      <td>7</td>\n",
       "      <td>zondag</td>\n",
       "      <td>1</td>\n",
       "      <td>0</td>\n",
       "      <td>1</td>\n",
       "      <td>0</td>\n",
       "      <td>0</td>\n",
       "      <td>1</td>\n",
       "      <td>Binnen bebouwde kom</td>\n",
       "      <td>1</td>\n",
       "      <td>Bestuurder</td>\n",
       "      <td>1</td>\n",
       "      <td>Personenauto</td>\n",
       "      <td>3</td>\n",
       "      <td>Gemeenteweg</td>\n",
       "      <td>1</td>\n",
       "      <td>Bij klaarlichte dag</td>\n",
       "      <td>11</td>\n",
       "      <td>50 tot 54 jaar</td>\n",
       "      <td>11001</td>\n",
       "      <td>Aartselaar</td>\n",
       "      <td>11000</td>\n",
       "      <td>Arrondissement Antwerpen</td>\n",
       "      <td>10000</td>\n",
       "      <td>Provincie Antwerpen</td>\n",
       "      <td>2000</td>\n",
       "      <td>Vlaams Gewest</td>\n",
       "      <td>1</td>\n",
       "      <td>male</td>\n",
       "    </tr>\n",
       "    <tr>\n",
       "      <th>2</th>\n",
       "      <td>2020-09-24</td>\n",
       "      <td>15</td>\n",
       "      <td>4</td>\n",
       "      <td>donderdag</td>\n",
       "      <td>1</td>\n",
       "      <td>0</td>\n",
       "      <td>1</td>\n",
       "      <td>0</td>\n",
       "      <td>0</td>\n",
       "      <td>1</td>\n",
       "      <td>Binnen bebouwde kom</td>\n",
       "      <td>1</td>\n",
       "      <td>Bestuurder</td>\n",
       "      <td>1</td>\n",
       "      <td>Personenauto</td>\n",
       "      <td>3</td>\n",
       "      <td>Gemeenteweg</td>\n",
       "      <td>1</td>\n",
       "      <td>Bij klaarlichte dag</td>\n",
       "      <td>10</td>\n",
       "      <td>45 tot 49 jaar</td>\n",
       "      <td>11001</td>\n",
       "      <td>Aartselaar</td>\n",
       "      <td>11000</td>\n",
       "      <td>Arrondissement Antwerpen</td>\n",
       "      <td>10000</td>\n",
       "      <td>Provincie Antwerpen</td>\n",
       "      <td>2000</td>\n",
       "      <td>Vlaams Gewest</td>\n",
       "      <td>1</td>\n",
       "      <td>male</td>\n",
       "    </tr>\n",
       "    <tr>\n",
       "      <th>3</th>\n",
       "      <td>2020-12-01</td>\n",
       "      <td>15</td>\n",
       "      <td>2</td>\n",
       "      <td>dinsdag</td>\n",
       "      <td>1</td>\n",
       "      <td>1</td>\n",
       "      <td>0</td>\n",
       "      <td>0</td>\n",
       "      <td>0</td>\n",
       "      <td>1</td>\n",
       "      <td>Binnen bebouwde kom</td>\n",
       "      <td>1</td>\n",
       "      <td>Bestuurder</td>\n",
       "      <td>1</td>\n",
       "      <td>Personenauto</td>\n",
       "      <td>3</td>\n",
       "      <td>Gemeenteweg</td>\n",
       "      <td>1</td>\n",
       "      <td>Bij klaarlichte dag</td>\n",
       "      <td>10</td>\n",
       "      <td>45 tot 49 jaar</td>\n",
       "      <td>11001</td>\n",
       "      <td>Aartselaar</td>\n",
       "      <td>11000</td>\n",
       "      <td>Arrondissement Antwerpen</td>\n",
       "      <td>10000</td>\n",
       "      <td>Provincie Antwerpen</td>\n",
       "      <td>2000</td>\n",
       "      <td>Vlaams Gewest</td>\n",
       "      <td>1</td>\n",
       "      <td>male</td>\n",
       "    </tr>\n",
       "    <tr>\n",
       "      <th>4</th>\n",
       "      <td>2020-12-16</td>\n",
       "      <td>17</td>\n",
       "      <td>3</td>\n",
       "      <td>woensdag</td>\n",
       "      <td>1</td>\n",
       "      <td>0</td>\n",
       "      <td>1</td>\n",
       "      <td>0</td>\n",
       "      <td>0</td>\n",
       "      <td>2</td>\n",
       "      <td>Buiten bebouwde kom</td>\n",
       "      <td>7</td>\n",
       "      <td>Bromfietser</td>\n",
       "      <td>15</td>\n",
       "      <td>Bromfiets A (tweewielige)</td>\n",
       "      <td>2</td>\n",
       "      <td>Gewestweg</td>\n",
       "      <td>3</td>\n",
       "      <td>Nacht, ontstoken openbare verlichting</td>\n",
       "      <td>5</td>\n",
       "      <td>20 tot 24 jaar</td>\n",
       "      <td>11001</td>\n",
       "      <td>Aartselaar</td>\n",
       "      <td>11000</td>\n",
       "      <td>Arrondissement Antwerpen</td>\n",
       "      <td>10000</td>\n",
       "      <td>Provincie Antwerpen</td>\n",
       "      <td>2000</td>\n",
       "      <td>Vlaams Gewest</td>\n",
       "      <td>1</td>\n",
       "      <td>male</td>\n",
       "    </tr>\n",
       "    <tr>\n",
       "      <th>...</th>\n",
       "      <td>...</td>\n",
       "      <td>...</td>\n",
       "      <td>...</td>\n",
       "      <td>...</td>\n",
       "      <td>...</td>\n",
       "      <td>...</td>\n",
       "      <td>...</td>\n",
       "      <td>...</td>\n",
       "      <td>...</td>\n",
       "      <td>...</td>\n",
       "      <td>...</td>\n",
       "      <td>...</td>\n",
       "      <td>...</td>\n",
       "      <td>...</td>\n",
       "      <td>...</td>\n",
       "      <td>...</td>\n",
       "      <td>...</td>\n",
       "      <td>...</td>\n",
       "      <td>...</td>\n",
       "      <td>...</td>\n",
       "      <td>...</td>\n",
       "      <td>...</td>\n",
       "      <td>...</td>\n",
       "      <td>...</td>\n",
       "      <td>...</td>\n",
       "      <td>...</td>\n",
       "      <td>...</td>\n",
       "      <td>...</td>\n",
       "      <td>...</td>\n",
       "      <td>...</td>\n",
       "      <td>...</td>\n",
       "    </tr>\n",
       "    <tr>\n",
       "      <th>66125</th>\n",
       "      <td>2020-08-16</td>\n",
       "      <td>12</td>\n",
       "      <td>7</td>\n",
       "      <td>zondag</td>\n",
       "      <td>1</td>\n",
       "      <td>1</td>\n",
       "      <td>0</td>\n",
       "      <td>0</td>\n",
       "      <td>0</td>\n",
       "      <td>2</td>\n",
       "      <td>Buiten bebouwde kom</td>\n",
       "      <td>6</td>\n",
       "      <td>Motorfietser</td>\n",
       "      <td>14</td>\n",
       "      <td>Motorfiets meer dan 400 cc</td>\n",
       "      <td>2</td>\n",
       "      <td>Gewestweg</td>\n",
       "      <td>1</td>\n",
       "      <td>Bij klaarlichte dag</td>\n",
       "      <td>11</td>\n",
       "      <td>50 tot 54 jaar</td>\n",
       "      <td>93090</td>\n",
       "      <td>Viroinval</td>\n",
       "      <td>93000</td>\n",
       "      <td>Arrondissement Philippeville</td>\n",
       "      <td>90000</td>\n",
       "      <td>Provincie Namen</td>\n",
       "      <td>3000</td>\n",
       "      <td>Waals Gewest</td>\n",
       "      <td>1</td>\n",
       "      <td>male</td>\n",
       "    </tr>\n",
       "    <tr>\n",
       "      <th>66126</th>\n",
       "      <td>2020-07-31</td>\n",
       "      <td>17</td>\n",
       "      <td>5</td>\n",
       "      <td>vrijdag</td>\n",
       "      <td>1</td>\n",
       "      <td>1</td>\n",
       "      <td>0</td>\n",
       "      <td>0</td>\n",
       "      <td>0</td>\n",
       "      <td>1</td>\n",
       "      <td>Binnen bebouwde kom</td>\n",
       "      <td>2</td>\n",
       "      <td>Passagier</td>\n",
       "      <td>1</td>\n",
       "      <td>Personenauto</td>\n",
       "      <td>2</td>\n",
       "      <td>Gewestweg</td>\n",
       "      <td>1</td>\n",
       "      <td>Bij klaarlichte dag</td>\n",
       "      <td>1</td>\n",
       "      <td>0 tot 4 jaar</td>\n",
       "      <td>93090</td>\n",
       "      <td>Viroinval</td>\n",
       "      <td>93000</td>\n",
       "      <td>Arrondissement Philippeville</td>\n",
       "      <td>90000</td>\n",
       "      <td>Provincie Namen</td>\n",
       "      <td>3000</td>\n",
       "      <td>Waals Gewest</td>\n",
       "      <td>2</td>\n",
       "      <td>female</td>\n",
       "    </tr>\n",
       "    <tr>\n",
       "      <th>66127</th>\n",
       "      <td>2020-07-31</td>\n",
       "      <td>17</td>\n",
       "      <td>5</td>\n",
       "      <td>vrijdag</td>\n",
       "      <td>2</td>\n",
       "      <td>1</td>\n",
       "      <td>1</td>\n",
       "      <td>0</td>\n",
       "      <td>0</td>\n",
       "      <td>1</td>\n",
       "      <td>Binnen bebouwde kom</td>\n",
       "      <td>1</td>\n",
       "      <td>Bestuurder</td>\n",
       "      <td>1</td>\n",
       "      <td>Personenauto</td>\n",
       "      <td>2</td>\n",
       "      <td>Gewestweg</td>\n",
       "      <td>1</td>\n",
       "      <td>Bij klaarlichte dag</td>\n",
       "      <td>7</td>\n",
       "      <td>30 tot 34 jaar</td>\n",
       "      <td>93090</td>\n",
       "      <td>Viroinval</td>\n",
       "      <td>93000</td>\n",
       "      <td>Arrondissement Philippeville</td>\n",
       "      <td>90000</td>\n",
       "      <td>Provincie Namen</td>\n",
       "      <td>3000</td>\n",
       "      <td>Waals Gewest</td>\n",
       "      <td>1</td>\n",
       "      <td>male</td>\n",
       "    </tr>\n",
       "    <tr>\n",
       "      <th>66128</th>\n",
       "      <td>2020-07-31</td>\n",
       "      <td>17</td>\n",
       "      <td>5</td>\n",
       "      <td>vrijdag</td>\n",
       "      <td>1</td>\n",
       "      <td>1</td>\n",
       "      <td>0</td>\n",
       "      <td>0</td>\n",
       "      <td>0</td>\n",
       "      <td>1</td>\n",
       "      <td>Binnen bebouwde kom</td>\n",
       "      <td>1</td>\n",
       "      <td>Bestuurder</td>\n",
       "      <td>1</td>\n",
       "      <td>Personenauto</td>\n",
       "      <td>2</td>\n",
       "      <td>Gewestweg</td>\n",
       "      <td>1</td>\n",
       "      <td>Bij klaarlichte dag</td>\n",
       "      <td>13</td>\n",
       "      <td>60 tot 64 jaar</td>\n",
       "      <td>93090</td>\n",
       "      <td>Viroinval</td>\n",
       "      <td>93000</td>\n",
       "      <td>Arrondissement Philippeville</td>\n",
       "      <td>90000</td>\n",
       "      <td>Provincie Namen</td>\n",
       "      <td>3000</td>\n",
       "      <td>Waals Gewest</td>\n",
       "      <td>1</td>\n",
       "      <td>male</td>\n",
       "    </tr>\n",
       "    <tr>\n",
       "      <th>66129</th>\n",
       "      <td>2020-07-31</td>\n",
       "      <td>17</td>\n",
       "      <td>5</td>\n",
       "      <td>vrijdag</td>\n",
       "      <td>1</td>\n",
       "      <td>1</td>\n",
       "      <td>0</td>\n",
       "      <td>0</td>\n",
       "      <td>0</td>\n",
       "      <td>1</td>\n",
       "      <td>Binnen bebouwde kom</td>\n",
       "      <td>1</td>\n",
       "      <td>Bestuurder</td>\n",
       "      <td>1</td>\n",
       "      <td>Personenauto</td>\n",
       "      <td>2</td>\n",
       "      <td>Gewestweg</td>\n",
       "      <td>1</td>\n",
       "      <td>Bij klaarlichte dag</td>\n",
       "      <td>7</td>\n",
       "      <td>30 tot 34 jaar</td>\n",
       "      <td>93090</td>\n",
       "      <td>Viroinval</td>\n",
       "      <td>93000</td>\n",
       "      <td>Arrondissement Philippeville</td>\n",
       "      <td>90000</td>\n",
       "      <td>Provincie Namen</td>\n",
       "      <td>3000</td>\n",
       "      <td>Waals Gewest</td>\n",
       "      <td>2</td>\n",
       "      <td>female</td>\n",
       "    </tr>\n",
       "  </tbody>\n",
       "</table>\n",
       "<p>66130 rows × 31 columns</p>\n",
       "</div>"
      ],
      "text/plain": [
       "           DT_DAY  DT_HOUR  CD_DAY_OF_WEEK TX_DAY_OF_WEEK_DESCR_NL  MS_VICT  \\\n",
       "0      2020-09-24       15               4               donderdag        1   \n",
       "1      2020-10-25       14               7                  zondag        1   \n",
       "2      2020-09-24       15               4               donderdag        1   \n",
       "3      2020-12-01       15               2                 dinsdag        1   \n",
       "4      2020-12-16       17               3                woensdag        1   \n",
       "...           ...      ...             ...                     ...      ...   \n",
       "66125  2020-08-16       12               7                  zondag        1   \n",
       "66126  2020-07-31       17               5                 vrijdag        1   \n",
       "66127  2020-07-31       17               5                 vrijdag        2   \n",
       "66128  2020-07-31       17               5                 vrijdag        1   \n",
       "66129  2020-07-31       17               5                 vrijdag        1   \n",
       "\n",
       "       MS_VIC_OK  MS_SLY_INJ  MS_SERLY_INJ  MS_DEAD_30_DAYS  CD_BUILD_UP_AREA  \\\n",
       "0              0           1             0                0                 1   \n",
       "1              0           1             0                0                 1   \n",
       "2              0           1             0                0                 1   \n",
       "3              1           0             0                0                 1   \n",
       "4              0           1             0                0                 2   \n",
       "...          ...         ...           ...              ...               ...   \n",
       "66125          1           0             0                0                 2   \n",
       "66126          1           0             0                0                 1   \n",
       "66127          1           1             0                0                 1   \n",
       "66128          1           0             0                0                 1   \n",
       "66129          1           0             0                0                 1   \n",
       "\n",
       "      TX_BUILD_UP_AREA_DESCR_NL  CD_VICT_TYPE TX_VICT_TYPE_DESCR_NL  \\\n",
       "0           Binnen bebouwde kom             1            Bestuurder   \n",
       "1           Binnen bebouwde kom             1            Bestuurder   \n",
       "2           Binnen bebouwde kom             1            Bestuurder   \n",
       "3           Binnen bebouwde kom             1            Bestuurder   \n",
       "4           Buiten bebouwde kom             7           Bromfietser   \n",
       "...                         ...           ...                   ...   \n",
       "66125       Buiten bebouwde kom             6          Motorfietser   \n",
       "66126       Binnen bebouwde kom             2             Passagier   \n",
       "66127       Binnen bebouwde kom             1            Bestuurder   \n",
       "66128       Binnen bebouwde kom             1            Bestuurder   \n",
       "66129       Binnen bebouwde kom             1            Bestuurder   \n",
       "\n",
       "       CD_ROAD_USER_TYPE   TX_ROAD_USR_TYPE_DESCR_NL  CD_ROAD_TYPE  \\\n",
       "0                      1                Personenauto             3   \n",
       "1                      1                Personenauto             3   \n",
       "2                      1                Personenauto             3   \n",
       "3                      1                Personenauto             3   \n",
       "4                     15   Bromfiets A (tweewielige)             2   \n",
       "...                  ...                         ...           ...   \n",
       "66125                 14  Motorfiets meer dan 400 cc             2   \n",
       "66126                  1                Personenauto             2   \n",
       "66127                  1                Personenauto             2   \n",
       "66128                  1                Personenauto             2   \n",
       "66129                  1                Personenauto             2   \n",
       "\n",
       "      TX_ROAD_TYPE_DESCR_NL  CD_LIGHT_COND  \\\n",
       "0               Gemeenteweg              1   \n",
       "1               Gemeenteweg              1   \n",
       "2               Gemeenteweg              1   \n",
       "3               Gemeenteweg              1   \n",
       "4                 Gewestweg              3   \n",
       "...                     ...            ...   \n",
       "66125             Gewestweg              1   \n",
       "66126             Gewestweg              1   \n",
       "66127             Gewestweg              1   \n",
       "66128             Gewestweg              1   \n",
       "66129             Gewestweg              1   \n",
       "\n",
       "                      TX_LIGHT_COND_DESCR_NL CD_AGE_CLS TX_AGE_CLS_DESCR_NL  \\\n",
       "0                        Bij klaarlichte dag          8      35 tot 39 jaar   \n",
       "1                        Bij klaarlichte dag         11      50 tot 54 jaar   \n",
       "2                        Bij klaarlichte dag         10      45 tot 49 jaar   \n",
       "3                        Bij klaarlichte dag         10      45 tot 49 jaar   \n",
       "4      Nacht, ontstoken openbare verlichting          5      20 tot 24 jaar   \n",
       "...                                      ...        ...                 ...   \n",
       "66125                    Bij klaarlichte dag         11      50 tot 54 jaar   \n",
       "66126                    Bij klaarlichte dag          1        0 tot 4 jaar   \n",
       "66127                    Bij klaarlichte dag          7      30 tot 34 jaar   \n",
       "66128                    Bij klaarlichte dag         13      60 tot 64 jaar   \n",
       "66129                    Bij klaarlichte dag          7      30 tot 34 jaar   \n",
       "\n",
       "       CD_MUNTY_REFNIS TX_MUNTY_DESCR_NL  CD_DSTR_REFNIS  \\\n",
       "0                11001        Aartselaar           11000   \n",
       "1                11001        Aartselaar           11000   \n",
       "2                11001        Aartselaar           11000   \n",
       "3                11001        Aartselaar           11000   \n",
       "4                11001        Aartselaar           11000   \n",
       "...                ...               ...             ...   \n",
       "66125            93090         Viroinval           93000   \n",
       "66126            93090         Viroinval           93000   \n",
       "66127            93090         Viroinval           93000   \n",
       "66128            93090         Viroinval           93000   \n",
       "66129            93090         Viroinval           93000   \n",
       "\n",
       "               TX_ADM_DSTR_DESCR_NL CD_PROV_REFNIS     TX_PROV_DESCR_NL  \\\n",
       "0          Arrondissement Antwerpen          10000  Provincie Antwerpen   \n",
       "1          Arrondissement Antwerpen          10000  Provincie Antwerpen   \n",
       "2          Arrondissement Antwerpen          10000  Provincie Antwerpen   \n",
       "3          Arrondissement Antwerpen          10000  Provincie Antwerpen   \n",
       "4          Arrondissement Antwerpen          10000  Provincie Antwerpen   \n",
       "...                             ...            ...                  ...   \n",
       "66125  Arrondissement Philippeville          90000      Provincie Namen   \n",
       "66126  Arrondissement Philippeville          90000      Provincie Namen   \n",
       "66127  Arrondissement Philippeville          90000      Provincie Namen   \n",
       "66128  Arrondissement Philippeville          90000      Provincie Namen   \n",
       "66129  Arrondissement Philippeville          90000      Provincie Namen   \n",
       "\n",
       "       CD_RGN_REFNIS TX_RGN_DESCR_NL  CD_SEX TX_SEX_DESCR_NL  \n",
       "0               2000   Vlaams Gewest       2          female  \n",
       "1               2000   Vlaams Gewest       1            male  \n",
       "2               2000   Vlaams Gewest       1            male  \n",
       "3               2000   Vlaams Gewest       1            male  \n",
       "4               2000   Vlaams Gewest       1            male  \n",
       "...              ...             ...     ...             ...  \n",
       "66125           3000    Waals Gewest       1            male  \n",
       "66126           3000    Waals Gewest       2          female  \n",
       "66127           3000    Waals Gewest       1            male  \n",
       "66128           3000    Waals Gewest       1            male  \n",
       "66129           3000    Waals Gewest       2          female  \n",
       "\n",
       "[66130 rows x 31 columns]"
      ]
     },
     "execution_count": 26,
     "metadata": {},
     "output_type": "execute_result"
    }
   ],
   "source": [
    "casualties_nl = casualties_raw.drop(columns=column_names_with_fr)\n",
    "casualties_nl"
   ]
  },
  {
   "cell_type": "markdown",
   "id": "8a293a59-a41f-414a-af35-7f76c11ce8af",
   "metadata": {
    "tags": []
   },
   "source": [
    "<div class=\"alert alert-success\">\n",
    "\n",
    "**EXERCISE**\n",
    "\n",
    "A number of the remaining metadata columns names have the `TX_` and the `_DESCR_NL` in the column name. Clean up these column names by removing the `TX_` at the start and the `_DESCR_NL` at the end of the column names using the helper function `clean_column_name` defined in the next cell. Update the `casualties_nl` variable, assign the result to the variable `casualties`.\n",
    "\n",
    "<details><summary>Hints</summary>\n",
    "    \n",
    "- Use the `rename` method and apply the mapping on the `columns`.\n",
    "- The input of the `rename` method van be a dictionary or a function. Use the `clean_column_name` as the function to rename the columns. \n",
    "- Make sure to explicitly set the columns= parameter.    \n",
    "    \n",
    "__NOTE__ The function `clean_column_name` takes as input a string and returns the string after removing the prefix and suffix. \n",
    "\n",
    "- The pandas method `rename` applies this function to each column name individually.    \n",
    "- `removeprefix()` and `removesuffix()` are [Python string methods](https://docs.python.org/3/library/stdtypes.html#string-methods) to remove start/trailing characters if present.\n",
    "\n",
    "</details>\n",
    "\n",
    "</div>"
   ]
  },
  {
   "cell_type": "code",
   "execution_count": 27,
   "id": "04b2ec07-79f1-44eb-9b6b-6c7568f4da9f",
   "metadata": {
    "tags": []
   },
   "outputs": [],
   "source": [
    "def clean_column_name(name):\n",
    "    return name.removeprefix(\"TX_\").removesuffix(\"_DESCR_NL\")"
   ]
  },
  {
   "cell_type": "code",
   "execution_count": 28,
   "id": "5839e1c3-66c1-4258-a163-37ed69d31e18",
   "metadata": {
    "tags": [
     "nbtutor-solution"
    ]
   },
   "outputs": [
    {
     "data": {
      "text/html": [
       "<div>\n",
       "<style scoped>\n",
       "    .dataframe tbody tr th:only-of-type {\n",
       "        vertical-align: middle;\n",
       "    }\n",
       "\n",
       "    .dataframe tbody tr th {\n",
       "        vertical-align: top;\n",
       "    }\n",
       "\n",
       "    .dataframe thead th {\n",
       "        text-align: right;\n",
       "    }\n",
       "</style>\n",
       "<table border=\"1\" class=\"dataframe\">\n",
       "  <thead>\n",
       "    <tr style=\"text-align: right;\">\n",
       "      <th></th>\n",
       "      <th>DT_DAY</th>\n",
       "      <th>DT_HOUR</th>\n",
       "      <th>CD_DAY_OF_WEEK</th>\n",
       "      <th>DAY_OF_WEEK</th>\n",
       "      <th>MS_VICT</th>\n",
       "      <th>MS_VIC_OK</th>\n",
       "      <th>MS_SLY_INJ</th>\n",
       "      <th>MS_SERLY_INJ</th>\n",
       "      <th>MS_DEAD_30_DAYS</th>\n",
       "      <th>CD_BUILD_UP_AREA</th>\n",
       "      <th>BUILD_UP_AREA</th>\n",
       "      <th>CD_VICT_TYPE</th>\n",
       "      <th>VICT_TYPE</th>\n",
       "      <th>CD_ROAD_USER_TYPE</th>\n",
       "      <th>ROAD_USR_TYPE</th>\n",
       "      <th>CD_ROAD_TYPE</th>\n",
       "      <th>ROAD_TYPE</th>\n",
       "      <th>CD_LIGHT_COND</th>\n",
       "      <th>LIGHT_COND</th>\n",
       "      <th>CD_AGE_CLS</th>\n",
       "      <th>AGE_CLS</th>\n",
       "      <th>CD_MUNTY_REFNIS</th>\n",
       "      <th>MUNTY</th>\n",
       "      <th>CD_DSTR_REFNIS</th>\n",
       "      <th>ADM_DSTR</th>\n",
       "      <th>CD_PROV_REFNIS</th>\n",
       "      <th>PROV</th>\n",
       "      <th>CD_RGN_REFNIS</th>\n",
       "      <th>RGN</th>\n",
       "      <th>CD_SEX</th>\n",
       "      <th>SEX</th>\n",
       "    </tr>\n",
       "  </thead>\n",
       "  <tbody>\n",
       "    <tr>\n",
       "      <th>0</th>\n",
       "      <td>2020-09-24</td>\n",
       "      <td>15</td>\n",
       "      <td>4</td>\n",
       "      <td>donderdag</td>\n",
       "      <td>1</td>\n",
       "      <td>0</td>\n",
       "      <td>1</td>\n",
       "      <td>0</td>\n",
       "      <td>0</td>\n",
       "      <td>1</td>\n",
       "      <td>Binnen bebouwde kom</td>\n",
       "      <td>1</td>\n",
       "      <td>Bestuurder</td>\n",
       "      <td>1</td>\n",
       "      <td>Personenauto</td>\n",
       "      <td>3</td>\n",
       "      <td>Gemeenteweg</td>\n",
       "      <td>1</td>\n",
       "      <td>Bij klaarlichte dag</td>\n",
       "      <td>8</td>\n",
       "      <td>35 tot 39 jaar</td>\n",
       "      <td>11001</td>\n",
       "      <td>Aartselaar</td>\n",
       "      <td>11000</td>\n",
       "      <td>Arrondissement Antwerpen</td>\n",
       "      <td>10000</td>\n",
       "      <td>Provincie Antwerpen</td>\n",
       "      <td>2000</td>\n",
       "      <td>Vlaams Gewest</td>\n",
       "      <td>2</td>\n",
       "      <td>female</td>\n",
       "    </tr>\n",
       "    <tr>\n",
       "      <th>1</th>\n",
       "      <td>2020-10-25</td>\n",
       "      <td>14</td>\n",
       "      <td>7</td>\n",
       "      <td>zondag</td>\n",
       "      <td>1</td>\n",
       "      <td>0</td>\n",
       "      <td>1</td>\n",
       "      <td>0</td>\n",
       "      <td>0</td>\n",
       "      <td>1</td>\n",
       "      <td>Binnen bebouwde kom</td>\n",
       "      <td>1</td>\n",
       "      <td>Bestuurder</td>\n",
       "      <td>1</td>\n",
       "      <td>Personenauto</td>\n",
       "      <td>3</td>\n",
       "      <td>Gemeenteweg</td>\n",
       "      <td>1</td>\n",
       "      <td>Bij klaarlichte dag</td>\n",
       "      <td>11</td>\n",
       "      <td>50 tot 54 jaar</td>\n",
       "      <td>11001</td>\n",
       "      <td>Aartselaar</td>\n",
       "      <td>11000</td>\n",
       "      <td>Arrondissement Antwerpen</td>\n",
       "      <td>10000</td>\n",
       "      <td>Provincie Antwerpen</td>\n",
       "      <td>2000</td>\n",
       "      <td>Vlaams Gewest</td>\n",
       "      <td>1</td>\n",
       "      <td>male</td>\n",
       "    </tr>\n",
       "    <tr>\n",
       "      <th>2</th>\n",
       "      <td>2020-09-24</td>\n",
       "      <td>15</td>\n",
       "      <td>4</td>\n",
       "      <td>donderdag</td>\n",
       "      <td>1</td>\n",
       "      <td>0</td>\n",
       "      <td>1</td>\n",
       "      <td>0</td>\n",
       "      <td>0</td>\n",
       "      <td>1</td>\n",
       "      <td>Binnen bebouwde kom</td>\n",
       "      <td>1</td>\n",
       "      <td>Bestuurder</td>\n",
       "      <td>1</td>\n",
       "      <td>Personenauto</td>\n",
       "      <td>3</td>\n",
       "      <td>Gemeenteweg</td>\n",
       "      <td>1</td>\n",
       "      <td>Bij klaarlichte dag</td>\n",
       "      <td>10</td>\n",
       "      <td>45 tot 49 jaar</td>\n",
       "      <td>11001</td>\n",
       "      <td>Aartselaar</td>\n",
       "      <td>11000</td>\n",
       "      <td>Arrondissement Antwerpen</td>\n",
       "      <td>10000</td>\n",
       "      <td>Provincie Antwerpen</td>\n",
       "      <td>2000</td>\n",
       "      <td>Vlaams Gewest</td>\n",
       "      <td>1</td>\n",
       "      <td>male</td>\n",
       "    </tr>\n",
       "    <tr>\n",
       "      <th>3</th>\n",
       "      <td>2020-12-01</td>\n",
       "      <td>15</td>\n",
       "      <td>2</td>\n",
       "      <td>dinsdag</td>\n",
       "      <td>1</td>\n",
       "      <td>1</td>\n",
       "      <td>0</td>\n",
       "      <td>0</td>\n",
       "      <td>0</td>\n",
       "      <td>1</td>\n",
       "      <td>Binnen bebouwde kom</td>\n",
       "      <td>1</td>\n",
       "      <td>Bestuurder</td>\n",
       "      <td>1</td>\n",
       "      <td>Personenauto</td>\n",
       "      <td>3</td>\n",
       "      <td>Gemeenteweg</td>\n",
       "      <td>1</td>\n",
       "      <td>Bij klaarlichte dag</td>\n",
       "      <td>10</td>\n",
       "      <td>45 tot 49 jaar</td>\n",
       "      <td>11001</td>\n",
       "      <td>Aartselaar</td>\n",
       "      <td>11000</td>\n",
       "      <td>Arrondissement Antwerpen</td>\n",
       "      <td>10000</td>\n",
       "      <td>Provincie Antwerpen</td>\n",
       "      <td>2000</td>\n",
       "      <td>Vlaams Gewest</td>\n",
       "      <td>1</td>\n",
       "      <td>male</td>\n",
       "    </tr>\n",
       "    <tr>\n",
       "      <th>4</th>\n",
       "      <td>2020-12-16</td>\n",
       "      <td>17</td>\n",
       "      <td>3</td>\n",
       "      <td>woensdag</td>\n",
       "      <td>1</td>\n",
       "      <td>0</td>\n",
       "      <td>1</td>\n",
       "      <td>0</td>\n",
       "      <td>0</td>\n",
       "      <td>2</td>\n",
       "      <td>Buiten bebouwde kom</td>\n",
       "      <td>7</td>\n",
       "      <td>Bromfietser</td>\n",
       "      <td>15</td>\n",
       "      <td>Bromfiets A (tweewielige)</td>\n",
       "      <td>2</td>\n",
       "      <td>Gewestweg</td>\n",
       "      <td>3</td>\n",
       "      <td>Nacht, ontstoken openbare verlichting</td>\n",
       "      <td>5</td>\n",
       "      <td>20 tot 24 jaar</td>\n",
       "      <td>11001</td>\n",
       "      <td>Aartselaar</td>\n",
       "      <td>11000</td>\n",
       "      <td>Arrondissement Antwerpen</td>\n",
       "      <td>10000</td>\n",
       "      <td>Provincie Antwerpen</td>\n",
       "      <td>2000</td>\n",
       "      <td>Vlaams Gewest</td>\n",
       "      <td>1</td>\n",
       "      <td>male</td>\n",
       "    </tr>\n",
       "  </tbody>\n",
       "</table>\n",
       "</div>"
      ],
      "text/plain": [
       "       DT_DAY  DT_HOUR  CD_DAY_OF_WEEK DAY_OF_WEEK  MS_VICT  MS_VIC_OK  \\\n",
       "0  2020-09-24       15               4   donderdag        1          0   \n",
       "1  2020-10-25       14               7      zondag        1          0   \n",
       "2  2020-09-24       15               4   donderdag        1          0   \n",
       "3  2020-12-01       15               2     dinsdag        1          1   \n",
       "4  2020-12-16       17               3    woensdag        1          0   \n",
       "\n",
       "   MS_SLY_INJ  MS_SERLY_INJ  MS_DEAD_30_DAYS  CD_BUILD_UP_AREA  \\\n",
       "0           1             0                0                 1   \n",
       "1           1             0                0                 1   \n",
       "2           1             0                0                 1   \n",
       "3           0             0                0                 1   \n",
       "4           1             0                0                 2   \n",
       "\n",
       "         BUILD_UP_AREA  CD_VICT_TYPE    VICT_TYPE  CD_ROAD_USER_TYPE  \\\n",
       "0  Binnen bebouwde kom             1   Bestuurder                  1   \n",
       "1  Binnen bebouwde kom             1   Bestuurder                  1   \n",
       "2  Binnen bebouwde kom             1   Bestuurder                  1   \n",
       "3  Binnen bebouwde kom             1   Bestuurder                  1   \n",
       "4  Buiten bebouwde kom             7  Bromfietser                 15   \n",
       "\n",
       "               ROAD_USR_TYPE  CD_ROAD_TYPE    ROAD_TYPE  CD_LIGHT_COND  \\\n",
       "0               Personenauto             3  Gemeenteweg              1   \n",
       "1               Personenauto             3  Gemeenteweg              1   \n",
       "2               Personenauto             3  Gemeenteweg              1   \n",
       "3               Personenauto             3  Gemeenteweg              1   \n",
       "4  Bromfiets A (tweewielige)             2    Gewestweg              3   \n",
       "\n",
       "                              LIGHT_COND CD_AGE_CLS         AGE_CLS  \\\n",
       "0                    Bij klaarlichte dag          8  35 tot 39 jaar   \n",
       "1                    Bij klaarlichte dag         11  50 tot 54 jaar   \n",
       "2                    Bij klaarlichte dag         10  45 tot 49 jaar   \n",
       "3                    Bij klaarlichte dag         10  45 tot 49 jaar   \n",
       "4  Nacht, ontstoken openbare verlichting          5  20 tot 24 jaar   \n",
       "\n",
       "   CD_MUNTY_REFNIS       MUNTY  CD_DSTR_REFNIS                  ADM_DSTR  \\\n",
       "0            11001  Aartselaar           11000  Arrondissement Antwerpen   \n",
       "1            11001  Aartselaar           11000  Arrondissement Antwerpen   \n",
       "2            11001  Aartselaar           11000  Arrondissement Antwerpen   \n",
       "3            11001  Aartselaar           11000  Arrondissement Antwerpen   \n",
       "4            11001  Aartselaar           11000  Arrondissement Antwerpen   \n",
       "\n",
       "  CD_PROV_REFNIS                 PROV  CD_RGN_REFNIS            RGN  CD_SEX  \\\n",
       "0          10000  Provincie Antwerpen           2000  Vlaams Gewest       2   \n",
       "1          10000  Provincie Antwerpen           2000  Vlaams Gewest       1   \n",
       "2          10000  Provincie Antwerpen           2000  Vlaams Gewest       1   \n",
       "3          10000  Provincie Antwerpen           2000  Vlaams Gewest       1   \n",
       "4          10000  Provincie Antwerpen           2000  Vlaams Gewest       1   \n",
       "\n",
       "      SEX  \n",
       "0  female  \n",
       "1    male  \n",
       "2    male  \n",
       "3    male  \n",
       "4    male  "
      ]
     },
     "execution_count": 28,
     "metadata": {},
     "output_type": "execute_result"
    }
   ],
   "source": [
    "casualties = casualties_nl.rename(columns=clean_column_name)\n",
    "casualties.head()"
   ]
  },
  {
   "cell_type": "markdown",
   "id": "e070510e-2696-4369-9db3-78a0c535bebc",
   "metadata": {
    "tags": []
   },
   "source": [
    "<div class=\"alert alert-success\">\n",
    "\n",
    "**EXERCISE**\n",
    "\n",
    "The day (`DT_DAY`) and hour (`DT_HOUR`) are two separate columns instead of a single `datetime` data type column. \n",
    "    \n",
    "- Check the data types of the `DT_DAY` and `DT_HOUR` columns.\n",
    "- Combine the two columns into a single column (using _string concatenation_) and use the `pd.to_datetime` function to convert the combined column (call the new column `\"datetime\"`).\n",
    "\n",
    "<details><summary>Hints</summary>\n",
    "    \n",
    "- The data type of columns is available as the `dtypes` attribute.\n",
    "- String concatenation is done element-wise in pandas using the `+` operator. Do not forget to convert the `DT_HOUR` column into a `str` column using the `astype()` before trying to concatenate it with the day.\n",
    "\n",
    "</details>\n",
    "\n",
    "</div>"
   ]
  },
  {
   "cell_type": "code",
   "execution_count": 29,
   "id": "183b0eb0-360d-43f8-9299-99b9a01e1e66",
   "metadata": {
    "tags": [
     "nbtutor-solution"
    ]
   },
   "outputs": [
    {
     "data": {
      "text/plain": [
       "DT_DAY     object\n",
       "DT_HOUR     int64\n",
       "dtype: object"
      ]
     },
     "execution_count": 29,
     "metadata": {},
     "output_type": "execute_result"
    }
   ],
   "source": [
    "casualties[[\"DT_DAY\", \"DT_HOUR\"]].dtypes"
   ]
  },
  {
   "cell_type": "code",
   "execution_count": 30,
   "id": "6a3ee3b5-e3b9-459b-9563-0cb8e160cb00",
   "metadata": {
    "tags": [
     "nbtutor-solution"
    ]
   },
   "outputs": [],
   "source": [
    "casualties[\"datetime\"] = casualties[\"DT_DAY\"] + \" \" + casualties[\"DT_HOUR\"].astype(str)"
   ]
  },
  {
   "cell_type": "code",
   "execution_count": 31,
   "id": "c5b01320-f2d0-434c-aad1-b6794f6c64a7",
   "metadata": {
    "tags": [
     "nbtutor-solution"
    ]
   },
   "outputs": [
    {
     "data": {
      "text/plain": [
       "0       2020-09-24 15:00:00\n",
       "1       2020-10-25 14:00:00\n",
       "2       2020-09-24 15:00:00\n",
       "3       2020-12-01 15:00:00\n",
       "4       2020-12-16 17:00:00\n",
       "                ...        \n",
       "66125   2020-08-16 12:00:00\n",
       "66126   2020-07-31 17:00:00\n",
       "66127   2020-07-31 17:00:00\n",
       "66128   2020-07-31 17:00:00\n",
       "66129   2020-07-31 17:00:00\n",
       "Name: datetime, Length: 66130, dtype: datetime64[ns]"
      ]
     },
     "execution_count": 31,
     "metadata": {},
     "output_type": "execute_result"
    }
   ],
   "source": [
    "casualties[\"datetime\"] = pd.to_datetime(casualties[\"datetime\"])\n",
    "casualties[\"datetime\"]"
   ]
  },
  {
   "cell_type": "markdown",
   "id": "15b15255-ee92-45bc-bbf1-f6ee1919c5a9",
   "metadata": {
    "tags": []
   },
   "source": [
    "<div class=\"alert alert-success\">\n",
    "\n",
    "**EXERCISE**\n",
    "\n",
    "For columns consisting of a limited number of categories with (_ordinal data_) or without a logical order, Pandas has a specific data type: `Categorical`. An example in the data set is the `DAY_OF_WEEK` (from `Monday` -> `Sunday`). \n",
    "    \n",
    "For this conversion, the `astype` is not sufficient. Use the `pd.Categorical` function (check the documentation) to create a new column `week_day` with the week days defined as a Categorical variable. Use Monday as the first day of the week and make sure the categories are ordered.\n",
    "\n",
    "<details><summary>Hints</summary>\n",
    "    \n",
    "- See [Pandas categorical info](https://pandas.pydata.org/pandas-docs/stable/user_guide/categorical.html#object-creation) for more information\n",
    "- Use `ordered=True` to define ordered data.  \n",
    "\n",
    "</details>\n",
    "\n",
    "</div>"
   ]
  },
  {
   "cell_type": "code",
   "execution_count": 32,
   "id": "bfa89cbb-943b-4449-8acf-e3e15e287dd6",
   "metadata": {
    "tags": []
   },
   "outputs": [],
   "source": [
    "# Conversion to english weekday names\n",
    "casualties[\"DAY_OF_WEEK\"] = casualties[\"DAY_OF_WEEK\"].replace({\"maandag\": \"Monday\", \n",
    "                                                               \"dinsdag\": \"Tuesday\", \n",
    "                                                               \"woensdag\": \"Wednesday\", \n",
    "                                                               \"donderdag\": \"Thursday\", \n",
    "                                                               \"vrijdag\": \"Friday\", \n",
    "                                                               \"zaterdag\": \"Saturday\", \n",
    "                                                               \"zondag\": \"Sunday\"})"
   ]
  },
  {
   "cell_type": "code",
   "execution_count": 33,
   "id": "457ac0f6-b88a-45a4-a83c-6a70eae1bdbf",
   "metadata": {
    "tags": [
     "nbtutor-solution"
    ]
   },
   "outputs": [],
   "source": [
    "casualties[\"week_day\"] = pd.Categorical(casualties[\"DAY_OF_WEEK\"], \n",
    "                                        categories=[\"Monday\", \"Tuesday\", \"Wednesday\", \"Thursday\", \n",
    "                                                    \"Friday\", \"Saturday\", \"Sunday\"], \n",
    "                                        ordered=True)"
   ]
  },
  {
   "cell_type": "code",
   "execution_count": 34,
   "id": "1ce91077-c29f-4fa5-a62d-85040cb2a42a",
   "metadata": {
    "tags": [
     "nbtutor-solution"
    ]
   },
   "outputs": [
    {
     "data": {
      "text/plain": [
       "CategoricalDtype(categories=['Monday', 'Tuesday', 'Wednesday', 'Thursday', 'Friday',\n",
       "                  'Saturday', 'Sunday'],\n",
       ", ordered=True, categories_dtype=object)"
      ]
     },
     "execution_count": 34,
     "metadata": {},
     "output_type": "execute_result"
    }
   ],
   "source": [
    "casualties[\"week_day\"].dtype"
   ]
  },
  {
   "cell_type": "markdown",
   "id": "35284dca-0c5f-45a9-9763-3fb89d1be981",
   "metadata": {
    "tags": []
   },
   "source": [
    "<div class=\"alert alert-success\">\n",
    "\n",
    "**(OPTIONAL) EXERCISE**\n",
    "\n",
    "In the `AGE_CLS` column, the age is formatted as `X tot Y jaar` (i.e. _x till y year_). Remove the Dutch description and convert the data into a format `Y - Y` to define the age classes. \n",
    "    \n",
    "Use the string methods as much as possible. The `Onbekend`, `  ` (empty string) and `75 jaar en meer` data values can be done by direct replacement into `None`, `None` and `> 75` respectively.\n",
    "\n",
    "<details><summary>Hints</summary>\n",
    "    \n",
    "- Use the `.str.replace()` (note the difference with the Pandas `replace()` method) and the `str.removesuffix()` methods to convert the data format.\n",
    "- Add an additional `str.strip` to get rid of the spaces and the 'unknown' number of spaces in the empty string case.\n",
    "- Using the `replace()` method with a dictionary just works for the remaining two values:  `{\"Onbekend\": None, \"75 jaar en meer\": \">75\"}`. It will leave other values (not specified in the dictionary) as is.\n",
    "\n",
    "</details>\n",
    "\n",
    "</div>"
   ]
  },
  {
   "cell_type": "code",
   "execution_count": 35,
   "id": "73ac4269-14ee-4de2-a626-056e32cc015d",
   "metadata": {
    "tags": [
     "nbtutor-solution"
    ]
   },
   "outputs": [],
   "source": [
    "casualties[\"AGE_CLS\"] = casualties[\"AGE_CLS\"].str.replace(\" tot \", \" - \").str.removesuffix(\" jaar\").str.strip()\n",
    "casualties[\"AGE_CLS\"] = casualties[\"AGE_CLS\"].replace({\"Onbekend\": None, \"75 jaar en meer\": \">75\", \"\": None})"
   ]
  },
  {
   "cell_type": "code",
   "execution_count": 36,
   "id": "cd53d1a8-a62a-4705-a4e3-45bf7caa4843",
   "metadata": {
    "tags": []
   },
   "outputs": [
    {
     "data": {
      "text/plain": [
       "array(['35 - 39', '50 - 54', '45 - 49', '20 - 24', None, '0 - 4',\n",
       "       '55 - 59', '30 - 34', '10 - 14', '25 - 29', '5 - 9', '70 - 74',\n",
       "       '40 - 44', '15 - 19', '60 - 64', '65 - 69', '>75'], dtype=object)"
      ]
     },
     "execution_count": 36,
     "metadata": {},
     "output_type": "execute_result"
    }
   ],
   "source": [
    "# verify outcome\n",
    "casualties[\"AGE_CLS\"].unique()"
   ]
  },
  {
   "cell_type": "markdown",
   "id": "cfa4ada2-b824-4b3e-a016-f53a208ef29e",
   "metadata": {},
   "source": [
    "<div class=\"alert alert-success\">\n",
    "\n",
    "**(OPTIONAL) EXERCISE**\n",
    "\n",
    "The data set contains the number of victims. The link with the individual accidents is not available in the current data set and multiple records/rows of the data set can belong to a single accident. \n",
    "    \n",
    "We can expect that records with the same day, hour, municipality , light condition, road type and build up area are probably linked to the same accident. Try to estimate the number of accidents.\n",
    "\n",
    "<details><summary>Hints</summary>\n",
    "    \n",
    "- This exercise is a special case of the `drop_duplicates` method. When we drop duplicate records when `\"DT_DAY\", \"DT_HOUR\",  \"CD_MUNTY_REFNIS\", \"BUILD_UP_AREA\",\"LIGHT_COND\", \"ROAD_TYPE\"` are all the same, we have an estimate on the number of accidents.\n",
    "- Use the `subset` parameter to define a specific set of column names.\n",
    "\n",
    "</details>\n",
    "\n",
    "</div>"
   ]
  },
  {
   "cell_type": "code",
   "execution_count": 37,
   "id": "58b75469-972e-47ec-becc-c3ccf218e9a1",
   "metadata": {
    "tags": [
     "nbtutor-solution"
    ]
   },
   "outputs": [
    {
     "data": {
      "text/plain": [
       "(29952, 33)"
      ]
     },
     "execution_count": 37,
     "metadata": {},
     "output_type": "execute_result"
    }
   ],
   "source": [
    "unique_combinations = [\"DT_DAY\", \"DT_HOUR\",  \"CD_MUNTY_REFNIS\", \"BUILD_UP_AREA\",\"LIGHT_COND\", \"ROAD_TYPE\"]\n",
    "casualties.drop_duplicates(subset=unique_combinations).shape"
   ]
  },
  {
   "cell_type": "code",
   "execution_count": 38,
   "id": "90674ed4-5101-4827-8c53-4ecdecfbfacb",
   "metadata": {
    "tags": [
     "nbtutor-solution"
    ]
   },
   "outputs": [
    {
     "data": {
      "text/plain": [
       "np.int64(29952)"
      ]
     },
     "execution_count": 38,
     "metadata": {},
     "output_type": "execute_result"
    }
   ],
   "source": [
    "# alternative using `duplicated`\n",
    "(~casualties.duplicated(subset=unique_combinations)).sum()"
   ]
  }
 ],
 "metadata": {
  "kernelspec": {
   "display_name": "Python 3 (ipykernel)",
   "language": "python",
   "name": "python3"
  },
  "language_info": {
   "codemirror_mode": {
    "name": "ipython",
    "version": 3
   },
   "file_extension": ".py",
   "mimetype": "text/x-python",
   "name": "python",
   "nbconvert_exporter": "python",
   "pygments_lexer": "ipython3",
   "version": "3.12.8"
  },
  "widgets": {
   "application/vnd.jupyter.widget-state+json": {
    "state": {},
    "version_major": 2,
    "version_minor": 0
   }
  }
 },
 "nbformat": 4,
 "nbformat_minor": 5
}
