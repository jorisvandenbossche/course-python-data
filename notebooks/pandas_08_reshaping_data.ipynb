{
 "cells": [
  {
   "cell_type": "markdown",
   "id": "a7d814f2",
   "metadata": {},
   "source": [
    "<p><font size=\"6\"><b>08 - Pandas: Tidy data and reshaping</b></font></p>\n",
    "\n",
    "\n",
    "> *© 2022, Joris Van den Bossche and Stijn Van Hoey  (<mailto:jorisvandenbossche@gmail.com>, <mailto:stijnvanhoey@gmail.com>). Licensed under [CC BY 4.0 Creative Commons](http://creativecommons.org/licenses/by/4.0/)*\n",
    "\n",
    "---"
   ]
  },
  {
   "cell_type": "code",
   "execution_count": 1,
   "id": "270512af",
   "metadata": {},
   "outputs": [],
   "source": [
    "import pandas as pd\n",
    "import numpy as np\n",
    "import matplotlib.pyplot as plt\n",
    "import seaborn as sns"
   ]
  },
  {
   "cell_type": "markdown",
   "id": "399ca374",
   "metadata": {
    "tags": []
   },
   "source": [
    "# Tidy data\n",
    "\n",
    "`melt `can be used to make a dataframe longer, i.e. to make a *tidy* version of your data. In a [tidy dataset](https://vita.had.co.nz/papers/tidy-data.pdf) (also sometimes called 'long-form' data or 'denormalized' data) each observation is stored in its own row and each column contains a single variable:\n",
    "\n",
    "![](../img/tidy_data_scheme.png)\n",
    "\n",
    "Consider the following example with measurements in different Waste Water Treatment Plants (WWTP):"
   ]
  },
  {
   "cell_type": "code",
   "execution_count": 2,
   "id": "0e50cec8-1244-43c6-b14e-f06e32deacc3",
   "metadata": {},
   "outputs": [
    {
     "data": {
      "text/html": [
       "<div>\n",
       "<style scoped>\n",
       "    .dataframe tbody tr th:only-of-type {\n",
       "        vertical-align: middle;\n",
       "    }\n",
       "\n",
       "    .dataframe tbody tr th {\n",
       "        vertical-align: top;\n",
       "    }\n",
       "\n",
       "    .dataframe thead th {\n",
       "        text-align: right;\n",
       "    }\n",
       "</style>\n",
       "<table border=\"1\" class=\"dataframe\">\n",
       "  <thead>\n",
       "    <tr style=\"text-align: right;\">\n",
       "      <th></th>\n",
       "      <th>WWTP</th>\n",
       "      <th>Treatment A</th>\n",
       "      <th>Treatment B</th>\n",
       "    </tr>\n",
       "  </thead>\n",
       "  <tbody>\n",
       "    <tr>\n",
       "      <th>0</th>\n",
       "      <td>Destelbergen</td>\n",
       "      <td>8.0</td>\n",
       "      <td>6.3</td>\n",
       "    </tr>\n",
       "    <tr>\n",
       "      <th>1</th>\n",
       "      <td>Landegem</td>\n",
       "      <td>7.5</td>\n",
       "      <td>5.2</td>\n",
       "    </tr>\n",
       "    <tr>\n",
       "      <th>2</th>\n",
       "      <td>Dendermonde</td>\n",
       "      <td>8.3</td>\n",
       "      <td>6.2</td>\n",
       "    </tr>\n",
       "    <tr>\n",
       "      <th>3</th>\n",
       "      <td>Eeklo</td>\n",
       "      <td>6.5</td>\n",
       "      <td>7.2</td>\n",
       "    </tr>\n",
       "  </tbody>\n",
       "</table>\n",
       "</div>"
      ],
      "text/plain": [
       "           WWTP  Treatment A  Treatment B\n",
       "0  Destelbergen          8.0          6.3\n",
       "1      Landegem          7.5          5.2\n",
       "2   Dendermonde          8.3          6.2\n",
       "3         Eeklo          6.5          7.2"
      ]
     },
     "execution_count": 2,
     "metadata": {},
     "output_type": "execute_result"
    }
   ],
   "source": [
    "data = pd.DataFrame({\n",
    "   'WWTP': ['Destelbergen', 'Landegem', 'Dendermonde', 'Eeklo'],\n",
    "   'Treatment A': [8.0, 7.5, 8.3, 6.5],\n",
    "   'Treatment B': [6.3, 5.2, 6.2, 7.2]\n",
    "})\n",
    "data"
   ]
  },
  {
   "cell_type": "markdown",
   "id": "71ca855d-552a-4c04-9a07-fa5ea30bf3a2",
   "metadata": {},
   "source": [
    "This data representation is not \"tidy\":\n",
    "\n",
    "- Each row contains two observations of pH (each from a different treatment)\n",
    "- 'Treatment' (A or B) is a variable not in its own column, but used as column headers"
   ]
  },
  {
   "cell_type": "markdown",
   "id": "19252f37-e9c7-46b3-9e69-718312f4dabe",
   "metadata": {},
   "source": [
    "## Melt - from wide to long/tidy format\n",
    "\n",
    "We can `melt` the data set to tidy the data:"
   ]
  },
  {
   "cell_type": "code",
   "execution_count": 3,
   "id": "acfed01b-8816-41aa-b159-a51f62dbb479",
   "metadata": {},
   "outputs": [
    {
     "data": {
      "text/html": [
       "<div>\n",
       "<style scoped>\n",
       "    .dataframe tbody tr th:only-of-type {\n",
       "        vertical-align: middle;\n",
       "    }\n",
       "\n",
       "    .dataframe tbody tr th {\n",
       "        vertical-align: top;\n",
       "    }\n",
       "\n",
       "    .dataframe thead th {\n",
       "        text-align: right;\n",
       "    }\n",
       "</style>\n",
       "<table border=\"1\" class=\"dataframe\">\n",
       "  <thead>\n",
       "    <tr style=\"text-align: right;\">\n",
       "      <th></th>\n",
       "      <th>variable</th>\n",
       "      <th>value</th>\n",
       "    </tr>\n",
       "  </thead>\n",
       "  <tbody>\n",
       "    <tr>\n",
       "      <th>0</th>\n",
       "      <td>WWTP</td>\n",
       "      <td>Destelbergen</td>\n",
       "    </tr>\n",
       "    <tr>\n",
       "      <th>1</th>\n",
       "      <td>WWTP</td>\n",
       "      <td>Landegem</td>\n",
       "    </tr>\n",
       "    <tr>\n",
       "      <th>2</th>\n",
       "      <td>WWTP</td>\n",
       "      <td>Dendermonde</td>\n",
       "    </tr>\n",
       "    <tr>\n",
       "      <th>3</th>\n",
       "      <td>WWTP</td>\n",
       "      <td>Eeklo</td>\n",
       "    </tr>\n",
       "    <tr>\n",
       "      <th>4</th>\n",
       "      <td>Treatment A</td>\n",
       "      <td>8.0</td>\n",
       "    </tr>\n",
       "    <tr>\n",
       "      <th>5</th>\n",
       "      <td>Treatment A</td>\n",
       "      <td>7.5</td>\n",
       "    </tr>\n",
       "    <tr>\n",
       "      <th>6</th>\n",
       "      <td>Treatment A</td>\n",
       "      <td>8.3</td>\n",
       "    </tr>\n",
       "    <tr>\n",
       "      <th>7</th>\n",
       "      <td>Treatment A</td>\n",
       "      <td>6.5</td>\n",
       "    </tr>\n",
       "    <tr>\n",
       "      <th>8</th>\n",
       "      <td>Treatment B</td>\n",
       "      <td>6.3</td>\n",
       "    </tr>\n",
       "    <tr>\n",
       "      <th>9</th>\n",
       "      <td>Treatment B</td>\n",
       "      <td>5.2</td>\n",
       "    </tr>\n",
       "    <tr>\n",
       "      <th>10</th>\n",
       "      <td>Treatment B</td>\n",
       "      <td>6.2</td>\n",
       "    </tr>\n",
       "    <tr>\n",
       "      <th>11</th>\n",
       "      <td>Treatment B</td>\n",
       "      <td>7.2</td>\n",
       "    </tr>\n",
       "  </tbody>\n",
       "</table>\n",
       "</div>"
      ],
      "text/plain": [
       "       variable         value\n",
       "0          WWTP  Destelbergen\n",
       "1          WWTP      Landegem\n",
       "2          WWTP   Dendermonde\n",
       "3          WWTP         Eeklo\n",
       "4   Treatment A           8.0\n",
       "5   Treatment A           7.5\n",
       "6   Treatment A           8.3\n",
       "7   Treatment A           6.5\n",
       "8   Treatment B           6.3\n",
       "9   Treatment B           5.2\n",
       "10  Treatment B           6.2\n",
       "11  Treatment B           7.2"
      ]
     },
     "execution_count": 3,
     "metadata": {},
     "output_type": "execute_result"
    }
   ],
   "source": [
    "pd.melt(data)  #, id_vars=[\"WWTP\"])"
   ]
  },
  {
   "cell_type": "code",
   "execution_count": 4,
   "id": "11ac8b4f-942a-4711-a689-8a66960fbbdc",
   "metadata": {},
   "outputs": [
    {
     "data": {
      "text/html": [
       "<div>\n",
       "<style scoped>\n",
       "    .dataframe tbody tr th:only-of-type {\n",
       "        vertical-align: middle;\n",
       "    }\n",
       "\n",
       "    .dataframe tbody tr th {\n",
       "        vertical-align: top;\n",
       "    }\n",
       "\n",
       "    .dataframe thead th {\n",
       "        text-align: right;\n",
       "    }\n",
       "</style>\n",
       "<table border=\"1\" class=\"dataframe\">\n",
       "  <thead>\n",
       "    <tr style=\"text-align: right;\">\n",
       "      <th></th>\n",
       "      <th>WWTP</th>\n",
       "      <th>Treatment</th>\n",
       "      <th>pH</th>\n",
       "    </tr>\n",
       "  </thead>\n",
       "  <tbody>\n",
       "    <tr>\n",
       "      <th>0</th>\n",
       "      <td>Destelbergen</td>\n",
       "      <td>Treatment A</td>\n",
       "      <td>8.0</td>\n",
       "    </tr>\n",
       "    <tr>\n",
       "      <th>1</th>\n",
       "      <td>Landegem</td>\n",
       "      <td>Treatment A</td>\n",
       "      <td>7.5</td>\n",
       "    </tr>\n",
       "    <tr>\n",
       "      <th>2</th>\n",
       "      <td>Dendermonde</td>\n",
       "      <td>Treatment A</td>\n",
       "      <td>8.3</td>\n",
       "    </tr>\n",
       "    <tr>\n",
       "      <th>3</th>\n",
       "      <td>Eeklo</td>\n",
       "      <td>Treatment A</td>\n",
       "      <td>6.5</td>\n",
       "    </tr>\n",
       "    <tr>\n",
       "      <th>4</th>\n",
       "      <td>Destelbergen</td>\n",
       "      <td>Treatment B</td>\n",
       "      <td>6.3</td>\n",
       "    </tr>\n",
       "    <tr>\n",
       "      <th>5</th>\n",
       "      <td>Landegem</td>\n",
       "      <td>Treatment B</td>\n",
       "      <td>5.2</td>\n",
       "    </tr>\n",
       "    <tr>\n",
       "      <th>6</th>\n",
       "      <td>Dendermonde</td>\n",
       "      <td>Treatment B</td>\n",
       "      <td>6.2</td>\n",
       "    </tr>\n",
       "    <tr>\n",
       "      <th>7</th>\n",
       "      <td>Eeklo</td>\n",
       "      <td>Treatment B</td>\n",
       "      <td>7.2</td>\n",
       "    </tr>\n",
       "  </tbody>\n",
       "</table>\n",
       "</div>"
      ],
      "text/plain": [
       "           WWTP    Treatment   pH\n",
       "0  Destelbergen  Treatment A  8.0\n",
       "1      Landegem  Treatment A  7.5\n",
       "2   Dendermonde  Treatment A  8.3\n",
       "3         Eeklo  Treatment A  6.5\n",
       "4  Destelbergen  Treatment B  6.3\n",
       "5      Landegem  Treatment B  5.2\n",
       "6   Dendermonde  Treatment B  6.2\n",
       "7         Eeklo  Treatment B  7.2"
      ]
     },
     "execution_count": 4,
     "metadata": {},
     "output_type": "execute_result"
    }
   ],
   "source": [
    "data_long = pd.melt(data, id_vars=[\"WWTP\"], \n",
    "                    value_name=\"pH\", var_name=\"Treatment\")\n",
    "data_long"
   ]
  },
  {
   "cell_type": "markdown",
   "id": "09f947e8-70dd-485c-9c25-0125d22b3f9d",
   "metadata": {},
   "source": [
    "The usage of the tidy data representation has some important benefits when working with `groupby` or data visualization libraries such as Seaborn:"
   ]
  },
  {
   "cell_type": "code",
   "execution_count": 5,
   "id": "93d18784-c36a-4845-9bf9-d8855e4a7d69",
   "metadata": {},
   "outputs": [
    {
     "data": {
      "text/plain": [
       "Treatment\n",
       "Treatment A    7.575\n",
       "Treatment B    6.225\n",
       "Name: pH, dtype: float64"
      ]
     },
     "execution_count": 5,
     "metadata": {},
     "output_type": "execute_result"
    }
   ],
   "source": [
    "data_long.groupby(\"Treatment\")[\"pH\"].mean()  # switch to `WWTP`"
   ]
  },
  {
   "cell_type": "code",
   "execution_count": null,
   "id": "6d54b4ec-7d96-4906-88df-16b06ac43d21",
   "metadata": {},
   "outputs": [],
   "source": [
    "sns.catplot(data=data, x=\"WWTP\", y=\"...\", hue=\"...\", kind=\"bar\")  # this doesn't work that easily"
   ]
  },
  {
   "cell_type": "code",
   "execution_count": 6,
   "id": "507af344-ec3d-40d2-a407-cfa732a5670e",
   "metadata": {
    "tags": []
   },
   "outputs": [
    {
     "data": {
      "text/plain": [
       "<seaborn.axisgrid.FacetGrid at 0x7f7cce1f35b0>"
      ]
     },
     "execution_count": 6,
     "metadata": {},
     "output_type": "execute_result"
    },
    {
     "data": {
      "image/png": "[encoded data removed]",
      "text/plain": [
       "<Figure size 635x500 with 1 Axes>"
      ]
     },
     "metadata": {},
     "output_type": "display_data"
    }
   ],
   "source": [
    "sns.catplot(data=data_long, x=\"WWTP\", y=\"pH\", \n",
    "            hue=\"Treatment\", kind=\"bar\")  # switch `WWTP` and `Treatment`"
   ]
  },
  {
   "cell_type": "markdown",
   "id": "2f89cd18-79c0-4ebc-8597-16ea875d170e",
   "metadata": {
    "tags": []
   },
   "source": [
    "## Exercise with energy consumption data\n",
    "\n",
    "To practice the \"melt\" operation, we are going to use a dataset from Fluvius (who operates and manages the gas and elektricity networks in Flanders) about the monthly consumption of elektricity and gas in 2021 (https://www.fluvius.be/sites/fluvius/files/2021-10/verbruiksgegevens-per-maand.xlsx).\n",
    "\n",
    "This data is available as an Excel file."
   ]
  },
  {
   "cell_type": "markdown",
   "id": "ee851bb1-ea6c-43c3-a51b-62a2b672f2ca",
   "metadata": {
    "clear_cell": false
   },
   "source": [
    "<div class=\"alert alert-success\">\n",
    "\n",
    "**EXERCISE**:\n",
    "\n",
    "* Read the \"verbruiksgegevens-per-maand.xlsx\" file (in the \"data/\" directory) into a DataFrame `df`.\n",
    "* Drop the \"Regio\" column (this column has a constant value \"Regio 1\" and thus is not that interesting).\n",
    "\n",
    "<details><summary>Hints</summary>\n",
    "\n",
    "- Reading Excel files can be done with the `pd.read_excel()` function, passing the path to the file as first argument.\n",
    "- To drop a column, use the `columns` keyword in the `drop()` method.\n",
    "\n",
    "</details>\n",
    "</div>"
   ]
  },
  {
   "cell_type": "code",
   "execution_count": 7,
   "id": "dec13ad1-7186-4b72-a51e-beecc97404a2",
   "metadata": {
    "tags": [
     "nbtutor-solution"
    ]
   },
   "outputs": [],
   "source": [
    "df = pd.read_excel(\"data/verbruiksgegevens-per-maand.xlsx\")"
   ]
  },
  {
   "cell_type": "code",
   "execution_count": 8,
   "id": "c28fea55-3cc0-45db-8a20-626e9c20d430",
   "metadata": {
    "tags": [
     "nbtutor-solution"
    ]
   },
   "outputs": [
    {
     "data": {
      "text/html": [
       "<div>\n",
       "<style scoped>\n",
       "    .dataframe tbody tr th:only-of-type {\n",
       "        vertical-align: middle;\n",
       "    }\n",
       "\n",
       "    .dataframe tbody tr th {\n",
       "        vertical-align: top;\n",
       "    }\n",
       "\n",
       "    .dataframe thead th {\n",
       "        text-align: right;\n",
       "    }\n",
       "</style>\n",
       "<table border=\"1\" class=\"dataframe\">\n",
       "  <thead>\n",
       "    <tr style=\"text-align: right;\">\n",
       "      <th></th>\n",
       "      <th>Hoofdgemeente</th>\n",
       "      <th>Energie</th>\n",
       "      <th>SLP</th>\n",
       "      <th>202109</th>\n",
       "      <th>202108</th>\n",
       "      <th>202107</th>\n",
       "      <th>202106</th>\n",
       "      <th>202105</th>\n",
       "      <th>202104</th>\n",
       "      <th>202103</th>\n",
       "      <th>202102</th>\n",
       "      <th>202101</th>\n",
       "      <th>202012</th>\n",
       "      <th>202011</th>\n",
       "      <th>202010</th>\n",
       "      <th>202009</th>\n",
       "    </tr>\n",
       "  </thead>\n",
       "  <tbody>\n",
       "    <tr>\n",
       "      <th>0</th>\n",
       "      <td>AALST</td>\n",
       "      <td>AARDGAS</td>\n",
       "      <td>S30</td>\n",
       "      <td>6.809886e+06</td>\n",
       "      <td>7.902540e+06</td>\n",
       "      <td>6.456549e+06</td>\n",
       "      <td>6.635968e+06</td>\n",
       "      <td>9.231682e+06</td>\n",
       "      <td>9.205371e+06</td>\n",
       "      <td>9.744194e+06</td>\n",
       "      <td>9.088327e+06</td>\n",
       "      <td>1.026002e+07</td>\n",
       "      <td>8.634328e+06</td>\n",
       "      <td>9.573311e+06</td>\n",
       "      <td>7.993325e+06</td>\n",
       "      <td>7.109659e+06</td>\n",
       "    </tr>\n",
       "    <tr>\n",
       "      <th>1</th>\n",
       "      <td>AALST</td>\n",
       "      <td>AARDGAS</td>\n",
       "      <td>S31</td>\n",
       "      <td>2.493345e+06</td>\n",
       "      <td>2.199204e+06</td>\n",
       "      <td>2.109207e+06</td>\n",
       "      <td>2.185184e+06</td>\n",
       "      <td>5.885841e+06</td>\n",
       "      <td>9.866553e+06</td>\n",
       "      <td>1.198416e+07</td>\n",
       "      <td>1.418893e+07</td>\n",
       "      <td>1.901789e+07</td>\n",
       "      <td>1.494960e+07</td>\n",
       "      <td>9.463571e+06</td>\n",
       "      <td>6.683950e+06</td>\n",
       "      <td>2.894385e+06</td>\n",
       "    </tr>\n",
       "    <tr>\n",
       "      <th>2</th>\n",
       "      <td>AALST</td>\n",
       "      <td>AARDGAS</td>\n",
       "      <td>S32</td>\n",
       "      <td>5.683474e+06</td>\n",
       "      <td>5.182524e+06</td>\n",
       "      <td>4.606805e+06</td>\n",
       "      <td>4.875152e+06</td>\n",
       "      <td>1.071529e+07</td>\n",
       "      <td>1.569022e+07</td>\n",
       "      <td>1.977173e+07</td>\n",
       "      <td>2.162223e+07</td>\n",
       "      <td>2.682299e+07</td>\n",
       "      <td>2.268056e+07</td>\n",
       "      <td>1.599560e+07</td>\n",
       "      <td>1.242209e+07</td>\n",
       "      <td>5.850695e+06</td>\n",
       "    </tr>\n",
       "    <tr>\n",
       "      <th>3</th>\n",
       "      <td>AALST</td>\n",
       "      <td>AARDGAS</td>\n",
       "      <td>S41</td>\n",
       "      <td>9.662256e+06</td>\n",
       "      <td>7.017670e+06</td>\n",
       "      <td>5.873547e+06</td>\n",
       "      <td>6.748631e+06</td>\n",
       "      <td>2.394703e+07</td>\n",
       "      <td>4.147907e+07</td>\n",
       "      <td>5.046576e+07</td>\n",
       "      <td>5.825720e+07</td>\n",
       "      <td>7.800084e+07</td>\n",
       "      <td>6.388330e+07</td>\n",
       "      <td>4.092629e+07</td>\n",
       "      <td>2.823175e+07</td>\n",
       "      <td>1.095325e+07</td>\n",
       "    </tr>\n",
       "    <tr>\n",
       "      <th>4</th>\n",
       "      <td>AALST</td>\n",
       "      <td>ELEKTRICITEIT</td>\n",
       "      <td>S10</td>\n",
       "      <td>1.450932e+07</td>\n",
       "      <td>1.359805e+07</td>\n",
       "      <td>1.299678e+07</td>\n",
       "      <td>1.480451e+07</td>\n",
       "      <td>1.304660e+07</td>\n",
       "      <td>1.336154e+07</td>\n",
       "      <td>1.441592e+07</td>\n",
       "      <td>1.363170e+07</td>\n",
       "      <td>1.480123e+07</td>\n",
       "      <td>1.327333e+07</td>\n",
       "      <td>1.337908e+07</td>\n",
       "      <td>1.473330e+07</td>\n",
       "      <td>1.397057e+07</td>\n",
       "    </tr>\n",
       "    <tr>\n",
       "      <th>...</th>\n",
       "      <td>...</td>\n",
       "      <td>...</td>\n",
       "      <td>...</td>\n",
       "      <td>...</td>\n",
       "      <td>...</td>\n",
       "      <td>...</td>\n",
       "      <td>...</td>\n",
       "      <td>...</td>\n",
       "      <td>...</td>\n",
       "      <td>...</td>\n",
       "      <td>...</td>\n",
       "      <td>...</td>\n",
       "      <td>...</td>\n",
       "      <td>...</td>\n",
       "      <td>...</td>\n",
       "      <td>...</td>\n",
       "    </tr>\n",
       "    <tr>\n",
       "      <th>2620</th>\n",
       "      <td>ZWIJNDRECHT</td>\n",
       "      <td>ELEKTRICITEIT</td>\n",
       "      <td>S10</td>\n",
       "      <td>4.855725e+06</td>\n",
       "      <td>4.346640e+06</td>\n",
       "      <td>3.841007e+06</td>\n",
       "      <td>4.744834e+06</td>\n",
       "      <td>4.163644e+06</td>\n",
       "      <td>4.990528e+06</td>\n",
       "      <td>5.074753e+06</td>\n",
       "      <td>4.804187e+06</td>\n",
       "      <td>4.910748e+06</td>\n",
       "      <td>4.865284e+06</td>\n",
       "      <td>4.778591e+06</td>\n",
       "      <td>4.904171e+06</td>\n",
       "      <td>4.814427e+06</td>\n",
       "    </tr>\n",
       "    <tr>\n",
       "      <th>2621</th>\n",
       "      <td>ZWIJNDRECHT</td>\n",
       "      <td>ELEKTRICITEIT</td>\n",
       "      <td>S11</td>\n",
       "      <td>4.670057e+05</td>\n",
       "      <td>4.465444e+05</td>\n",
       "      <td>4.464282e+05</td>\n",
       "      <td>4.618844e+05</td>\n",
       "      <td>4.602900e+05</td>\n",
       "      <td>4.778762e+05</td>\n",
       "      <td>5.628804e+05</td>\n",
       "      <td>5.471842e+05</td>\n",
       "      <td>6.294682e+05</td>\n",
       "      <td>6.049759e+05</td>\n",
       "      <td>5.447336e+05</td>\n",
       "      <td>5.259311e+05</td>\n",
       "      <td>4.947573e+05</td>\n",
       "    </tr>\n",
       "    <tr>\n",
       "      <th>2622</th>\n",
       "      <td>ZWIJNDRECHT</td>\n",
       "      <td>ELEKTRICITEIT</td>\n",
       "      <td>S12</td>\n",
       "      <td>2.410702e+04</td>\n",
       "      <td>2.318793e+04</td>\n",
       "      <td>2.833989e+04</td>\n",
       "      <td>5.382616e+04</td>\n",
       "      <td>5.285896e+04</td>\n",
       "      <td>5.541485e+04</td>\n",
       "      <td>1.118462e+05</td>\n",
       "      <td>1.223834e+05</td>\n",
       "      <td>1.446434e+05</td>\n",
       "      <td>1.432873e+05</td>\n",
       "      <td>1.337486e+05</td>\n",
       "      <td>1.555266e+05</td>\n",
       "      <td>1.601657e+05</td>\n",
       "    </tr>\n",
       "    <tr>\n",
       "      <th>2623</th>\n",
       "      <td>ZWIJNDRECHT</td>\n",
       "      <td>ELEKTRICITEIT</td>\n",
       "      <td>S21</td>\n",
       "      <td>1.441690e+06</td>\n",
       "      <td>1.435275e+06</td>\n",
       "      <td>1.419666e+06</td>\n",
       "      <td>1.408374e+06</td>\n",
       "      <td>1.482971e+06</td>\n",
       "      <td>1.481310e+06</td>\n",
       "      <td>1.638519e+06</td>\n",
       "      <td>1.532480e+06</td>\n",
       "      <td>1.737157e+06</td>\n",
       "      <td>1.695495e+06</td>\n",
       "      <td>1.548669e+06</td>\n",
       "      <td>1.473836e+06</td>\n",
       "      <td>1.353182e+06</td>\n",
       "    </tr>\n",
       "    <tr>\n",
       "      <th>2624</th>\n",
       "      <td>ZWIJNDRECHT</td>\n",
       "      <td>ELEKTRICITEIT</td>\n",
       "      <td>S22</td>\n",
       "      <td>5.601168e+05</td>\n",
       "      <td>5.599294e+05</td>\n",
       "      <td>5.552673e+05</td>\n",
       "      <td>5.400023e+05</td>\n",
       "      <td>6.260969e+05</td>\n",
       "      <td>7.148040e+05</td>\n",
       "      <td>9.142317e+05</td>\n",
       "      <td>9.766203e+05</td>\n",
       "      <td>1.172583e+06</td>\n",
       "      <td>1.103917e+06</td>\n",
       "      <td>9.014469e+05</td>\n",
       "      <td>7.315151e+05</td>\n",
       "      <td>5.776419e+05</td>\n",
       "    </tr>\n",
       "  </tbody>\n",
       "</table>\n",
       "<p>2625 rows × 16 columns</p>\n",
       "</div>"
      ],
      "text/plain": [
       "     Hoofdgemeente        Energie  SLP        202109        202108  \\\n",
       "0            AALST        AARDGAS  S30  6.809886e+06  7.902540e+06   \n",
       "1            AALST        AARDGAS  S31  2.493345e+06  2.199204e+06   \n",
       "2            AALST        AARDGAS  S32  5.683474e+06  5.182524e+06   \n",
       "3            AALST        AARDGAS  S41  9.662256e+06  7.017670e+06   \n",
       "4            AALST  ELEKTRICITEIT  S10  1.450932e+07  1.359805e+07   \n",
       "...            ...            ...  ...           ...           ...   \n",
       "2620   ZWIJNDRECHT  ELEKTRICITEIT  S10  4.855725e+06  4.346640e+06   \n",
       "2621   ZWIJNDRECHT  ELEKTRICITEIT  S11  4.670057e+05  4.465444e+05   \n",
       "2622   ZWIJNDRECHT  ELEKTRICITEIT  S12  2.410702e+04  2.318793e+04   \n",
       "2623   ZWIJNDRECHT  ELEKTRICITEIT  S21  1.441690e+06  1.435275e+06   \n",
       "2624   ZWIJNDRECHT  ELEKTRICITEIT  S22  5.601168e+05  5.599294e+05   \n",
       "\n",
       "            202107        202106        202105        202104        202103  \\\n",
       "0     6.456549e+06  6.635968e+06  9.231682e+06  9.205371e+06  9.744194e+06   \n",
       "1     2.109207e+06  2.185184e+06  5.885841e+06  9.866553e+06  1.198416e+07   \n",
       "2     4.606805e+06  4.875152e+06  1.071529e+07  1.569022e+07  1.977173e+07   \n",
       "3     5.873547e+06  6.748631e+06  2.394703e+07  4.147907e+07  5.046576e+07   \n",
       "4     1.299678e+07  1.480451e+07  1.304660e+07  1.336154e+07  1.441592e+07   \n",
       "...            ...           ...           ...           ...           ...   \n",
       "2620  3.841007e+06  4.744834e+06  4.163644e+06  4.990528e+06  5.074753e+06   \n",
       "2621  4.464282e+05  4.618844e+05  4.602900e+05  4.778762e+05  5.628804e+05   \n",
       "2622  2.833989e+04  5.382616e+04  5.285896e+04  5.541485e+04  1.118462e+05   \n",
       "2623  1.419666e+06  1.408374e+06  1.482971e+06  1.481310e+06  1.638519e+06   \n",
       "2624  5.552673e+05  5.400023e+05  6.260969e+05  7.148040e+05  9.142317e+05   \n",
       "\n",
       "            202102        202101        202012        202011        202010  \\\n",
       "0     9.088327e+06  1.026002e+07  8.634328e+06  9.573311e+06  7.993325e+06   \n",
       "1     1.418893e+07  1.901789e+07  1.494960e+07  9.463571e+06  6.683950e+06   \n",
       "2     2.162223e+07  2.682299e+07  2.268056e+07  1.599560e+07  1.242209e+07   \n",
       "3     5.825720e+07  7.800084e+07  6.388330e+07  4.092629e+07  2.823175e+07   \n",
       "4     1.363170e+07  1.480123e+07  1.327333e+07  1.337908e+07  1.473330e+07   \n",
       "...            ...           ...           ...           ...           ...   \n",
       "2620  4.804187e+06  4.910748e+06  4.865284e+06  4.778591e+06  4.904171e+06   \n",
       "2621  5.471842e+05  6.294682e+05  6.049759e+05  5.447336e+05  5.259311e+05   \n",
       "2622  1.223834e+05  1.446434e+05  1.432873e+05  1.337486e+05  1.555266e+05   \n",
       "2623  1.532480e+06  1.737157e+06  1.695495e+06  1.548669e+06  1.473836e+06   \n",
       "2624  9.766203e+05  1.172583e+06  1.103917e+06  9.014469e+05  7.315151e+05   \n",
       "\n",
       "            202009  \n",
       "0     7.109659e+06  \n",
       "1     2.894385e+06  \n",
       "2     5.850695e+06  \n",
       "3     1.095325e+07  \n",
       "4     1.397057e+07  \n",
       "...            ...  \n",
       "2620  4.814427e+06  \n",
       "2621  4.947573e+05  \n",
       "2622  1.601657e+05  \n",
       "2623  1.353182e+06  \n",
       "2624  5.776419e+05  \n",
       "\n",
       "[2625 rows x 16 columns]"
      ]
     },
     "execution_count": 8,
     "metadata": {},
     "output_type": "execute_result"
    }
   ],
   "source": [
    "df = df.drop(columns=[\"Regio\"])\n",
    "df"
   ]
  },
  {
   "cell_type": "markdown",
   "id": "c2d6783f-3f0f-43f0-a9da-d84c4819369a",
   "metadata": {
    "clear_cell": false
   },
   "source": [
    "<div class=\"alert alert-success\">\n",
    "\n",
    "**EXERCISE**:\n",
    "\n",
    "The actual data (consumption numbers) is spread over multiple columns: one column per month. Make a tidy version of this dataset with a single \"consumption\" column, and an additional \"time\" column. \n",
    "    \n",
    "Make sure to keep the \"Hoofdgemeente\", \"Energie\" and \"SLP\"  columns in the data set. The \"SLP\" column contains additional categories about the type of elektricity or gas consumption (eg household vs non-household consumption).\n",
    "\n",
    "Use `pd.melt()` to create a long or tidy version of the dataset, and call the result `df_tidy`.\n",
    "\n",
    "<details><summary>Hints</summary>\n",
    "\n",
    "- If there are columns in the original dataset that you want to keep (with repeated values), pass those names to the `id_vars` keyword of `pd.melt()`.\n",
    "- You can use the `var_name` and `value_name` keywords to directly specify the column names to use for the new variable and value columns.\n",
    "\n",
    "</details>\n",
    "</div>"
   ]
  },
  {
   "cell_type": "code",
   "execution_count": 9,
   "id": "f4c99001-bee1-454f-a1e5-015bc34d1403",
   "metadata": {
    "tags": [
     "nbtutor-solution"
    ]
   },
   "outputs": [
    {
     "data": {
      "text/html": [
       "<div>\n",
       "<style scoped>\n",
       "    .dataframe tbody tr th:only-of-type {\n",
       "        vertical-align: middle;\n",
       "    }\n",
       "\n",
       "    .dataframe tbody tr th {\n",
       "        vertical-align: top;\n",
       "    }\n",
       "\n",
       "    .dataframe thead th {\n",
       "        text-align: right;\n",
       "    }\n",
       "</style>\n",
       "<table border=\"1\" class=\"dataframe\">\n",
       "  <thead>\n",
       "    <tr style=\"text-align: right;\">\n",
       "      <th></th>\n",
       "      <th>Hoofdgemeente</th>\n",
       "      <th>Energie</th>\n",
       "      <th>SLP</th>\n",
       "      <th>time</th>\n",
       "      <th>consumption</th>\n",
       "    </tr>\n",
       "  </thead>\n",
       "  <tbody>\n",
       "    <tr>\n",
       "      <th>0</th>\n",
       "      <td>AALST</td>\n",
       "      <td>AARDGAS</td>\n",
       "      <td>S30</td>\n",
       "      <td>202109</td>\n",
       "      <td>6.809886e+06</td>\n",
       "    </tr>\n",
       "    <tr>\n",
       "      <th>1</th>\n",
       "      <td>AALST</td>\n",
       "      <td>AARDGAS</td>\n",
       "      <td>S31</td>\n",
       "      <td>202109</td>\n",
       "      <td>2.493345e+06</td>\n",
       "    </tr>\n",
       "    <tr>\n",
       "      <th>2</th>\n",
       "      <td>AALST</td>\n",
       "      <td>AARDGAS</td>\n",
       "      <td>S32</td>\n",
       "      <td>202109</td>\n",
       "      <td>5.683474e+06</td>\n",
       "    </tr>\n",
       "    <tr>\n",
       "      <th>3</th>\n",
       "      <td>AALST</td>\n",
       "      <td>AARDGAS</td>\n",
       "      <td>S41</td>\n",
       "      <td>202109</td>\n",
       "      <td>9.662256e+06</td>\n",
       "    </tr>\n",
       "    <tr>\n",
       "      <th>4</th>\n",
       "      <td>AALST</td>\n",
       "      <td>ELEKTRICITEIT</td>\n",
       "      <td>S10</td>\n",
       "      <td>202109</td>\n",
       "      <td>1.450932e+07</td>\n",
       "    </tr>\n",
       "    <tr>\n",
       "      <th>...</th>\n",
       "      <td>...</td>\n",
       "      <td>...</td>\n",
       "      <td>...</td>\n",
       "      <td>...</td>\n",
       "      <td>...</td>\n",
       "    </tr>\n",
       "    <tr>\n",
       "      <th>34120</th>\n",
       "      <td>ZWIJNDRECHT</td>\n",
       "      <td>ELEKTRICITEIT</td>\n",
       "      <td>S10</td>\n",
       "      <td>202009</td>\n",
       "      <td>4.814427e+06</td>\n",
       "    </tr>\n",
       "    <tr>\n",
       "      <th>34121</th>\n",
       "      <td>ZWIJNDRECHT</td>\n",
       "      <td>ELEKTRICITEIT</td>\n",
       "      <td>S11</td>\n",
       "      <td>202009</td>\n",
       "      <td>4.947573e+05</td>\n",
       "    </tr>\n",
       "    <tr>\n",
       "      <th>34122</th>\n",
       "      <td>ZWIJNDRECHT</td>\n",
       "      <td>ELEKTRICITEIT</td>\n",
       "      <td>S12</td>\n",
       "      <td>202009</td>\n",
       "      <td>1.601657e+05</td>\n",
       "    </tr>\n",
       "    <tr>\n",
       "      <th>34123</th>\n",
       "      <td>ZWIJNDRECHT</td>\n",
       "      <td>ELEKTRICITEIT</td>\n",
       "      <td>S21</td>\n",
       "      <td>202009</td>\n",
       "      <td>1.353182e+06</td>\n",
       "    </tr>\n",
       "    <tr>\n",
       "      <th>34124</th>\n",
       "      <td>ZWIJNDRECHT</td>\n",
       "      <td>ELEKTRICITEIT</td>\n",
       "      <td>S22</td>\n",
       "      <td>202009</td>\n",
       "      <td>5.776419e+05</td>\n",
       "    </tr>\n",
       "  </tbody>\n",
       "</table>\n",
       "<p>34125 rows × 5 columns</p>\n",
       "</div>"
      ],
      "text/plain": [
       "      Hoofdgemeente        Energie  SLP    time   consumption\n",
       "0             AALST        AARDGAS  S30  202109  6.809886e+06\n",
       "1             AALST        AARDGAS  S31  202109  2.493345e+06\n",
       "2             AALST        AARDGAS  S32  202109  5.683474e+06\n",
       "3             AALST        AARDGAS  S41  202109  9.662256e+06\n",
       "4             AALST  ELEKTRICITEIT  S10  202109  1.450932e+07\n",
       "...             ...            ...  ...     ...           ...\n",
       "34120   ZWIJNDRECHT  ELEKTRICITEIT  S10  202009  4.814427e+06\n",
       "34121   ZWIJNDRECHT  ELEKTRICITEIT  S11  202009  4.947573e+05\n",
       "34122   ZWIJNDRECHT  ELEKTRICITEIT  S12  202009  1.601657e+05\n",
       "34123   ZWIJNDRECHT  ELEKTRICITEIT  S21  202009  1.353182e+06\n",
       "34124   ZWIJNDRECHT  ELEKTRICITEIT  S22  202009  5.776419e+05\n",
       "\n",
       "[34125 rows x 5 columns]"
      ]
     },
     "execution_count": 9,
     "metadata": {},
     "output_type": "execute_result"
    }
   ],
   "source": [
    "df_tidy = pd.melt(df, id_vars=[\"Hoofdgemeente\", \"Energie\", \"SLP\"], var_name=\"time\", value_name=\"consumption\")\n",
    "df_tidy"
   ]
  },
  {
   "cell_type": "markdown",
   "id": "31408256-ff95-4b3d-8682-3c0a028dd279",
   "metadata": {
    "clear_cell": false
   },
   "source": [
    "<div class=\"alert alert-success\">\n",
    "\n",
    "**EXERCISE**:\n",
    "\n",
    "Convert the \"time\" column to a column with a datetime data type using `pd.to_datetime`.\n",
    "\n",
    "<details><summary>Hints</summary>\n",
    "\n",
    "* When using `pd.to_datetime`, remember to specify a `format`.\n",
    "\n",
    "</details>\n",
    "</div>"
   ]
  },
  {
   "cell_type": "code",
   "execution_count": 10,
   "id": "232318e9-ee46-4a23-8e46-32694eab13ba",
   "metadata": {
    "tags": [
     "nbtutor-solution"
    ]
   },
   "outputs": [],
   "source": [
    "df_tidy[\"time\"] = pd.to_datetime(df_tidy[\"time\"], format=\"%Y%m\")"
   ]
  },
  {
   "cell_type": "markdown",
   "id": "6a140c14-a194-451c-bb2d-4521def78e9e",
   "metadata": {
    "clear_cell": false
   },
   "source": [
    "<div class=\"alert alert-success\">\n",
    "\n",
    "**EXERCISE**:\n",
    "\n",
    "* Calculate the total consumption of elektricity and gas over all municipalities (\"Hoofdgemeente\") for each month. Assign the result to a dataframe called `df_overall`.\n",
    "* Using `df_overall`, make a line plot of the consumption of elektricity vs gas over time. \n",
    "  * Create a separate subplot for elektricity and for gas, putting them next to each other. \n",
    "  * Ensure that the y-limit starts at 0 for both subplots.\n",
    "\n",
    "<details><summary>Hints</summary>\n",
    "\n",
    "* If we want to sum the consumption over all municipalities that means we should _not_ include this variable in the groupby keys. On the other hand, we want to calculate the sum *for each* month (\"time\") and *for each* category of elektricity/gas (\"Energie\").\n",
    "* Creating a line plot with seaborn can be done with `sns.relplot(..., kind=\"line\")`.\n",
    "* If you want to split the plot into multiple subplots based on a variable, check the `row` or `col` keyword.\n",
    "* The `sns.relplot` returns a \"facet grid\" object, and you can change an element of each of the subplots of this object using the `set()` method of this object. To set the y-limits, you can use the `ylim` keyword.\n",
    "    \n",
    "</details>\n",
    "</div>"
   ]
  },
  {
   "cell_type": "code",
   "execution_count": 11,
   "id": "0c6c3711-75ef-4879-992c-693e442a0323",
   "metadata": {
    "tags": [
     "nbtutor-solution"
    ]
   },
   "outputs": [
    {
     "data": {
      "text/html": [
       "<div>\n",
       "<style scoped>\n",
       "    .dataframe tbody tr th:only-of-type {\n",
       "        vertical-align: middle;\n",
       "    }\n",
       "\n",
       "    .dataframe tbody tr th {\n",
       "        vertical-align: top;\n",
       "    }\n",
       "\n",
       "    .dataframe thead th {\n",
       "        text-align: right;\n",
       "    }\n",
       "</style>\n",
       "<table border=\"1\" class=\"dataframe\">\n",
       "  <thead>\n",
       "    <tr style=\"text-align: right;\">\n",
       "      <th></th>\n",
       "      <th></th>\n",
       "      <th>consumption</th>\n",
       "    </tr>\n",
       "    <tr>\n",
       "      <th>time</th>\n",
       "      <th>Energie</th>\n",
       "      <th></th>\n",
       "    </tr>\n",
       "  </thead>\n",
       "  <tbody>\n",
       "    <tr>\n",
       "      <th rowspan=\"2\" valign=\"top\">2020-09-01</th>\n",
       "      <th>AARDGAS</th>\n",
       "      <td>2.919983e+09</td>\n",
       "    </tr>\n",
       "    <tr>\n",
       "      <th>ELEKTRICITEIT</th>\n",
       "      <td>2.483269e+09</td>\n",
       "    </tr>\n",
       "    <tr>\n",
       "      <th rowspan=\"2\" valign=\"top\">2020-10-01</th>\n",
       "      <th>AARDGAS</th>\n",
       "      <td>5.068308e+09</td>\n",
       "    </tr>\n",
       "    <tr>\n",
       "      <th>ELEKTRICITEIT</th>\n",
       "      <td>2.642614e+09</td>\n",
       "    </tr>\n",
       "    <tr>\n",
       "      <th>2020-11-01</th>\n",
       "      <th>AARDGAS</th>\n",
       "      <td>6.469256e+09</td>\n",
       "    </tr>\n",
       "  </tbody>\n",
       "</table>\n",
       "</div>"
      ],
      "text/plain": [
       "                           consumption\n",
       "time       Energie                    \n",
       "2020-09-01 AARDGAS        2.919983e+09\n",
       "           ELEKTRICITEIT  2.483269e+09\n",
       "2020-10-01 AARDGAS        5.068308e+09\n",
       "           ELEKTRICITEIT  2.642614e+09\n",
       "2020-11-01 AARDGAS        6.469256e+09"
      ]
     },
     "execution_count": 11,
     "metadata": {},
     "output_type": "execute_result"
    }
   ],
   "source": [
    "df_overall = df_tidy.groupby([\"time\", \"Energie\"])[[\"consumption\"]].sum() # or with .reset_index()\n",
    "df_overall.head()"
   ]
  },
  {
   "cell_type": "code",
   "execution_count": 12,
   "id": "0aef4ccc-5502-4ed2-8b72-b6105e752f5a",
   "metadata": {
    "tags": [
     "nbtutor-solution"
    ]
   },
   "outputs": [
    {
     "data": {
      "text/plain": [
       "<seaborn.axisgrid.FacetGrid at 0x7f7ccb03ecb0>"
      ]
     },
     "execution_count": 12,
     "metadata": {},
     "output_type": "execute_result"
    },
    {
     "data": {
      "image/png": "[encoded data removed]",
      "text/plain": [
       "<Figure size 1000x500 with 2 Axes>"
      ]
     },
     "metadata": {},
     "output_type": "display_data"
    }
   ],
   "source": [
    "facet = sns.relplot(x=\"time\", y=\"consumption\", col=\"Energie\",\n",
    "                    data=df_overall, kind=\"line\")\n",
    "facet.set(ylim=(0, None))"
   ]
  },
  {
   "cell_type": "markdown",
   "id": "7375e157",
   "metadata": {},
   "source": [
    "# Pivoting data"
   ]
  },
  {
   "cell_type": "markdown",
   "id": "8482ab32",
   "metadata": {},
   "source": [
    "## Cfr. excel"
   ]
  },
  {
   "cell_type": "markdown",
   "id": "10656c32",
   "metadata": {},
   "source": [
    "People who know Excel, probably know the **Pivot** functionality:"
   ]
  },
  {
   "cell_type": "markdown",
   "id": "29fcba52",
   "metadata": {},
   "source": [
    "![](../img/pandas/pivot_excel.png)"
   ]
  },
  {
   "cell_type": "markdown",
   "id": "bd6a8804",
   "metadata": {},
   "source": [
    "The data of the table:"
   ]
  },
  {
   "cell_type": "code",
   "execution_count": 13,
   "id": "190e9ad0",
   "metadata": {},
   "outputs": [],
   "source": [
    "excelample = pd.DataFrame({'Month': [\"January\", \"January\", \"January\", \"January\", \n",
    "                                  \"February\", \"February\", \"February\", \"February\", \n",
    "                                  \"March\", \"March\", \"March\", \"March\"],\n",
    "                   'Category': [\"Transportation\", \"Grocery\", \"Household\", \"Entertainment\",\n",
    "                                \"Transportation\", \"Grocery\", \"Household\", \"Entertainment\",\n",
    "                                \"Transportation\", \"Grocery\", \"Household\", \"Entertainment\"],\n",
    "                   'Amount': [74., 235., 175., 100., 115., 240., 225., 125., 90., 260., 200., 120.]})"
   ]
  },
  {
   "cell_type": "code",
   "execution_count": 14,
   "id": "f3acdb03",
   "metadata": {},
   "outputs": [
    {
     "data": {
      "text/html": [
       "<div>\n",
       "<style scoped>\n",
       "    .dataframe tbody tr th:only-of-type {\n",
       "        vertical-align: middle;\n",
       "    }\n",
       "\n",
       "    .dataframe tbody tr th {\n",
       "        vertical-align: top;\n",
       "    }\n",
       "\n",
       "    .dataframe thead th {\n",
       "        text-align: right;\n",
       "    }\n",
       "</style>\n",
       "<table border=\"1\" class=\"dataframe\">\n",
       "  <thead>\n",
       "    <tr style=\"text-align: right;\">\n",
       "      <th></th>\n",
       "      <th>Month</th>\n",
       "      <th>Category</th>\n",
       "      <th>Amount</th>\n",
       "    </tr>\n",
       "  </thead>\n",
       "  <tbody>\n",
       "    <tr>\n",
       "      <th>0</th>\n",
       "      <td>January</td>\n",
       "      <td>Transportation</td>\n",
       "      <td>74.0</td>\n",
       "    </tr>\n",
       "    <tr>\n",
       "      <th>1</th>\n",
       "      <td>January</td>\n",
       "      <td>Grocery</td>\n",
       "      <td>235.0</td>\n",
       "    </tr>\n",
       "    <tr>\n",
       "      <th>2</th>\n",
       "      <td>January</td>\n",
       "      <td>Household</td>\n",
       "      <td>175.0</td>\n",
       "    </tr>\n",
       "    <tr>\n",
       "      <th>3</th>\n",
       "      <td>January</td>\n",
       "      <td>Entertainment</td>\n",
       "      <td>100.0</td>\n",
       "    </tr>\n",
       "    <tr>\n",
       "      <th>4</th>\n",
       "      <td>February</td>\n",
       "      <td>Transportation</td>\n",
       "      <td>115.0</td>\n",
       "    </tr>\n",
       "    <tr>\n",
       "      <th>5</th>\n",
       "      <td>February</td>\n",
       "      <td>Grocery</td>\n",
       "      <td>240.0</td>\n",
       "    </tr>\n",
       "    <tr>\n",
       "      <th>6</th>\n",
       "      <td>February</td>\n",
       "      <td>Household</td>\n",
       "      <td>225.0</td>\n",
       "    </tr>\n",
       "    <tr>\n",
       "      <th>7</th>\n",
       "      <td>February</td>\n",
       "      <td>Entertainment</td>\n",
       "      <td>125.0</td>\n",
       "    </tr>\n",
       "    <tr>\n",
       "      <th>8</th>\n",
       "      <td>March</td>\n",
       "      <td>Transportation</td>\n",
       "      <td>90.0</td>\n",
       "    </tr>\n",
       "    <tr>\n",
       "      <th>9</th>\n",
       "      <td>March</td>\n",
       "      <td>Grocery</td>\n",
       "      <td>260.0</td>\n",
       "    </tr>\n",
       "    <tr>\n",
       "      <th>10</th>\n",
       "      <td>March</td>\n",
       "      <td>Household</td>\n",
       "      <td>200.0</td>\n",
       "    </tr>\n",
       "    <tr>\n",
       "      <th>11</th>\n",
       "      <td>March</td>\n",
       "      <td>Entertainment</td>\n",
       "      <td>120.0</td>\n",
       "    </tr>\n",
       "  </tbody>\n",
       "</table>\n",
       "</div>"
      ],
      "text/plain": [
       "       Month        Category  Amount\n",
       "0    January  Transportation    74.0\n",
       "1    January         Grocery   235.0\n",
       "2    January       Household   175.0\n",
       "3    January   Entertainment   100.0\n",
       "4   February  Transportation   115.0\n",
       "5   February         Grocery   240.0\n",
       "6   February       Household   225.0\n",
       "7   February   Entertainment   125.0\n",
       "8      March  Transportation    90.0\n",
       "9      March         Grocery   260.0\n",
       "10     March       Household   200.0\n",
       "11     March   Entertainment   120.0"
      ]
     },
     "execution_count": 14,
     "metadata": {},
     "output_type": "execute_result"
    }
   ],
   "source": [
    "excelample"
   ]
  },
  {
   "cell_type": "code",
   "execution_count": 15,
   "id": "849ae13d",
   "metadata": {},
   "outputs": [
    {
     "data": {
      "text/html": [
       "<div>\n",
       "<style scoped>\n",
       "    .dataframe tbody tr th:only-of-type {\n",
       "        vertical-align: middle;\n",
       "    }\n",
       "\n",
       "    .dataframe tbody tr th {\n",
       "        vertical-align: top;\n",
       "    }\n",
       "\n",
       "    .dataframe thead th {\n",
       "        text-align: right;\n",
       "    }\n",
       "</style>\n",
       "<table border=\"1\" class=\"dataframe\">\n",
       "  <thead>\n",
       "    <tr style=\"text-align: right;\">\n",
       "      <th>Month</th>\n",
       "      <th>February</th>\n",
       "      <th>January</th>\n",
       "      <th>March</th>\n",
       "    </tr>\n",
       "    <tr>\n",
       "      <th>Category</th>\n",
       "      <th></th>\n",
       "      <th></th>\n",
       "      <th></th>\n",
       "    </tr>\n",
       "  </thead>\n",
       "  <tbody>\n",
       "    <tr>\n",
       "      <th>Entertainment</th>\n",
       "      <td>125.0</td>\n",
       "      <td>100.0</td>\n",
       "      <td>120.0</td>\n",
       "    </tr>\n",
       "    <tr>\n",
       "      <th>Grocery</th>\n",
       "      <td>240.0</td>\n",
       "      <td>235.0</td>\n",
       "      <td>260.0</td>\n",
       "    </tr>\n",
       "    <tr>\n",
       "      <th>Household</th>\n",
       "      <td>225.0</td>\n",
       "      <td>175.0</td>\n",
       "      <td>200.0</td>\n",
       "    </tr>\n",
       "    <tr>\n",
       "      <th>Transportation</th>\n",
       "      <td>115.0</td>\n",
       "      <td>74.0</td>\n",
       "      <td>90.0</td>\n",
       "    </tr>\n",
       "  </tbody>\n",
       "</table>\n",
       "</div>"
      ],
      "text/plain": [
       "Month           February  January  March\n",
       "Category                                \n",
       "Entertainment      125.0    100.0  120.0\n",
       "Grocery            240.0    235.0  260.0\n",
       "Household          225.0    175.0  200.0\n",
       "Transportation     115.0     74.0   90.0"
      ]
     },
     "execution_count": 15,
     "metadata": {},
     "output_type": "execute_result"
    }
   ],
   "source": [
    "excelample_pivot = excelample.pivot(index=\"Category\", columns=\"Month\", values=\"Amount\")\n",
    "excelample_pivot"
   ]
  },
  {
   "cell_type": "markdown",
   "id": "83f21fde",
   "metadata": {},
   "source": [
    "Interested in *Grand totals*?"
   ]
  },
  {
   "cell_type": "code",
   "execution_count": 16,
   "id": "6ed80893",
   "metadata": {},
   "outputs": [
    {
     "data": {
      "text/plain": [
       "Category\n",
       "Entertainment     345.0\n",
       "Grocery           735.0\n",
       "Household         600.0\n",
       "Transportation    279.0\n",
       "dtype: float64"
      ]
     },
     "execution_count": 16,
     "metadata": {},
     "output_type": "execute_result"
    }
   ],
   "source": [
    "# sum columns\n",
    "excelample_pivot.sum(axis=1)"
   ]
  },
  {
   "cell_type": "code",
   "execution_count": 17,
   "id": "68d18057",
   "metadata": {},
   "outputs": [
    {
     "data": {
      "text/plain": [
       "Month\n",
       "February    705.0\n",
       "January     584.0\n",
       "March       670.0\n",
       "dtype: float64"
      ]
     },
     "execution_count": 17,
     "metadata": {},
     "output_type": "execute_result"
    }
   ],
   "source": [
    "# sum rows\n",
    "excelample_pivot.sum(axis=0)"
   ]
  },
  {
   "cell_type": "markdown",
   "id": "664adb8e",
   "metadata": {},
   "source": [
    "## Pivot is just reordering your data:"
   ]
  },
  {
   "cell_type": "markdown",
   "id": "71257fbf",
   "metadata": {},
   "source": [
    "Small subsample of the titanic dataset:"
   ]
  },
  {
   "cell_type": "code",
   "execution_count": 18,
   "id": "f23c70b6",
   "metadata": {},
   "outputs": [],
   "source": [
    "df = pd.DataFrame({'Fare': [7.25, 71.2833, 51.8625, 30.0708, 7.8542, 13.0],\n",
    "                   'Pclass': [3, 1, 1, 2, 3, 2],\n",
    "                   'Sex': ['male', 'female', 'male', 'female', 'female', 'male'],\n",
    "                   'Survived': [0, 1, 0, 1, 0, 1]})"
   ]
  },
  {
   "cell_type": "code",
   "execution_count": 19,
   "id": "4435bd03",
   "metadata": {},
   "outputs": [
    {
     "data": {
      "text/html": [
       "<div>\n",
       "<style scoped>\n",
       "    .dataframe tbody tr th:only-of-type {\n",
       "        vertical-align: middle;\n",
       "    }\n",
       "\n",
       "    .dataframe tbody tr th {\n",
       "        vertical-align: top;\n",
       "    }\n",
       "\n",
       "    .dataframe thead th {\n",
       "        text-align: right;\n",
       "    }\n",
       "</style>\n",
       "<table border=\"1\" class=\"dataframe\">\n",
       "  <thead>\n",
       "    <tr style=\"text-align: right;\">\n",
       "      <th></th>\n",
       "      <th>Fare</th>\n",
       "      <th>Pclass</th>\n",
       "      <th>Sex</th>\n",
       "      <th>Survived</th>\n",
       "    </tr>\n",
       "  </thead>\n",
       "  <tbody>\n",
       "    <tr>\n",
       "      <th>0</th>\n",
       "      <td>7.2500</td>\n",
       "      <td>3</td>\n",
       "      <td>male</td>\n",
       "      <td>0</td>\n",
       "    </tr>\n",
       "    <tr>\n",
       "      <th>1</th>\n",
       "      <td>71.2833</td>\n",
       "      <td>1</td>\n",
       "      <td>female</td>\n",
       "      <td>1</td>\n",
       "    </tr>\n",
       "    <tr>\n",
       "      <th>2</th>\n",
       "      <td>51.8625</td>\n",
       "      <td>1</td>\n",
       "      <td>male</td>\n",
       "      <td>0</td>\n",
       "    </tr>\n",
       "    <tr>\n",
       "      <th>3</th>\n",
       "      <td>30.0708</td>\n",
       "      <td>2</td>\n",
       "      <td>female</td>\n",
       "      <td>1</td>\n",
       "    </tr>\n",
       "    <tr>\n",
       "      <th>4</th>\n",
       "      <td>7.8542</td>\n",
       "      <td>3</td>\n",
       "      <td>female</td>\n",
       "      <td>0</td>\n",
       "    </tr>\n",
       "    <tr>\n",
       "      <th>5</th>\n",
       "      <td>13.0000</td>\n",
       "      <td>2</td>\n",
       "      <td>male</td>\n",
       "      <td>1</td>\n",
       "    </tr>\n",
       "  </tbody>\n",
       "</table>\n",
       "</div>"
      ],
      "text/plain": [
       "      Fare  Pclass     Sex  Survived\n",
       "0   7.2500       3    male         0\n",
       "1  71.2833       1  female         1\n",
       "2  51.8625       1    male         0\n",
       "3  30.0708       2  female         1\n",
       "4   7.8542       3  female         0\n",
       "5  13.0000       2    male         1"
      ]
     },
     "execution_count": 19,
     "metadata": {},
     "output_type": "execute_result"
    }
   ],
   "source": [
    "df"
   ]
  },
  {
   "cell_type": "code",
   "execution_count": 20,
   "id": "3a999ee9",
   "metadata": {},
   "outputs": [
    {
     "data": {
      "text/html": [
       "<div>\n",
       "<style scoped>\n",
       "    .dataframe tbody tr th:only-of-type {\n",
       "        vertical-align: middle;\n",
       "    }\n",
       "\n",
       "    .dataframe tbody tr th {\n",
       "        vertical-align: top;\n",
       "    }\n",
       "\n",
       "    .dataframe thead th {\n",
       "        text-align: right;\n",
       "    }\n",
       "</style>\n",
       "<table border=\"1\" class=\"dataframe\">\n",
       "  <thead>\n",
       "    <tr style=\"text-align: right;\">\n",
       "      <th>Sex</th>\n",
       "      <th>female</th>\n",
       "      <th>male</th>\n",
       "    </tr>\n",
       "    <tr>\n",
       "      <th>Pclass</th>\n",
       "      <th></th>\n",
       "      <th></th>\n",
       "    </tr>\n",
       "  </thead>\n",
       "  <tbody>\n",
       "    <tr>\n",
       "      <th>1</th>\n",
       "      <td>71.2833</td>\n",
       "      <td>51.8625</td>\n",
       "    </tr>\n",
       "    <tr>\n",
       "      <th>2</th>\n",
       "      <td>30.0708</td>\n",
       "      <td>13.0000</td>\n",
       "    </tr>\n",
       "    <tr>\n",
       "      <th>3</th>\n",
       "      <td>7.8542</td>\n",
       "      <td>7.2500</td>\n",
       "    </tr>\n",
       "  </tbody>\n",
       "</table>\n",
       "</div>"
      ],
      "text/plain": [
       "Sex      female     male\n",
       "Pclass                  \n",
       "1       71.2833  51.8625\n",
       "2       30.0708  13.0000\n",
       "3        7.8542   7.2500"
      ]
     },
     "execution_count": 20,
     "metadata": {},
     "output_type": "execute_result"
    }
   ],
   "source": [
    "df.pivot(index='Pclass', columns='Sex', values='Fare')"
   ]
  },
  {
   "cell_type": "code",
   "execution_count": 21,
   "id": "47c55cc9",
   "metadata": {},
   "outputs": [
    {
     "data": {
      "text/html": [
       "<div>\n",
       "<style scoped>\n",
       "    .dataframe tbody tr th:only-of-type {\n",
       "        vertical-align: middle;\n",
       "    }\n",
       "\n",
       "    .dataframe tbody tr th {\n",
       "        vertical-align: top;\n",
       "    }\n",
       "\n",
       "    .dataframe thead th {\n",
       "        text-align: right;\n",
       "    }\n",
       "</style>\n",
       "<table border=\"1\" class=\"dataframe\">\n",
       "  <thead>\n",
       "    <tr style=\"text-align: right;\">\n",
       "      <th>Sex</th>\n",
       "      <th>female</th>\n",
       "      <th>male</th>\n",
       "    </tr>\n",
       "    <tr>\n",
       "      <th>Pclass</th>\n",
       "      <th></th>\n",
       "      <th></th>\n",
       "    </tr>\n",
       "  </thead>\n",
       "  <tbody>\n",
       "    <tr>\n",
       "      <th>1</th>\n",
       "      <td>1</td>\n",
       "      <td>0</td>\n",
       "    </tr>\n",
       "    <tr>\n",
       "      <th>2</th>\n",
       "      <td>1</td>\n",
       "      <td>1</td>\n",
       "    </tr>\n",
       "    <tr>\n",
       "      <th>3</th>\n",
       "      <td>0</td>\n",
       "      <td>0</td>\n",
       "    </tr>\n",
       "  </tbody>\n",
       "</table>\n",
       "</div>"
      ],
      "text/plain": [
       "Sex     female  male\n",
       "Pclass              \n",
       "1            1     0\n",
       "2            1     1\n",
       "3            0     0"
      ]
     },
     "execution_count": 21,
     "metadata": {},
     "output_type": "execute_result"
    }
   ],
   "source": [
    "df.pivot(index='Pclass', columns='Sex', values='Survived')"
   ]
  },
  {
   "cell_type": "markdown",
   "id": "fad032e0",
   "metadata": {},
   "source": [
    "So far, so good..."
   ]
  },
  {
   "cell_type": "markdown",
   "id": "947176ee",
   "metadata": {},
   "source": [
    "Let's now use the full titanic dataset:"
   ]
  },
  {
   "cell_type": "code",
   "execution_count": 22,
   "id": "f5eeb481",
   "metadata": {},
   "outputs": [],
   "source": [
    "df = pd.read_csv(\"data/titanic.csv\")"
   ]
  },
  {
   "cell_type": "code",
   "execution_count": 23,
   "id": "3e902ec3",
   "metadata": {},
   "outputs": [
    {
     "data": {
      "text/html": [
       "<div>\n",
       "<style scoped>\n",
       "    .dataframe tbody tr th:only-of-type {\n",
       "        vertical-align: middle;\n",
       "    }\n",
       "\n",
       "    .dataframe tbody tr th {\n",
       "        vertical-align: top;\n",
       "    }\n",
       "\n",
       "    .dataframe thead th {\n",
       "        text-align: right;\n",
       "    }\n",
       "</style>\n",
       "<table border=\"1\" class=\"dataframe\">\n",
       "  <thead>\n",
       "    <tr style=\"text-align: right;\">\n",
       "      <th></th>\n",
       "      <th>PassengerId</th>\n",
       "      <th>Survived</th>\n",
       "      <th>Pclass</th>\n",
       "      <th>Name</th>\n",
       "      <th>Sex</th>\n",
       "      <th>Age</th>\n",
       "      <th>SibSp</th>\n",
       "      <th>Parch</th>\n",
       "      <th>Ticket</th>\n",
       "      <th>Fare</th>\n",
       "      <th>Cabin</th>\n",
       "      <th>Embarked</th>\n",
       "    </tr>\n",
       "  </thead>\n",
       "  <tbody>\n",
       "    <tr>\n",
       "      <th>0</th>\n",
       "      <td>1</td>\n",
       "      <td>0</td>\n",
       "      <td>3</td>\n",
       "      <td>Braund, Mr. Owen Harris</td>\n",
       "      <td>male</td>\n",
       "      <td>22.0</td>\n",
       "      <td>1</td>\n",
       "      <td>0</td>\n",
       "      <td>A/5 21171</td>\n",
       "      <td>7.2500</td>\n",
       "      <td>NaN</td>\n",
       "      <td>S</td>\n",
       "    </tr>\n",
       "    <tr>\n",
       "      <th>1</th>\n",
       "      <td>2</td>\n",
       "      <td>1</td>\n",
       "      <td>1</td>\n",
       "      <td>Cumings, Mrs. John Bradley (Florence Briggs Th...</td>\n",
       "      <td>female</td>\n",
       "      <td>38.0</td>\n",
       "      <td>1</td>\n",
       "      <td>0</td>\n",
       "      <td>PC 17599</td>\n",
       "      <td>71.2833</td>\n",
       "      <td>C85</td>\n",
       "      <td>C</td>\n",
       "    </tr>\n",
       "    <tr>\n",
       "      <th>2</th>\n",
       "      <td>3</td>\n",
       "      <td>1</td>\n",
       "      <td>3</td>\n",
       "      <td>Heikkinen, Miss. Laina</td>\n",
       "      <td>female</td>\n",
       "      <td>26.0</td>\n",
       "      <td>0</td>\n",
       "      <td>0</td>\n",
       "      <td>STON/O2. 3101282</td>\n",
       "      <td>7.9250</td>\n",
       "      <td>NaN</td>\n",
       "      <td>S</td>\n",
       "    </tr>\n",
       "    <tr>\n",
       "      <th>3</th>\n",
       "      <td>4</td>\n",
       "      <td>1</td>\n",
       "      <td>1</td>\n",
       "      <td>Futrelle, Mrs. Jacques Heath (Lily May Peel)</td>\n",
       "      <td>female</td>\n",
       "      <td>35.0</td>\n",
       "      <td>1</td>\n",
       "      <td>0</td>\n",
       "      <td>113803</td>\n",
       "      <td>53.1000</td>\n",
       "      <td>C123</td>\n",
       "      <td>S</td>\n",
       "    </tr>\n",
       "    <tr>\n",
       "      <th>4</th>\n",
       "      <td>5</td>\n",
       "      <td>0</td>\n",
       "      <td>3</td>\n",
       "      <td>Allen, Mr. William Henry</td>\n",
       "      <td>male</td>\n",
       "      <td>35.0</td>\n",
       "      <td>0</td>\n",
       "      <td>0</td>\n",
       "      <td>373450</td>\n",
       "      <td>8.0500</td>\n",
       "      <td>NaN</td>\n",
       "      <td>S</td>\n",
       "    </tr>\n",
       "  </tbody>\n",
       "</table>\n",
       "</div>"
      ],
      "text/plain": [
       "   PassengerId  Survived  Pclass  \\\n",
       "0            1         0       3   \n",
       "1            2         1       1   \n",
       "2            3         1       3   \n",
       "3            4         1       1   \n",
       "4            5         0       3   \n",
       "\n",
       "                                                Name     Sex   Age  SibSp  \\\n",
       "0                            Braund, Mr. Owen Harris    male  22.0      1   \n",
       "1  Cumings, Mrs. John Bradley (Florence Briggs Th...  female  38.0      1   \n",
       "2                             Heikkinen, Miss. Laina  female  26.0      0   \n",
       "3       Futrelle, Mrs. Jacques Heath (Lily May Peel)  female  35.0      1   \n",
       "4                           Allen, Mr. William Henry    male  35.0      0   \n",
       "\n",
       "   Parch            Ticket     Fare Cabin Embarked  \n",
       "0      0         A/5 21171   7.2500   NaN        S  \n",
       "1      0          PC 17599  71.2833   C85        C  \n",
       "2      0  STON/O2. 3101282   7.9250   NaN        S  \n",
       "3      0            113803  53.1000  C123        S  \n",
       "4      0            373450   8.0500   NaN        S  "
      ]
     },
     "execution_count": 23,
     "metadata": {},
     "output_type": "execute_result"
    }
   ],
   "source": [
    "df.head()"
   ]
  },
  {
   "cell_type": "markdown",
   "id": "65722c82",
   "metadata": {},
   "source": [
    "And try the same pivot (*no worries about the try-except, this is here just used to catch a loooong error*):"
   ]
  },
  {
   "cell_type": "code",
   "execution_count": 24,
   "id": "563610d4",
   "metadata": {},
   "outputs": [
    {
     "name": "stdout",
     "output_type": "stream",
     "text": [
      "Exception! Index contains duplicate entries, cannot reshape\n"
     ]
    }
   ],
   "source": [
    "try:\n",
    "    df.pivot(index='Sex', columns='Pclass', values='Fare')\n",
    "except Exception as e:\n",
    "    print(\"Exception!\", e)"
   ]
  },
  {
   "cell_type": "markdown",
   "id": "d95ce712",
   "metadata": {},
   "source": [
    "This does not work, because we would end up with multiple values for one cell of the resulting frame, as the error says: `duplicated` values for the columns in the selection. As an example, consider the following rows of our three columns of interest:"
   ]
  },
  {
   "cell_type": "code",
   "execution_count": 25,
   "id": "2948f0eb",
   "metadata": {},
   "outputs": [
    {
     "data": {
      "text/html": [
       "<div>\n",
       "<style scoped>\n",
       "    .dataframe tbody tr th:only-of-type {\n",
       "        vertical-align: middle;\n",
       "    }\n",
       "\n",
       "    .dataframe tbody tr th {\n",
       "        vertical-align: top;\n",
       "    }\n",
       "\n",
       "    .dataframe thead th {\n",
       "        text-align: right;\n",
       "    }\n",
       "</style>\n",
       "<table border=\"1\" class=\"dataframe\">\n",
       "  <thead>\n",
       "    <tr style=\"text-align: right;\">\n",
       "      <th></th>\n",
       "      <th>Sex</th>\n",
       "      <th>Pclass</th>\n",
       "      <th>Fare</th>\n",
       "    </tr>\n",
       "  </thead>\n",
       "  <tbody>\n",
       "    <tr>\n",
       "      <th>1</th>\n",
       "      <td>female</td>\n",
       "      <td>1</td>\n",
       "      <td>71.2833</td>\n",
       "    </tr>\n",
       "    <tr>\n",
       "      <th>3</th>\n",
       "      <td>female</td>\n",
       "      <td>1</td>\n",
       "      <td>53.1000</td>\n",
       "    </tr>\n",
       "  </tbody>\n",
       "</table>\n",
       "</div>"
      ],
      "text/plain": [
       "      Sex  Pclass     Fare\n",
       "1  female       1  71.2833\n",
       "3  female       1  53.1000"
      ]
     },
     "execution_count": 25,
     "metadata": {},
     "output_type": "execute_result"
    }
   ],
   "source": [
    "df.loc[[1, 3], [\"Sex\", 'Pclass', 'Fare']]"
   ]
  },
  {
   "cell_type": "markdown",
   "id": "a1f43b95",
   "metadata": {},
   "source": [
    "Since `pivot` is just restructering data, where would both values of `Fare` for the same combination of `Sex` and `Pclass` need to go?\n",
    "\n",
    "Well, they need to be combined, according to an `aggregation` functionality, which is supported by the function`pivot_table`"
   ]
  },
  {
   "cell_type": "markdown",
   "id": "22469764",
   "metadata": {},
   "source": [
    "<div class=\"alert alert-danger\">\n",
    "\n",
    "<b>NOTE</b>:\n",
    "\n",
    " <ul>\n",
    "  <li><b>Pivot</b> is purely restructering: a single value for each index/column combination is required.</li>\n",
    "</ul>\n",
    "\n",
    "</div>"
   ]
  },
  {
   "cell_type": "markdown",
   "id": "a83de3ae",
   "metadata": {},
   "source": [
    "## Pivot tables - aggregating while pivoting"
   ]
  },
  {
   "cell_type": "code",
   "execution_count": 26,
   "id": "ae2f767c",
   "metadata": {},
   "outputs": [],
   "source": [
    "df = pd.read_csv(\"data/titanic.csv\")"
   ]
  },
  {
   "cell_type": "code",
   "execution_count": 27,
   "id": "4109424e",
   "metadata": {},
   "outputs": [
    {
     "data": {
      "text/html": [
       "<div>\n",
       "<style scoped>\n",
       "    .dataframe tbody tr th:only-of-type {\n",
       "        vertical-align: middle;\n",
       "    }\n",
       "\n",
       "    .dataframe tbody tr th {\n",
       "        vertical-align: top;\n",
       "    }\n",
       "\n",
       "    .dataframe thead th {\n",
       "        text-align: right;\n",
       "    }\n",
       "</style>\n",
       "<table border=\"1\" class=\"dataframe\">\n",
       "  <thead>\n",
       "    <tr style=\"text-align: right;\">\n",
       "      <th>Pclass</th>\n",
       "      <th>1</th>\n",
       "      <th>2</th>\n",
       "      <th>3</th>\n",
       "    </tr>\n",
       "    <tr>\n",
       "      <th>Sex</th>\n",
       "      <th></th>\n",
       "      <th></th>\n",
       "      <th></th>\n",
       "    </tr>\n",
       "  </thead>\n",
       "  <tbody>\n",
       "    <tr>\n",
       "      <th>female</th>\n",
       "      <td>106.125798</td>\n",
       "      <td>21.970121</td>\n",
       "      <td>16.118810</td>\n",
       "    </tr>\n",
       "    <tr>\n",
       "      <th>male</th>\n",
       "      <td>67.226127</td>\n",
       "      <td>19.741782</td>\n",
       "      <td>12.661633</td>\n",
       "    </tr>\n",
       "  </tbody>\n",
       "</table>\n",
       "</div>"
      ],
      "text/plain": [
       "Pclass           1          2          3\n",
       "Sex                                     \n",
       "female  106.125798  21.970121  16.118810\n",
       "male     67.226127  19.741782  12.661633"
      ]
     },
     "execution_count": 27,
     "metadata": {},
     "output_type": "execute_result"
    }
   ],
   "source": [
    "df.pivot_table(index='Sex', columns='Pclass', values='Fare')"
   ]
  },
  {
   "cell_type": "markdown",
   "id": "167a6298",
   "metadata": {},
   "source": [
    "<div class=\"alert alert-info\">\n",
    "\n",
    "<b>REMEMBER</b>:\n",
    "\n",
    "* By default, `pivot_table` takes the **mean** of all values that would end up into one cell. However, you can also specify other aggregation functions using the `aggfunc` keyword.\n",
    "\n",
    "</div>"
   ]
  },
  {
   "cell_type": "code",
   "execution_count": 28,
   "id": "56e3a68e",
   "metadata": {},
   "outputs": [
    {
     "data": {
      "text/html": [
       "<div>\n",
       "<style scoped>\n",
       "    .dataframe tbody tr th:only-of-type {\n",
       "        vertical-align: middle;\n",
       "    }\n",
       "\n",
       "    .dataframe tbody tr th {\n",
       "        vertical-align: top;\n",
       "    }\n",
       "\n",
       "    .dataframe thead th {\n",
       "        text-align: right;\n",
       "    }\n",
       "</style>\n",
       "<table border=\"1\" class=\"dataframe\">\n",
       "  <thead>\n",
       "    <tr style=\"text-align: right;\">\n",
       "      <th>Pclass</th>\n",
       "      <th>1</th>\n",
       "      <th>2</th>\n",
       "      <th>3</th>\n",
       "    </tr>\n",
       "    <tr>\n",
       "      <th>Sex</th>\n",
       "      <th></th>\n",
       "      <th></th>\n",
       "      <th></th>\n",
       "    </tr>\n",
       "  </thead>\n",
       "  <tbody>\n",
       "    <tr>\n",
       "      <th>female</th>\n",
       "      <td>512.3292</td>\n",
       "      <td>65.0</td>\n",
       "      <td>69.55</td>\n",
       "    </tr>\n",
       "    <tr>\n",
       "      <th>male</th>\n",
       "      <td>512.3292</td>\n",
       "      <td>73.5</td>\n",
       "      <td>69.55</td>\n",
       "    </tr>\n",
       "  </tbody>\n",
       "</table>\n",
       "</div>"
      ],
      "text/plain": [
       "Pclass         1     2      3\n",
       "Sex                          \n",
       "female  512.3292  65.0  69.55\n",
       "male    512.3292  73.5  69.55"
      ]
     },
     "execution_count": 28,
     "metadata": {},
     "output_type": "execute_result"
    }
   ],
   "source": [
    "df.pivot_table(index='Sex', columns='Pclass', \n",
    "               values='Fare', aggfunc='max')"
   ]
  },
  {
   "cell_type": "code",
   "execution_count": 29,
   "id": "d648d80f",
   "metadata": {},
   "outputs": [
    {
     "data": {
      "text/html": [
       "<div>\n",
       "<style scoped>\n",
       "    .dataframe tbody tr th:only-of-type {\n",
       "        vertical-align: middle;\n",
       "    }\n",
       "\n",
       "    .dataframe tbody tr th {\n",
       "        vertical-align: top;\n",
       "    }\n",
       "\n",
       "    .dataframe thead th {\n",
       "        text-align: right;\n",
       "    }\n",
       "</style>\n",
       "<table border=\"1\" class=\"dataframe\">\n",
       "  <thead>\n",
       "    <tr style=\"text-align: right;\">\n",
       "      <th>Pclass</th>\n",
       "      <th>1</th>\n",
       "      <th>2</th>\n",
       "      <th>3</th>\n",
       "    </tr>\n",
       "    <tr>\n",
       "      <th>Sex</th>\n",
       "      <th></th>\n",
       "      <th></th>\n",
       "      <th></th>\n",
       "    </tr>\n",
       "  </thead>\n",
       "  <tbody>\n",
       "    <tr>\n",
       "      <th>female</th>\n",
       "      <td>94</td>\n",
       "      <td>76</td>\n",
       "      <td>144</td>\n",
       "    </tr>\n",
       "    <tr>\n",
       "      <th>male</th>\n",
       "      <td>122</td>\n",
       "      <td>108</td>\n",
       "      <td>347</td>\n",
       "    </tr>\n",
       "  </tbody>\n",
       "</table>\n",
       "</div>"
      ],
      "text/plain": [
       "Pclass    1    2    3\n",
       "Sex                  \n",
       "female   94   76  144\n",
       "male    122  108  347"
      ]
     },
     "execution_count": 29,
     "metadata": {},
     "output_type": "execute_result"
    }
   ],
   "source": [
    "df.pivot_table(index='Sex', columns='Pclass', \n",
    "               values='Fare', aggfunc='count')"
   ]
  },
  {
   "cell_type": "markdown",
   "id": "a68120dd",
   "metadata": {},
   "source": [
    "<div class=\"alert alert-info\">\n",
    "\n",
    "<b>REMEMBER</b>:\n",
    "\n",
    " <ul>\n",
    "  <li>There is a shortcut function for a <code>pivot_table</code> with a <code>aggfunc='count'</code> as aggregation: <code>crosstab</code></li>\n",
    "</ul>\n",
    "</div>"
   ]
  },
  {
   "cell_type": "code",
   "execution_count": 30,
   "id": "b9cf345c",
   "metadata": {},
   "outputs": [
    {
     "data": {
      "text/html": [
       "<div>\n",
       "<style scoped>\n",
       "    .dataframe tbody tr th:only-of-type {\n",
       "        vertical-align: middle;\n",
       "    }\n",
       "\n",
       "    .dataframe tbody tr th {\n",
       "        vertical-align: top;\n",
       "    }\n",
       "\n",
       "    .dataframe thead th {\n",
       "        text-align: right;\n",
       "    }\n",
       "</style>\n",
       "<table border=\"1\" class=\"dataframe\">\n",
       "  <thead>\n",
       "    <tr style=\"text-align: right;\">\n",
       "      <th>Pclass</th>\n",
       "      <th>1</th>\n",
       "      <th>2</th>\n",
       "      <th>3</th>\n",
       "    </tr>\n",
       "    <tr>\n",
       "      <th>Sex</th>\n",
       "      <th></th>\n",
       "      <th></th>\n",
       "      <th></th>\n",
       "    </tr>\n",
       "  </thead>\n",
       "  <tbody>\n",
       "    <tr>\n",
       "      <th>female</th>\n",
       "      <td>94</td>\n",
       "      <td>76</td>\n",
       "      <td>144</td>\n",
       "    </tr>\n",
       "    <tr>\n",
       "      <th>male</th>\n",
       "      <td>122</td>\n",
       "      <td>108</td>\n",
       "      <td>347</td>\n",
       "    </tr>\n",
       "  </tbody>\n",
       "</table>\n",
       "</div>"
      ],
      "text/plain": [
       "Pclass    1    2    3\n",
       "Sex                  \n",
       "female   94   76  144\n",
       "male    122  108  347"
      ]
     },
     "execution_count": 30,
     "metadata": {},
     "output_type": "execute_result"
    }
   ],
   "source": [
    "pd.crosstab(index=df['Sex'], columns=df['Pclass'])"
   ]
  },
  {
   "cell_type": "markdown",
   "id": "20524f03-4971-465f-b610-73c39a89be49",
   "metadata": {},
   "source": [
    "## Exercises"
   ]
  },
  {
   "cell_type": "markdown",
   "id": "5916201b",
   "metadata": {
    "clear_cell": false
   },
   "source": [
    "<div class=\"alert alert-success\">\n",
    "\n",
    "<b>EXERCISE</b>:\n",
    "\n",
    " <ul>\n",
    "  <li>Make a pivot table with the survival rates for Pclass vs Sex.</li>\n",
    "</ul>\n",
    "</div>"
   ]
  },
  {
   "cell_type": "code",
   "execution_count": 31,
   "id": "f1c056b4",
   "metadata": {
    "tags": [
     "nbtutor-solution"
    ]
   },
   "outputs": [
    {
     "data": {
      "text/html": [
       "<div>\n",
       "<style scoped>\n",
       "    .dataframe tbody tr th:only-of-type {\n",
       "        vertical-align: middle;\n",
       "    }\n",
       "\n",
       "    .dataframe tbody tr th {\n",
       "        vertical-align: top;\n",
       "    }\n",
       "\n",
       "    .dataframe thead th {\n",
       "        text-align: right;\n",
       "    }\n",
       "</style>\n",
       "<table border=\"1\" class=\"dataframe\">\n",
       "  <thead>\n",
       "    <tr style=\"text-align: right;\">\n",
       "      <th>Sex</th>\n",
       "      <th>female</th>\n",
       "      <th>male</th>\n",
       "    </tr>\n",
       "    <tr>\n",
       "      <th>Pclass</th>\n",
       "      <th></th>\n",
       "      <th></th>\n",
       "    </tr>\n",
       "  </thead>\n",
       "  <tbody>\n",
       "    <tr>\n",
       "      <th>1</th>\n",
       "      <td>0.968085</td>\n",
       "      <td>0.368852</td>\n",
       "    </tr>\n",
       "    <tr>\n",
       "      <th>2</th>\n",
       "      <td>0.921053</td>\n",
       "      <td>0.157407</td>\n",
       "    </tr>\n",
       "    <tr>\n",
       "      <th>3</th>\n",
       "      <td>0.500000</td>\n",
       "      <td>0.135447</td>\n",
       "    </tr>\n",
       "  </tbody>\n",
       "</table>\n",
       "</div>"
      ],
      "text/plain": [
       "Sex       female      male\n",
       "Pclass                    \n",
       "1       0.968085  0.368852\n",
       "2       0.921053  0.157407\n",
       "3       0.500000  0.135447"
      ]
     },
     "execution_count": 31,
     "metadata": {},
     "output_type": "execute_result"
    }
   ],
   "source": [
    "df.pivot_table(index='Pclass', columns='Sex', \n",
    "               values='Survived', aggfunc='mean')"
   ]
  },
  {
   "cell_type": "code",
   "execution_count": 32,
   "id": "d2137b87",
   "metadata": {
    "tags": [
     "nbtutor-solution"
    ]
   },
   "outputs": [
    {
     "data": {
      "text/plain": [
       "Text(0, 0.5, 'Survival ratio')"
      ]
     },
     "execution_count": 32,
     "metadata": {},
     "output_type": "execute_result"
    },
    {
     "data": {
      "image/png": "[encoded data removed]",
      "text/plain": [
       "<Figure size 640x480 with 1 Axes>"
      ]
     },
     "metadata": {},
     "output_type": "display_data"
    }
   ],
   "source": [
    "fig, ax1 = plt.subplots()\n",
    "(df.pivot_table(index='Pclass', columns='Sex', \n",
    "               values='Survived', aggfunc='mean')\n",
    "   .plot.bar(rot=0, ax=ax1)\n",
    ")\n",
    "ax1.set_ylabel('Survival ratio')"
   ]
  },
  {
   "cell_type": "markdown",
   "id": "fc08704b",
   "metadata": {
    "clear_cell": false
   },
   "source": [
    "<div class=\"alert alert-success\">\n",
    "\n",
    "<b>EXERCISE</b>:\n",
    "\n",
    " <ul>\n",
    "  <li>Make a table of the median Fare payed by aged/underaged vs Sex.</li>\n",
    "</ul>\n",
    "</div>"
   ]
  },
  {
   "cell_type": "code",
   "execution_count": 33,
   "id": "a369f84c",
   "metadata": {
    "tags": [
     "nbtutor-solution"
    ]
   },
   "outputs": [],
   "source": [
    "df['Underaged'] = df['Age'] <= 18"
   ]
  },
  {
   "cell_type": "code",
   "execution_count": 34,
   "id": "a32d5f69",
   "metadata": {
    "tags": [
     "nbtutor-solution"
    ]
   },
   "outputs": [
    {
     "data": {
      "text/html": [
       "<div>\n",
       "<style scoped>\n",
       "    .dataframe tbody tr th:only-of-type {\n",
       "        vertical-align: middle;\n",
       "    }\n",
       "\n",
       "    .dataframe tbody tr th {\n",
       "        vertical-align: top;\n",
       "    }\n",
       "\n",
       "    .dataframe thead th {\n",
       "        text-align: right;\n",
       "    }\n",
       "</style>\n",
       "<table border=\"1\" class=\"dataframe\">\n",
       "  <thead>\n",
       "    <tr style=\"text-align: right;\">\n",
       "      <th>Sex</th>\n",
       "      <th>female</th>\n",
       "      <th>male</th>\n",
       "    </tr>\n",
       "    <tr>\n",
       "      <th>Underaged</th>\n",
       "      <th></th>\n",
       "      <th></th>\n",
       "    </tr>\n",
       "  </thead>\n",
       "  <tbody>\n",
       "    <tr>\n",
       "      <th>False</th>\n",
       "      <td>24.1500</td>\n",
       "      <td>10.3354</td>\n",
       "    </tr>\n",
       "    <tr>\n",
       "      <th>True</th>\n",
       "      <td>20.2875</td>\n",
       "      <td>20.2500</td>\n",
       "    </tr>\n",
       "  </tbody>\n",
       "</table>\n",
       "</div>"
      ],
      "text/plain": [
       "Sex         female     male\n",
       "Underaged                  \n",
       "False      24.1500  10.3354\n",
       "True       20.2875  20.2500"
      ]
     },
     "execution_count": 34,
     "metadata": {},
     "output_type": "execute_result"
    }
   ],
   "source": [
    "df.pivot_table(index='Underaged', columns='Sex', \n",
    "               values='Fare', aggfunc='median')"
   ]
  },
  {
   "cell_type": "markdown",
   "id": "3b22ea9d-4251-4b9a-baed-81649750fd7a",
   "metadata": {},
   "source": [
    "<div class=\"alert alert-success\">\n",
    "\n",
    "**EXERCISE**:\n",
    "\n",
    "A pivot table aggregates values for each combination of the new row index and column values. That reminds of the \"groupby\" operation.\n",
    "    \n",
    "Can you mimick the pivot table of the first exercise (a pivot table with the survival rates for Pclass vs Sex) using `groupby()`?\n",
    "\n",
    "</div>"
   ]
  },
  {
   "cell_type": "code",
   "execution_count": 35,
   "id": "258f247e-9439-424f-817f-3cfb5db0b73e",
   "metadata": {
    "tags": [
     "nbtutor-solution"
    ]
   },
   "outputs": [
    {
     "data": {
      "text/html": [
       "<div>\n",
       "<style scoped>\n",
       "    .dataframe tbody tr th:only-of-type {\n",
       "        vertical-align: middle;\n",
       "    }\n",
       "\n",
       "    .dataframe tbody tr th {\n",
       "        vertical-align: top;\n",
       "    }\n",
       "\n",
       "    .dataframe thead th {\n",
       "        text-align: right;\n",
       "    }\n",
       "</style>\n",
       "<table border=\"1\" class=\"dataframe\">\n",
       "  <thead>\n",
       "    <tr style=\"text-align: right;\">\n",
       "      <th></th>\n",
       "      <th>Pclass</th>\n",
       "      <th>Sex</th>\n",
       "      <th>Survived</th>\n",
       "    </tr>\n",
       "  </thead>\n",
       "  <tbody>\n",
       "    <tr>\n",
       "      <th>0</th>\n",
       "      <td>1</td>\n",
       "      <td>female</td>\n",
       "      <td>0.968085</td>\n",
       "    </tr>\n",
       "    <tr>\n",
       "      <th>1</th>\n",
       "      <td>1</td>\n",
       "      <td>male</td>\n",
       "      <td>0.368852</td>\n",
       "    </tr>\n",
       "    <tr>\n",
       "      <th>2</th>\n",
       "      <td>2</td>\n",
       "      <td>female</td>\n",
       "      <td>0.921053</td>\n",
       "    </tr>\n",
       "    <tr>\n",
       "      <th>3</th>\n",
       "      <td>2</td>\n",
       "      <td>male</td>\n",
       "      <td>0.157407</td>\n",
       "    </tr>\n",
       "    <tr>\n",
       "      <th>4</th>\n",
       "      <td>3</td>\n",
       "      <td>female</td>\n",
       "      <td>0.500000</td>\n",
       "    </tr>\n",
       "    <tr>\n",
       "      <th>5</th>\n",
       "      <td>3</td>\n",
       "      <td>male</td>\n",
       "      <td>0.135447</td>\n",
       "    </tr>\n",
       "  </tbody>\n",
       "</table>\n",
       "</div>"
      ],
      "text/plain": [
       "   Pclass     Sex  Survived\n",
       "0       1  female  0.968085\n",
       "1       1    male  0.368852\n",
       "2       2  female  0.921053\n",
       "3       2    male  0.157407\n",
       "4       3  female  0.500000\n",
       "5       3    male  0.135447"
      ]
     },
     "execution_count": 35,
     "metadata": {},
     "output_type": "execute_result"
    }
   ],
   "source": [
    "df_survival = df.groupby([\"Pclass\", \"Sex\"])[\"Survived\"].mean().reset_index()\n",
    "df_survival"
   ]
  },
  {
   "cell_type": "code",
   "execution_count": 36,
   "id": "212ec793-5ac5-41e5-bd00-6d38783a7aea",
   "metadata": {
    "tags": [
     "nbtutor-solution"
    ]
   },
   "outputs": [
    {
     "data": {
      "text/html": [
       "<div>\n",
       "<style scoped>\n",
       "    .dataframe tbody tr th:only-of-type {\n",
       "        vertical-align: middle;\n",
       "    }\n",
       "\n",
       "    .dataframe tbody tr th {\n",
       "        vertical-align: top;\n",
       "    }\n",
       "\n",
       "    .dataframe thead th {\n",
       "        text-align: right;\n",
       "    }\n",
       "</style>\n",
       "<table border=\"1\" class=\"dataframe\">\n",
       "  <thead>\n",
       "    <tr style=\"text-align: right;\">\n",
       "      <th>Sex</th>\n",
       "      <th>female</th>\n",
       "      <th>male</th>\n",
       "    </tr>\n",
       "    <tr>\n",
       "      <th>Pclass</th>\n",
       "      <th></th>\n",
       "      <th></th>\n",
       "    </tr>\n",
       "  </thead>\n",
       "  <tbody>\n",
       "    <tr>\n",
       "      <th>1</th>\n",
       "      <td>0.968085</td>\n",
       "      <td>0.368852</td>\n",
       "    </tr>\n",
       "    <tr>\n",
       "      <th>2</th>\n",
       "      <td>0.921053</td>\n",
       "      <td>0.157407</td>\n",
       "    </tr>\n",
       "    <tr>\n",
       "      <th>3</th>\n",
       "      <td>0.500000</td>\n",
       "      <td>0.135447</td>\n",
       "    </tr>\n",
       "  </tbody>\n",
       "</table>\n",
       "</div>"
      ],
      "text/plain": [
       "Sex       female      male\n",
       "Pclass                    \n",
       "1       0.968085  0.368852\n",
       "2       0.921053  0.157407\n",
       "3       0.500000  0.135447"
      ]
     },
     "execution_count": 36,
     "metadata": {},
     "output_type": "execute_result"
    }
   ],
   "source": [
    "df_survival.pivot(index=\"Pclass\", columns=\"Sex\", values=\"Survived\")"
   ]
  },
  {
   "cell_type": "markdown",
   "id": "5b2c8ee2",
   "metadata": {},
   "source": [
    "# Reshaping with `stack` and `unstack`"
   ]
  },
  {
   "cell_type": "markdown",
   "id": "657c8b41",
   "metadata": {},
   "source": [
    "The docs say:\n",
    "\n",
    "> Pivot a level of the (possibly hierarchical) column labels, returning a\n",
    "DataFrame (or Series in the case of an object with a single level of\n",
    "column labels) having a hierarchical index with a new inner-most level\n",
    "of row labels.\n",
    "\n",
    "Indeed... \n",
    "<img src=\"../img/pandas/schema-stack.svg\" width=50%>\n",
    "\n",
    "Before we speak about `hierarchical index`, first check it in practice on the following dummy example:"
   ]
  },
  {
   "cell_type": "code",
   "execution_count": 37,
   "id": "6d0a76ae",
   "metadata": {},
   "outputs": [
    {
     "data": {
      "text/html": [
       "<div>\n",
       "<style scoped>\n",
       "    .dataframe tbody tr th:only-of-type {\n",
       "        vertical-align: middle;\n",
       "    }\n",
       "\n",
       "    .dataframe tbody tr th {\n",
       "        vertical-align: top;\n",
       "    }\n",
       "\n",
       "    .dataframe thead th {\n",
       "        text-align: right;\n",
       "    }\n",
       "</style>\n",
       "<table border=\"1\" class=\"dataframe\">\n",
       "  <thead>\n",
       "    <tr style=\"text-align: right;\">\n",
       "      <th></th>\n",
       "      <th>A</th>\n",
       "      <th>B</th>\n",
       "      <th>C</th>\n",
       "    </tr>\n",
       "  </thead>\n",
       "  <tbody>\n",
       "    <tr>\n",
       "      <th>0</th>\n",
       "      <td>one</td>\n",
       "      <td>a</td>\n",
       "      <td>0</td>\n",
       "    </tr>\n",
       "    <tr>\n",
       "      <th>1</th>\n",
       "      <td>one</td>\n",
       "      <td>b</td>\n",
       "      <td>1</td>\n",
       "    </tr>\n",
       "    <tr>\n",
       "      <th>2</th>\n",
       "      <td>two</td>\n",
       "      <td>a</td>\n",
       "      <td>2</td>\n",
       "    </tr>\n",
       "    <tr>\n",
       "      <th>3</th>\n",
       "      <td>two</td>\n",
       "      <td>b</td>\n",
       "      <td>3</td>\n",
       "    </tr>\n",
       "  </tbody>\n",
       "</table>\n",
       "</div>"
      ],
      "text/plain": [
       "     A  B  C\n",
       "0  one  a  0\n",
       "1  one  b  1\n",
       "2  two  a  2\n",
       "3  two  b  3"
      ]
     },
     "execution_count": 37,
     "metadata": {},
     "output_type": "execute_result"
    }
   ],
   "source": [
    "df = pd.DataFrame({'A':['one', 'one', 'two', 'two'], \n",
    "                   'B':['a', 'b', 'a', 'b'], \n",
    "                   'C':range(4)})\n",
    "df"
   ]
  },
  {
   "cell_type": "markdown",
   "id": "570d33f0",
   "metadata": {},
   "source": [
    "To use `stack`/`unstack`, we need the values we want to shift from rows to columns or the other way around as the index:"
   ]
  },
  {
   "cell_type": "code",
   "execution_count": 38,
   "id": "8942822d",
   "metadata": {},
   "outputs": [
    {
     "data": {
      "text/html": [
       "<div>\n",
       "<style scoped>\n",
       "    .dataframe tbody tr th:only-of-type {\n",
       "        vertical-align: middle;\n",
       "    }\n",
       "\n",
       "    .dataframe tbody tr th {\n",
       "        vertical-align: top;\n",
       "    }\n",
       "\n",
       "    .dataframe thead th {\n",
       "        text-align: right;\n",
       "    }\n",
       "</style>\n",
       "<table border=\"1\" class=\"dataframe\">\n",
       "  <thead>\n",
       "    <tr style=\"text-align: right;\">\n",
       "      <th></th>\n",
       "      <th></th>\n",
       "      <th>C</th>\n",
       "    </tr>\n",
       "    <tr>\n",
       "      <th>A</th>\n",
       "      <th>B</th>\n",
       "      <th></th>\n",
       "    </tr>\n",
       "  </thead>\n",
       "  <tbody>\n",
       "    <tr>\n",
       "      <th rowspan=\"2\" valign=\"top\">one</th>\n",
       "      <th>a</th>\n",
       "      <td>0</td>\n",
       "    </tr>\n",
       "    <tr>\n",
       "      <th>b</th>\n",
       "      <td>1</td>\n",
       "    </tr>\n",
       "    <tr>\n",
       "      <th rowspan=\"2\" valign=\"top\">two</th>\n",
       "      <th>a</th>\n",
       "      <td>2</td>\n",
       "    </tr>\n",
       "    <tr>\n",
       "      <th>b</th>\n",
       "      <td>3</td>\n",
       "    </tr>\n",
       "  </tbody>\n",
       "</table>\n",
       "</div>"
      ],
      "text/plain": [
       "       C\n",
       "A   B   \n",
       "one a  0\n",
       "    b  1\n",
       "two a  2\n",
       "    b  3"
      ]
     },
     "execution_count": 38,
     "metadata": {},
     "output_type": "execute_result"
    }
   ],
   "source": [
    "df = df.set_index(['A', 'B']) # Indeed, you can combine two indices\n",
    "df"
   ]
  },
  {
   "cell_type": "code",
   "execution_count": 39,
   "id": "0862a7db",
   "metadata": {},
   "outputs": [
    {
     "data": {
      "text/html": [
       "<div>\n",
       "<style scoped>\n",
       "    .dataframe tbody tr th:only-of-type {\n",
       "        vertical-align: middle;\n",
       "    }\n",
       "\n",
       "    .dataframe tbody tr th {\n",
       "        vertical-align: top;\n",
       "    }\n",
       "\n",
       "    .dataframe thead th {\n",
       "        text-align: right;\n",
       "    }\n",
       "</style>\n",
       "<table border=\"1\" class=\"dataframe\">\n",
       "  <thead>\n",
       "    <tr style=\"text-align: right;\">\n",
       "      <th>B</th>\n",
       "      <th>a</th>\n",
       "      <th>b</th>\n",
       "    </tr>\n",
       "    <tr>\n",
       "      <th>A</th>\n",
       "      <th></th>\n",
       "      <th></th>\n",
       "    </tr>\n",
       "  </thead>\n",
       "  <tbody>\n",
       "    <tr>\n",
       "      <th>one</th>\n",
       "      <td>0</td>\n",
       "      <td>1</td>\n",
       "    </tr>\n",
       "    <tr>\n",
       "      <th>two</th>\n",
       "      <td>2</td>\n",
       "      <td>3</td>\n",
       "    </tr>\n",
       "  </tbody>\n",
       "</table>\n",
       "</div>"
      ],
      "text/plain": [
       "B    a  b\n",
       "A        \n",
       "one  0  1\n",
       "two  2  3"
      ]
     },
     "execution_count": 39,
     "metadata": {},
     "output_type": "execute_result"
    }
   ],
   "source": [
    "result = df['C'].unstack()\n",
    "result"
   ]
  },
  {
   "cell_type": "code",
   "execution_count": 40,
   "id": "c215f8af",
   "metadata": {},
   "outputs": [
    {
     "data": {
      "text/html": [
       "<div>\n",
       "<style scoped>\n",
       "    .dataframe tbody tr th:only-of-type {\n",
       "        vertical-align: middle;\n",
       "    }\n",
       "\n",
       "    .dataframe tbody tr th {\n",
       "        vertical-align: top;\n",
       "    }\n",
       "\n",
       "    .dataframe thead th {\n",
       "        text-align: right;\n",
       "    }\n",
       "</style>\n",
       "<table border=\"1\" class=\"dataframe\">\n",
       "  <thead>\n",
       "    <tr style=\"text-align: right;\">\n",
       "      <th></th>\n",
       "      <th>A</th>\n",
       "      <th>B</th>\n",
       "      <th>C</th>\n",
       "    </tr>\n",
       "  </thead>\n",
       "  <tbody>\n",
       "    <tr>\n",
       "      <th>0</th>\n",
       "      <td>one</td>\n",
       "      <td>a</td>\n",
       "      <td>0</td>\n",
       "    </tr>\n",
       "    <tr>\n",
       "      <th>1</th>\n",
       "      <td>one</td>\n",
       "      <td>b</td>\n",
       "      <td>1</td>\n",
       "    </tr>\n",
       "    <tr>\n",
       "      <th>2</th>\n",
       "      <td>two</td>\n",
       "      <td>a</td>\n",
       "      <td>2</td>\n",
       "    </tr>\n",
       "    <tr>\n",
       "      <th>3</th>\n",
       "      <td>two</td>\n",
       "      <td>b</td>\n",
       "      <td>3</td>\n",
       "    </tr>\n",
       "  </tbody>\n",
       "</table>\n",
       "</div>"
      ],
      "text/plain": [
       "     A  B  C\n",
       "0  one  a  0\n",
       "1  one  b  1\n",
       "2  two  a  2\n",
       "3  two  b  3"
      ]
     },
     "execution_count": 40,
     "metadata": {},
     "output_type": "execute_result"
    }
   ],
   "source": [
    "df = result.stack().reset_index(name='C')\n",
    "df"
   ]
  },
  {
   "cell_type": "markdown",
   "id": "c4b57a70",
   "metadata": {},
   "source": [
    "<div class=\"alert alert-info\">\n",
    "\n",
    "<b>REMEMBER</b>:\n",
    "\n",
    " <ul>\n",
    "  <li><b>stack</b>: make your data <i>longer</i> and <i>smaller</i> </li>\n",
    "  <li><b>unstack</b>: make your data <i>shorter</i> and <i>wider</i> </li>\n",
    "</ul>\n",
    "</div>"
   ]
  },
  {
   "cell_type": "markdown",
   "id": "6b10d7b3",
   "metadata": {},
   "source": [
    "## Mimick pivot table"
   ]
  },
  {
   "cell_type": "markdown",
   "id": "0d836b8f",
   "metadata": {},
   "source": [
    "To better understand and reason about pivot tables, we can express this method as a combination of more basic steps. In short, the pivot is a convenient way of expressing the combination of a `groupby` and `stack/unstack`."
   ]
  },
  {
   "cell_type": "code",
   "execution_count": 41,
   "id": "bd77bcfc",
   "metadata": {},
   "outputs": [],
   "source": [
    "df = pd.read_csv(\"data/titanic.csv\")"
   ]
  },
  {
   "cell_type": "code",
   "execution_count": 42,
   "id": "46b68202",
   "metadata": {},
   "outputs": [
    {
     "data": {
      "text/html": [
       "<div>\n",
       "<style scoped>\n",
       "    .dataframe tbody tr th:only-of-type {\n",
       "        vertical-align: middle;\n",
       "    }\n",
       "\n",
       "    .dataframe tbody tr th {\n",
       "        vertical-align: top;\n",
       "    }\n",
       "\n",
       "    .dataframe thead th {\n",
       "        text-align: right;\n",
       "    }\n",
       "</style>\n",
       "<table border=\"1\" class=\"dataframe\">\n",
       "  <thead>\n",
       "    <tr style=\"text-align: right;\">\n",
       "      <th></th>\n",
       "      <th>PassengerId</th>\n",
       "      <th>Survived</th>\n",
       "      <th>Pclass</th>\n",
       "      <th>Name</th>\n",
       "      <th>Sex</th>\n",
       "      <th>Age</th>\n",
       "      <th>SibSp</th>\n",
       "      <th>Parch</th>\n",
       "      <th>Ticket</th>\n",
       "      <th>Fare</th>\n",
       "      <th>Cabin</th>\n",
       "      <th>Embarked</th>\n",
       "    </tr>\n",
       "  </thead>\n",
       "  <tbody>\n",
       "    <tr>\n",
       "      <th>0</th>\n",
       "      <td>1</td>\n",
       "      <td>0</td>\n",
       "      <td>3</td>\n",
       "      <td>Braund, Mr. Owen Harris</td>\n",
       "      <td>male</td>\n",
       "      <td>22.0</td>\n",
       "      <td>1</td>\n",
       "      <td>0</td>\n",
       "      <td>A/5 21171</td>\n",
       "      <td>7.2500</td>\n",
       "      <td>NaN</td>\n",
       "      <td>S</td>\n",
       "    </tr>\n",
       "    <tr>\n",
       "      <th>1</th>\n",
       "      <td>2</td>\n",
       "      <td>1</td>\n",
       "      <td>1</td>\n",
       "      <td>Cumings, Mrs. John Bradley (Florence Briggs Th...</td>\n",
       "      <td>female</td>\n",
       "      <td>38.0</td>\n",
       "      <td>1</td>\n",
       "      <td>0</td>\n",
       "      <td>PC 17599</td>\n",
       "      <td>71.2833</td>\n",
       "      <td>C85</td>\n",
       "      <td>C</td>\n",
       "    </tr>\n",
       "    <tr>\n",
       "      <th>2</th>\n",
       "      <td>3</td>\n",
       "      <td>1</td>\n",
       "      <td>3</td>\n",
       "      <td>Heikkinen, Miss. Laina</td>\n",
       "      <td>female</td>\n",
       "      <td>26.0</td>\n",
       "      <td>0</td>\n",
       "      <td>0</td>\n",
       "      <td>STON/O2. 3101282</td>\n",
       "      <td>7.9250</td>\n",
       "      <td>NaN</td>\n",
       "      <td>S</td>\n",
       "    </tr>\n",
       "    <tr>\n",
       "      <th>3</th>\n",
       "      <td>4</td>\n",
       "      <td>1</td>\n",
       "      <td>1</td>\n",
       "      <td>Futrelle, Mrs. Jacques Heath (Lily May Peel)</td>\n",
       "      <td>female</td>\n",
       "      <td>35.0</td>\n",
       "      <td>1</td>\n",
       "      <td>0</td>\n",
       "      <td>113803</td>\n",
       "      <td>53.1000</td>\n",
       "      <td>C123</td>\n",
       "      <td>S</td>\n",
       "    </tr>\n",
       "    <tr>\n",
       "      <th>4</th>\n",
       "      <td>5</td>\n",
       "      <td>0</td>\n",
       "      <td>3</td>\n",
       "      <td>Allen, Mr. William Henry</td>\n",
       "      <td>male</td>\n",
       "      <td>35.0</td>\n",
       "      <td>0</td>\n",
       "      <td>0</td>\n",
       "      <td>373450</td>\n",
       "      <td>8.0500</td>\n",
       "      <td>NaN</td>\n",
       "      <td>S</td>\n",
       "    </tr>\n",
       "  </tbody>\n",
       "</table>\n",
       "</div>"
      ],
      "text/plain": [
       "   PassengerId  Survived  Pclass  \\\n",
       "0            1         0       3   \n",
       "1            2         1       1   \n",
       "2            3         1       3   \n",
       "3            4         1       1   \n",
       "4            5         0       3   \n",
       "\n",
       "                                                Name     Sex   Age  SibSp  \\\n",
       "0                            Braund, Mr. Owen Harris    male  22.0      1   \n",
       "1  Cumings, Mrs. John Bradley (Florence Briggs Th...  female  38.0      1   \n",
       "2                             Heikkinen, Miss. Laina  female  26.0      0   \n",
       "3       Futrelle, Mrs. Jacques Heath (Lily May Peel)  female  35.0      1   \n",
       "4                           Allen, Mr. William Henry    male  35.0      0   \n",
       "\n",
       "   Parch            Ticket     Fare Cabin Embarked  \n",
       "0      0         A/5 21171   7.2500   NaN        S  \n",
       "1      0          PC 17599  71.2833   C85        C  \n",
       "2      0  STON/O2. 3101282   7.9250   NaN        S  \n",
       "3      0            113803  53.1000  C123        S  \n",
       "4      0            373450   8.0500   NaN        S  "
      ]
     },
     "execution_count": 42,
     "metadata": {},
     "output_type": "execute_result"
    }
   ],
   "source": [
    "df.head()"
   ]
  },
  {
   "cell_type": "markdown",
   "id": "43fe898c-8bf3-4819-ac2a-de07a948cec3",
   "metadata": {},
   "source": [
    "## Exercises"
   ]
  },
  {
   "cell_type": "code",
   "execution_count": 43,
   "id": "cecf662e",
   "metadata": {},
   "outputs": [
    {
     "data": {
      "text/html": [
       "<div>\n",
       "<style scoped>\n",
       "    .dataframe tbody tr th:only-of-type {\n",
       "        vertical-align: middle;\n",
       "    }\n",
       "\n",
       "    .dataframe tbody tr th {\n",
       "        vertical-align: top;\n",
       "    }\n",
       "\n",
       "    .dataframe thead th {\n",
       "        text-align: right;\n",
       "    }\n",
       "</style>\n",
       "<table border=\"1\" class=\"dataframe\">\n",
       "  <thead>\n",
       "    <tr style=\"text-align: right;\">\n",
       "      <th>Sex</th>\n",
       "      <th>female</th>\n",
       "      <th>male</th>\n",
       "    </tr>\n",
       "    <tr>\n",
       "      <th>Pclass</th>\n",
       "      <th></th>\n",
       "      <th></th>\n",
       "    </tr>\n",
       "  </thead>\n",
       "  <tbody>\n",
       "    <tr>\n",
       "      <th>1</th>\n",
       "      <td>0.968085</td>\n",
       "      <td>0.368852</td>\n",
       "    </tr>\n",
       "    <tr>\n",
       "      <th>2</th>\n",
       "      <td>0.921053</td>\n",
       "      <td>0.157407</td>\n",
       "    </tr>\n",
       "    <tr>\n",
       "      <th>3</th>\n",
       "      <td>0.500000</td>\n",
       "      <td>0.135447</td>\n",
       "    </tr>\n",
       "  </tbody>\n",
       "</table>\n",
       "</div>"
      ],
      "text/plain": [
       "Sex       female      male\n",
       "Pclass                    \n",
       "1       0.968085  0.368852\n",
       "2       0.921053  0.157407\n",
       "3       0.500000  0.135447"
      ]
     },
     "execution_count": 43,
     "metadata": {},
     "output_type": "execute_result"
    }
   ],
   "source": [
    "df.pivot_table(index='Pclass', columns='Sex', \n",
    "               values='Survived', aggfunc='mean')"
   ]
  },
  {
   "cell_type": "markdown",
   "id": "513101a6",
   "metadata": {},
   "source": [
    "<div class=\"alert alert-success\">\n",
    "\n",
    "<b>EXERCISE</b>:\n",
    "\n",
    " <ul>\n",
    "  <li>Get the same result as above based on a combination of `groupby` and `unstack`</li>\n",
    "  <li>First use `groupby` to calculate the survival ratio for all groups`unstack`</li>\n",
    "  <li>Then, use `unstack` to reshape the output of the groupby operation</li>\n",
    "</ul>\n",
    "</div>"
   ]
  },
  {
   "cell_type": "code",
   "execution_count": 44,
   "id": "0fee61fb",
   "metadata": {
    "tags": [
     "nbtutor-solution"
    ]
   },
   "outputs": [
    {
     "data": {
      "text/html": [
       "<div>\n",
       "<style scoped>\n",
       "    .dataframe tbody tr th:only-of-type {\n",
       "        vertical-align: middle;\n",
       "    }\n",
       "\n",
       "    .dataframe tbody tr th {\n",
       "        vertical-align: top;\n",
       "    }\n",
       "\n",
       "    .dataframe thead th {\n",
       "        text-align: right;\n",
       "    }\n",
       "</style>\n",
       "<table border=\"1\" class=\"dataframe\">\n",
       "  <thead>\n",
       "    <tr style=\"text-align: right;\">\n",
       "      <th>Sex</th>\n",
       "      <th>female</th>\n",
       "      <th>male</th>\n",
       "    </tr>\n",
       "    <tr>\n",
       "      <th>Pclass</th>\n",
       "      <th></th>\n",
       "      <th></th>\n",
       "    </tr>\n",
       "  </thead>\n",
       "  <tbody>\n",
       "    <tr>\n",
       "      <th>1</th>\n",
       "      <td>0.968085</td>\n",
       "      <td>0.368852</td>\n",
       "    </tr>\n",
       "    <tr>\n",
       "      <th>2</th>\n",
       "      <td>0.921053</td>\n",
       "      <td>0.157407</td>\n",
       "    </tr>\n",
       "    <tr>\n",
       "      <th>3</th>\n",
       "      <td>0.500000</td>\n",
       "      <td>0.135447</td>\n",
       "    </tr>\n",
       "  </tbody>\n",
       "</table>\n",
       "</div>"
      ],
      "text/plain": [
       "Sex       female      male\n",
       "Pclass                    \n",
       "1       0.968085  0.368852\n",
       "2       0.921053  0.157407\n",
       "3       0.500000  0.135447"
      ]
     },
     "execution_count": 44,
     "metadata": {},
     "output_type": "execute_result"
    }
   ],
   "source": [
    "df.groupby(['Pclass', 'Sex'])['Survived'].mean().unstack()"
   ]
  },
  {
   "cell_type": "markdown",
   "id": "5ef0f498",
   "metadata": {},
   "source": [
    "# [OPTIONAL] Exercises: use the reshaping methods with the movie data"
   ]
  },
  {
   "cell_type": "markdown",
   "id": "45ce16c2",
   "metadata": {},
   "source": [
    "These exercises are based on the [PyCon tutorial of Brandon Rhodes](https://github.com/brandon-rhodes/pycon-pandas-tutorial/) (so credit to him!) and the datasets he prepared for that. You can download these data from here: [titles.csv](https://course-python-data.s3.eu-central-1.amazonaws.com/titles.csv) and [cast.csv](https://course-python-data.s3.eu-central-1.amazonaws.com/cast.csv) and put them in the `/notebooks/data` folder."
   ]
  },
  {
   "cell_type": "code",
   "execution_count": 45,
   "id": "255ff480",
   "metadata": {},
   "outputs": [
    {
     "data": {
      "text/html": [
       "<div>\n",
       "<style scoped>\n",
       "    .dataframe tbody tr th:only-of-type {\n",
       "        vertical-align: middle;\n",
       "    }\n",
       "\n",
       "    .dataframe tbody tr th {\n",
       "        vertical-align: top;\n",
       "    }\n",
       "\n",
       "    .dataframe thead th {\n",
       "        text-align: right;\n",
       "    }\n",
       "</style>\n",
       "<table border=\"1\" class=\"dataframe\">\n",
       "  <thead>\n",
       "    <tr style=\"text-align: right;\">\n",
       "      <th></th>\n",
       "      <th>title</th>\n",
       "      <th>year</th>\n",
       "      <th>name</th>\n",
       "      <th>type</th>\n",
       "      <th>character</th>\n",
       "      <th>n</th>\n",
       "    </tr>\n",
       "  </thead>\n",
       "  <tbody>\n",
       "    <tr>\n",
       "      <th>0</th>\n",
       "      <td>Suuri illusioni</td>\n",
       "      <td>1985</td>\n",
       "      <td>Homo $</td>\n",
       "      <td>actor</td>\n",
       "      <td>Guests</td>\n",
       "      <td>22.0</td>\n",
       "    </tr>\n",
       "    <tr>\n",
       "      <th>1</th>\n",
       "      <td>Gangsta Rap: The Glockumentary</td>\n",
       "      <td>2007</td>\n",
       "      <td>Too $hort</td>\n",
       "      <td>actor</td>\n",
       "      <td>Himself</td>\n",
       "      <td>NaN</td>\n",
       "    </tr>\n",
       "    <tr>\n",
       "      <th>2</th>\n",
       "      <td>Menace II Society</td>\n",
       "      <td>1993</td>\n",
       "      <td>Too $hort</td>\n",
       "      <td>actor</td>\n",
       "      <td>Lew-Loc</td>\n",
       "      <td>27.0</td>\n",
       "    </tr>\n",
       "    <tr>\n",
       "      <th>3</th>\n",
       "      <td>Porndogs: The Adventures of Sadie</td>\n",
       "      <td>2009</td>\n",
       "      <td>Too $hort</td>\n",
       "      <td>actor</td>\n",
       "      <td>Bosco</td>\n",
       "      <td>3.0</td>\n",
       "    </tr>\n",
       "    <tr>\n",
       "      <th>4</th>\n",
       "      <td>Stop Pepper Palmer</td>\n",
       "      <td>2014</td>\n",
       "      <td>Too $hort</td>\n",
       "      <td>actor</td>\n",
       "      <td>Himself</td>\n",
       "      <td>NaN</td>\n",
       "    </tr>\n",
       "  </tbody>\n",
       "</table>\n",
       "</div>"
      ],
      "text/plain": [
       "                               title  year       name   type character     n\n",
       "0                    Suuri illusioni  1985     Homo $  actor    Guests  22.0\n",
       "1     Gangsta Rap: The Glockumentary  2007  Too $hort  actor   Himself   NaN\n",
       "2                  Menace II Society  1993  Too $hort  actor   Lew-Loc  27.0\n",
       "3  Porndogs: The Adventures of Sadie  2009  Too $hort  actor     Bosco   3.0\n",
       "4                 Stop Pepper Palmer  2014  Too $hort  actor   Himself   NaN"
      ]
     },
     "execution_count": 45,
     "metadata": {},
     "output_type": "execute_result"
    }
   ],
   "source": [
    "cast = pd.read_csv('data/cast.csv')\n",
    "cast.head()"
   ]
  },
  {
   "cell_type": "code",
   "execution_count": 46,
   "id": "0a6b5757",
   "metadata": {},
   "outputs": [
    {
     "data": {
      "text/html": [
       "<div>\n",
       "<style scoped>\n",
       "    .dataframe tbody tr th:only-of-type {\n",
       "        vertical-align: middle;\n",
       "    }\n",
       "\n",
       "    .dataframe tbody tr th {\n",
       "        vertical-align: top;\n",
       "    }\n",
       "\n",
       "    .dataframe thead th {\n",
       "        text-align: right;\n",
       "    }\n",
       "</style>\n",
       "<table border=\"1\" class=\"dataframe\">\n",
       "  <thead>\n",
       "    <tr style=\"text-align: right;\">\n",
       "      <th></th>\n",
       "      <th>title</th>\n",
       "      <th>year</th>\n",
       "    </tr>\n",
       "  </thead>\n",
       "  <tbody>\n",
       "    <tr>\n",
       "      <th>0</th>\n",
       "      <td>The Rising Son</td>\n",
       "      <td>1990</td>\n",
       "    </tr>\n",
       "    <tr>\n",
       "      <th>1</th>\n",
       "      <td>Ashes of Kukulcan</td>\n",
       "      <td>2016</td>\n",
       "    </tr>\n",
       "    <tr>\n",
       "      <th>2</th>\n",
       "      <td>The Thousand Plane Raid</td>\n",
       "      <td>1969</td>\n",
       "    </tr>\n",
       "    <tr>\n",
       "      <th>3</th>\n",
       "      <td>Crucea de piatra</td>\n",
       "      <td>1993</td>\n",
       "    </tr>\n",
       "    <tr>\n",
       "      <th>4</th>\n",
       "      <td>The 86</td>\n",
       "      <td>2015</td>\n",
       "    </tr>\n",
       "  </tbody>\n",
       "</table>\n",
       "</div>"
      ],
      "text/plain": [
       "                     title  year\n",
       "0           The Rising Son  1990\n",
       "1        Ashes of Kukulcan  2016\n",
       "2  The Thousand Plane Raid  1969\n",
       "3         Crucea de piatra  1993\n",
       "4                   The 86  2015"
      ]
     },
     "execution_count": 46,
     "metadata": {},
     "output_type": "execute_result"
    }
   ],
   "source": [
    "titles = pd.read_csv('data/titles.csv')\n",
    "titles.head()"
   ]
  },
  {
   "cell_type": "markdown",
   "id": "f34562cb",
   "metadata": {},
   "source": [
    "<div class=\"alert alert-success\">\n",
    "\n",
    "<b>EXERCISE</b>:\n",
    "\n",
    " <ul>\n",
    "  <li>Plot the number of actor roles each year and the number of actress roles each year over the whole period of available movie data.</li>\n",
    "</ul>\n",
    "</div>"
   ]
  },
  {
   "cell_type": "code",
   "execution_count": 47,
   "id": "97cd998b",
   "metadata": {
    "tags": [
     "nbtutor-solution"
    ]
   },
   "outputs": [
    {
     "data": {
      "text/plain": [
       "<AxesSubplot:xlabel='year'>"
      ]
     },
     "execution_count": 47,
     "metadata": {},
     "output_type": "execute_result"
    },
    {
     "data": {
      "image/png": "[encoded data removed]",
      "text/plain": [
       "<Figure size 640x480 with 1 Axes>"
      ]
     },
     "metadata": {},
     "output_type": "display_data"
    }
   ],
   "source": [
    "grouped = cast.groupby(['year', 'type']).size()\n",
    "table = grouped.unstack('type')\n",
    "table.plot()"
   ]
  },
  {
   "cell_type": "code",
   "execution_count": 48,
   "id": "165b1114",
   "metadata": {
    "tags": [
     "nbtutor-solution"
    ]
   },
   "outputs": [
    {
     "data": {
      "text/plain": [
       "<AxesSubplot:xlabel='year'>"
      ]
     },
     "execution_count": 48,
     "metadata": {},
     "output_type": "execute_result"
    },
    {
     "data": {
      "image/png": "[encoded data removed]",
      "text/plain": [
       "<Figure size 640x480 with 1 Axes>"
      ]
     },
     "metadata": {},
     "output_type": "display_data"
    }
   ],
   "source": [
    "cast.pivot_table(index='year', columns='type', values=\"character\", aggfunc='count').plot() \n",
    "# for the values column to use in the aggfunc, take a column with no NaN values in order to count effectively all values\n",
    "# -> at this stage: aha-erlebnis about crosstab function(!)"
   ]
  },
  {
   "cell_type": "code",
   "execution_count": 49,
   "id": "831a9220",
   "metadata": {
    "tags": [
     "nbtutor-solution"
    ]
   },
   "outputs": [
    {
     "data": {
      "text/plain": [
       "<AxesSubplot:xlabel='year'>"
      ]
     },
     "execution_count": 49,
     "metadata": {},
     "output_type": "execute_result"
    },
    {
     "data": {
      "image/png": "[encoded data removed]",
      "text/plain": [
       "<Figure size 640x480 with 1 Axes>"
      ]
     },
     "metadata": {},
     "output_type": "display_data"
    }
   ],
   "source": [
    "pd.crosstab(index=cast['year'], columns=cast['type']).plot()"
   ]
  },
  {
   "cell_type": "markdown",
   "id": "581b3d08",
   "metadata": {},
   "source": [
    "<div class=\"alert alert-success\">\n",
    "\n",
    "<b>EXERCISE</b>:\n",
    "\n",
    " <ul>\n",
    "  <li>Plot the number of actor roles each year and the number of actress roles each year. Use kind='area' as plot type</li>\n",
    "</ul>\n",
    "</div>"
   ]
  },
  {
   "cell_type": "code",
   "execution_count": 50,
   "id": "6426434f",
   "metadata": {
    "tags": [
     "nbtutor-solution"
    ]
   },
   "outputs": [
    {
     "data": {
      "text/plain": [
       "<AxesSubplot:xlabel='year'>"
      ]
     },
     "execution_count": 50,
     "metadata": {},
     "output_type": "execute_result"
    },
    {
     "data": {
      "image/png": "[encoded data removed]",
      "text/plain": [
       "<Figure size 640x480 with 1 Axes>"
      ]
     },
     "metadata": {},
     "output_type": "display_data"
    }
   ],
   "source": [
    "pd.crosstab(index=cast['year'], columns=cast['type']).plot.area()"
   ]
  },
  {
   "cell_type": "markdown",
   "id": "44a3b20b",
   "metadata": {},
   "source": [
    "<div class=\"alert alert-success\">\n",
    "\n",
    "<b>EXERCISE</b>:\n",
    "\n",
    " <ul>\n",
    "  <li>Plot the fraction of roles that have been 'actor' roles each year over the whole period of available movie data.</li>\n",
    "</ul>\n",
    "</div>"
   ]
  },
  {
   "cell_type": "code",
   "execution_count": 51,
   "id": "391718f5",
   "metadata": {
    "tags": [
     "nbtutor-solution"
    ]
   },
   "outputs": [
    {
     "data": {
      "text/plain": [
       "<AxesSubplot:xlabel='year'>"
      ]
     },
     "execution_count": 51,
     "metadata": {},
     "output_type": "execute_result"
    },
    {
     "data": {
      "image/png": "[encoded data removed]",
      "text/plain": [
       "<Figure size 640x480 with 1 Axes>"
      ]
     },
     "metadata": {},
     "output_type": "display_data"
    }
   ],
   "source": [
    "grouped = cast.groupby(['year', 'type']).size()\n",
    "table = grouped.unstack('type').fillna(0)\n",
    "(table['actor'] / (table['actor'] + table['actress'])).plot(ylim=[0, 1])"
   ]
  },
  {
   "cell_type": "markdown",
   "id": "f51ca3d3",
   "metadata": {},
   "source": [
    "<div class=\"alert alert-success\">\n",
    "\n",
    "<b>EXERCISE</b>:\n",
    "\n",
    " <ul>\n",
    "  <li>Define a year as a \"Superman year\" when films of that year feature more Superman characters than Batman characters. How many years in film history have been Superman years?</li>\n",
    "</ul>\n",
    "</div>"
   ]
  },
  {
   "cell_type": "code",
   "execution_count": 52,
   "id": "d49401d5",
   "metadata": {
    "tags": [
     "nbtutor-solution"
    ]
   },
   "outputs": [
    {
     "data": {
      "text/html": [
       "<div>\n",
       "<style scoped>\n",
       "    .dataframe tbody tr th:only-of-type {\n",
       "        vertical-align: middle;\n",
       "    }\n",
       "\n",
       "    .dataframe tbody tr th {\n",
       "        vertical-align: top;\n",
       "    }\n",
       "\n",
       "    .dataframe thead th {\n",
       "        text-align: right;\n",
       "    }\n",
       "</style>\n",
       "<table border=\"1\" class=\"dataframe\">\n",
       "  <thead>\n",
       "    <tr style=\"text-align: right;\">\n",
       "      <th>character</th>\n",
       "      <th>Batman</th>\n",
       "      <th>Superman</th>\n",
       "    </tr>\n",
       "    <tr>\n",
       "      <th>year</th>\n",
       "      <th></th>\n",
       "      <th></th>\n",
       "    </tr>\n",
       "  </thead>\n",
       "  <tbody>\n",
       "    <tr>\n",
       "      <th>1938</th>\n",
       "      <td>1.0</td>\n",
       "      <td>0.0</td>\n",
       "    </tr>\n",
       "    <tr>\n",
       "      <th>1940</th>\n",
       "      <td>1.0</td>\n",
       "      <td>0.0</td>\n",
       "    </tr>\n",
       "    <tr>\n",
       "      <th>1943</th>\n",
       "      <td>1.0</td>\n",
       "      <td>0.0</td>\n",
       "    </tr>\n",
       "    <tr>\n",
       "      <th>1948</th>\n",
       "      <td>0.0</td>\n",
       "      <td>1.0</td>\n",
       "    </tr>\n",
       "    <tr>\n",
       "      <th>1949</th>\n",
       "      <td>2.0</td>\n",
       "      <td>0.0</td>\n",
       "    </tr>\n",
       "  </tbody>\n",
       "</table>\n",
       "</div>"
      ],
      "text/plain": [
       "character  Batman  Superman\n",
       "year                       \n",
       "1938          1.0       0.0\n",
       "1940          1.0       0.0\n",
       "1943          1.0       0.0\n",
       "1948          0.0       1.0\n",
       "1949          2.0       0.0"
      ]
     },
     "execution_count": 52,
     "metadata": {},
     "output_type": "execute_result"
    }
   ],
   "source": [
    "c = cast\n",
    "c = c[(c.character == 'Superman') | (c.character == 'Batman')]\n",
    "c = c.groupby(['year', 'character']).size()\n",
    "c = c.unstack()\n",
    "c = c.fillna(0)\n",
    "c.head()"
   ]
  },
  {
   "cell_type": "code",
   "execution_count": 53,
   "id": "8c75667b",
   "metadata": {
    "tags": [
     "nbtutor-solution"
    ]
   },
   "outputs": [
    {
     "name": "stdout",
     "output_type": "stream",
     "text": [
      "Superman years:\n",
      "12\n"
     ]
    }
   ],
   "source": [
    "d = c.Superman - c.Batman\n",
    "print('Superman years:')\n",
    "print(len(d[d > 0.0]))"
   ]
  }
 ],
 "metadata": {
  "jupytext": {
   "formats": "ipynb,md:myst"
  },
  "kernelspec": {
   "display_name": "Python 3 (ipykernel)",
   "language": "python",
   "name": "python3"
  },
  "language_info": {
   "codemirror_mode": {
    "name": "ipython",
    "version": 3
   },
   "file_extension": ".py",
   "mimetype": "text/x-python",
   "name": "python",
   "nbconvert_exporter": "python",
   "pygments_lexer": "ipython3",
   "version": "3.10.8"
  },
  "widgets": {
   "application/vnd.jupyter.widget-state+json": {
    "state": {},
    "version_major": 2,
    "version_minor": 0
   }
  }
 },
 "nbformat": 4,
 "nbformat_minor": 5
}
