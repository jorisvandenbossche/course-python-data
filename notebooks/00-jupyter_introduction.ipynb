{
 "cells": [
  {
   "cell_type": "markdown",
   "metadata": {},
   "source": [
    "<p><font size=\"6\"><b>Jupyter notebook INTRODUCTION </b></font></p>\n",
    "\n",
    "> *© 2022, Joris Van den Bossche and Stijn Van Hoey  (<mailto:jorisvandenbossche@gmail.com>, <mailto:stijnvanhoey@gmail.com>). Licensed under [CC BY 4.0 Creative Commons](http://creativecommons.org/licenses/by/4.0/)*\n",
    "\n",
    "---"
   ]
  },
  {
   "cell_type": "code",
   "execution_count": 1,
   "metadata": {},
   "outputs": [
    {
     "data": {
      "text/html": [
       "<img src=\"http://python.org/images/python-logo.gif\"/>"
      ],
      "text/plain": [
       "<IPython.core.display.Image object>"
      ]
     },
     "execution_count": 1,
     "metadata": {},
     "output_type": "execute_result"
    }
   ],
   "source": [
    "from IPython.display import Image\n",
    "Image(url='http://python.org/images/python-logo.gif')"
   ]
  },
  {
   "cell_type": "markdown",
   "metadata": {},
   "source": [
    "<big><center>To run a cell: push the start triangle in the menu or type **SHIFT + ENTER/RETURN**\n",
    "![](../img/shiftenter.jpg)"
   ]
  },
  {
   "cell_type": "markdown",
   "metadata": {},
   "source": [
    "# Notebook cell types"
   ]
  },
  {
   "cell_type": "markdown",
   "metadata": {},
   "source": [
    "We will work in **Jupyter notebooks** during this course. A notebook is a collection of `cells`, that can contain different content:"
   ]
  },
  {
   "cell_type": "markdown",
   "metadata": {},
   "source": [
    "## Code"
   ]
  },
  {
   "cell_type": "code",
   "execution_count": 2,
   "metadata": {},
   "outputs": [
    {
     "name": "stdout",
     "output_type": "stream",
     "text": [
      "Hello DS\n"
     ]
    }
   ],
   "source": [
    "# Code cell, then we are using python\n",
    "print('Hello DS')"
   ]
  },
  {
   "cell_type": "code",
   "execution_count": 3,
   "metadata": {},
   "outputs": [
    {
     "name": "stdout",
     "output_type": "stream",
     "text": [
      "15\n"
     ]
    }
   ],
   "source": [
    "DS = 10\n",
    "print(DS + 5) # Yes, we advise to use Python 3 (!)"
   ]
  },
  {
   "cell_type": "markdown",
   "metadata": {},
   "source": [
    "Writing code is what you will do most during this course!"
   ]
  },
  {
   "cell_type": "markdown",
   "metadata": {},
   "source": [
    "## Markdown"
   ]
  },
  {
   "cell_type": "markdown",
   "metadata": {},
   "source": [
    "Text cells, using Markdown syntax. With the syntax, you can make text **bold** or *italic*, amongst many other things..."
   ]
  },
  {
   "cell_type": "markdown",
   "metadata": {},
   "source": [
    "* list\n",
    "* with\n",
    "* items\n",
    "\n",
    "[Link to interesting resources](https://www.youtube.com/watch?v=z9Uz1icjwrM) or images: ![images](https://listame.files.wordpress.com/2012/02/bender-1.jpg)\n",
    "\n",
    "> Blockquotes if you like them\n",
    "> This line is part of the same blockquote."
   ]
  },
  {
   "cell_type": "markdown",
   "metadata": {},
   "source": [
    "Mathematical formulas can also be incorporated (LaTeX it is...)\n",
    "$$\\frac{dBZV}{dt}=BZV_{in} - k_1 .BZV$$\n",
    "$$\\frac{dOZ}{dt}=k_2 .(OZ_{sat}-OZ) - k_1 .BZV$$"
   ]
  },
  {
   "cell_type": "markdown",
   "metadata": {},
   "source": [
    "Or tables:\n",
    "\n",
    "course | points\n",
    " --- | --- \n",
    " Math | 8\n",
    " Chemistry | 4\n",
    "\n",
    "or tables with Latex..\n",
    "\n",
    " Symbool | verklaring\n",
    " --- | --- \n",
    " $$BZV_{(t=0)}$$\t      | initiële biochemische zuurstofvraag (7.33 mg.l-1)\n",
    " $$OZ_{(t=0)}$$\t    | initiële opgeloste zuurstof (8.5 mg.l-1)\n",
    " $$BZV_{in}$$\t\t  | input BZV(1 mg.l-1.min-1)\n",
    " $$OZ_{sat}$$\t\t  | saturatieconcentratie opgeloste zuurstof (11 mg.l-1)\n",
    " $$k_1$$\t\t      | bacteriële degradatiesnelheid (0.3 min-1)\n",
    " $$k_2$$\t\t      | reäeratieconstante (0.4 min-1)"
   ]
  },
  {
   "cell_type": "markdown",
   "metadata": {},
   "source": [
    "Code can also be incorporated, but than just to illustrate:"
   ]
  },
  {
   "cell_type": "markdown",
   "metadata": {},
   "source": [
    "```python\n",
    "BOT = 12\n",
    "print(BOT)\n",
    "```"
   ]
  },
  {
   "cell_type": "markdown",
   "metadata": {},
   "source": [
    "See also: https://github.com/adam-p/markdown-here/wiki/Markdown-Cheatsheet"
   ]
  },
  {
   "cell_type": "markdown",
   "metadata": {},
   "source": [
    "## HTML"
   ]
  },
  {
   "cell_type": "markdown",
   "metadata": {},
   "source": [
    "You can also use HTML commands, just check this cell:\n",
    "<h3> html-adapted titel with &#60;h3&#62; </h3> <p></p>\n",
    "<b> Bold text &#60;b&#62; </b> of <i>or italic &#60;i&#62; </i>"
   ]
  },
  {
   "cell_type": "markdown",
   "metadata": {},
   "source": [
    "## Headings of different sizes: section\n",
    "### subsection\n",
    "#### subsubsection"
   ]
  },
  {
   "cell_type": "markdown",
   "metadata": {},
   "source": [
    "# Notebook handling ESSENTIALS"
   ]
  },
  {
   "cell_type": "markdown",
   "metadata": {},
   "source": [
    "## Completion: TAB\n",
    "![](../img/tabbutton.jpg)"
   ]
  },
  {
   "cell_type": "markdown",
   "metadata": {},
   "source": [
    "* The **TAB** button is essential: It provides you all **possible actions** you can do after loading in a library *AND* it is used for **automatic autocompletion**:"
   ]
  },
  {
   "cell_type": "code",
   "execution_count": 4,
   "metadata": {},
   "outputs": [
    {
     "data": {
      "text/plain": [
       "<function posix.mkdir(path, mode=511, *, dir_fd=None)>"
      ]
     },
     "execution_count": 4,
     "metadata": {},
     "output_type": "execute_result"
    }
   ],
   "source": [
    "import os\n",
    "os.mkdir"
   ]
  },
  {
   "cell_type": "code",
   "execution_count": 5,
   "metadata": {},
   "outputs": [],
   "source": [
    "my_very_long_variable_name = 3"
   ]
  },
  {
   "cell_type": "raw",
   "metadata": {},
   "source": [
    "my_ + TAB"
   ]
  },
  {
   "cell_type": "markdown",
   "metadata": {},
   "source": [
    "## Help: SHIFT + TAB\n",
    "![](../img/shift-tab.png)"
   ]
  },
  {
   "cell_type": "markdown",
   "metadata": {},
   "source": [
    "* The  **SHIFT-TAB** combination is ultra essential to get information/help about the current operation"
   ]
  },
  {
   "cell_type": "code",
   "execution_count": 6,
   "metadata": {},
   "outputs": [
    {
     "data": {
      "text/plain": [
       "3"
      ]
     },
     "execution_count": 6,
     "metadata": {},
     "output_type": "execute_result"
    }
   ],
   "source": [
    "round(3.2)"
   ]
  },
  {
   "cell_type": "code",
   "execution_count": 7,
   "metadata": {},
   "outputs": [
    {
     "data": {
      "text/plain": [
       "<function posix.mkdir(path, mode=511, *, dir_fd=None)>"
      ]
     },
     "execution_count": 7,
     "metadata": {},
     "output_type": "execute_result"
    }
   ],
   "source": [
    "import os\n",
    "os.mkdir"
   ]
  },
  {
   "cell_type": "code",
   "execution_count": 8,
   "metadata": {},
   "outputs": [
    {
     "data": {
      "text/plain": [
       "\u001b[0;31mSignature:\u001b[0m \u001b[0mos\u001b[0m\u001b[0;34m.\u001b[0m\u001b[0mmkdir\u001b[0m\u001b[0;34m(\u001b[0m\u001b[0mpath\u001b[0m\u001b[0;34m,\u001b[0m \u001b[0mmode\u001b[0m\u001b[0;34m=\u001b[0m\u001b[0;36m511\u001b[0m\u001b[0;34m,\u001b[0m \u001b[0;34m*\u001b[0m\u001b[0;34m,\u001b[0m \u001b[0mdir_fd\u001b[0m\u001b[0;34m=\u001b[0m\u001b[0;32mNone\u001b[0m\u001b[0;34m)\u001b[0m\u001b[0;34m\u001b[0m\u001b[0;34m\u001b[0m\u001b[0m\n",
       "\u001b[0;31mDocstring:\u001b[0m\n",
       "Create a directory.\n",
       "\n",
       "If dir_fd is not None, it should be a file descriptor open to a directory,\n",
       "  and path should be relative; path will then be relative to that directory.\n",
       "dir_fd may not be implemented on your platform.\n",
       "  If it is unavailable, using it will raise a NotImplementedError.\n",
       "\n",
       "The mode argument is ignored on Windows.\n",
       "\u001b[0;31mType:\u001b[0m      builtin_function_or_method\n"
      ]
     },
     "metadata": {},
     "output_type": "display_data"
    }
   ],
   "source": [
    "# An alternative is to put a question mark behind the command\n",
    "os.mkdir?"
   ]
  },
  {
   "cell_type": "markdown",
   "metadata": {},
   "source": [
    "<div class=\"alert alert-success\">\n",
    "    <b>EXERCISE</b>: What happens if you put two question marks behind the command?\n",
    "</div>"
   ]
  },
  {
   "cell_type": "code",
   "execution_count": 9,
   "metadata": {},
   "outputs": [
    {
     "data": {
      "text/plain": [
       "\u001b[0;31mSignature:\u001b[0m \u001b[0mglob\u001b[0m\u001b[0;34m.\u001b[0m\u001b[0mglob\u001b[0m\u001b[0;34m(\u001b[0m\u001b[0mpathname\u001b[0m\u001b[0;34m,\u001b[0m \u001b[0;34m*\u001b[0m\u001b[0;34m,\u001b[0m \u001b[0mrecursive\u001b[0m\u001b[0;34m=\u001b[0m\u001b[0;32mFalse\u001b[0m\u001b[0;34m)\u001b[0m\u001b[0;34m\u001b[0m\u001b[0;34m\u001b[0m\u001b[0m\n",
       "\u001b[0;31mSource:\u001b[0m   \n",
       "\u001b[0;32mdef\u001b[0m \u001b[0mglob\u001b[0m\u001b[0;34m(\u001b[0m\u001b[0mpathname\u001b[0m\u001b[0;34m,\u001b[0m \u001b[0;34m*\u001b[0m\u001b[0;34m,\u001b[0m \u001b[0mrecursive\u001b[0m\u001b[0;34m=\u001b[0m\u001b[0;32mFalse\u001b[0m\u001b[0;34m)\u001b[0m\u001b[0;34m:\u001b[0m\u001b[0;34m\u001b[0m\n",
       "\u001b[0;34m\u001b[0m    \u001b[0;34m\"\"\"Return a list of paths matching a pathname pattern.\u001b[0m\n",
       "\u001b[0;34m\u001b[0m\n",
       "\u001b[0;34m    The pattern may contain simple shell-style wildcards a la\u001b[0m\n",
       "\u001b[0;34m    fnmatch. However, unlike fnmatch, filenames starting with a\u001b[0m\n",
       "\u001b[0;34m    dot are special cases that are not matched by '*' and '?'\u001b[0m\n",
       "\u001b[0;34m    patterns.\u001b[0m\n",
       "\u001b[0;34m\u001b[0m\n",
       "\u001b[0;34m    If recursive is true, the pattern '**' will match any files and\u001b[0m\n",
       "\u001b[0;34m    zero or more directories and subdirectories.\u001b[0m\n",
       "\u001b[0;34m    \"\"\"\u001b[0m\u001b[0;34m\u001b[0m\n",
       "\u001b[0;34m\u001b[0m    \u001b[0;32mreturn\u001b[0m \u001b[0mlist\u001b[0m\u001b[0;34m(\u001b[0m\u001b[0miglob\u001b[0m\u001b[0;34m(\u001b[0m\u001b[0mpathname\u001b[0m\u001b[0;34m,\u001b[0m \u001b[0mrecursive\u001b[0m\u001b[0;34m=\u001b[0m\u001b[0mrecursive\u001b[0m\u001b[0;34m)\u001b[0m\u001b[0;34m)\u001b[0m\u001b[0;34m\u001b[0m\u001b[0;34m\u001b[0m\u001b[0m\n",
       "\u001b[0;31mFile:\u001b[0m      ~/.pyenv/versions/miniconda3-latest/lib/python3.8/glob.py\n",
       "\u001b[0;31mType:\u001b[0m      function\n"
      ]
     },
     "metadata": {},
     "output_type": "display_data"
    }
   ],
   "source": [
    "import glob\n",
    "glob.glob??"
   ]
  },
  {
   "cell_type": "markdown",
   "metadata": {},
   "source": [
    "## *edit* mode to *command* mode\n",
    "\n",
    "* *edit* mode means you're editing a cell, i.e. with your cursor inside a cell to type content\n",
    "* *command* mode means you're NOT editing(!), i.e. NOT with your cursor inside a cell to type content\n",
    "\n",
    "To start editing, click inside a cell or \n",
    "<img src=\"../img/enterbutton.png\" alt=\"Key enter\" style=\"width:150px\">\n",
    "\n",
    "To stop editing,\n",
    "<img src=\"../img/keyescape.png\" alt=\"Key A\" style=\"width:150px\">"
   ]
  },
  {
   "cell_type": "markdown",
   "metadata": {},
   "source": [
    "## new cell A-bove\n",
    "<img src=\"../img/keya.png\" alt=\"Key A\" style=\"width:150px\">\n",
    "\n",
    "Create a new cell above with the key A... when in *command* mode"
   ]
  },
  {
   "cell_type": "markdown",
   "metadata": {},
   "source": [
    "## new cell B-elow\n",
    "<img src=\"../img/keyb.png\" alt=\"Key B\" style=\"width:150px\">\n",
    "\n",
    "Create a new cell below with the key B... when in *command* mode"
   ]
  },
  {
   "cell_type": "markdown",
   "metadata": {},
   "source": [
    "## CTRL + SHIFT + C"
   ]
  },
  {
   "cell_type": "markdown",
   "metadata": {},
   "source": [
    "Just do it!"
   ]
  },
  {
   "cell_type": "markdown",
   "metadata": {},
   "source": [
    "## Trouble..."
   ]
  },
  {
   "cell_type": "markdown",
   "metadata": {},
   "source": [
    "<div class=\"alert alert-danger\">\n",
    "    <b>NOTE</b>: When you're stuck, or things do crash: \n",
    "    <ul>\n",
    "    <li> first try <code>Kernel</code> > <code>Interrupt</code> -> your cell should stop running\n",
    "    <li> if no succes -> <code>Kernel</code> > <code>Restart</code> -> restart your notebook\n",
    "    </ul>\n",
    "</div>"
   ]
  },
  {
   "cell_type": "markdown",
   "metadata": {},
   "source": [
    "* **Stackoverflow** is really, really, really nice!\n",
    "\n",
    "  http://stackoverflow.com/questions/tagged/python"
   ]
  },
  {
   "cell_type": "markdown",
   "metadata": {},
   "source": [
    "* Google search is with you!"
   ]
  },
  {
   "cell_type": "markdown",
   "metadata": {},
   "source": [
    "<big><center>**REMEMBER**: To run a cell: <strike>push the start triangle in the menu or</strike> type **SHIFT + ENTER**\n",
    "![](../img/shiftenter.jpg)"
   ]
  },
  {
   "cell_type": "markdown",
   "metadata": {},
   "source": [
    "# some MAGIC..."
   ]
  },
  {
   "cell_type": "markdown",
   "metadata": {},
   "source": [
    "## `%psearch`"
   ]
  },
  {
   "cell_type": "code",
   "execution_count": 10,
   "metadata": {},
   "outputs": [
    {
     "data": {
      "text/plain": [
       "os.chdir\n",
       "os.curdir\n",
       "os.fchdir\n",
       "os.listdir\n",
       "os.mkdir\n",
       "os.pardir\n",
       "os.rmdir\n",
       "os.scandir"
      ]
     },
     "metadata": {},
     "output_type": "display_data"
    }
   ],
   "source": [
    "%psearch os.*dir"
   ]
  },
  {
   "cell_type": "markdown",
   "metadata": {},
   "source": [
    "## `%%timeit`"
   ]
  },
  {
   "cell_type": "code",
   "execution_count": 11,
   "metadata": {},
   "outputs": [
    {
     "name": "stdout",
     "output_type": "stream",
     "text": [
      "207 µs ± 10.2 µs per loop (mean ± std. dev. of 7 runs, 1,000 loops each)\n"
     ]
    }
   ],
   "source": [
    "%%timeit\n",
    "\n",
    "mylist = range(1000)\n",
    "for i in mylist:\n",
    "    i = i**2"
   ]
  },
  {
   "cell_type": "code",
   "execution_count": 12,
   "metadata": {},
   "outputs": [],
   "source": [
    "import numpy as np"
   ]
  },
  {
   "cell_type": "code",
   "execution_count": 13,
   "metadata": {},
   "outputs": [
    {
     "name": "stdout",
     "output_type": "stream",
     "text": [
      "1.52 µs ± 142 ns per loop (mean ± std. dev. of 7 runs, 1,000,000 loops each)\n"
     ]
    }
   ],
   "source": [
    "%%timeit\n",
    "\n",
    "np.arange(1000)**2"
   ]
  },
  {
   "cell_type": "markdown",
   "metadata": {},
   "source": [
    "## `%whos`"
   ]
  },
  {
   "cell_type": "code",
   "execution_count": 14,
   "metadata": {},
   "outputs": [
    {
     "name": "stdout",
     "output_type": "stream",
     "text": [
      "Variable                     Type      Data/Info\n",
      "------------------------------------------------\n",
      "DS                           int       10\n",
      "Image                        type      <class 'IPython.core.display.Image'>\n",
      "glob                         module    <module 'glob' from '/hom<...>t/lib/python3.8/glob.py'>\n",
      "my_very_long_variable_name   int       3\n",
      "np                           module    <module 'numpy' from '/ho<...>kages/numpy/__init__.py'>\n",
      "os                           module    <module 'os' from '/home/<...>est/lib/python3.8/os.py'>\n"
     ]
    }
   ],
   "source": [
    "%whos"
   ]
  },
  {
   "cell_type": "markdown",
   "metadata": {},
   "source": [
    "## `%lsmagic`"
   ]
  },
  {
   "cell_type": "code",
   "execution_count": 15,
   "metadata": {},
   "outputs": [
    {
     "data": {
      "application/json": {
       "cell": {
        "!": "OSMagics",
        "HTML": "Other",
        "SVG": "Other",
        "bash": "Other",
        "capture": "ExecutionMagics",
        "debug": "ExecutionMagics",
        "file": "Other",
        "html": "DisplayMagics",
        "javascript": "DisplayMagics",
        "js": "DisplayMagics",
        "latex": "DisplayMagics",
        "markdown": "DisplayMagics",
        "perl": "Other",
        "prun": "ExecutionMagics",
        "pypy": "Other",
        "python": "Other",
        "python2": "Other",
        "python3": "Other",
        "ruby": "Other",
        "script": "ScriptMagics",
        "sh": "Other",
        "svg": "DisplayMagics",
        "sx": "OSMagics",
        "system": "OSMagics",
        "time": "ExecutionMagics",
        "timeit": "ExecutionMagics",
        "writefile": "OSMagics"
       },
       "line": {
        "alias": "OSMagics",
        "alias_magic": "BasicMagics",
        "autoawait": "AsyncMagics",
        "autocall": "AutoMagics",
        "automagic": "AutoMagics",
        "autosave": "KernelMagics",
        "bookmark": "OSMagics",
        "cat": "Other",
        "cd": "OSMagics",
        "clear": "KernelMagics",
        "colors": "BasicMagics",
        "conda": "PackagingMagics",
        "config": "ConfigMagics",
        "connect_info": "KernelMagics",
        "cp": "Other",
        "debug": "ExecutionMagics",
        "dhist": "OSMagics",
        "dirs": "OSMagics",
        "doctest_mode": "BasicMagics",
        "ed": "Other",
        "edit": "KernelMagics",
        "env": "OSMagics",
        "gui": "BasicMagics",
        "hist": "Other",
        "history": "HistoryMagics",
        "killbgscripts": "ScriptMagics",
        "ldir": "Other",
        "less": "KernelMagics",
        "lf": "Other",
        "lk": "Other",
        "ll": "Other",
        "load": "CodeMagics",
        "load_ext": "ExtensionMagics",
        "loadpy": "CodeMagics",
        "logoff": "LoggingMagics",
        "logon": "LoggingMagics",
        "logstart": "LoggingMagics",
        "logstate": "LoggingMagics",
        "logstop": "LoggingMagics",
        "ls": "Other",
        "lsmagic": "BasicMagics",
        "lx": "Other",
        "macro": "ExecutionMagics",
        "magic": "BasicMagics",
        "man": "KernelMagics",
        "matplotlib": "PylabMagics",
        "mkdir": "Other",
        "more": "KernelMagics",
        "mv": "Other",
        "notebook": "BasicMagics",
        "page": "BasicMagics",
        "pastebin": "CodeMagics",
        "pdb": "ExecutionMagics",
        "pdef": "NamespaceMagics",
        "pdoc": "NamespaceMagics",
        "pfile": "NamespaceMagics",
        "pinfo": "NamespaceMagics",
        "pinfo2": "NamespaceMagics",
        "pip": "PackagingMagics",
        "popd": "OSMagics",
        "pprint": "BasicMagics",
        "precision": "BasicMagics",
        "prun": "ExecutionMagics",
        "psearch": "NamespaceMagics",
        "psource": "NamespaceMagics",
        "pushd": "OSMagics",
        "pwd": "OSMagics",
        "pycat": "OSMagics",
        "pylab": "PylabMagics",
        "qtconsole": "KernelMagics",
        "quickref": "BasicMagics",
        "recall": "HistoryMagics",
        "rehashx": "OSMagics",
        "reload_ext": "ExtensionMagics",
        "rep": "Other",
        "rerun": "HistoryMagics",
        "reset": "NamespaceMagics",
        "reset_selective": "NamespaceMagics",
        "rm": "Other",
        "rmdir": "Other",
        "run": "ExecutionMagics",
        "save": "CodeMagics",
        "sc": "OSMagics",
        "set_env": "OSMagics",
        "store": "StoreMagics",
        "sx": "OSMagics",
        "system": "OSMagics",
        "tb": "ExecutionMagics",
        "time": "ExecutionMagics",
        "timeit": "ExecutionMagics",
        "unalias": "OSMagics",
        "unload_ext": "ExtensionMagics",
        "who": "NamespaceMagics",
        "who_ls": "NamespaceMagics",
        "whos": "NamespaceMagics",
        "xdel": "NamespaceMagics",
        "xmode": "BasicMagics"
       }
      },
      "text/plain": [
       "Available line magics:\n",
       "%alias  %alias_magic  %autoawait  %autocall  %automagic  %autosave  %bookmark  %cat  %cd  %clear  %colors  %conda  %config  %connect_info  %cp  %debug  %dhist  %dirs  %doctest_mode  %ed  %edit  %env  %gui  %hist  %history  %killbgscripts  %ldir  %less  %lf  %lk  %ll  %load  %load_ext  %loadpy  %logoff  %logon  %logstart  %logstate  %logstop  %ls  %lsmagic  %lx  %macro  %magic  %man  %matplotlib  %mkdir  %more  %mv  %notebook  %page  %pastebin  %pdb  %pdef  %pdoc  %pfile  %pinfo  %pinfo2  %pip  %popd  %pprint  %precision  %prun  %psearch  %psource  %pushd  %pwd  %pycat  %pylab  %qtconsole  %quickref  %recall  %rehashx  %reload_ext  %rep  %rerun  %reset  %reset_selective  %rm  %rmdir  %run  %save  %sc  %set_env  %store  %sx  %system  %tb  %time  %timeit  %unalias  %unload_ext  %who  %who_ls  %whos  %xdel  %xmode\n",
       "\n",
       "Available cell magics:\n",
       "%%!  %%HTML  %%SVG  %%bash  %%capture  %%debug  %%file  %%html  %%javascript  %%js  %%latex  %%markdown  %%perl  %%prun  %%pypy  %%python  %%python2  %%python3  %%ruby  %%script  %%sh  %%svg  %%sx  %%system  %%time  %%timeit  %%writefile\n",
       "\n",
       "Automagic is ON, % prefix IS NOT needed for line magics."
      ]
     },
     "execution_count": 15,
     "metadata": {},
     "output_type": "execute_result"
    }
   ],
   "source": [
    "%lsmagic"
   ]
  },
  {
   "cell_type": "markdown",
   "metadata": {},
   "source": [
    "# Let's get started!"
   ]
  },
  {
   "cell_type": "code",
   "execution_count": 16,
   "metadata": {},
   "outputs": [],
   "source": [
    "from IPython.display import FileLink, FileLinks"
   ]
  },
  {
   "cell_type": "code",
   "execution_count": 17,
   "metadata": {},
   "outputs": [
    {
     "data": {
      "text/html": [
       "./<br>\n",
       "&nbsp;&nbsp;<a href='./pandas_03b_indexing.ipynb' target='_blank'>pandas_03b_indexing.ipynb</a><br>\n",
       "&nbsp;&nbsp;<a href='./pandas_01_data_structures.ipynb' target='_blank'>pandas_01_data_structures.ipynb</a><br>\n",
       "&nbsp;&nbsp;<a href='./pandas_04_time_series_data.md' target='_blank'>pandas_04_time_series_data.md</a><br>\n",
       "&nbsp;&nbsp;<a href='./pandas_03a_selecting_data.ipynb' target='_blank'>pandas_03a_selecting_data.ipynb</a><br>\n",
       "&nbsp;&nbsp;<a href='./case1_bike_count.md' target='_blank'>case1_bike_count.md</a><br>\n",
       "&nbsp;&nbsp;<a href='./workflow_example_evaluation.ipynb' target='_blank'>workflow_example_evaluation.ipynb</a><br>\n",
       "&nbsp;&nbsp;<a href='./visualization_01_matplotlib.ipynb' target='_blank'>visualization_01_matplotlib.ipynb</a><br>\n",
       "&nbsp;&nbsp;<a href='./case2_observations_analysis.md' target='_blank'>case2_observations_analysis.md</a><br>\n",
       "&nbsp;&nbsp;<a href='./case1_bike_count.ipynb' target='_blank'>case1_bike_count.ipynb</a><br>\n",
       "&nbsp;&nbsp;<a href='./pandas_08_reshaping_data.ipynb' target='_blank'>pandas_08_reshaping_data.ipynb</a><br>\n",
       "&nbsp;&nbsp;<a href='./pandas_01_data_structures.md' target='_blank'>pandas_01_data_structures.md</a><br>\n",
       "&nbsp;&nbsp;<a href='./case2_observations.ipynb' target='_blank'>case2_observations.ipynb</a><br>\n",
       "&nbsp;&nbsp;<a href='./pandas_09_combining_datasets.md' target='_blank'>pandas_09_combining_datasets.md</a><br>\n",
       "&nbsp;&nbsp;<a href='./pandas_04_time_series_data.ipynb' target='_blank'>pandas_04_time_series_data.ipynb</a><br>\n",
       "&nbsp;&nbsp;<a href='./visualization_02_plotnine.md' target='_blank'>visualization_02_plotnine.md</a><br>\n",
       "&nbsp;&nbsp;<a href='./case4_air_quality_processing.md' target='_blank'>case4_air_quality_processing.md</a><br>\n",
       "&nbsp;&nbsp;<a href='./visualization_03_landscape.md' target='_blank'>visualization_03_landscape.md</a><br>\n",
       "&nbsp;&nbsp;<a href='./visualization_03_landscape.ipynb' target='_blank'>visualization_03_landscape.ipynb</a><br>\n",
       "&nbsp;&nbsp;<a href='./00-jupyter_introduction.md' target='_blank'>00-jupyter_introduction.md</a><br>\n",
       "&nbsp;&nbsp;<a href='./visualization_02_seaborn.md' target='_blank'>visualization_02_seaborn.md</a><br>\n",
       "&nbsp;&nbsp;<a href='./data_sets_for_exercises.ipynb' target='_blank'>data_sets_for_exercises.ipynb</a><br>\n",
       "&nbsp;&nbsp;<a href='./case4_air_quality_processing.ipynb' target='_blank'>case4_air_quality_processing.ipynb</a><br>\n",
       "&nbsp;&nbsp;<a href='./TF_VAT_NACE_2019.sqlite' target='_blank'>TF_VAT_NACE_2019.sqlite</a><br>\n",
       "&nbsp;&nbsp;<a href='./case3_bacterial_resistance_lab_experiment.ipynb' target='_blank'>case3_bacterial_resistance_lab_experiment.ipynb</a><br>\n",
       "&nbsp;&nbsp;<a href='./pandas_07_missing_values.md' target='_blank'>pandas_07_missing_values.md</a><br>\n",
       "&nbsp;&nbsp;<a href='./visualization_02_plotnine.ipynb' target='_blank'>visualization_02_plotnine.ipynb</a><br>\n",
       "&nbsp;&nbsp;<a href='./pandas_02_basic_operations.md' target='_blank'>pandas_02_basic_operations.md</a><br>\n",
       "&nbsp;&nbsp;<a href='./pandas_02_basic_operations.ipynb' target='_blank'>pandas_02_basic_operations.ipynb</a><br>\n",
       "&nbsp;&nbsp;<a href='./pandas_07_missing_values.ipynb' target='_blank'>pandas_07_missing_values.ipynb</a><br>\n",
       "&nbsp;&nbsp;<a href='./case4_air_quality_analysis.ipynb' target='_blank'>case4_air_quality_analysis.ipynb</a><br>\n",
       "&nbsp;&nbsp;<a href='./case2_observations_processing.ipynb' target='_blank'>case2_observations_processing.ipynb</a><br>\n",
       "&nbsp;&nbsp;<a href='./case2_observations.md' target='_blank'>case2_observations.md</a><br>\n",
       "&nbsp;&nbsp;<a href='./visualization_01_matplotlib.md' target='_blank'>visualization_01_matplotlib.md</a><br>\n",
       "&nbsp;&nbsp;<a href='./pandas_09_combining_datasets.ipynb' target='_blank'>pandas_09_combining_datasets.ipynb</a><br>\n",
       "&nbsp;&nbsp;<a href='./pandas_05_groupby_operations.md' target='_blank'>pandas_05_groupby_operations.md</a><br>\n",
       "&nbsp;&nbsp;<a href='./case3_bacterial_resistance_lab_experiment.md' target='_blank'>case3_bacterial_resistance_lab_experiment.md</a><br>\n",
       "&nbsp;&nbsp;<a href='./visualization_02_seaborn.ipynb' target='_blank'>visualization_02_seaborn.ipynb</a><br>\n",
       "&nbsp;&nbsp;<a href='./pandas_06_data_cleaning.ipynb' target='_blank'>pandas_06_data_cleaning.ipynb</a><br>\n",
       "&nbsp;&nbsp;<a href='./pandas_06_data_cleaning.md' target='_blank'>pandas_06_data_cleaning.md</a><br>\n",
       "&nbsp;&nbsp;<a href='./pandas_05_groupby_operations.ipynb' target='_blank'>pandas_05_groupby_operations.ipynb</a><br>\n",
       "&nbsp;&nbsp;<a href='./pandas_08_reshaping_data.md' target='_blank'>pandas_08_reshaping_data.md</a><br>\n",
       "&nbsp;&nbsp;<a href='./spreaddiagram.py' target='_blank'>spreaddiagram.py</a><br>\n",
       "&nbsp;&nbsp;<a href='./pandas_03a_selecting_data.md' target='_blank'>pandas_03a_selecting_data.md</a><br>\n",
       "&nbsp;&nbsp;<a href='./00-jupyter_introduction.ipynb' target='_blank'>00-jupyter_introduction.ipynb</a><br>\n",
       "&nbsp;&nbsp;<a href='./data_sets_for_exercises.md' target='_blank'>data_sets_for_exercises.md</a><br>\n",
       "&nbsp;&nbsp;<a href='./interim_survey_data_species.csv' target='_blank'>interim_survey_data_species.csv</a><br>\n",
       "&nbsp;&nbsp;<a href='./pandas_03b_indexing.md' target='_blank'>pandas_03b_indexing.md</a><br>\n",
       "&nbsp;&nbsp;<a href='./case2_observations_analysis.ipynb' target='_blank'>case2_observations_analysis.ipynb</a><br>\n",
       "&nbsp;&nbsp;<a href='./workflow_example_evaluation.md' target='_blank'>workflow_example_evaluation.md</a><br>\n",
       "&nbsp;&nbsp;<a href='./case2_observations_processing.md' target='_blank'>case2_observations_processing.md</a><br>\n",
       "&nbsp;&nbsp;<a href='./case4_air_quality_analysis.md' target='_blank'>case4_air_quality_analysis.md</a><br>"
      ],
      "text/plain": [
       "./\n",
       "  pandas_03b_indexing.ipynb\n",
       "  pandas_01_data_structures.ipynb\n",
       "  pandas_04_time_series_data.md\n",
       "  pandas_03a_selecting_data.ipynb\n",
       "  case1_bike_count.md\n",
       "  workflow_example_evaluation.ipynb\n",
       "  visualization_01_matplotlib.ipynb\n",
       "  case2_observations_analysis.md\n",
       "  case1_bike_count.ipynb\n",
       "  pandas_08_reshaping_data.ipynb\n",
       "  pandas_01_data_structures.md\n",
       "  case2_observations.ipynb\n",
       "  pandas_09_combining_datasets.md\n",
       "  pandas_04_time_series_data.ipynb\n",
       "  visualization_02_plotnine.md\n",
       "  case4_air_quality_processing.md\n",
       "  visualization_03_landscape.md\n",
       "  visualization_03_landscape.ipynb\n",
       "  00-jupyter_introduction.md\n",
       "  visualization_02_seaborn.md\n",
       "  data_sets_for_exercises.ipynb\n",
       "  case4_air_quality_processing.ipynb\n",
       "  TF_VAT_NACE_2019.sqlite\n",
       "  case3_bacterial_resistance_lab_experiment.ipynb\n",
       "  pandas_07_missing_values.md\n",
       "  visualization_02_plotnine.ipynb\n",
       "  pandas_02_basic_operations.md\n",
       "  pandas_02_basic_operations.ipynb\n",
       "  pandas_07_missing_values.ipynb\n",
       "  case4_air_quality_analysis.ipynb\n",
       "  case2_observations_processing.ipynb\n",
       "  case2_observations.md\n",
       "  visualization_01_matplotlib.md\n",
       "  pandas_09_combining_datasets.ipynb\n",
       "  pandas_05_groupby_operations.md\n",
       "  case3_bacterial_resistance_lab_experiment.md\n",
       "  visualization_02_seaborn.ipynb\n",
       "  pandas_06_data_cleaning.ipynb\n",
       "  pandas_06_data_cleaning.md\n",
       "  pandas_05_groupby_operations.ipynb\n",
       "  pandas_08_reshaping_data.md\n",
       "  spreaddiagram.py\n",
       "  pandas_03a_selecting_data.md\n",
       "  00-jupyter_introduction.ipynb\n",
       "  data_sets_for_exercises.md\n",
       "  interim_survey_data_species.csv\n",
       "  pandas_03b_indexing.md\n",
       "  case2_observations_analysis.ipynb\n",
       "  workflow_example_evaluation.md\n",
       "  case2_observations_processing.md\n",
       "  case4_air_quality_analysis.md"
      ]
     },
     "execution_count": 17,
     "metadata": {},
     "output_type": "execute_result"
    }
   ],
   "source": [
    "FileLinks('.', recursive=False)"
   ]
  },
  {
   "cell_type": "markdown",
   "metadata": {},
   "source": [
    "The follow-up notebooks provide additional background (largely adopted from the [scientific python notes](http://www.scipy-lectures.org/), which you can explore on your own to get more background on the Python syntax if specific elements would not be clear. \n",
    "\n",
    "For now, we will work on the `python_rehearsal.ipynb` notebook, which is a short summary version of the other notebooks to quickly grasp the main elements"
   ]
  }
 ],
 "metadata": {
  "jupytext": {
   "formats": "ipynb,md:myst"
  },
  "kernelspec": {
   "display_name": "Python 3 (ipykernel)",
   "language": "python",
   "name": "python3"
  },
  "language_info": {
   "codemirror_mode": {
    "name": "ipython",
    "version": 3
   },
   "file_extension": ".py",
   "mimetype": "text/x-python",
   "name": "python",
   "nbconvert_exporter": "python",
   "pygments_lexer": "ipython3",
   "version": "3.8.13"
  },
  "nav_menu": {},
  "toc": {
   "navigate_menu": true,
   "number_sections": true,
   "sideBar": true,
   "threshold": 6,
   "toc_cell": false,
   "toc_section_display": "block",
   "toc_window_display": true
  },
  "toc_position": {
   "height": "860px",
   "left": "0px",
   "right": "1568px",
   "top": "106px",
   "width": "301px"
  },
  "widgets": {
   "application/vnd.jupyter.widget-state+json": {
    "state": {},
    "version_major": 2,
    "version_minor": 0
   }
  }
 },
 "nbformat": 4,
 "nbformat_minor": 4
}
